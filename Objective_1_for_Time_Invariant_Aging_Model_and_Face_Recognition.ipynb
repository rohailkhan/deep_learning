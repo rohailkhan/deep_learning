{
  "nbformat": 4,
  "nbformat_minor": 0,
  "metadata": {
    "colab": {
      "name": "Objective-1 for Time Invariant Aging Model and Face Recognition",
      "provenance": [],
      "toc_visible": true,
      "authorship_tag": "ABX9TyNb737bf0aNWq6RgV3HNsZo",
      "include_colab_link": true
    },
    "kernelspec": {
      "name": "python3",
      "display_name": "Python 3"
    },
    "accelerator": "GPU"
  },
  "cells": [
    {
      "cell_type": "markdown",
      "metadata": {
        "id": "view-in-github",
        "colab_type": "text"
      },
      "source": [
        "<a href=\"https://colab.research.google.com/github/rohailkhan/deep_learning/blob/master/Objective_1_for_Time_Invariant_Aging_Model_and_Face_Recognition.ipynb\" target=\"_parent\"><img src=\"https://colab.research.google.com/assets/colab-badge.svg\" alt=\"Open In Colab\"/></a>"
      ]
    },
    {
      "cell_type": "code",
      "metadata": {
        "id": "YgiSaOhB-NTq",
        "colab_type": "code",
        "colab": {}
      },
      "source": [
        "\n",
        "\n",
        "# بسم الله الرحمن الرحيم\n",
        "اللهم صل على محمد وعلى آل محمد كما صليت على إبراهيم وعلى آل إبراهيم إنك حميد مجيد، اللهم بارك على محمد وعلى آل محمد كما باركت على إبراهيم وعلى آل إبراهيم إنك حميد مجيد\n",
        "\n",
        "\n"
      ],
      "execution_count": 0,
      "outputs": []
    },
    {
      "cell_type": "code",
      "metadata": {
        "id": "u12_Ya6J2pXT",
        "colab_type": "code",
        "colab": {}
      },
      "source": [
        "import os\n",
        "import pandas as pd\n",
        "import numpy as np\n",
        "import seaborn as sns\n",
        "import matplotlib.pyplot as plt"
      ],
      "execution_count": 0,
      "outputs": []
    },
    {
      "cell_type": "code",
      "metadata": {
        "id": "kbc7axLk3ejh",
        "colab_type": "code",
        "colab": {}
      },
      "source": [
        "from sklearn.preprocessing import PolynomialFeatures\n",
        "from sklearn import linear_model"
      ],
      "execution_count": 0,
      "outputs": []
    },
    {
      "cell_type": "code",
      "metadata": {
        "id": "AFLlGtgy3l_Z",
        "colab_type": "code",
        "colab": {}
      },
      "source": [
        "from sklearn.linear_model import LinearRegression\n",
        "from sklearn.kernel_ridge import KernelRidge"
      ],
      "execution_count": 0,
      "outputs": []
    },
    {
      "cell_type": "code",
      "metadata": {
        "id": "MMWxc_AS3oaA",
        "colab_type": "code",
        "colab": {}
      },
      "source": [
        "from sklearn.pipeline import Pipeline\n",
        "from sklearn.metrics import mean_squared_error,mean_absolute_error\n",
        "from sklearn.model_selection import GridSearchCV"
      ],
      "execution_count": 0,
      "outputs": []
    },
    {
      "cell_type": "markdown",
      "metadata": {
        "id": "fc2f43v6YXt8",
        "colab_type": "text"
      },
      "source": [
        "# Ovjective-1\n",
        "## Applying machine learning algorithm to develop a model that can successfully capture aging\n"
      ]
    },
    {
      "cell_type": "code",
      "metadata": {
        "id": "FGfu8QXbX3h2",
        "colab_type": "code",
        "colab": {
          "base_uri": "https://localhost:8080/",
          "height": 129
        },
        "outputId": "3eae5b3a-2a30-4163-dad9-7f6c9468c014"
      },
      "source": [
        "from google.colab import drive\n",
        "drive.mount('/content/drive')"
      ],
      "execution_count": 2,
      "outputs": [
        {
          "output_type": "stream",
          "text": [
            "Go to this URL in a browser: https://accounts.google.com/o/oauth2/auth?client_id=947318989803-6bn6qk8qdgf4n4g3pfee6491hc0brc4i.apps.googleusercontent.com&redirect_uri=urn%3aietf%3awg%3aoauth%3a2.0%3aoob&response_type=code&scope=email%20https%3a%2f%2fwww.googleapis.com%2fauth%2fdocs.test%20https%3a%2f%2fwww.googleapis.com%2fauth%2fdrive%20https%3a%2f%2fwww.googleapis.com%2fauth%2fdrive.photos.readonly%20https%3a%2f%2fwww.googleapis.com%2fauth%2fpeopleapi.readonly\n",
            "\n",
            "Enter your authorization code:\n",
            "··········\n",
            "Mounted at /content/drive\n"
          ],
          "name": "stdout"
        }
      ]
    },
    {
      "cell_type": "markdown",
      "metadata": {
        "id": "DEj2zU4jYWM0",
        "colab_type": "text"
      },
      "source": [
        "# Data Preprocessing\n",
        "## Putting all files into a single dataframe"
      ]
    },
    {
      "cell_type": "code",
      "metadata": {
        "id": "rOwVHqXWXtjc",
        "colab_type": "code",
        "colab": {}
      },
      "source": [
        "# Put all files into a single dataframe\n",
        "list_dir = [i for i in os.listdir('/content/drive/My Drive/Aging model/datafiles')]\n",
        "final_df = pd.DataFrame(columns=['ID','Facial Index','Mandibular Index','Intercantal Index','Orbital Width Index','Eye Fissure Index','Vermilion Height Index','Mouth Face Width Index','AGE'])\n",
        "interim_df = pd.DataFrame(columns=['ID','Facial Index','Mandibular Index','Intercantal Index','Orbital Width Index','Eye Fissure Index','Vermilion Height Index','Mouth Face Width Index','AGE'])\n",
        "age_list=list()\n",
        "for d in list_dir:\n",
        "    interim_df.at[0,  ['Facial Index','Mandibular Index','Intercantal Index','Orbital Width Index','Eye Fissure Index','Vermilion Height Index','Mouth Face Width Index']] = pd.read_csv('/content/drive/My Drive/Aging model/datafiles/'+d, sep=\" \", header=None).values[0][:7]\n",
        "    interim_df['AGE'] = int(d[4:].replace('.txt','').replace('a','').replace('b',''))\n",
        "    interim_df['ID'] = int(d[:3])\n",
        "    final_df = pd.concat([final_df,interim_df])\n",
        "    \n",
        "# sort values by age of same person\n",
        "final_df = final_df.sort_values(['ID','AGE'],ascending=True)"
      ],
      "execution_count": 0,
      "outputs": []
    },
    {
      "cell_type": "code",
      "metadata": {
        "id": "BM4JaU_SYuBH",
        "colab_type": "code",
        "colab": {}
      },
      "source": [
        "final_df.to_csv('/content/drive/My Drive/Aging model/new/final_df.csv',index=False)"
      ],
      "execution_count": 0,
      "outputs": []
    },
    {
      "cell_type": "code",
      "metadata": {
        "id": "yYWQDaa1YyNT",
        "colab_type": "code",
        "colab": {}
      },
      "source": [
        "final_df=pd.read_csv('/content/drive/My Drive/Aging model/new/final_df.csv')"
      ],
      "execution_count": 0,
      "outputs": []
    },
    {
      "cell_type": "code",
      "metadata": {
        "id": "JKnPKKQ739pe",
        "colab_type": "code",
        "colab": {
          "base_uri": "https://localhost:8080/",
          "height": 224
        },
        "outputId": "5305e650-5d7d-4729-eeaa-bdc41c928245"
      },
      "source": [
        "final_df.head()"
      ],
      "execution_count": 11,
      "outputs": [
        {
          "output_type": "execute_result",
          "data": {
            "text/html": [
              "<div>\n",
              "<style scoped>\n",
              "    .dataframe tbody tr th:only-of-type {\n",
              "        vertical-align: middle;\n",
              "    }\n",
              "\n",
              "    .dataframe tbody tr th {\n",
              "        vertical-align: top;\n",
              "    }\n",
              "\n",
              "    .dataframe thead th {\n",
              "        text-align: right;\n",
              "    }\n",
              "</style>\n",
              "<table border=\"1\" class=\"dataframe\">\n",
              "  <thead>\n",
              "    <tr style=\"text-align: right;\">\n",
              "      <th></th>\n",
              "      <th>ID</th>\n",
              "      <th>Facial Index</th>\n",
              "      <th>Mandibular Index</th>\n",
              "      <th>Intercantal Index</th>\n",
              "      <th>Orbital Width Index</th>\n",
              "      <th>Eye Fissure Index</th>\n",
              "      <th>Vermilion Height Index</th>\n",
              "      <th>Mouth Face Width Index</th>\n",
              "      <th>AGE</th>\n",
              "    </tr>\n",
              "  </thead>\n",
              "  <tbody>\n",
              "    <tr>\n",
              "      <th>0</th>\n",
              "      <td>1</td>\n",
              "      <td>0.806070</td>\n",
              "      <td>0.336661</td>\n",
              "      <td>0.390837</td>\n",
              "      <td>0.828399</td>\n",
              "      <td>0.521382</td>\n",
              "      <td>0.599030</td>\n",
              "      <td>0.346350</td>\n",
              "      <td>2</td>\n",
              "    </tr>\n",
              "    <tr>\n",
              "      <th>1</th>\n",
              "      <td>1</td>\n",
              "      <td>0.852819</td>\n",
              "      <td>0.442643</td>\n",
              "      <td>0.386980</td>\n",
              "      <td>0.774311</td>\n",
              "      <td>0.461004</td>\n",
              "      <td>0.659254</td>\n",
              "      <td>0.393676</td>\n",
              "      <td>5</td>\n",
              "    </tr>\n",
              "    <tr>\n",
              "      <th>2</th>\n",
              "      <td>1</td>\n",
              "      <td>0.877282</td>\n",
              "      <td>0.404491</td>\n",
              "      <td>0.442716</td>\n",
              "      <td>0.675757</td>\n",
              "      <td>0.358158</td>\n",
              "      <td>0.306820</td>\n",
              "      <td>0.384508</td>\n",
              "      <td>8</td>\n",
              "    </tr>\n",
              "    <tr>\n",
              "      <th>3</th>\n",
              "      <td>1</td>\n",
              "      <td>0.883831</td>\n",
              "      <td>0.395061</td>\n",
              "      <td>0.415456</td>\n",
              "      <td>0.698110</td>\n",
              "      <td>0.419721</td>\n",
              "      <td>0.409635</td>\n",
              "      <td>0.361281</td>\n",
              "      <td>10</td>\n",
              "    </tr>\n",
              "    <tr>\n",
              "      <th>4</th>\n",
              "      <td>1</td>\n",
              "      <td>0.892233</td>\n",
              "      <td>0.408905</td>\n",
              "      <td>0.421452</td>\n",
              "      <td>0.690838</td>\n",
              "      <td>0.414924</td>\n",
              "      <td>0.511849</td>\n",
              "      <td>0.428505</td>\n",
              "      <td>14</td>\n",
              "    </tr>\n",
              "  </tbody>\n",
              "</table>\n",
              "</div>"
            ],
            "text/plain": [
              "   ID  Facial Index  ...  Mouth Face Width Index  AGE\n",
              "0   1      0.806070  ...                0.346350    2\n",
              "1   1      0.852819  ...                0.393676    5\n",
              "2   1      0.877282  ...                0.384508    8\n",
              "3   1      0.883831  ...                0.361281   10\n",
              "4   1      0.892233  ...                0.428505   14\n",
              "\n",
              "[5 rows x 9 columns]"
            ]
          },
          "metadata": {
            "tags": []
          },
          "execution_count": 11
        }
      ]
    },
    {
      "cell_type": "code",
      "metadata": {
        "id": "KUVSF4ru4E54",
        "colab_type": "code",
        "colab": {
          "base_uri": "https://localhost:8080/",
          "height": 35
        },
        "outputId": "6a9e5819-7513-47de-a2fa-a7e3648a87c1"
      },
      "source": [
        "final_df.shape"
      ],
      "execution_count": 12,
      "outputs": [
        {
          "output_type": "execute_result",
          "data": {
            "text/plain": [
              "(1002, 9)"
            ]
          },
          "metadata": {
            "tags": []
          },
          "execution_count": 12
        }
      ]
    },
    {
      "cell_type": "markdown",
      "metadata": {
        "id": "qn58W2D9Y4yO",
        "colab_type": "text"
      },
      "source": [
        "### Class distribution"
      ]
    },
    {
      "cell_type": "code",
      "metadata": {
        "id": "bdbVQrbfY_Qj",
        "colab_type": "code",
        "colab": {
          "base_uri": "https://localhost:8080/",
          "height": 295
        },
        "outputId": "717f0a53-254b-4fc7-cbff-1f0cd40cbf66"
      },
      "source": [
        "classes=final_df[['ID']].values\n",
        "unique, counts = np.unique(classes, return_counts=True)\n",
        "plt.bar(unique,counts)\n",
        "plt.title('Class Frequency')\n",
        "plt.xlabel('Class')\n",
        "plt.ylabel('Frequency')\n",
        "plt.show()"
      ],
      "execution_count": 4,
      "outputs": [
        {
          "output_type": "display_data",
          "data": {
            "image/png": "[encoded data removed]",
            "text/plain": [
              "<Figure size 432x288 with 1 Axes>"
            ]
          },
          "metadata": {
            "tags": [],
            "needs_background": "light"
          }
        }
      ]
    },
    {
      "cell_type": "markdown",
      "metadata": {
        "id": "f5Vq6gCW4NyP",
        "colab_type": "text"
      },
      "source": [
        "## Splitting data in training and validation(test) sets"
      ]
    },
    {
      "cell_type": "code",
      "metadata": {
        "id": "ntjeKqqj4Q9C",
        "colab_type": "code",
        "colab": {}
      },
      "source": [
        "train_size = len(final_df['ID'].unique()) * .8"
      ],
      "execution_count": 0,
      "outputs": []
    },
    {
      "cell_type": "code",
      "metadata": {
        "id": "MEN6ogqP4SQ7",
        "colab_type": "code",
        "colab": {}
      },
      "source": [
        "train = pd.DataFrame()\n",
        "valid = pd.DataFrame()\n",
        "for n,i in enumerate(final_df['ID'].unique()):\n",
        "    if n< train_size:\n",
        "        train = pd.concat([train, final_df[final_df['ID']==i]])\n",
        "    else:\n",
        "        valid = pd.concat([valid, final_df[final_df['ID']==i]])"
      ],
      "execution_count": 0,
      "outputs": []
    },
    {
      "cell_type": "code",
      "metadata": {
        "id": "LwihinPZ4SKr",
        "colab_type": "code",
        "colab": {
          "base_uri": "https://localhost:8080/",
          "height": 35
        },
        "outputId": "444307c0-b3df-49a4-aa4a-7f4362d49302"
      },
      "source": [
        "print(valid.shape,train.shape)"
      ],
      "execution_count": 15,
      "outputs": [
        {
          "output_type": "stream",
          "text": [
            "(212, 9) (790, 9)\n"
          ],
          "name": "stdout"
        }
      ]
    },
    {
      "cell_type": "code",
      "metadata": {
        "id": "r0TxRLQ04SDy",
        "colab_type": "code",
        "colab": {
          "base_uri": "https://localhost:8080/",
          "height": 54
        },
        "outputId": "f68b6ca5-e836-41f8-a62a-38d31e7afb58"
      },
      "source": [
        "print('Training Set Has: ' + str(len(train.groupby('ID').count())) + ' people')\n",
        "print('Validation (Test) Set Has: ' + str(len(valid.groupby('ID').count())) + ' people')"
      ],
      "execution_count": 16,
      "outputs": [
        {
          "output_type": "stream",
          "text": [
            "Training Set Has: 66 people\n",
            "Validation (Test) Set Has: 16 people\n"
          ],
          "name": "stdout"
        }
      ]
    },
    {
      "cell_type": "code",
      "metadata": {
        "id": "I5zVXQ2t4R9F",
        "colab_type": "code",
        "colab": {}
      },
      "source": [
        "X_train = train[  ['Facial Index','Mandibular Index','Intercantal Index','Orbital Width Index','Eye Fissure Index','Vermilion Height Index','Mouth Face Width Index']]\n",
        "y_train = train['AGE']\n",
        "\n",
        "X_valid = valid[  ['Facial Index','Mandibular Index','Intercantal Index','Orbital Width Index','Eye Fissure Index','Vermilion Height Index','Mouth Face Width Index']]\n",
        "y_valid = valid['AGE']"
      ],
      "execution_count": 0,
      "outputs": []
    },
    {
      "cell_type": "code",
      "metadata": {
        "id": "mxRjiefv4R07",
        "colab_type": "code",
        "colab": {
          "base_uri": "https://localhost:8080/",
          "height": 130
        },
        "outputId": "fe3f1331-17ac-42f3-bc86-d4c35dbb3d3e"
      },
      "source": [
        "X_train.head(2)"
      ],
      "execution_count": 18,
      "outputs": [
        {
          "output_type": "execute_result",
          "data": {
            "text/html": [
              "<div>\n",
              "<style scoped>\n",
              "    .dataframe tbody tr th:only-of-type {\n",
              "        vertical-align: middle;\n",
              "    }\n",
              "\n",
              "    .dataframe tbody tr th {\n",
              "        vertical-align: top;\n",
              "    }\n",
              "\n",
              "    .dataframe thead th {\n",
              "        text-align: right;\n",
              "    }\n",
              "</style>\n",
              "<table border=\"1\" class=\"dataframe\">\n",
              "  <thead>\n",
              "    <tr style=\"text-align: right;\">\n",
              "      <th></th>\n",
              "      <th>Facial Index</th>\n",
              "      <th>Mandibular Index</th>\n",
              "      <th>Intercantal Index</th>\n",
              "      <th>Orbital Width Index</th>\n",
              "      <th>Eye Fissure Index</th>\n",
              "      <th>Vermilion Height Index</th>\n",
              "      <th>Mouth Face Width Index</th>\n",
              "    </tr>\n",
              "  </thead>\n",
              "  <tbody>\n",
              "    <tr>\n",
              "      <th>0</th>\n",
              "      <td>0.806070</td>\n",
              "      <td>0.336661</td>\n",
              "      <td>0.390837</td>\n",
              "      <td>0.828399</td>\n",
              "      <td>0.521382</td>\n",
              "      <td>0.599030</td>\n",
              "      <td>0.346350</td>\n",
              "    </tr>\n",
              "    <tr>\n",
              "      <th>1</th>\n",
              "      <td>0.852819</td>\n",
              "      <td>0.442643</td>\n",
              "      <td>0.386980</td>\n",
              "      <td>0.774311</td>\n",
              "      <td>0.461004</td>\n",
              "      <td>0.659254</td>\n",
              "      <td>0.393676</td>\n",
              "    </tr>\n",
              "  </tbody>\n",
              "</table>\n",
              "</div>"
            ],
            "text/plain": [
              "   Facial Index  ...  Mouth Face Width Index\n",
              "0      0.806070  ...                0.346350\n",
              "1      0.852819  ...                0.393676\n",
              "\n",
              "[2 rows x 7 columns]"
            ]
          },
          "metadata": {
            "tags": []
          },
          "execution_count": 18
        }
      ]
    },
    {
      "cell_type": "code",
      "metadata": {
        "id": "ROGeBnTm4Rwe",
        "colab_type": "code",
        "colab": {}
      },
      "source": [
        "y_valid=valid[['AGE']]"
      ],
      "execution_count": 0,
      "outputs": []
    },
    {
      "cell_type": "code",
      "metadata": {
        "id": "P7kLrN314sEh",
        "colab_type": "code",
        "colab": {}
      },
      "source": [
        "y_train=train[['AGE']]"
      ],
      "execution_count": 0,
      "outputs": []
    },
    {
      "cell_type": "code",
      "metadata": {
        "id": "n20ljRK94Rol",
        "colab_type": "code",
        "colab": {
          "base_uri": "https://localhost:8080/",
          "height": 35
        },
        "outputId": "1a0b9c32-23e4-4dc0-f153-2247cccbccf8"
      },
      "source": [
        "print(X_train.shape,y_train.shape,X_valid.shape,y_valid.shape)"
      ],
      "execution_count": 55,
      "outputs": [
        {
          "output_type": "stream",
          "text": [
            "(790, 7) (790,) (212, 7) (212,)\n"
          ],
          "name": "stdout"
        }
      ]
    },
    {
      "cell_type": "markdown",
      "metadata": {
        "id": "MDzSnUmh44Js",
        "colab_type": "text"
      },
      "source": [
        "## The Mean absolute error (MAE) for Kernel Regression model"
      ]
    },
    {
      "cell_type": "code",
      "metadata": {
        "id": "z8JD3Wyk4RhB",
        "colab_type": "code",
        "colab": {}
      },
      "source": [
        "kr = GridSearchCV(KernelRidge(kernel='rbf', gamma=0.1), cv=3,\n",
        "                  param_grid={\"alpha\": [1e0, 0.1, 1e-2, 1e-3,2],\n",
        "                              \"gamma\": np.logspace(-2, 2, 5),\n",
        "                              \"degree\": [0,1,2,3,4]})"
      ],
      "execution_count": 0,
      "outputs": []
    },
    {
      "cell_type": "code",
      "metadata": {
        "id": "bbsdrHWC4RYZ",
        "colab_type": "code",
        "colab": {
          "base_uri": "https://localhost:8080/",
          "height": 35
        },
        "outputId": "7ff121f7-19eb-468b-afc1-ff1c9fb5c3cd"
      },
      "source": [
        "kr.fit(X_train, y_train)\n",
        "print('MAE: ' + str(mean_absolute_error(y_true= y_valid, y_pred=kr.predict(X_valid))))"
      ],
      "execution_count": 25,
      "outputs": [
        {
          "output_type": "stream",
          "text": [
            "MAE: 10.235163852688649\n"
          ],
          "name": "stdout"
        }
      ]
    },
    {
      "cell_type": "markdown",
      "metadata": {
        "id": "eBnNt_fC5Gwa",
        "colab_type": "text"
      },
      "source": [
        "### We have MAE=10.23 .Now we drop the features one by one and check whether our MAE increase or decrease?"
      ]
    },
    {
      "cell_type": "code",
      "metadata": {
        "id": "Zm4POs6c5IOP",
        "colab_type": "code",
        "colab": {}
      },
      "source": [
        "kr_score_all_feats = mean_absolute_error(y_true= y_valid, y_pred=kr.predict(X_valid))"
      ],
      "execution_count": 0,
      "outputs": []
    },
    {
      "cell_type": "code",
      "metadata": {
        "id": "nhz4CrR65I4r",
        "colab_type": "code",
        "colab": {
          "base_uri": "https://localhost:8080/",
          "height": 405
        },
        "outputId": "473a85a9-b80e-45b9-c418-c2aea491e34c"
      },
      "source": [
        "kernel_importance = list()\n",
        "for feature in   ['Facial Index','Mandibular Index','Intercantal Index','Orbital Width Index','Eye Fissure Index','Vermilion Height Index','Mouth Face Width Index']:\n",
        "    print(\"Droping \"+ feature)\n",
        "    kr.fit(X_train.drop(feature,axis =1 ), y_train)\n",
        "    kernel_importance.append(mean_absolute_error(y_true= y_valid, y_pred=kr.predict(X_valid.drop(feature,axis =1 )))-kr_score_all_feats)\n",
        "    print('MAE: ' + str(mean_absolute_error(y_true= y_valid, y_pred=kr.predict(X_valid.drop(feature,axis =1 )))))\n",
        "    print(\"Score decreased by : \" +str(mean_absolute_error(y_true= y_valid, y_pred=kr.predict(X_valid.drop(feature,axis =1 ))) -kr_score_all_feats)) \n"
      ],
      "execution_count": 27,
      "outputs": [
        {
          "output_type": "stream",
          "text": [
            "Droping Facial Index\n",
            "MAE: 10.29189534344346\n",
            "Score decreased by : 0.056731490754811986\n",
            "Droping Mandibular Index\n",
            "MAE: 10.25164599134319\n",
            "Score decreased by : 0.016482138654541956\n",
            "Droping Intercantal Index\n",
            "MAE: 10.23404556839713\n",
            "Score decreased by : -0.001118284291518279\n",
            "Droping Orbital Width Index\n",
            "MAE: 10.30901189029278\n",
            "Score decreased by : 0.07384803760413128\n",
            "Droping Eye Fissure Index\n",
            "MAE: 10.419635908045885\n",
            "Score decreased by : 0.18447205535723654\n",
            "Droping Vermilion Height Index\n",
            "MAE: 10.199300982034007\n",
            "Score decreased by : -0.035862870654641554\n",
            "Droping Mouth Face Width Index\n",
            "MAE: 9.906054773428064\n",
            "Score decreased by : -0.32910907926058464\n"
          ],
          "name": "stdout"
        }
      ]
    },
    {
      "cell_type": "markdown",
      "metadata": {
        "id": "9KBtHgzd5qVr",
        "colab_type": "text"
      },
      "source": [
        "### In above calculation,its observed that \"Mouth Face Width Index\"(-0.329) and \"Vermilion Height Index\" (-0.035) considerably increases the error.Therefore we drop both these features and check the MAE"
      ]
    },
    {
      "cell_type": "code",
      "metadata": {
        "id": "1poxUyJT5Iyz",
        "colab_type": "code",
        "colab": {
          "base_uri": "https://localhost:8080/",
          "height": 35
        },
        "outputId": "e2cd36c7-50fb-411a-f6b9-fbb79b6c093f"
      },
      "source": [
        "kr.fit(X_train.drop(['Mouth Face Width Index','Vermilion Height Index'], axis=1), y_train)\n",
        "print('MAE: ' + str(mean_absolute_error(y_true= y_valid, y_pred=kr.predict(X_valid.drop(['Mouth Face Width Index','Vermilion Height Index'], axis=1)))))\n"
      ],
      "execution_count": 28,
      "outputs": [
        {
          "output_type": "stream",
          "text": [
            "MAE: 9.775314445522065\n"
          ],
          "name": "stdout"
        }
      ]
    },
    {
      "cell_type": "markdown",
      "metadata": {
        "id": "jCNtFUPe5zyy",
        "colab_type": "text"
      },
      "source": [
        "### After dropping the two features i.e \"Mouth Face Width Index\" and \"Vermilion Height Index\", our MAE decreased from 10.23 to 9.77"
      ]
    },
    {
      "cell_type": "markdown",
      "metadata": {
        "id": "I5upHCJc55HN",
        "colab_type": "text"
      },
      "source": [
        "# Using Polynomial Regression"
      ]
    },
    {
      "cell_type": "code",
      "metadata": {
        "id": "vHl-Zk8I56v4",
        "colab_type": "code",
        "colab": {
          "base_uri": "https://localhost:8080/",
          "height": 35
        },
        "outputId": "152aaa75-db22-4d2c-a06b-67a605649b4a"
      },
      "source": [
        "poly_mod = Pipeline([('poly', PolynomialFeatures()), ('linear', LinearRegression(fit_intercept=True))])\n",
        "poly = GridSearchCV(poly_mod, cv=3, param_grid={\"poly__degree\": [1,2,3,5]})\n",
        "poly.fit(X_train,y_train)\n",
        "print('MAE: ' + str(mean_absolute_error(y_true= y_valid, y_pred=poly.predict(X_valid))))"
      ],
      "execution_count": 29,
      "outputs": [
        {
          "output_type": "stream",
          "text": [
            "MAE: 10.273646554943682\n"
          ],
          "name": "stdout"
        }
      ]
    },
    {
      "cell_type": "code",
      "metadata": {
        "id": "MqH5VDon57X_",
        "colab_type": "code",
        "colab": {}
      },
      "source": [
        "poly_score_all_feats = mean_squared_error(y_true= y_valid, y_pred=poly.predict(X_valid))"
      ],
      "execution_count": 0,
      "outputs": []
    },
    {
      "cell_type": "markdown",
      "metadata": {
        "id": "DS35EILa6En6",
        "colab_type": "text"
      },
      "source": [
        "### Dropping the features one by one and check the effect on MAE"
      ]
    },
    {
      "cell_type": "code",
      "metadata": {
        "id": "HV7dyA8n57OD",
        "colab_type": "code",
        "colab": {
          "base_uri": "https://localhost:8080/",
          "height": 405
        },
        "outputId": "f65edea5-f77e-4685-fc4a-5330d5ba59fb"
      },
      "source": [
        "poly_importance = list()\n",
        "for feature in   ['Facial Index','Mandibular Index','Intercantal Index','Orbital Width Index','Eye Fissure Index','Vermilion Height Index','Mouth Face Width Index']:\n",
        "    print(\"Droping \"+ feature)\n",
        "    poly_mod = Pipeline([('poly', PolynomialFeatures()), ('linear', LinearRegression(fit_intercept=True))])\n",
        "    poly = GridSearchCV(poly_mod, cv=5, param_grid={\"poly__degree\": [1,2,3,4]})\n",
        "    poly.fit(X_train.drop(feature, axis=1),y_train)\n",
        "    poly_importance.append(mean_absolute_error(y_true= y_valid, y_pred=poly.predict(X_valid.drop(feature,axis =1 )))-kr_score_all_feats)\n",
        "    print('MAE: ' + str(mean_absolute_error(y_true= y_valid, y_pred=poly.predict(X_valid.drop(feature,axis =1 )))))\n",
        "    print(\"Score decreased by : \" +str(mean_absolute_error(y_true= y_valid, y_pred=poly.predict(X_valid.drop(feature,axis =1 ))) -kr_score_all_feats)) \n"
      ],
      "execution_count": 31,
      "outputs": [
        {
          "output_type": "stream",
          "text": [
            "Droping Facial Index\n",
            "MAE: 10.309421953838655\n",
            "Score decreased by : 0.07425810115000608\n",
            "Droping Mandibular Index\n",
            "MAE: 10.326268685330312\n",
            "Score decreased by : 0.09110483264166369\n",
            "Droping Intercantal Index\n",
            "MAE: 10.273238883022433\n",
            "Score decreased by : 0.038075030333784454\n",
            "Droping Orbital Width Index\n",
            "MAE: 10.27256151393187\n",
            "Score decreased by : 0.037397661243220526\n",
            "Droping Eye Fissure Index\n",
            "MAE: 10.427354741837732\n",
            "Score decreased by : 0.19219088914908333\n",
            "Droping Vermilion Height Index\n",
            "MAE: 10.27333412410004\n",
            "Score decreased by : 0.038170271411392065\n",
            "Droping Mouth Face Width Index\n",
            "MAE: 10.060304272049654\n",
            "Score decreased by : -0.17485958063899432\n"
          ],
          "name": "stdout"
        }
      ]
    },
    {
      "cell_type": "markdown",
      "metadata": {
        "id": "ewud9QMW6NWX",
        "colab_type": "text"
      },
      "source": [
        "### In the above procedure,its obsereved that after dropping 'Mouth Face Width Index' we see that MAE decreased for Polynomial regression\n",
        "### Therefore we drop 'Mouth Face Width Index' feature and again check the MAE"
      ]
    },
    {
      "cell_type": "code",
      "metadata": {
        "id": "f3OUM_wz57Hk",
        "colab_type": "code",
        "colab": {
          "base_uri": "https://localhost:8080/",
          "height": 35
        },
        "outputId": "dfeaf8e3-ff6c-4df3-c96b-d0c19df3ed02"
      },
      "source": [
        "poly.fit(X_train.drop('Mouth Face Width Index', axis =1),y_train)\n",
        "print('MAE: ' + str(mean_absolute_error(y_true= y_valid, y_pred=poly.predict(X_valid.drop('Mouth Face Width Index', axis =1)))))"
      ],
      "execution_count": 32,
      "outputs": [
        {
          "output_type": "stream",
          "text": [
            "MAE: 10.060304272049654\n"
          ],
          "name": "stdout"
        }
      ]
    },
    {
      "cell_type": "markdown",
      "metadata": {
        "id": "YoBwcl4r6Ui7",
        "colab_type": "text"
      },
      "source": [
        "### The MAE for polynomial model decreased from 10.27 to 10.06 after dropping \"Mouth Face Width Index\" feature"
      ]
    },
    {
      "cell_type": "markdown",
      "metadata": {
        "id": "ba7rNHB36ZAK",
        "colab_type": "text"
      },
      "source": [
        "## Plotting the importance of features for Kernel and Polynomial models"
      ]
    },
    {
      "cell_type": "code",
      "metadata": {
        "id": "dP9r35x557Av",
        "colab_type": "code",
        "colab": {}
      },
      "source": [
        "importance_df = pd.DataFrame()\n",
        "importance_df[\"Feature\"] =   ['Facial Index','Mandibular Index','Intercantal Index','Orbital Width Index','Eye Fissure Index','Vermilion Height Index','Mouth Face Width Index']"
      ],
      "execution_count": 0,
      "outputs": []
    },
    {
      "cell_type": "code",
      "metadata": {
        "id": "RjRPOQS55Iqb",
        "colab_type": "code",
        "colab": {}
      },
      "source": [
        "importance_df['Polynomial Importance'] = poly_importance\n",
        "importance_df['Kernel Importance'] = kernel_importance\n"
      ],
      "execution_count": 0,
      "outputs": []
    },
    {
      "cell_type": "code",
      "metadata": {
        "id": "d4xz5d8t6gOW",
        "colab_type": "code",
        "colab": {}
      },
      "source": [
        "importance_df = importance_df.sort_values('Kernel Importance',ascending=False)"
      ],
      "execution_count": 0,
      "outputs": []
    },
    {
      "cell_type": "code",
      "metadata": {
        "id": "eJNNFG_86gkc",
        "colab_type": "code",
        "colab": {
          "base_uri": "https://localhost:8080/",
          "height": 1000
        },
        "outputId": "cc95a10f-9aab-46a5-b5a1-66f578fdf3b9"
      },
      "source": [
        "plt.figure(figsize=(20,20))\n",
        "plt.title('Kernel Feature Importance', fontsize=30)\n",
        "sns.barplot(importance_df.Feature, importance_df['Kernel Importance'])\n",
        "plt.xticks(fontsize=25, rotation='vertical')\n",
        "plt.yticks(fontsize=25)\n",
        "plt.xlabel('Features',fontsize=30)\n",
        "plt.ylabel('Importance', fontsize=30)\n",
        "plt.show()"
      ],
      "execution_count": 36,
      "outputs": [
        {
          "output_type": "display_data",
          "data": {
            "image/png": "[encoded data removed]",
            "text/plain": [
              "<Figure size 1440x1440 with 1 Axes>"
            ]
          },
          "metadata": {
            "tags": [],
            "needs_background": "light"
          }
        }
      ]
    },
    {
      "cell_type": "code",
      "metadata": {
        "id": "k-mwGIQZ6g7t",
        "colab_type": "code",
        "colab": {}
      },
      "source": [
        "importance_df = importance_df.sort_values('Polynomial Importance',ascending=False)"
      ],
      "execution_count": 0,
      "outputs": []
    },
    {
      "cell_type": "code",
      "metadata": {
        "id": "Q_XYvJuN6hY7",
        "colab_type": "code",
        "colab": {
          "base_uri": "https://localhost:8080/",
          "height": 1000
        },
        "outputId": "c4081d94-a9a1-473d-a8e8-735ee7905a66"
      },
      "source": [
        "plt.figure(figsize=(20,20))\n",
        "plt.title('Polynomial Feature Importance', fontsize=30)\n",
        "sns.barplot(importance_df.Feature, importance_df['Polynomial Importance'])\n",
        "plt.xticks(fontsize=25, rotation='vertical')\n",
        "plt.yticks(fontsize=25)\n",
        "plt.xlabel('Features',fontsize=30)\n",
        "plt.ylabel('Importance', fontsize=30)\n",
        "plt.show()"
      ],
      "execution_count": 38,
      "outputs": [
        {
          "output_type": "display_data",
          "data": {
            "image/png": "[encoded data removed]",
            "text/plain": [
              "<Figure size 1440x1440 with 1 Axes>"
            ]
          },
          "metadata": {
            "tags": [],
            "needs_background": "light"
          }
        }
      ]
    },
    {
      "cell_type": "code",
      "metadata": {
        "id": "cC-iEkOZ6htR",
        "colab_type": "code",
        "colab": {
          "base_uri": "https://localhost:8080/",
          "height": 206
        },
        "outputId": "d73a3ecc-2096-4cb0-871c-8600da49a446"
      },
      "source": [
        "importance_df.head()"
      ],
      "execution_count": 39,
      "outputs": [
        {
          "output_type": "execute_result",
          "data": {
            "text/html": [
              "<div>\n",
              "<style scoped>\n",
              "    .dataframe tbody tr th:only-of-type {\n",
              "        vertical-align: middle;\n",
              "    }\n",
              "\n",
              "    .dataframe tbody tr th {\n",
              "        vertical-align: top;\n",
              "    }\n",
              "\n",
              "    .dataframe thead th {\n",
              "        text-align: right;\n",
              "    }\n",
              "</style>\n",
              "<table border=\"1\" class=\"dataframe\">\n",
              "  <thead>\n",
              "    <tr style=\"text-align: right;\">\n",
              "      <th></th>\n",
              "      <th>Feature</th>\n",
              "      <th>Polynomial Importance</th>\n",
              "      <th>Kernel Importance</th>\n",
              "    </tr>\n",
              "  </thead>\n",
              "  <tbody>\n",
              "    <tr>\n",
              "      <th>4</th>\n",
              "      <td>Eye Fissure Index</td>\n",
              "      <td>0.192191</td>\n",
              "      <td>0.184472</td>\n",
              "    </tr>\n",
              "    <tr>\n",
              "      <th>1</th>\n",
              "      <td>Mandibular Index</td>\n",
              "      <td>0.091105</td>\n",
              "      <td>0.016482</td>\n",
              "    </tr>\n",
              "    <tr>\n",
              "      <th>0</th>\n",
              "      <td>Facial Index</td>\n",
              "      <td>0.074258</td>\n",
              "      <td>0.056731</td>\n",
              "    </tr>\n",
              "    <tr>\n",
              "      <th>5</th>\n",
              "      <td>Vermilion Height Index</td>\n",
              "      <td>0.038170</td>\n",
              "      <td>-0.035863</td>\n",
              "    </tr>\n",
              "    <tr>\n",
              "      <th>2</th>\n",
              "      <td>Intercantal Index</td>\n",
              "      <td>0.038075</td>\n",
              "      <td>-0.001118</td>\n",
              "    </tr>\n",
              "  </tbody>\n",
              "</table>\n",
              "</div>"
            ],
            "text/plain": [
              "                  Feature  Polynomial Importance  Kernel Importance\n",
              "4       Eye Fissure Index               0.192191           0.184472\n",
              "1        Mandibular Index               0.091105           0.016482\n",
              "0            Facial Index               0.074258           0.056731\n",
              "5  Vermilion Height Index               0.038170          -0.035863\n",
              "2       Intercantal Index               0.038075          -0.001118"
            ]
          },
          "metadata": {
            "tags": []
          },
          "execution_count": 39
        }
      ]
    },
    {
      "cell_type": "code",
      "metadata": {
        "id": "Yg4FvpB34RQB",
        "colab_type": "code",
        "colab": {}
      },
      "source": [
        "importance_df.to_csv('/content/drive/My Drive/Objective01/feature_importance_by_model.csv',index=False)"
      ],
      "execution_count": 0,
      "outputs": []
    },
    {
      "cell_type": "markdown",
      "metadata": {
        "id": "1rNJmzHC7l62",
        "colab_type": "text"
      },
      "source": [
        "# Plotting the actual and predicted values using Polynomial and Kernel Regression"
      ]
    },
    {
      "cell_type": "markdown",
      "metadata": {
        "id": "zTUOf8pU7u9m",
        "colab_type": "text"
      },
      "source": [
        "### dropping the 'Mouth Face Width Index'  feature for polynomial model and dropping 'Mouth Face Width Index','Vermilion Height Index' for Kernel Regression"
      ]
    },
    {
      "cell_type": "code",
      "metadata": {
        "id": "yTBk0eTa7xT4",
        "colab_type": "code",
        "colab": {}
      },
      "source": [
        "valid['Polynomial Prediction'] = poly.predict(X_valid.drop(['Mouth Face Width Index'], axis=1))\n",
        "valid['Kernel Prediction'] = kr.predict(X_valid.drop(['Mouth Face Width Index','Vermilion Height Index'], axis=1))"
      ],
      "execution_count": 0,
      "outputs": []
    },
    {
      "cell_type": "markdown",
      "metadata": {
        "id": "MsTN4_NS75Uo",
        "colab_type": "text"
      },
      "source": [
        "## New columns in the validation data to store the errors for Polynomial and Kernel regression errors"
      ]
    },
    {
      "cell_type": "code",
      "metadata": {
        "id": "m1EPD5tw_SgG",
        "colab_type": "code",
        "colab": {
          "base_uri": "https://localhost:8080/",
          "height": 35
        },
        "outputId": "c224fbdb-190c-443f-d794-b365928bcc61"
      },
      "source": [
        "valid['AGE'].shape"
      ],
      "execution_count": 57,
      "outputs": [
        {
          "output_type": "execute_result",
          "data": {
            "text/plain": [
              "(212,)"
            ]
          },
          "metadata": {
            "tags": []
          },
          "execution_count": 57
        }
      ]
    },
    {
      "cell_type": "code",
      "metadata": {
        "id": "D1_h3oGF_sOP",
        "colab_type": "code",
        "colab": {}
      },
      "source": [
        "X_valid2=np.reshape(X_valid.values, (-1, 1))"
      ],
      "execution_count": 0,
      "outputs": []
    },
    {
      "cell_type": "code",
      "metadata": {
        "id": "cDXrKZrQBgYN",
        "colab_type": "code",
        "colab": {
          "base_uri": "https://localhost:8080/",
          "height": 35
        },
        "outputId": "6e8191e7-6a0e-4a99-9862-3a1e4436862c"
      },
      "source": [
        "X_valid.shape"
      ],
      "execution_count": 67,
      "outputs": [
        {
          "output_type": "execute_result",
          "data": {
            "text/plain": [
              "(212, 7)"
            ]
          },
          "metadata": {
            "tags": []
          },
          "execution_count": 67
        }
      ]
    },
    {
      "cell_type": "code",
      "metadata": {
        "id": "PRr5g4mBBnN5",
        "colab_type": "code",
        "colab": {
          "base_uri": "https://localhost:8080/",
          "height": 35
        },
        "outputId": "1a78c388-a11a-4a08-baeb-c167030ad3fe"
      },
      "source": [
        "X_valid4 = np.reshape(X_valid.to_numpy(), (-1, 1))\n",
        "X_valid4.shape"
      ],
      "execution_count": 70,
      "outputs": [
        {
          "output_type": "execute_result",
          "data": {
            "text/plain": [
              "(1484, 1)"
            ]
          },
          "metadata": {
            "tags": []
          },
          "execution_count": 70
        }
      ]
    },
    {
      "cell_type": "code",
      "metadata": {
        "id": "Uj-Jy1RECkUy",
        "colab_type": "code",
        "colab": {
          "base_uri": "https://localhost:8080/",
          "height": 35
        },
        "outputId": "ae41f9d3-7d91-4bf1-a709-bb42eb710947"
      },
      "source": [
        "X_valid.shape"
      ],
      "execution_count": 73,
      "outputs": [
        {
          "output_type": "execute_result",
          "data": {
            "text/plain": [
              "(212, 7)"
            ]
          },
          "metadata": {
            "tags": []
          },
          "execution_count": 73
        }
      ]
    },
    {
      "cell_type": "code",
      "metadata": {
        "id": "sdq-HcrtL-MD",
        "colab_type": "code",
        "colab": {}
      },
      "source": [
        "out = np.empty(X_valid.shape[0], dtype=object)"
      ],
      "execution_count": 0,
      "outputs": []
    },
    {
      "cell_type": "code",
      "metadata": {
        "id": "F-F_nhmTMs2x",
        "colab_type": "code",
        "colab": {}
      },
      "source": [
        "a=pd.DataFrame(data=out)"
      ],
      "execution_count": 0,
      "outputs": []
    },
    {
      "cell_type": "code",
      "metadata": {
        "id": "CHdgLKIDMHWP",
        "colab_type": "code",
        "colab": {
          "base_uri": "https://localhost:8080/",
          "height": 35
        },
        "outputId": "967c15b7-6ba7-4124-874e-65d9e2432219"
      },
      "source": [
        "X_valid.iloc[:,1].shape"
      ],
      "execution_count": 82,
      "outputs": [
        {
          "output_type": "execute_result",
          "data": {
            "text/plain": [
              "(212,)"
            ]
          },
          "metadata": {
            "tags": []
          },
          "execution_count": 82
        }
      ]
    },
    {
      "cell_type": "code",
      "metadata": {
        "id": "Mkr2PDWROD7s",
        "colab_type": "code",
        "colab": {
          "base_uri": "https://localhost:8080/",
          "height": 91
        },
        "outputId": "a5746679-7f4c-41b5-9407-af63e4fbc03b"
      },
      "source": [
        "X_valid.columns"
      ],
      "execution_count": 83,
      "outputs": [
        {
          "output_type": "execute_result",
          "data": {
            "text/plain": [
              "Index(['Facial Index', 'Mandibular Index', 'Intercantal Index',\n",
              "       'Orbital Width Index', 'Eye Fissure Index', 'Vermilion Height Index',\n",
              "       'Mouth Face Width Index'],\n",
              "      dtype='object')"
            ]
          },
          "metadata": {
            "tags": []
          },
          "execution_count": 83
        }
      ]
    },
    {
      "cell_type": "code",
      "metadata": {
        "id": "Ta8vygGL76xR",
        "colab_type": "code",
        "colab": {}
      },
      "source": [
        "valid['Polynomial Error'] = abs(valid[['AGE']] -  poly.predict(X_valid.drop(['Mouth Face Width Index'], axis=1)))"
      ],
      "execution_count": 0,
      "outputs": []
    },
    {
      "cell_type": "code",
      "metadata": {
        "id": "6B-qHZPe8WTl",
        "colab_type": "code",
        "colab": {}
      },
      "source": [
        "valid['Kernel Error'] = abs(valid[['AGE']] -  kr.predict(X_valid.drop(['Mouth Face Width Index','Vermilion Height Index'], axis=1)))"
      ],
      "execution_count": 0,
      "outputs": []
    },
    {
      "cell_type": "markdown",
      "metadata": {
        "id": "jSNLyx5kO8FF",
        "colab_type": "text"
      },
      "source": [
        "## saving the results in csv"
      ]
    },
    {
      "cell_type": "code",
      "metadata": {
        "id": "nDLug7FNO93S",
        "colab_type": "code",
        "colab": {}
      },
      "source": [
        "valid.to_csv('/content/drive/My Drive/Objective01/validation.csv',index=False)"
      ],
      "execution_count": 0,
      "outputs": []
    },
    {
      "cell_type": "markdown",
      "metadata": {
        "id": "YVulB2xKPJQ1",
        "colab_type": "text"
      },
      "source": [
        "## plotting the actual and predicted values for both the models"
      ]
    },
    {
      "cell_type": "code",
      "metadata": {
        "id": "PEvKgY5N7xMW",
        "colab_type": "code",
        "colab": {
          "base_uri": "https://localhost:8080/",
          "height": 396
        },
        "outputId": "4c61c721-e9f8-4cfc-f33c-dc5def88eb85"
      },
      "source": [
        "case1 = valid[valid['ID']==82]\n",
        "case1['x'] = [i for i in range(len(case1))]\n",
        "\n",
        "plt.plot(case1['x'], case1['Polynomial Prediction'])\n",
        "\n",
        "plt.plot(case1['x'], case1['Kernel Prediction'])\n",
        "\n",
        "plt.plot(case1['x'], case1['AGE'])\n",
        "plt.legend(['Polynomial Regression','Kernel Regression', 'AGE'])\n",
        "plt.show()"
      ],
      "execution_count": 92,
      "outputs": [
        {
          "output_type": "stream",
          "text": [
            "/usr/local/lib/python3.6/dist-packages/ipykernel_launcher.py:2: SettingWithCopyWarning: \n",
            "A value is trying to be set on a copy of a slice from a DataFrame.\n",
            "Try using .loc[row_indexer,col_indexer] = value instead\n",
            "\n",
            "See the caveats in the documentation: https://pandas.pydata.org/pandas-docs/stable/user_guide/indexing.html#returning-a-view-versus-a-copy\n",
            "  \n"
          ],
          "name": "stderr"
        },
        {
          "output_type": "display_data",
          "data": {
            "image/png": "[encoded data removed]",
            "text/plain": [
              "<Figure size 432x288 with 1 Axes>"
            ]
          },
          "metadata": {
            "tags": [],
            "needs_background": "light"
          }
        }
      ]
    },
    {
      "cell_type": "markdown",
      "metadata": {
        "id": "FaZdx-DTPiWW",
        "colab_type": "text"
      },
      "source": [
        "# Which Model is better"
      ]
    },
    {
      "cell_type": "markdown",
      "metadata": {
        "id": "_Z_aiq7IPoi6",
        "colab_type": "text"
      },
      "source": [
        "#### We see that Kernel Regression Model is slightly better thant the Polonomial model because it has a lower MSE value of 9.77"
      ]
    },
    {
      "cell_type": "markdown",
      "metadata": {
        "id": "s-tuvzzXPtef",
        "colab_type": "text"
      },
      "source": [
        "## Caculating the error for different age groups"
      ]
    },
    {
      "cell_type": "code",
      "metadata": {
        "id": "6XuNcv_jPv0P",
        "colab_type": "code",
        "colab": {}
      },
      "source": [
        "error_by_age  = pd.DataFrame()"
      ],
      "execution_count": 0,
      "outputs": []
    },
    {
      "cell_type": "code",
      "metadata": {
        "id": "rWnWgjKEPwLU",
        "colab_type": "code",
        "colab": {}
      },
      "source": [
        "kernel_error = (valid.groupby(['AGE'])['Kernel Error'].sum()/valid.groupby(['AGE'])['Kernel Error'].count()).reset_index()"
      ],
      "execution_count": 0,
      "outputs": []
    },
    {
      "cell_type": "code",
      "metadata": {
        "id": "IQ6jKeInPj7n",
        "colab_type": "code",
        "colab": {}
      },
      "source": [
        "poly_error = (valid.groupby(['AGE'])['Polynomial Error'].sum()/valid.groupby(['AGE'])['Polynomial Error'].count()).reset_index()"
      ],
      "execution_count": 0,
      "outputs": []
    },
    {
      "cell_type": "code",
      "metadata": {
        "id": "9YNurPl47xEs",
        "colab_type": "code",
        "colab": {}
      },
      "source": [
        "errors_by_age = pd.merge(kernel_error, poly_error, how = 'inner', on = 'AGE')"
      ],
      "execution_count": 0,
      "outputs": []
    },
    {
      "cell_type": "code",
      "metadata": {
        "id": "97JA-GAl7w7l",
        "colab_type": "code",
        "colab": {}
      },
      "source": [
        "errors_by_age.to_csv('/content/drive/My Drive/Objective01/errors_by_age_validation.csv',index=False)"
      ],
      "execution_count": 0,
      "outputs": []
    },
    {
      "cell_type": "code",
      "metadata": {
        "id": "Yi94zn4Z7wzz",
        "colab_type": "code",
        "colab": {
          "base_uri": "https://localhost:8080/",
          "height": 1000
        },
        "outputId": "6b29c8d6-bb67-467d-ab6c-62cff2aa313e"
      },
      "source": [
        "plt.figure(figsize=(20,20))\n",
        "plt.title(\"Average error by age for Polynomial Regression\", fontsize = 35)\n",
        "sns.barplot(errors_by_age.AGE, errors_by_age['Polynomial Error'])\n",
        "plt.xticks(fontsize=25, rotation='vertical')\n",
        "plt.yticks(fontsize=25)\n",
        "plt.xlabel('Ages',fontsize=20)\n",
        "plt.ylabel('Average Error', fontsize=30)\n",
        "plt.show()"
      ],
      "execution_count": 98,
      "outputs": [
        {
          "output_type": "display_data",
          "data": {
            "image/png": "[encoded data removed]",
            "text/plain": [
              "<Figure size 1440x1440 with 1 Axes>"
            ]
          },
          "metadata": {
            "tags": [],
            "needs_background": "light"
          }
        }
      ]
    },
    {
      "cell_type": "code",
      "metadata": {
        "id": "ahjPNCjM7wp3",
        "colab_type": "code",
        "colab": {
          "base_uri": "https://localhost:8080/",
          "height": 994
        },
        "outputId": "b88656c0-d526-415e-e17b-8a593280527d"
      },
      "source": [
        "plt.figure(figsize=(20,20))\n",
        "plt.title(\"Average error by age for Kernel Regression\", fontsize = 35)\n",
        "sns.barplot(errors_by_age.AGE, errors_by_age['Kernel Error'])\n",
        "plt.xticks(fontsize=25, rotation='vertical')\n",
        "plt.yticks(fontsize=25)\n",
        "plt.xlabel('Ages',fontsize=20)\n",
        "plt.ylabel('Average Error', fontsize=30)\n",
        "plt.show()"
      ],
      "execution_count": 99,
      "outputs": [
        {
          "output_type": "display_data",
          "data": {
            "image/png": "[encoded data removed]",
            "text/plain": [
              "<Figure size 1440x1440 with 1 Axes>"
            ]
          },
          "metadata": {
            "tags": [],
            "needs_background": "light"
          }
        }
      ]
    },
    {
      "cell_type": "markdown",
      "metadata": {
        "id": "BUCKqhvVRWUD",
        "colab_type": "text"
      },
      "source": [
        "# Why error is higher for  ages above 30"
      ]
    },
    {
      "cell_type": "code",
      "metadata": {
        "id": "XbEtl3CsRh9E",
        "colab_type": "code",
        "colab": {
          "base_uri": "https://localhost:8080/",
          "height": 295
        },
        "outputId": "479eba1d-1622-44ac-e6c3-0403cb62dd08"
      },
      "source": [
        "classes=final_df[['AGE']].values\n",
        "unique, counts = np.unique(classes, return_counts=True)\n",
        "plt.bar(unique,counts)\n",
        "plt.title('Class Frequency')\n",
        "plt.xlabel('Class')\n",
        "plt.ylabel('Frequency')\n",
        "plt.show()"
      ],
      "execution_count": 101,
      "outputs": [
        {
          "output_type": "display_data",
          "data": {
            "image/png": "[encoded data removed]",
            "text/plain": [
              "<Figure size 432x288 with 1 Axes>"
            ]
          },
          "metadata": {
            "tags": [],
            "needs_background": "light"
          }
        }
      ]
    },
    {
      "cell_type": "code",
      "metadata": {
        "id": "Hsok6qTmQMfU",
        "colab_type": "code",
        "colab": {
          "base_uri": "https://localhost:8080/",
          "height": 1000
        },
        "outputId": "c7c31f5c-2cd9-4e88-910a-a58859485987"
      },
      "source": [
        "errors_by_age"
      ],
      "execution_count": 100,
      "outputs": [
        {
          "output_type": "execute_result",
          "data": {
            "text/html": [
              "<div>\n",
              "<style scoped>\n",
              "    .dataframe tbody tr th:only-of-type {\n",
              "        vertical-align: middle;\n",
              "    }\n",
              "\n",
              "    .dataframe tbody tr th {\n",
              "        vertical-align: top;\n",
              "    }\n",
              "\n",
              "    .dataframe thead th {\n",
              "        text-align: right;\n",
              "    }\n",
              "</style>\n",
              "<table border=\"1\" class=\"dataframe\">\n",
              "  <thead>\n",
              "    <tr style=\"text-align: right;\">\n",
              "      <th></th>\n",
              "      <th>AGE</th>\n",
              "      <th>Kernel Error</th>\n",
              "      <th>Polynomial Error</th>\n",
              "    </tr>\n",
              "  </thead>\n",
              "  <tbody>\n",
              "    <tr>\n",
              "      <th>0</th>\n",
              "      <td>0</td>\n",
              "      <td>9.436822</td>\n",
              "      <td>11.172630</td>\n",
              "    </tr>\n",
              "    <tr>\n",
              "      <th>1</th>\n",
              "      <td>1</td>\n",
              "      <td>9.982546</td>\n",
              "      <td>10.936586</td>\n",
              "    </tr>\n",
              "    <tr>\n",
              "      <th>2</th>\n",
              "      <td>2</td>\n",
              "      <td>10.917162</td>\n",
              "      <td>11.352514</td>\n",
              "    </tr>\n",
              "    <tr>\n",
              "      <th>3</th>\n",
              "      <td>3</td>\n",
              "      <td>10.852491</td>\n",
              "      <td>11.456313</td>\n",
              "    </tr>\n",
              "    <tr>\n",
              "      <th>4</th>\n",
              "      <td>4</td>\n",
              "      <td>10.433735</td>\n",
              "      <td>10.616216</td>\n",
              "    </tr>\n",
              "    <tr>\n",
              "      <th>5</th>\n",
              "      <td>5</td>\n",
              "      <td>11.703382</td>\n",
              "      <td>11.836636</td>\n",
              "    </tr>\n",
              "    <tr>\n",
              "      <th>6</th>\n",
              "      <td>6</td>\n",
              "      <td>12.776663</td>\n",
              "      <td>12.823241</td>\n",
              "    </tr>\n",
              "    <tr>\n",
              "      <th>7</th>\n",
              "      <td>7</td>\n",
              "      <td>11.466327</td>\n",
              "      <td>11.519625</td>\n",
              "    </tr>\n",
              "    <tr>\n",
              "      <th>8</th>\n",
              "      <td>8</td>\n",
              "      <td>10.728369</td>\n",
              "      <td>10.984061</td>\n",
              "    </tr>\n",
              "    <tr>\n",
              "      <th>9</th>\n",
              "      <td>9</td>\n",
              "      <td>10.315623</td>\n",
              "      <td>10.129481</td>\n",
              "    </tr>\n",
              "    <tr>\n",
              "      <th>10</th>\n",
              "      <td>10</td>\n",
              "      <td>8.624725</td>\n",
              "      <td>8.184106</td>\n",
              "    </tr>\n",
              "    <tr>\n",
              "      <th>11</th>\n",
              "      <td>11</td>\n",
              "      <td>7.143026</td>\n",
              "      <td>7.835053</td>\n",
              "    </tr>\n",
              "    <tr>\n",
              "      <th>12</th>\n",
              "      <td>12</td>\n",
              "      <td>8.633346</td>\n",
              "      <td>7.989990</td>\n",
              "    </tr>\n",
              "    <tr>\n",
              "      <th>13</th>\n",
              "      <td>13</td>\n",
              "      <td>6.965353</td>\n",
              "      <td>6.211455</td>\n",
              "    </tr>\n",
              "    <tr>\n",
              "      <th>14</th>\n",
              "      <td>14</td>\n",
              "      <td>6.729357</td>\n",
              "      <td>6.033067</td>\n",
              "    </tr>\n",
              "    <tr>\n",
              "      <th>15</th>\n",
              "      <td>15</td>\n",
              "      <td>6.087555</td>\n",
              "      <td>8.202813</td>\n",
              "    </tr>\n",
              "    <tr>\n",
              "      <th>16</th>\n",
              "      <td>16</td>\n",
              "      <td>5.804754</td>\n",
              "      <td>6.133747</td>\n",
              "    </tr>\n",
              "    <tr>\n",
              "      <th>17</th>\n",
              "      <td>17</td>\n",
              "      <td>4.589263</td>\n",
              "      <td>3.847657</td>\n",
              "    </tr>\n",
              "    <tr>\n",
              "      <th>18</th>\n",
              "      <td>18</td>\n",
              "      <td>4.800531</td>\n",
              "      <td>6.826350</td>\n",
              "    </tr>\n",
              "    <tr>\n",
              "      <th>19</th>\n",
              "      <td>19</td>\n",
              "      <td>8.157126</td>\n",
              "      <td>8.613894</td>\n",
              "    </tr>\n",
              "    <tr>\n",
              "      <th>20</th>\n",
              "      <td>20</td>\n",
              "      <td>4.490473</td>\n",
              "      <td>4.665195</td>\n",
              "    </tr>\n",
              "    <tr>\n",
              "      <th>21</th>\n",
              "      <td>21</td>\n",
              "      <td>2.630574</td>\n",
              "      <td>2.487017</td>\n",
              "    </tr>\n",
              "    <tr>\n",
              "      <th>22</th>\n",
              "      <td>22</td>\n",
              "      <td>4.806064</td>\n",
              "      <td>4.990940</td>\n",
              "    </tr>\n",
              "    <tr>\n",
              "      <th>23</th>\n",
              "      <td>23</td>\n",
              "      <td>2.755204</td>\n",
              "      <td>3.513534</td>\n",
              "    </tr>\n",
              "    <tr>\n",
              "      <th>24</th>\n",
              "      <td>24</td>\n",
              "      <td>3.940717</td>\n",
              "      <td>5.523819</td>\n",
              "    </tr>\n",
              "    <tr>\n",
              "      <th>25</th>\n",
              "      <td>25</td>\n",
              "      <td>9.013569</td>\n",
              "      <td>7.996583</td>\n",
              "    </tr>\n",
              "    <tr>\n",
              "      <th>26</th>\n",
              "      <td>26</td>\n",
              "      <td>5.178092</td>\n",
              "      <td>6.009143</td>\n",
              "    </tr>\n",
              "    <tr>\n",
              "      <th>27</th>\n",
              "      <td>27</td>\n",
              "      <td>13.811097</td>\n",
              "      <td>12.914959</td>\n",
              "    </tr>\n",
              "    <tr>\n",
              "      <th>28</th>\n",
              "      <td>28</td>\n",
              "      <td>6.087524</td>\n",
              "      <td>5.486516</td>\n",
              "    </tr>\n",
              "    <tr>\n",
              "      <th>29</th>\n",
              "      <td>29</td>\n",
              "      <td>12.902085</td>\n",
              "      <td>14.143250</td>\n",
              "    </tr>\n",
              "    <tr>\n",
              "      <th>30</th>\n",
              "      <td>30</td>\n",
              "      <td>5.351694</td>\n",
              "      <td>5.906284</td>\n",
              "    </tr>\n",
              "    <tr>\n",
              "      <th>31</th>\n",
              "      <td>31</td>\n",
              "      <td>6.799836</td>\n",
              "      <td>7.553593</td>\n",
              "    </tr>\n",
              "    <tr>\n",
              "      <th>32</th>\n",
              "      <td>33</td>\n",
              "      <td>9.415791</td>\n",
              "      <td>10.255029</td>\n",
              "    </tr>\n",
              "    <tr>\n",
              "      <th>33</th>\n",
              "      <td>34</td>\n",
              "      <td>13.318608</td>\n",
              "      <td>14.508611</td>\n",
              "    </tr>\n",
              "    <tr>\n",
              "      <th>34</th>\n",
              "      <td>35</td>\n",
              "      <td>12.145524</td>\n",
              "      <td>11.896881</td>\n",
              "    </tr>\n",
              "    <tr>\n",
              "      <th>35</th>\n",
              "      <td>39</td>\n",
              "      <td>19.326805</td>\n",
              "      <td>20.473281</td>\n",
              "    </tr>\n",
              "    <tr>\n",
              "      <th>36</th>\n",
              "      <td>40</td>\n",
              "      <td>18.288343</td>\n",
              "      <td>20.230991</td>\n",
              "    </tr>\n",
              "    <tr>\n",
              "      <th>37</th>\n",
              "      <td>41</td>\n",
              "      <td>26.646059</td>\n",
              "      <td>26.886810</td>\n",
              "    </tr>\n",
              "    <tr>\n",
              "      <th>38</th>\n",
              "      <td>42</td>\n",
              "      <td>25.036531</td>\n",
              "      <td>25.657498</td>\n",
              "    </tr>\n",
              "    <tr>\n",
              "      <th>39</th>\n",
              "      <td>43</td>\n",
              "      <td>26.277344</td>\n",
              "      <td>27.310253</td>\n",
              "    </tr>\n",
              "    <tr>\n",
              "      <th>40</th>\n",
              "      <td>44</td>\n",
              "      <td>22.132881</td>\n",
              "      <td>23.537432</td>\n",
              "    </tr>\n",
              "    <tr>\n",
              "      <th>41</th>\n",
              "      <td>45</td>\n",
              "      <td>27.425905</td>\n",
              "      <td>28.701766</td>\n",
              "    </tr>\n",
              "  </tbody>\n",
              "</table>\n",
              "</div>"
            ],
            "text/plain": [
              "    AGE  Kernel Error  Polynomial Error\n",
              "0     0      9.436822         11.172630\n",
              "1     1      9.982546         10.936586\n",
              "2     2     10.917162         11.352514\n",
              "3     3     10.852491         11.456313\n",
              "4     4     10.433735         10.616216\n",
              "5     5     11.703382         11.836636\n",
              "6     6     12.776663         12.823241\n",
              "7     7     11.466327         11.519625\n",
              "8     8     10.728369         10.984061\n",
              "9     9     10.315623         10.129481\n",
              "10   10      8.624725          8.184106\n",
              "11   11      7.143026          7.835053\n",
              "12   12      8.633346          7.989990\n",
              "13   13      6.965353          6.211455\n",
              "14   14      6.729357          6.033067\n",
              "15   15      6.087555          8.202813\n",
              "16   16      5.804754          6.133747\n",
              "17   17      4.589263          3.847657\n",
              "18   18      4.800531          6.826350\n",
              "19   19      8.157126          8.613894\n",
              "20   20      4.490473          4.665195\n",
              "21   21      2.630574          2.487017\n",
              "22   22      4.806064          4.990940\n",
              "23   23      2.755204          3.513534\n",
              "24   24      3.940717          5.523819\n",
              "25   25      9.013569          7.996583\n",
              "26   26      5.178092          6.009143\n",
              "27   27     13.811097         12.914959\n",
              "28   28      6.087524          5.486516\n",
              "29   29     12.902085         14.143250\n",
              "30   30      5.351694          5.906284\n",
              "31   31      6.799836          7.553593\n",
              "32   33      9.415791         10.255029\n",
              "33   34     13.318608         14.508611\n",
              "34   35     12.145524         11.896881\n",
              "35   39     19.326805         20.473281\n",
              "36   40     18.288343         20.230991\n",
              "37   41     26.646059         26.886810\n",
              "38   42     25.036531         25.657498\n",
              "39   43     26.277344         27.310253\n",
              "40   44     22.132881         23.537432\n",
              "41   45     27.425905         28.701766"
            ]
          },
          "metadata": {
            "tags": []
          },
          "execution_count": 100
        }
      ]
    },
    {
      "cell_type": "code",
      "metadata": {
        "id": "cmb5vpryQMQn",
        "colab_type": "code",
        "colab": {}
      },
      "source": [
        ""
      ],
      "execution_count": 0,
      "outputs": []
    },
    {
      "cell_type": "code",
      "metadata": {
        "id": "rxMu5TSf-Xpq",
        "colab_type": "code",
        "colab": {
          "base_uri": "https://localhost:8080/",
          "height": 35
        },
        "outputId": "c36dff24-3e09-457d-8c85-2e09b7d6b5ca"
      },
      "source": [
        "from keras.models import Sequential\n",
        "\"\"\"Import from keras_preprocessing not from keras.preprocessing, \n",
        "because Keras may or maynot contain the features discussed here \n",
        "depending upon when you read this article, until the keras_\n",
        "preprocessed library is updated in Keras use the github version.\"\"\"\n",
        "from keras_preprocessing.image import ImageDataGenerator\n",
        "from keras.layers import Dense, Activation, Flatten, Dropout, BatchNormalization\n",
        "from keras.layers import Conv2D, MaxPooling2D\n",
        "from keras import regularizers, optimizers\n",
        "import pandas as pd\n",
        "import numpy as np\n",
        "import os ,PIL\n",
        "import matplotlib.pyplot as plt\n"
      ],
      "execution_count": 1,
      "outputs": [
        {
          "output_type": "stream",
          "text": [
            "Using TensorFlow backend.\n"
          ],
          "name": "stderr"
        }
      ]
    }
  ]
}