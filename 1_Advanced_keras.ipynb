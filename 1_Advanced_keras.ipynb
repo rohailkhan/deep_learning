{
  "nbformat": 4,
  "nbformat_minor": 0,
  "metadata": {
    "colab": {
      "name": "1 Advanced keras",
      "provenance": [],
      "authorship_tag": "ABX9TyO52x6sW+jY/m9W8uuwSyBv",
      "include_colab_link": true
    },
    "kernelspec": {
      "name": "python3",
      "display_name": "Python 3"
    }
  },
  "cells": [
    {
      "cell_type": "markdown",
      "metadata": {
        "id": "view-in-github",
        "colab_type": "text"
      },
      "source": [
        "<a href=\"https://colab.research.google.com/github/rohailkhan/deep_learning/blob/master/1_Advanced_keras.ipynb\" target=\"_parent\"><img src=\"https://colab.research.google.com/assets/colab-badge.svg\" alt=\"Open In Colab\"/></a>"
      ]
    },
    {
      "cell_type": "code",
      "metadata": {
        "id": "EjrzeW3WsnVD",
        "colab_type": "code",
        "colab": {
          "base_uri": "https://localhost:8080/",
          "height": 35
        },
        "outputId": "6d8b9240-a01a-4b07-ebc2-801ee7fd5d95"
      },
      "source": [
        "from keras.layers import Input"
      ],
      "execution_count": 2,
      "outputs": [
        {
          "output_type": "stream",
          "text": [
            "Using TensorFlow backend.\n"
          ],
          "name": "stderr"
        }
      ]
    },
    {
      "cell_type": "code",
      "metadata": {
        "id": "Ks5Y1Jxtzb_S",
        "colab_type": "code",
        "colab": {}
      },
      "source": [
        "from keras.optimizers import  Adam"
      ],
      "execution_count": 0,
      "outputs": []
    },
    {
      "cell_type": "code",
      "metadata": {
        "id": "0MrZvsNxuJsg",
        "colab_type": "code",
        "colab": {}
      },
      "source": [
        "input_tensor=Input(shape=(1,))"
      ],
      "execution_count": 0,
      "outputs": []
    },
    {
      "cell_type": "code",
      "metadata": {
        "id": "MIeV5zAnuTFV",
        "colab_type": "code",
        "colab": {}
      },
      "source": [
        "from keras.layers import Input,Dense\n",
        "input_layer=Input(shape=(1,))\n",
        "output_layer=Dense(1)\n",
        "#output_tensor=output_layer(input_tensor)"
      ],
      "execution_count": 0,
      "outputs": []
    },
    {
      "cell_type": "code",
      "metadata": {
        "id": "CA6Y8gqeuuuC",
        "colab_type": "code",
        "colab": {}
      },
      "source": [
        "output_tensor=Dense(1)(input_layer)\n",
        "from keras.models import Model\n",
        "model=Model(input_layer,output_tensor)"
      ],
      "execution_count": 0,
      "outputs": []
    },
    {
      "cell_type": "code",
      "metadata": {
        "id": "X0kmp2-hzNu-",
        "colab_type": "code",
        "colab": {}
      },
      "source": [
        "model.compile(optimizer='adam',loss='mean_absolute_error')"
      ],
      "execution_count": 0,
      "outputs": []
    },
    {
      "cell_type": "code",
      "metadata": {
        "id": "-na0VHqJz8oR",
        "colab_type": "code",
        "colab": {
          "base_uri": "https://localhost:8080/",
          "height": 239
        },
        "outputId": "5a4b976a-b3ef-419d-836b-a918a77aa191"
      },
      "source": [
        "model.summary()"
      ],
      "execution_count": 17,
      "outputs": [
        {
          "output_type": "stream",
          "text": [
            "Model: \"model_4\"\n",
            "_________________________________________________________________\n",
            "Layer (type)                 Output Shape              Param #   \n",
            "=================================================================\n",
            "input_5 (InputLayer)         (None, 1)                 0         \n",
            "_________________________________________________________________\n",
            "dense_10 (Dense)             (None, 1)                 2         \n",
            "=================================================================\n",
            "Total params: 2\n",
            "Trainable params: 2\n",
            "Non-trainable params: 0\n",
            "_________________________________________________________________\n"
          ],
          "name": "stdout"
        }
      ]
    },
    {
      "cell_type": "code",
      "metadata": {
        "id": "OXd-fLoWznY9",
        "colab_type": "code",
        "colab": {
          "base_uri": "https://localhost:8080/",
          "height": 269
        },
        "outputId": "54e27995-525b-429f-a7b7-62aa8a37443f"
      },
      "source": [
        "from keras.utils import plot_model\n",
        "import matplotlib.pyplot as plt\n",
        "plot_model(model=model,to_file='model1.png')\n",
        "data1=plt.imread('model1.png')\n",
        "plt.imshow(data1)\n",
        "plt.show()\n"
      ],
      "execution_count": 19,
      "outputs": [
        {
          "output_type": "display_data",
          "data": {
            "image/png": "[encoded data removed]",
            "text/plain": [
              "<Figure size 432x288 with 1 Axes>"
            ]
          },
          "metadata": {
            "tags": [],
            "needs_background": "light"
          }
        }
      ]
    },
    {
      "cell_type": "markdown",
      "metadata": {
        "id": "YkaFUsAT0eQT",
        "colab_type": "text"
      },
      "source": [
        "# New Section Fit the model to the tournament basketball data"
      ]
    },
    {
      "cell_type": "code",
      "metadata": {
        "id": "AoYvtQAy8MSC",
        "colab_type": "code",
        "colab": {
          "base_uri": "https://localhost:8080/",
          "height": 132
        },
        "outputId": "a7080321-d4c5-44df-b18f-3d2810d35ede"
      },
      "source": [
        "games_tourney=pd.read_csv('games_tourney.csv')\n",
        "games_tourney.head(2)"
      ],
      "execution_count": 39,
      "outputs": [
        {
          "output_type": "execute_result",
          "data": {
            "text/html": [
              "<div>\n",
              "<style scoped>\n",
              "    .dataframe tbody tr th:only-of-type {\n",
              "        vertical-align: middle;\n",
              "    }\n",
              "\n",
              "    .dataframe tbody tr th {\n",
              "        vertical-align: top;\n",
              "    }\n",
              "\n",
              "    .dataframe thead th {\n",
              "        text-align: right;\n",
              "    }\n",
              "</style>\n",
              "<table border=\"1\" class=\"dataframe\">\n",
              "  <thead>\n",
              "    <tr style=\"text-align: right;\">\n",
              "      <th></th>\n",
              "      <th>season</th>\n",
              "      <th>team_1</th>\n",
              "      <th>team_2</th>\n",
              "      <th>home</th>\n",
              "      <th>seed_diff</th>\n",
              "      <th>score_diff</th>\n",
              "      <th>score_1</th>\n",
              "      <th>score_2</th>\n",
              "      <th>won</th>\n",
              "    </tr>\n",
              "  </thead>\n",
              "  <tbody>\n",
              "    <tr>\n",
              "      <th>0</th>\n",
              "      <td>1985</td>\n",
              "      <td>288</td>\n",
              "      <td>73</td>\n",
              "      <td>0</td>\n",
              "      <td>-3</td>\n",
              "      <td>-9</td>\n",
              "      <td>41</td>\n",
              "      <td>50</td>\n",
              "      <td>0</td>\n",
              "    </tr>\n",
              "    <tr>\n",
              "      <th>1</th>\n",
              "      <td>1985</td>\n",
              "      <td>5929</td>\n",
              "      <td>73</td>\n",
              "      <td>0</td>\n",
              "      <td>4</td>\n",
              "      <td>6</td>\n",
              "      <td>61</td>\n",
              "      <td>55</td>\n",
              "      <td>1</td>\n",
              "    </tr>\n",
              "  </tbody>\n",
              "</table>\n",
              "</div>"
            ],
            "text/plain": [
              "   season  team_1  team_2  home  seed_diff  score_diff  score_1  score_2  won\n",
              "0    1985     288      73     0         -3          -9       41       50    0\n",
              "1    1985    5929      73     0          4           6       61       55    1"
            ]
          },
          "metadata": {
            "tags": []
          },
          "execution_count": 39
        }
      ]
    },
    {
      "cell_type": "code",
      "metadata": {
        "id": "CY1feOIdBAMd",
        "colab_type": "code",
        "colab": {
          "base_uri": "https://localhost:8080/",
          "height": 148
        },
        "outputId": "4d70e2b3-b85a-4baf-9873-4d6d927ff0b3"
      },
      "source": [
        "model.fit(x=games_tourney.seed_diff,y=games_tourney.score_diff ,epochs=2,batch_size=128,validation_split=0.1,verbose=True)"
      ],
      "execution_count": 37,
      "outputs": [
        {
          "output_type": "stream",
          "text": [
            "Train on 3810 samples, validate on 424 samples\n",
            "Epoch 1/2\n",
            "3810/3810 [==============================] - 0s 9us/step - loss: 11.3374 - val_loss: 11.0744\n",
            "Epoch 2/2\n",
            "3810/3810 [==============================] - 0s 8us/step - loss: 11.2294 - val_loss: 10.9644\n"
          ],
          "name": "stdout"
        },
        {
          "output_type": "execute_result",
          "data": {
            "text/plain": [
              "<keras.callbacks.callbacks.History at 0x7f1474e36c18>"
            ]
          },
          "metadata": {
            "tags": []
          },
          "execution_count": 37
        }
      ]
    },
    {
      "cell_type": "code",
      "metadata": {
        "id": "kK2zMBA3BqwU",
        "colab_type": "code",
        "colab": {
          "base_uri": "https://localhost:8080/",
          "height": 35
        },
        "outputId": "3b9e0d80-fba4-4622-86cf-4b43ad79e881"
      },
      "source": [
        "print(games_tourney[-804:].shape,games_tourney[:804].shape,games_tourney.shape)"
      ],
      "execution_count": 47,
      "outputs": [
        {
          "output_type": "stream",
          "text": [
            "(804, 9) (804, 9) (4234, 9)\n"
          ],
          "name": "stdout"
        }
      ]
    },
    {
      "cell_type": "code",
      "metadata": {
        "id": "y8_roMDVLeLw",
        "colab_type": "code",
        "colab": {
          "base_uri": "https://localhost:8080/",
          "height": 35
        },
        "outputId": "990f5cd0-8cdf-4c36-b529-f8310af912ec"
      },
      "source": [
        "# split test in 804 and the remaining for training\n",
        "games_tourney_train=games_tourney[:-804]\n",
        "games_tourney_test=games_tourney[:804]\n",
        "print(games_tourney_train.shape,games_tourney_test.shape)"
      ],
      "execution_count": 55,
      "outputs": [
        {
          "output_type": "stream",
          "text": [
            "(3430, 9) (804, 9)\n"
          ],
          "name": "stdout"
        }
      ]
    },
    {
      "cell_type": "code",
      "metadata": {
        "id": "-oIEYpmzN55d",
        "colab_type": "code",
        "colab": {}
      },
      "source": [
        "history=model.fit(games_tourney_train.seed_diff,games_tourney_train.score_diff,epochs=10,batch_size=128\n",
        "    ,validation_split=0.1,verbose=True)"
      ],
      "execution_count": 0,
      "outputs": []
    },
    {
      "cell_type": "code",
      "metadata": {
        "id": "iCzJoTlcOd3a",
        "colab_type": "code",
        "colab": {
          "base_uri": "https://localhost:8080/",
          "height": 54
        },
        "outputId": "8c97662d-489d-4139-ea41-9a3a1d212b3c"
      },
      "source": [
        "model.evaluate(games_tourney_test.seed_diff,games_tourney_test.score_diff)"
      ],
      "execution_count": 70,
      "outputs": [
        {
          "output_type": "stream",
          "text": [
            "804/804 [==============================] - 0s 27us/step\n"
          ],
          "name": "stdout"
        },
        {
          "output_type": "execute_result",
          "data": {
            "text/plain": [
              "9.35733977360512"
            ]
          },
          "metadata": {
            "tags": []
          },
          "execution_count": 70
        }
      ]
    },
    {
      "cell_type": "code",
      "metadata": {
        "id": "7bJuEm7WOzfW",
        "colab_type": "code",
        "colab": {
          "base_uri": "https://localhost:8080/",
          "height": 54
        },
        "outputId": "a5b01f91-369a-4d99-fa01-40cdae2d8130"
      },
      "source": [
        "history_dict=history.history\n",
        "for i in history_dict.keys():\n",
        "  print(i)"
      ],
      "execution_count": 68,
      "outputs": [
        {
          "output_type": "stream",
          "text": [
            "val_loss\n",
            "loss\n"
          ],
          "name": "stdout"
        }
      ]
    },
    {
      "cell_type": "markdown",
      "metadata": {
        "id": "IFn-tZ5BQRO6",
        "colab_type": "text"
      },
      "source": [
        "# Define team lookup\n",
        "\n",
        "Shared layers allow a model to use the same weight matrix for multiple steps. In this exercise, you will build a \"team strength\" layer that represents each team by a single number. You will use this number for both teams in the model. The model will learn a number for each team that works well both when the team is team_1 and when the team is team_2 in the input data.\n",
        "\n",
        "The games_season DataFrame is available"
      ]
    },
    {
      "cell_type": "code",
      "metadata": {
        "id": "lEWt3NUCPewT",
        "colab_type": "code",
        "colab": {
          "base_uri": "https://localhost:8080/",
          "height": 112
        },
        "outputId": "c9e4bbc8-ef2b-4b96-e0ce-437b5166598b"
      },
      "source": [
        "games_season=pd.read_csv('games_season.csv')\n",
        "games_season.head(2)"
      ],
      "execution_count": 117,
      "outputs": [
        {
          "output_type": "execute_result",
          "data": {
            "text/html": [
              "<div>\n",
              "<style scoped>\n",
              "    .dataframe tbody tr th:only-of-type {\n",
              "        vertical-align: middle;\n",
              "    }\n",
              "\n",
              "    .dataframe tbody tr th {\n",
              "        vertical-align: top;\n",
              "    }\n",
              "\n",
              "    .dataframe thead th {\n",
              "        text-align: right;\n",
              "    }\n",
              "</style>\n",
              "<table border=\"1\" class=\"dataframe\">\n",
              "  <thead>\n",
              "    <tr style=\"text-align: right;\">\n",
              "      <th></th>\n",
              "      <th>season</th>\n",
              "      <th>team_1</th>\n",
              "      <th>team_2</th>\n",
              "      <th>home</th>\n",
              "      <th>score_diff</th>\n",
              "      <th>score_1</th>\n",
              "      <th>score_2</th>\n",
              "      <th>won</th>\n",
              "    </tr>\n",
              "  </thead>\n",
              "  <tbody>\n",
              "    <tr>\n",
              "      <th>0</th>\n",
              "      <td>1985</td>\n",
              "      <td>3745</td>\n",
              "      <td>6664</td>\n",
              "      <td>0</td>\n",
              "      <td>17</td>\n",
              "      <td>81</td>\n",
              "      <td>64</td>\n",
              "      <td>1</td>\n",
              "    </tr>\n",
              "    <tr>\n",
              "      <th>1</th>\n",
              "      <td>1985</td>\n",
              "      <td>126</td>\n",
              "      <td>7493</td>\n",
              "      <td>1</td>\n",
              "      <td>7</td>\n",
              "      <td>77</td>\n",
              "      <td>70</td>\n",
              "      <td>1</td>\n",
              "    </tr>\n",
              "  </tbody>\n",
              "</table>\n",
              "</div>"
            ],
            "text/plain": [
              "   season  team_1  team_2  home  score_diff  score_1  score_2  won\n",
              "0    1985    3745    6664     0          17       81       64    1\n",
              "1    1985     126    7493     1           7       77       70    1"
            ]
          },
          "metadata": {
            "tags": []
          },
          "execution_count": 117
        }
      ]
    },
    {
      "cell_type": "code",
      "metadata": {
        "id": "VdXPG32FQv3z",
        "colab_type": "code",
        "colab": {
          "base_uri": "https://localhost:8080/",
          "height": 35
        },
        "outputId": "f7b865b7-df2e-42b6-b339-068cba072797"
      },
      "source": [
        "#no of unique teams\n",
        "import numpy as np\n",
        "n_teams=np.unique(games_season.team_1).shape[0]\n",
        "n_teams"
      ],
      "execution_count": 118,
      "outputs": [
        {
          "output_type": "execute_result",
          "data": {
            "text/plain": [
              "10888"
            ]
          },
          "metadata": {
            "tags": []
          },
          "execution_count": 118
        }
      ]
    },
    {
      "cell_type": "code",
      "metadata": {
        "id": "YmL3c_XaXsAN",
        "colab_type": "code",
        "colab": {}
      },
      "source": [
        "# Make embedding layer\n",
        "from keras.layers import Embedding\n",
        "team_lookup=Embedding(input_dim=n_teams,output_dim=1,input_length=1,name='Team-Strength')\n"
      ],
      "execution_count": 0,
      "outputs": []
    },
    {
      "cell_type": "code",
      "metadata": {
        "id": "sDBolwKCYVVC",
        "colab_type": "code",
        "colab": {}
      },
      "source": [
        "from keras.layers import Input, Embedding, Flatten\n",
        "from keras.models import Model\n",
        "teamid_input_tensor=Input(shape=(1,))\n",
        "strength_lookup=team_lookup(teamid_input_tensor)\n",
        "strength_lookup_flat=Flatten()(strength_lookup)"
      ],
      "execution_count": 0,
      "outputs": []
    },
    {
      "cell_type": "code",
      "metadata": {
        "id": "zIwCe2B3Y7Rj",
        "colab_type": "code",
        "colab": {}
      },
      "source": [
        "# combine this in a re usable model  re usable model  re usable model\n",
        "team_strength_model=Model(teamid_input_tensor,strength_lookup_flat,name='Team-Strength-Model')"
      ],
      "execution_count": 0,
      "outputs": []
    },
    {
      "cell_type": "code",
      "metadata": {
        "id": "4aLdakY4ZTzy",
        "colab_type": "code",
        "colab": {
          "base_uri": "https://localhost:8080/",
          "height": 269
        },
        "outputId": "b42a2a84-2f6d-4262-95a9-bfcba0f1385f"
      },
      "source": [
        "from keras.utils import plot_model\n",
        "import matplotlib.pyplot as plt\n",
        "plot_model(model=team_strength_model,to_file='model2.png')\n",
        "data1=plt.imread('model2.png')\n",
        "plt.imshow(data1)\n",
        "plt.show()"
      ],
      "execution_count": 122,
      "outputs": [
        {
          "output_type": "display_data",
          "data": {
            "image/png": "[encoded data removed]",
            "text/plain": [
              "<Figure size 432x288 with 1 Axes>"
            ]
          },
          "metadata": {
            "tags": [],
            "needs_background": "light"
          }
        }
      ]
    },
    {
      "cell_type": "markdown",
      "metadata": {
        "id": "fQ3JGVnEZntl",
        "colab_type": "text"
      },
      "source": [
        "# Shared layers"
      ]
    },
    {
      "cell_type": "code",
      "metadata": {
        "id": "z97l62HGZlBb",
        "colab_type": "code",
        "colab": {}
      },
      "source": [
        "# Make embedding layer\n",
        "from keras.layers import Input, Embedding, Flatten\n",
        "from keras.models import Model\n",
        "team_lookup=Embedding(input_dim=n_teams,output_dim=1,input_length=1,name='Team-Strength')\n",
        "\n",
        "\n",
        "teamid_input_tensor=Input(shape=(1,))\n",
        "strength_lookup=team_lookup(teamid_input_tensor)\n",
        "strength_lookup_flat=Flatten()(strength_lookup)\n",
        "\n",
        "# combine this in a re usable model  re usable model  re usable model\n",
        "team_strength_model=Model(teamid_input_tensor,strength_lookup_flat,name='Team-Strength-Model')\n"
      ],
      "execution_count": 0,
      "outputs": []
    },
    {
      "cell_type": "code",
      "metadata": {
        "id": "NznkzrPas9vz",
        "colab_type": "code",
        "colab": {
          "base_uri": "https://localhost:8080/",
          "height": 269
        },
        "outputId": "b05e684b-25f7-46e0-c52c-d1a59fab3946"
      },
      "source": [
        "from keras.utils import plot_model\n",
        "import matplotlib.pyplot as plt\n",
        "plot_model(model=team_strength_model,to_file='model2.png')\n",
        "data1=plt.imread('model2.png')\n",
        "plt.imshow(data1)\n",
        "plt.show()"
      ],
      "execution_count": 124,
      "outputs": [
        {
          "output_type": "display_data",
          "data": {
            "image/png": "[encoded data removed]",
            "text/plain": [
              "<Figure size 432x288 with 1 Axes>"
            ]
          },
          "metadata": {
            "tags": [],
            "needs_background": "light"
          }
        }
      ]
    },
    {
      "cell_type": "markdown",
      "metadata": {
        "id": "WBom6KhdDGvQ",
        "colab_type": "text"
      },
      "source": [
        "# Shared layers..starts..and then merge(+ x or -) them"
      ]
    },
    {
      "cell_type": "code",
      "metadata": {
        "id": "IQv3IunODFLL",
        "colab_type": "code",
        "colab": {}
      },
      "source": [
        "# Shared layers\n",
        "# Load the input layer from keras.layers\n",
        "from keras.layers import Input\n",
        "\n",
        "# Input layer for team 1\n",
        "team_in_1 = Input(shape=(1,),name=\"Team-1-In\")\n",
        "# Separate input layer for team 2\n",
        "team_in_2 = Input(shape=(1,),name=\"Team-2-In\")\n",
        "\n",
        "# Lookup team 1 in the team strength model\n",
        "team_1_strength = team_strength_model(team_in_1)\n",
        "# Lookup team 2 in the team strength model\n",
        "team_2_strength = team_strength_model(team_in_2)"
      ],
      "execution_count": 0,
      "outputs": []
    },
    {
      "cell_type": "code",
      "metadata": {
        "id": "m8IoPE1dDhK3",
        "colab_type": "code",
        "colab": {
          "base_uri": "https://localhost:8080/",
          "height": 269
        },
        "outputId": "3afd3d32-a403-4b56-8498-d21bf6160a7a"
      },
      "source": [
        "from keras.utils import plot_model\n",
        "import matplotlib.pyplot as plt\n",
        "plot_model(model=team_strength_model,to_file='model3.png')\n",
        "data1=plt.imread('model3.png')\n",
        "plt.imshow(data1)\n",
        "plt.show()"
      ],
      "execution_count": 126,
      "outputs": [
        {
          "output_type": "display_data",
          "data": {
            "image/png": "[encoded data removed]",
            "text/plain": [
              "<Figure size 432x288 with 1 Axes>"
            ]
          },
          "metadata": {
            "tags": [],
            "needs_background": "light"
          }
        }
      ]
    },
    {
      "cell_type": "code",
      "metadata": {
        "id": "GM40V5-pD332",
        "colab_type": "code",
        "colab": {}
      },
      "source": [
        "# Import the Subtract layer from keras\n",
        "from keras.layers import Subtract\n",
        "\n",
        "# Create a subtract layer using the inputs from the # previous exercise\n",
        "score_diff = Subtract()([team_1_strength, team_2_strength])"
      ],
      "execution_count": 0,
      "outputs": []
    },
    {
      "cell_type": "code",
      "metadata": {
        "id": "3VcDk76DEAiX",
        "colab_type": "code",
        "colab": {}
      },
      "source": [
        "# Create the model\n",
        "model = Model([team_in_1, team_in_2], score_diff)"
      ],
      "execution_count": 0,
      "outputs": []
    },
    {
      "cell_type": "code",
      "metadata": {
        "id": "qC1uO687E0K-",
        "colab_type": "code",
        "colab": {
          "base_uri": "https://localhost:8080/",
          "height": 251
        },
        "outputId": "42869eae-e251-452e-e6da-482446f3da59"
      },
      "source": [
        "from keras.utils import plot_model\n",
        "import matplotlib.pyplot as plt\n",
        "plot_model(model=model,to_file='model4.png')\n",
        "data1=plt.imread('model4.png')\n",
        "plt.imshow(data1)\n",
        "plt.show()"
      ],
      "execution_count": 129,
      "outputs": [
        {
          "output_type": "display_data",
          "data": {
            "image/png": "[encoded data removed]",
            "text/plain": [
              "<Figure size 432x288 with 1 Axes>"
            ]
          },
          "metadata": {
            "tags": [],
            "needs_background": "light"
          }
        }
      ]
    },
    {
      "cell_type": "code",
      "metadata": {
        "id": "TKEbegbwFDvJ",
        "colab_type": "code",
        "colab": {}
      },
      "source": [
        "# Compile the model\n",
        "model.compile('adam', 'mean_absolute_error')"
      ],
      "execution_count": 0,
      "outputs": []
    },
    {
      "cell_type": "markdown",
      "metadata": {
        "id": "UOJgHENOGNer",
        "colab_type": "text"
      },
      "source": [
        "# New Section.Fit the data\n",
        "# So far only dimensions have been used to make a model.Now we use the input data i.e Team1 and Team2 ids and the single out put i.e score_diff"
      ]
    },
    {
      "cell_type": "code",
      "metadata": {
        "id": "p-ihy7KxGd9m",
        "colab_type": "code",
        "colab": {
          "base_uri": "https://localhost:8080/",
          "height": 112
        },
        "outputId": "236c8a1d-1226-463d-c2e9-85d20e123d60"
      },
      "source": [
        "games_season.head(2)"
      ],
      "execution_count": 131,
      "outputs": [
        {
          "output_type": "execute_result",
          "data": {
            "text/html": [
              "<div>\n",
              "<style scoped>\n",
              "    .dataframe tbody tr th:only-of-type {\n",
              "        vertical-align: middle;\n",
              "    }\n",
              "\n",
              "    .dataframe tbody tr th {\n",
              "        vertical-align: top;\n",
              "    }\n",
              "\n",
              "    .dataframe thead th {\n",
              "        text-align: right;\n",
              "    }\n",
              "</style>\n",
              "<table border=\"1\" class=\"dataframe\">\n",
              "  <thead>\n",
              "    <tr style=\"text-align: right;\">\n",
              "      <th></th>\n",
              "      <th>season</th>\n",
              "      <th>team_1</th>\n",
              "      <th>team_2</th>\n",
              "      <th>home</th>\n",
              "      <th>score_diff</th>\n",
              "      <th>score_1</th>\n",
              "      <th>score_2</th>\n",
              "      <th>won</th>\n",
              "    </tr>\n",
              "  </thead>\n",
              "  <tbody>\n",
              "    <tr>\n",
              "      <th>0</th>\n",
              "      <td>1985</td>\n",
              "      <td>3745</td>\n",
              "      <td>6664</td>\n",
              "      <td>0</td>\n",
              "      <td>17</td>\n",
              "      <td>81</td>\n",
              "      <td>64</td>\n",
              "      <td>1</td>\n",
              "    </tr>\n",
              "    <tr>\n",
              "      <th>1</th>\n",
              "      <td>1985</td>\n",
              "      <td>126</td>\n",
              "      <td>7493</td>\n",
              "      <td>1</td>\n",
              "      <td>7</td>\n",
              "      <td>77</td>\n",
              "      <td>70</td>\n",
              "      <td>1</td>\n",
              "    </tr>\n",
              "  </tbody>\n",
              "</table>\n",
              "</div>"
            ],
            "text/plain": [
              "   season  team_1  team_2  home  score_diff  score_1  score_2  won\n",
              "0    1985    3745    6664     0          17       81       64    1\n",
              "1    1985     126    7493     1           7       77       70    1"
            ]
          },
          "metadata": {
            "tags": []
          },
          "execution_count": 131
        }
      ]
    },
    {
      "cell_type": "code",
      "metadata": {
        "id": "DryjqdZmGjk6",
        "colab_type": "code",
        "colab": {
          "base_uri": "https://localhost:8080/",
          "height": 185
        },
        "outputId": "f76533df-394b-422d-f10c-38cd1f83f109"
      },
      "source": [
        "input_1=games_season['team_1']\n",
        "input_2=games_season['team_2']\n",
        "# now fit the model\n",
        "model.fit([input_1,input_2],games_season['score_diff']  ,epochs=2,batch_size=2048,validation_split=0.1,verbose=True)"
      ],
      "execution_count": 132,
      "outputs": [
        {
          "output_type": "stream",
          "text": [
            "/usr/local/lib/python3.6/dist-packages/tensorflow/python/framework/indexed_slices.py:434: UserWarning: Converting sparse IndexedSlices to a dense Tensor of unknown shape. This may consume a large amount of memory.\n",
            "  \"Converting sparse IndexedSlices to a dense Tensor of unknown shape. \"\n"
          ],
          "name": "stderr"
        },
        {
          "output_type": "stream",
          "text": [
            "Train on 280960 samples, validate on 31218 samples\n",
            "Epoch 1/2\n",
            "280960/280960 [==============================] - 0s 1us/step - loss: 12.1206 - val_loss: 11.8385\n",
            "Epoch 2/2\n",
            "280960/280960 [==============================] - 0s 1us/step - loss: 12.0971 - val_loss: 11.8212\n"
          ],
          "name": "stdout"
        },
        {
          "output_type": "execute_result",
          "data": {
            "text/plain": [
              "<keras.callbacks.callbacks.History at 0x7f1473de2208>"
            ]
          },
          "metadata": {
            "tags": []
          },
          "execution_count": 132
        }
      ]
    },
    {
      "cell_type": "markdown",
      "metadata": {
        "id": "ysgRYC-mJq9a",
        "colab_type": "text"
      },
      "source": [
        "# We fit the data on the for the whole games data.Very interestingly we can now evaluate the results for the tournament data using the same model (trained on the all game data)"
      ]
    },
    {
      "cell_type": "code",
      "metadata": {
        "id": "R6-UjJXfH-Cz",
        "colab_type": "code",
        "colab": {
          "base_uri": "https://localhost:8080/",
          "height": 35
        },
        "outputId": "2e924126-3480-459c-fe73-774997875776"
      },
      "source": [
        "input_1=games_tourney['team_1']\n",
        "input_2=games_tourney['team_2']\n",
        "\n",
        "model.evaluate([input_1,input_2],games_tourney['score_diff'],verbose=False)"
      ],
      "execution_count": 136,
      "outputs": [
        {
          "output_type": "execute_result",
          "data": {
            "text/plain": [
              "11.673165336666548"
            ]
          },
          "metadata": {
            "tags": []
          },
          "execution_count": 136
        }
      ]
    }
  ]
}