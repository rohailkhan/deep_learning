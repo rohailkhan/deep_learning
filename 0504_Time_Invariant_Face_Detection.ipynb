{
  "nbformat": 4,
  "nbformat_minor": 0,
  "metadata": {
    "colab": {
      "name": "0504 Time Invariant Face Detection",
      "provenance": [],
      "mount_file_id": "1yXqqGtxAfLDrouXOYXknredXlIciu7uj",
      "authorship_tag": "ABX9TyORmerqCMpO9hxOkRiehbFc",
      "include_colab_link": true
    },
    "kernelspec": {
      "name": "python3",
      "display_name": "Python 3"
    },
    "accelerator": "GPU"
  },
  "cells": [
    {
      "cell_type": "markdown",
      "metadata": {
        "id": "view-in-github",
        "colab_type": "text"
      },
      "source": [
        "<a href=\"https://colab.research.google.com/github/rohailkhan/deep_learning/blob/master/0504_Time_Invariant_Face_Detection.ipynb\" target=\"_parent\"><img src=\"https://colab.research.google.com/assets/colab-badge.svg\" alt=\"Open In Colab\"/></a>"
      ]
    },
    {
      "cell_type": "markdown",
      "metadata": {
        "id": "aW4nDlMkpnlf",
        "colab_type": "text"
      },
      "source": [
        "# بسم الله الرحمن الرحيم\n",
        "اللهم صل على محمد وعلى آل محمد كما صليت على إبراهيم وعلى آل إبراهيم إنك حميد مجيد، اللهم بارك على محمد وعلى آل محمد كما باركت على إبراهيم وعلى آل إبراهيم إنك حميد مجيد\n",
        "\n",
        "\n"
      ]
    },
    {
      "cell_type": "code",
      "metadata": {
        "id": "du-dJUcO8PlQ",
        "colab_type": "code",
        "colab": {
          "base_uri": "https://localhost:8080/",
          "height": 35
        },
        "outputId": "b502f6ad-a35d-40e3-a44f-78e8bd13c7e6"
      },
      "source": [
        "from keras.models import Sequential\n",
        "\"\"\"Import from keras_preprocessing not from keras.preprocessing, \n",
        "because Keras may or maynot contain the features discussed here \n",
        "depending upon when you read this article, until the keras_\n",
        "preprocessed library is updated in Keras use the github version.\"\"\"\n",
        "from keras_preprocessing.image import ImageDataGenerator\n",
        "from keras.layers import Dense, Activation, Flatten, Dropout, BatchNormalization\n",
        "from keras.layers import Conv2D, MaxPooling2D\n",
        "from keras import regularizers, optimizers\n",
        "import pandas as pd\n",
        "import numpy as np"
      ],
      "execution_count": 2,
      "outputs": [
        {
          "output_type": "stream",
          "text": [
            "Using TensorFlow backend.\n"
          ],
          "name": "stderr"
        }
      ]
    },
    {
      "cell_type": "code",
      "metadata": {
        "id": "qfHyEghPl6J2",
        "colab_type": "code",
        "colab": {}
      },
      "source": [
        "import os ,PIL"
      ],
      "execution_count": 0,
      "outputs": []
    },
    {
      "cell_type": "markdown",
      "metadata": {
        "id": "LxFsd2SNpj2v",
        "colab_type": "text"
      },
      "source": [
        "Convert Images to black and white"
      ]
    },
    {
      "cell_type": "code",
      "metadata": {
        "id": "nRTsnKEEozJG",
        "colab_type": "code",
        "colab": {}
      },
      "source": [
        "'''\n",
        "source='E:\\\\Time-Invariant-Aging-Model-master\\\\fgsmallbw'\n",
        "list=os.listdir(source)\n",
        "for i in list:\n",
        "    PIL.Image.open(i).convert('L').save(i)"
      ],
      "execution_count": 0,
      "outputs": []
    },
    {
      "cell_type": "code",
      "metadata": {
        "id": "UHuttFu4sM0H",
        "colab_type": "code",
        "colab": {}
      },
      "source": [
        "#making the current working directory\n",
        "os.chdir('/content/drive/My Drive/Aging model')"
      ],
      "execution_count": 0,
      "outputs": []
    },
    {
      "cell_type": "code",
      "metadata": {
        "id": "7fgJZycIuiNr",
        "colab_type": "code",
        "colab": {}
      },
      "source": [
        "source='/content/drive/My Drive/Aging model/'"
      ],
      "execution_count": 0,
      "outputs": []
    },
    {
      "cell_type": "code",
      "metadata": {
        "id": "RwWbvls9CsAZ",
        "colab_type": "code",
        "colab": {}
      },
      "source": [
        "os.chdir(source)"
      ],
      "execution_count": 0,
      "outputs": []
    },
    {
      "cell_type": "code",
      "metadata": {
        "id": "Nc4lH9pRu2u6",
        "colab_type": "code",
        "colab": {}
      },
      "source": [
        "# Put all files into a single dataframe\n",
        "list_dir = [i for i in os.listdir('datafiles')]"
      ],
      "execution_count": 0,
      "outputs": []
    },
    {
      "cell_type": "code",
      "metadata": {
        "id": "hDcBwkZZCgux",
        "colab_type": "code",
        "colab": {}
      },
      "source": [
        "# Put all files into a single dataframe\n",
        "list_dir = [i for i in os.listdir('datafiles')]\n",
        "final_df = pd.DataFrame(columns=['ID','Facial Index','Mandibular Index','Intercantal Index','Orbital Width Index','Eye Fissure Index','Vermilion Height Index','Mouth Face Width Index','AGE'])\n",
        "interim_df = pd.DataFrame(columns=['ID','Facial Index','Mandibular Index','Intercantal Index','Orbital Width Index','Eye Fissure Index','Vermilion Height Index','Mouth Face Width Index','AGE'])\n",
        "age_list=list()\n",
        "for d in list_dir:\n",
        "    interim_df.at[0,  ['Facial Index','Mandibular Index','Intercantal Index','Orbital Width Index','Eye Fissure Index','Vermilion Height Index','Mouth Face Width Index']] = pd.read_csv('datafiles/'+d, sep=\" \", header=None).values[0][:7]\n",
        "    interim_df['AGE'] = int(d[4:].replace('.txt','').replace('a','').replace('b',''))\n",
        "    interim_df['ID'] = int(d[:3])\n",
        "    final_df = pd.concat([final_df,interim_df])\n",
        "    \n",
        "# sort values by age of same person\n",
        "final_df = final_df.sort_values(['ID','AGE'],ascending=True)"
      ],
      "execution_count": 0,
      "outputs": []
    },
    {
      "cell_type": "code",
      "metadata": {
        "id": "lDCtLDA0u5C_",
        "colab_type": "code",
        "colab": {}
      },
      "source": [
        ""
      ],
      "execution_count": 0,
      "outputs": []
    },
    {
      "cell_type": "markdown",
      "metadata": {
        "id": "2qlob-zJPP2o",
        "colab_type": "text"
      },
      "source": [
        "Saving in CSV"
      ]
    },
    {
      "cell_type": "code",
      "metadata": {
        "id": "J4z0HNjQK8ux",
        "colab_type": "code",
        "colab": {}
      },
      "source": [
        "image_names=[]\n",
        "for i in os.listdir('/content/drive/My Drive/Aging model/fgbw'):\n",
        "  image_names.append(i)"
      ],
      "execution_count": 0,
      "outputs": []
    },
    {
      "cell_type": "code",
      "metadata": {
        "id": "np7ZGahObdYS",
        "colab_type": "code",
        "colab": {}
      },
      "source": [
        "image_names=sorted(image_names)"
      ],
      "execution_count": 0,
      "outputs": []
    },
    {
      "cell_type": "code",
      "metadata": {
        "id": "gVC8ksvqb5hb",
        "colab_type": "code",
        "colab": {}
      },
      "source": [
        "final_df['file_name']=image_names"
      ],
      "execution_count": 0,
      "outputs": []
    },
    {
      "cell_type": "code",
      "metadata": {
        "id": "g2izVuv0MDnZ",
        "colab_type": "code",
        "colab": {}
      },
      "source": [
        "final_df.to_csv('final_df.csv')"
      ],
      "execution_count": 0,
      "outputs": []
    },
    {
      "cell_type": "markdown",
      "metadata": {
        "id": "c4GovP91J50_",
        "colab_type": "text"
      },
      "source": [
        "# Splitting data in training and validation(test) sets"
      ]
    },
    {
      "cell_type": "code",
      "metadata": {
        "id": "A2c-MmD9H3NX",
        "colab_type": "code",
        "colab": {}
      },
      "source": [
        "final_df=pd.read_csv('/content/drive/My Drive/Aging model/final_df.csv')"
      ],
      "execution_count": 0,
      "outputs": []
    },
    {
      "cell_type": "code",
      "metadata": {
        "id": "0gKDU8mdMHg6",
        "colab_type": "code",
        "colab": {
          "base_uri": "https://localhost:8080/",
          "height": 35
        },
        "outputId": "3da261d7-2b77-4227-eb27-7c9102d9e2cc"
      },
      "source": [
        "final_df.shape"
      ],
      "execution_count": 5,
      "outputs": [
        {
          "output_type": "execute_result",
          "data": {
            "text/plain": [
              "(1002, 11)"
            ]
          },
          "metadata": {
            "tags": []
          },
          "execution_count": 5
        }
      ]
    },
    {
      "cell_type": "code",
      "metadata": {
        "id": "1B5m-G9vJ3kp",
        "colab_type": "code",
        "colab": {}
      },
      "source": [
        "train_size = len(final_df['ID'].unique()) * .6"
      ],
      "execution_count": 0,
      "outputs": []
    },
    {
      "cell_type": "code",
      "metadata": {
        "id": "cPZQazQYqhfM",
        "colab_type": "code",
        "colab": {}
      },
      "source": [
        "train = pd.DataFrame()\n",
        "valid = pd.DataFrame()\n",
        "for n,i in enumerate(final_df['ID'].unique()):\n",
        "    if n< train_size:\n",
        "        train = pd.concat([train, final_df[final_df['ID']==i]])\n",
        "    else:\n",
        "        valid = pd.concat([valid, final_df[final_df['ID']==i]])"
      ],
      "execution_count": 0,
      "outputs": []
    },
    {
      "cell_type": "code",
      "metadata": {
        "id": "69OV3JYIKPGJ",
        "colab_type": "code",
        "colab": {
          "base_uri": "https://localhost:8080/",
          "height": 53
        },
        "outputId": "d7870f9d-4325-453f-f42f-1723ff0b1416"
      },
      "source": [
        "print('Training Set Has: ' + str(len(train.groupby('ID').count())) + ' people')\n",
        "print('Validation (Test) Set Has: ' + str(len(valid.groupby('ID').count())) + ' people')"
      ],
      "execution_count": 49,
      "outputs": [
        {
          "output_type": "stream",
          "text": [
            "Training Set Has: 58 people\n",
            "Validation (Test) Set Has: 24 people\n"
          ],
          "name": "stdout"
        }
      ]
    },
    {
      "cell_type": "code",
      "metadata": {
        "id": "F8WQgpYAKfRY",
        "colab_type": "code",
        "colab": {}
      },
      "source": [
        "X_train = train[  ['file_name','Facial Index','Mandibular Index','Intercantal Index','Orbital Width Index','Eye Fissure Index','Vermilion Height Index','Mouth Face Width Index']]\n",
        "y_train = train[['AGE']]\n",
        "\n",
        "X_valid = valid[  ['file_name','Facial Index','Mandibular Index','Intercantal Index','Orbital Width Index','Eye Fissure Index','Vermilion Height Index','Mouth Face Width Index']]\n",
        "y_valid = valid[['AGE']]"
      ],
      "execution_count": 0,
      "outputs": []
    },
    {
      "cell_type": "code",
      "metadata": {
        "id": "IXAHM-4PM1vB",
        "colab_type": "code",
        "colab": {
          "base_uri": "https://localhost:8080/",
          "height": 90
        },
        "outputId": "9342fbcd-5083-4c82-a4a0-239c930bb65b"
      },
      "source": [
        "X_train.columns"
      ],
      "execution_count": 51,
      "outputs": [
        {
          "output_type": "execute_result",
          "data": {
            "text/plain": [
              "Index(['file_name', 'Facial Index', 'Mandibular Index', 'Intercantal Index',\n",
              "       'Orbital Width Index', 'Eye Fissure Index', 'Vermilion Height Index',\n",
              "       'Mouth Face Width Index'],\n",
              "      dtype='object')"
            ]
          },
          "metadata": {
            "tags": []
          },
          "execution_count": 51
        }
      ]
    },
    {
      "cell_type": "code",
      "metadata": {
        "id": "9fFriU0gOxR2",
        "colab_type": "code",
        "colab": {}
      },
      "source": [
        ""
      ],
      "execution_count": 0,
      "outputs": []
    },
    {
      "cell_type": "markdown",
      "metadata": {
        "id": "7rHclXtQOyrV",
        "colab_type": "text"
      },
      "source": [
        "# Pre proocssing X_train & Validation\n",
        "## keeping only file names in X_train and X_validation"
      ]
    },
    {
      "cell_type": "code",
      "metadata": {
        "id": "WL2Fk3JFO-3_",
        "colab_type": "code",
        "colab": {
          "base_uri": "https://localhost:8080/",
          "height": 128
        },
        "outputId": "ae3f008b-c147-4d3d-9715-99f45750d4a6"
      },
      "source": [
        "X_train.drop(X_train.columns[[1,2,3,4,5,6,7]], axis = 1, inplace = True) "
      ],
      "execution_count": 55,
      "outputs": [
        {
          "output_type": "stream",
          "text": [
            "/usr/local/lib/python3.6/dist-packages/pandas/core/frame.py:3997: SettingWithCopyWarning: \n",
            "A value is trying to be set on a copy of a slice from a DataFrame\n",
            "\n",
            "See the caveats in the documentation: https://pandas.pydata.org/pandas-docs/stable/user_guide/indexing.html#returning-a-view-versus-a-copy\n",
            "  errors=errors,\n"
          ],
          "name": "stderr"
        }
      ]
    },
    {
      "cell_type": "code",
      "metadata": {
        "id": "BcZLxg7LQ26G",
        "colab_type": "code",
        "colab": {
          "base_uri": "https://localhost:8080/",
          "height": 35
        },
        "outputId": "d12976b0-1ff6-42e9-ffbc-f9f97ed088a4"
      },
      "source": [
        "X_train.columns"
      ],
      "execution_count": 13,
      "outputs": [
        {
          "output_type": "execute_result",
          "data": {
            "text/plain": [
              "Index(['file_name'], dtype='object')"
            ]
          },
          "metadata": {
            "tags": []
          },
          "execution_count": 13
        }
      ]
    },
    {
      "cell_type": "code",
      "metadata": {
        "id": "8TINzX71Q9JO",
        "colab_type": "code",
        "colab": {
          "base_uri": "https://localhost:8080/",
          "height": 128
        },
        "outputId": "e29ac2dc-911a-42d8-cbf0-14b487db1cd1"
      },
      "source": [
        "X_valid.drop(X_valid.columns[[1,2,3,4,5,6,7]], axis = 1, inplace = True) "
      ],
      "execution_count": 56,
      "outputs": [
        {
          "output_type": "stream",
          "text": [
            "/usr/local/lib/python3.6/dist-packages/pandas/core/frame.py:3997: SettingWithCopyWarning: \n",
            "A value is trying to be set on a copy of a slice from a DataFrame\n",
            "\n",
            "See the caveats in the documentation: https://pandas.pydata.org/pandas-docs/stable/user_guide/indexing.html#returning-a-view-versus-a-copy\n",
            "  errors=errors,\n"
          ],
          "name": "stderr"
        }
      ]
    },
    {
      "cell_type": "markdown",
      "metadata": {
        "id": "SyTZq2TrRdm5",
        "colab_type": "text"
      },
      "source": [
        "# Pre processing y_train & Validation\n",
        "## Using one hot encoding"
      ]
    },
    {
      "cell_type": "code",
      "metadata": {
        "id": "-Bcqf6vJRDzR",
        "colab_type": "code",
        "colab": {
          "base_uri": "https://localhost:8080/",
          "height": 146
        },
        "outputId": "cf2b33e6-e37b-4c3b-d4fe-0ce692add4d5"
      },
      "source": [
        "y_train['AGE']=pd.Categorical(y_train['AGE'])"
      ],
      "execution_count": 57,
      "outputs": [
        {
          "output_type": "stream",
          "text": [
            "/usr/local/lib/python3.6/dist-packages/ipykernel_launcher.py:1: SettingWithCopyWarning: \n",
            "A value is trying to be set on a copy of a slice from a DataFrame.\n",
            "Try using .loc[row_indexer,col_indexer] = value instead\n",
            "\n",
            "See the caveats in the documentation: https://pandas.pydata.org/pandas-docs/stable/user_guide/indexing.html#returning-a-view-versus-a-copy\n",
            "  \"\"\"Entry point for launching an IPython kernel.\n"
          ],
          "name": "stderr"
        }
      ]
    },
    {
      "cell_type": "code",
      "metadata": {
        "id": "ovTiSKvSR48E",
        "colab_type": "code",
        "colab": {
          "base_uri": "https://localhost:8080/",
          "height": 35
        },
        "outputId": "089c1f4b-6dc0-4661-b395-03d80b6f08c0"
      },
      "source": [
        "dfdummies=pd.get_dummies(y_train['AGE'],prefix='AGE')\n",
        "y_train=pd.concat([y_train,dfdummies],axis=1)\n",
        "y_train.shape"
      ],
      "execution_count": 58,
      "outputs": [
        {
          "output_type": "execute_result",
          "data": {
            "text/plain": [
              "(701, 64)"
            ]
          },
          "metadata": {
            "tags": []
          },
          "execution_count": 58
        }
      ]
    },
    {
      "cell_type": "code",
      "metadata": {
        "id": "eb-qays-SK1Q",
        "colab_type": "code",
        "colab": {}
      },
      "source": [
        "y_train.to_csv('/content/drive/My Drive/y_train.csv')"
      ],
      "execution_count": 0,
      "outputs": []
    },
    {
      "cell_type": "code",
      "metadata": {
        "id": "CFBzJhhZS4hB",
        "colab_type": "code",
        "colab": {}
      },
      "source": [
        "dfdummies=pd.get_dummies(y_valid['AGE'],prefix='AGE')\n",
        "y_valid=pd.concat([y_valid,dfdummies],axis=1)\n"
      ],
      "execution_count": 0,
      "outputs": []
    },
    {
      "cell_type": "code",
      "metadata": {
        "id": "ERxcVakSUSGm",
        "colab_type": "code",
        "colab": {}
      },
      "source": [
        "y_valid.drop(y_valid.columns[[0]], axis = 1, inplace = True)\n",
        "y_train.drop(y_train.columns[[0]], axis = 1, inplace = True)"
      ],
      "execution_count": 0,
      "outputs": []
    },
    {
      "cell_type": "code",
      "metadata": {
        "id": "SCXPC3c_KjhY",
        "colab_type": "code",
        "colab": {
          "base_uri": "https://localhost:8080/",
          "height": 235
        },
        "outputId": "65cf89c0-018b-4890-f5e0-1570d075c84c"
      },
      "source": [
        "y_train.dtypes"
      ],
      "execution_count": 20,
      "outputs": [
        {
          "output_type": "execute_result",
          "data": {
            "text/plain": [
              "AGE_0     uint8\n",
              "AGE_1     uint8\n",
              "AGE_2     uint8\n",
              "AGE_3     uint8\n",
              "AGE_4     uint8\n",
              "          ...  \n",
              "AGE_61    uint8\n",
              "AGE_62    uint8\n",
              "AGE_63    uint8\n",
              "AGE_67    uint8\n",
              "AGE_69    uint8\n",
              "Length: 63, dtype: object"
            ]
          },
          "metadata": {
            "tags": []
          },
          "execution_count": 20
        }
      ]
    },
    {
      "cell_type": "code",
      "metadata": {
        "id": "Dnvt-yucTE4-",
        "colab_type": "code",
        "colab": {
          "base_uri": "https://localhost:8080/",
          "height": 35
        },
        "outputId": "1a558e72-d8df-4c5c-809b-d8e147a60319"
      },
      "source": [
        "print(X_train.shape,y_train.shape,X_valid.shape,y_valid.shape)"
      ],
      "execution_count": 62,
      "outputs": [
        {
          "output_type": "stream",
          "text": [
            "(701, 1) (701, 63) (301, 1) (301, 47)\n"
          ],
          "name": "stdout"
        }
      ]
    },
    {
      "cell_type": "markdown",
      "metadata": {
        "id": "tQlmP1y0Liya",
        "colab_type": "text"
      },
      "source": [
        "# Saving "
      ]
    },
    {
      "cell_type": "code",
      "metadata": {
        "id": "OIIw9HgxLhpX",
        "colab_type": "code",
        "colab": {}
      },
      "source": [
        "X_train.to_csv('/content/drive/My Drive/Aging model/X_train.csv')\n",
        "y_train.to_csv('/content/drive/My Drive/Aging model/y_train.csv')\n",
        "X_valid.to_csv('/content/drive/My Drive/Aging model/X_valid.csv')\n",
        "y_valid.to_csv('/content/drive/My Drive/Aging model/y_valid.csv')"
      ],
      "execution_count": 0,
      "outputs": []
    },
    {
      "cell_type": "markdown",
      "metadata": {
        "id": "LcXSxW8gThhP",
        "colab_type": "text"
      },
      "source": [
        ""
      ]
    },
    {
      "cell_type": "code",
      "metadata": {
        "id": "OYMoJQjrTyM4",
        "colab_type": "code",
        "colab": {}
      },
      "source": [
        "datagen=ImageDataGenerator(rescale=1./255.)\n",
        "valid_datagen=ImageDataGenerator(rescale=1./255.)"
      ],
      "execution_count": 0,
      "outputs": []
    },
    {
      "cell_type": "code",
      "metadata": {
        "id": "OhGEGcX8UGK8",
        "colab_type": "code",
        "colab": {
          "base_uri": "https://localhost:8080/",
          "height": 35
        },
        "outputId": "b9673847-3077-4415-aa39-f482825c62ce"
      },
      "source": [
        "columns=y_train.columns\n",
        "len(columns)"
      ],
      "execution_count": 59,
      "outputs": [
        {
          "output_type": "execute_result",
          "data": {
            "text/plain": [
              "63"
            ]
          },
          "metadata": {
            "tags": []
          },
          "execution_count": 59
        }
      ]
    },
    {
      "cell_type": "code",
      "metadata": {
        "id": "sraxzNddVhV_",
        "colab_type": "code",
        "colab": {}
      },
      "source": [
        "X_train.to_csv('/content/drive/My Drive/X_train.csv')"
      ],
      "execution_count": 0,
      "outputs": []
    },
    {
      "cell_type": "code",
      "metadata": {
        "id": "aEGTAY16mT84",
        "colab_type": "code",
        "colab": {
          "base_uri": "https://localhost:8080/",
          "height": 226
        },
        "outputId": "5097edb2-dac0-42d8-fed4-be589b795366"
      },
      "source": [
        "y_train.head()"
      ],
      "execution_count": 186,
      "outputs": [
        {
          "output_type": "execute_result",
          "data": {
            "text/html": [
              "<div>\n",
              "<style scoped>\n",
              "    .dataframe tbody tr th:only-of-type {\n",
              "        vertical-align: middle;\n",
              "    }\n",
              "\n",
              "    .dataframe tbody tr th {\n",
              "        vertical-align: top;\n",
              "    }\n",
              "\n",
              "    .dataframe thead th {\n",
              "        text-align: right;\n",
              "    }\n",
              "</style>\n",
              "<table border=\"1\" class=\"dataframe\">\n",
              "  <thead>\n",
              "    <tr style=\"text-align: right;\">\n",
              "      <th></th>\n",
              "      <th>file_name</th>\n",
              "      <th>AGE_0</th>\n",
              "      <th>AGE_1</th>\n",
              "      <th>AGE_2</th>\n",
              "      <th>AGE_3</th>\n",
              "      <th>AGE_4</th>\n",
              "      <th>AGE_5</th>\n",
              "      <th>AGE_6</th>\n",
              "      <th>AGE_7</th>\n",
              "      <th>AGE_8</th>\n",
              "      <th>AGE_9</th>\n",
              "      <th>AGE_10</th>\n",
              "      <th>AGE_11</th>\n",
              "      <th>AGE_12</th>\n",
              "      <th>AGE_13</th>\n",
              "      <th>AGE_14</th>\n",
              "      <th>AGE_15</th>\n",
              "      <th>AGE_16</th>\n",
              "      <th>AGE_17</th>\n",
              "      <th>AGE_18</th>\n",
              "      <th>AGE_19</th>\n",
              "      <th>AGE_20</th>\n",
              "      <th>AGE_21</th>\n",
              "      <th>AGE_22</th>\n",
              "      <th>AGE_23</th>\n",
              "      <th>AGE_24</th>\n",
              "      <th>AGE_25</th>\n",
              "      <th>AGE_26</th>\n",
              "      <th>AGE_27</th>\n",
              "      <th>AGE_28</th>\n",
              "      <th>AGE_29</th>\n",
              "      <th>AGE_30</th>\n",
              "      <th>AGE_31</th>\n",
              "      <th>AGE_32</th>\n",
              "      <th>AGE_33</th>\n",
              "      <th>AGE_34</th>\n",
              "      <th>AGE_35</th>\n",
              "      <th>AGE_36</th>\n",
              "      <th>AGE_37</th>\n",
              "      <th>AGE_38</th>\n",
              "      <th>AGE_39</th>\n",
              "      <th>AGE_40</th>\n",
              "      <th>AGE_41</th>\n",
              "      <th>AGE_42</th>\n",
              "      <th>AGE_43</th>\n",
              "      <th>AGE_44</th>\n",
              "      <th>AGE_45</th>\n",
              "      <th>AGE_46</th>\n",
              "      <th>AGE_47</th>\n",
              "      <th>AGE_48</th>\n",
              "      <th>AGE_49</th>\n",
              "      <th>AGE_50</th>\n",
              "      <th>AGE_51</th>\n",
              "      <th>AGE_52</th>\n",
              "      <th>AGE_53</th>\n",
              "      <th>AGE_54</th>\n",
              "      <th>AGE_55</th>\n",
              "      <th>AGE_58</th>\n",
              "      <th>AGE_60</th>\n",
              "      <th>AGE_61</th>\n",
              "      <th>AGE_62</th>\n",
              "      <th>AGE_63</th>\n",
              "      <th>AGE_67</th>\n",
              "      <th>AGE_69</th>\n",
              "    </tr>\n",
              "  </thead>\n",
              "  <tbody>\n",
              "    <tr>\n",
              "      <th>0</th>\n",
              "      <td>001A02.JPG</td>\n",
              "      <td>0</td>\n",
              "      <td>0</td>\n",
              "      <td>1</td>\n",
              "      <td>0</td>\n",
              "      <td>0</td>\n",
              "      <td>0</td>\n",
              "      <td>0</td>\n",
              "      <td>0</td>\n",
              "      <td>0</td>\n",
              "      <td>0</td>\n",
              "      <td>0</td>\n",
              "      <td>0</td>\n",
              "      <td>0</td>\n",
              "      <td>0</td>\n",
              "      <td>0</td>\n",
              "      <td>0</td>\n",
              "      <td>0</td>\n",
              "      <td>0</td>\n",
              "      <td>0</td>\n",
              "      <td>0</td>\n",
              "      <td>0</td>\n",
              "      <td>0</td>\n",
              "      <td>0</td>\n",
              "      <td>0</td>\n",
              "      <td>0</td>\n",
              "      <td>0</td>\n",
              "      <td>0</td>\n",
              "      <td>0</td>\n",
              "      <td>0</td>\n",
              "      <td>0</td>\n",
              "      <td>0</td>\n",
              "      <td>0</td>\n",
              "      <td>0</td>\n",
              "      <td>0</td>\n",
              "      <td>0</td>\n",
              "      <td>0</td>\n",
              "      <td>0</td>\n",
              "      <td>0</td>\n",
              "      <td>0</td>\n",
              "      <td>0</td>\n",
              "      <td>0</td>\n",
              "      <td>0</td>\n",
              "      <td>0</td>\n",
              "      <td>0</td>\n",
              "      <td>0</td>\n",
              "      <td>0</td>\n",
              "      <td>0</td>\n",
              "      <td>0</td>\n",
              "      <td>0</td>\n",
              "      <td>0</td>\n",
              "      <td>0</td>\n",
              "      <td>0</td>\n",
              "      <td>0</td>\n",
              "      <td>0</td>\n",
              "      <td>0</td>\n",
              "      <td>0</td>\n",
              "      <td>0</td>\n",
              "      <td>0</td>\n",
              "      <td>0</td>\n",
              "      <td>0</td>\n",
              "      <td>0</td>\n",
              "      <td>0</td>\n",
              "      <td>0</td>\n",
              "    </tr>\n",
              "    <tr>\n",
              "      <th>1</th>\n",
              "      <td>001A05.JPG</td>\n",
              "      <td>0</td>\n",
              "      <td>0</td>\n",
              "      <td>0</td>\n",
              "      <td>0</td>\n",
              "      <td>0</td>\n",
              "      <td>1</td>\n",
              "      <td>0</td>\n",
              "      <td>0</td>\n",
              "      <td>0</td>\n",
              "      <td>0</td>\n",
              "      <td>0</td>\n",
              "      <td>0</td>\n",
              "      <td>0</td>\n",
              "      <td>0</td>\n",
              "      <td>0</td>\n",
              "      <td>0</td>\n",
              "      <td>0</td>\n",
              "      <td>0</td>\n",
              "      <td>0</td>\n",
              "      <td>0</td>\n",
              "      <td>0</td>\n",
              "      <td>0</td>\n",
              "      <td>0</td>\n",
              "      <td>0</td>\n",
              "      <td>0</td>\n",
              "      <td>0</td>\n",
              "      <td>0</td>\n",
              "      <td>0</td>\n",
              "      <td>0</td>\n",
              "      <td>0</td>\n",
              "      <td>0</td>\n",
              "      <td>0</td>\n",
              "      <td>0</td>\n",
              "      <td>0</td>\n",
              "      <td>0</td>\n",
              "      <td>0</td>\n",
              "      <td>0</td>\n",
              "      <td>0</td>\n",
              "      <td>0</td>\n",
              "      <td>0</td>\n",
              "      <td>0</td>\n",
              "      <td>0</td>\n",
              "      <td>0</td>\n",
              "      <td>0</td>\n",
              "      <td>0</td>\n",
              "      <td>0</td>\n",
              "      <td>0</td>\n",
              "      <td>0</td>\n",
              "      <td>0</td>\n",
              "      <td>0</td>\n",
              "      <td>0</td>\n",
              "      <td>0</td>\n",
              "      <td>0</td>\n",
              "      <td>0</td>\n",
              "      <td>0</td>\n",
              "      <td>0</td>\n",
              "      <td>0</td>\n",
              "      <td>0</td>\n",
              "      <td>0</td>\n",
              "      <td>0</td>\n",
              "      <td>0</td>\n",
              "      <td>0</td>\n",
              "      <td>0</td>\n",
              "    </tr>\n",
              "    <tr>\n",
              "      <th>2</th>\n",
              "      <td>001A08.JPG</td>\n",
              "      <td>0</td>\n",
              "      <td>0</td>\n",
              "      <td>0</td>\n",
              "      <td>0</td>\n",
              "      <td>0</td>\n",
              "      <td>0</td>\n",
              "      <td>0</td>\n",
              "      <td>0</td>\n",
              "      <td>1</td>\n",
              "      <td>0</td>\n",
              "      <td>0</td>\n",
              "      <td>0</td>\n",
              "      <td>0</td>\n",
              "      <td>0</td>\n",
              "      <td>0</td>\n",
              "      <td>0</td>\n",
              "      <td>0</td>\n",
              "      <td>0</td>\n",
              "      <td>0</td>\n",
              "      <td>0</td>\n",
              "      <td>0</td>\n",
              "      <td>0</td>\n",
              "      <td>0</td>\n",
              "      <td>0</td>\n",
              "      <td>0</td>\n",
              "      <td>0</td>\n",
              "      <td>0</td>\n",
              "      <td>0</td>\n",
              "      <td>0</td>\n",
              "      <td>0</td>\n",
              "      <td>0</td>\n",
              "      <td>0</td>\n",
              "      <td>0</td>\n",
              "      <td>0</td>\n",
              "      <td>0</td>\n",
              "      <td>0</td>\n",
              "      <td>0</td>\n",
              "      <td>0</td>\n",
              "      <td>0</td>\n",
              "      <td>0</td>\n",
              "      <td>0</td>\n",
              "      <td>0</td>\n",
              "      <td>0</td>\n",
              "      <td>0</td>\n",
              "      <td>0</td>\n",
              "      <td>0</td>\n",
              "      <td>0</td>\n",
              "      <td>0</td>\n",
              "      <td>0</td>\n",
              "      <td>0</td>\n",
              "      <td>0</td>\n",
              "      <td>0</td>\n",
              "      <td>0</td>\n",
              "      <td>0</td>\n",
              "      <td>0</td>\n",
              "      <td>0</td>\n",
              "      <td>0</td>\n",
              "      <td>0</td>\n",
              "      <td>0</td>\n",
              "      <td>0</td>\n",
              "      <td>0</td>\n",
              "      <td>0</td>\n",
              "      <td>0</td>\n",
              "    </tr>\n",
              "    <tr>\n",
              "      <th>3</th>\n",
              "      <td>001A10.JPG</td>\n",
              "      <td>0</td>\n",
              "      <td>0</td>\n",
              "      <td>0</td>\n",
              "      <td>0</td>\n",
              "      <td>0</td>\n",
              "      <td>0</td>\n",
              "      <td>0</td>\n",
              "      <td>0</td>\n",
              "      <td>0</td>\n",
              "      <td>0</td>\n",
              "      <td>1</td>\n",
              "      <td>0</td>\n",
              "      <td>0</td>\n",
              "      <td>0</td>\n",
              "      <td>0</td>\n",
              "      <td>0</td>\n",
              "      <td>0</td>\n",
              "      <td>0</td>\n",
              "      <td>0</td>\n",
              "      <td>0</td>\n",
              "      <td>0</td>\n",
              "      <td>0</td>\n",
              "      <td>0</td>\n",
              "      <td>0</td>\n",
              "      <td>0</td>\n",
              "      <td>0</td>\n",
              "      <td>0</td>\n",
              "      <td>0</td>\n",
              "      <td>0</td>\n",
              "      <td>0</td>\n",
              "      <td>0</td>\n",
              "      <td>0</td>\n",
              "      <td>0</td>\n",
              "      <td>0</td>\n",
              "      <td>0</td>\n",
              "      <td>0</td>\n",
              "      <td>0</td>\n",
              "      <td>0</td>\n",
              "      <td>0</td>\n",
              "      <td>0</td>\n",
              "      <td>0</td>\n",
              "      <td>0</td>\n",
              "      <td>0</td>\n",
              "      <td>0</td>\n",
              "      <td>0</td>\n",
              "      <td>0</td>\n",
              "      <td>0</td>\n",
              "      <td>0</td>\n",
              "      <td>0</td>\n",
              "      <td>0</td>\n",
              "      <td>0</td>\n",
              "      <td>0</td>\n",
              "      <td>0</td>\n",
              "      <td>0</td>\n",
              "      <td>0</td>\n",
              "      <td>0</td>\n",
              "      <td>0</td>\n",
              "      <td>0</td>\n",
              "      <td>0</td>\n",
              "      <td>0</td>\n",
              "      <td>0</td>\n",
              "      <td>0</td>\n",
              "      <td>0</td>\n",
              "    </tr>\n",
              "    <tr>\n",
              "      <th>4</th>\n",
              "      <td>001A14.JPG</td>\n",
              "      <td>0</td>\n",
              "      <td>0</td>\n",
              "      <td>0</td>\n",
              "      <td>0</td>\n",
              "      <td>0</td>\n",
              "      <td>0</td>\n",
              "      <td>0</td>\n",
              "      <td>0</td>\n",
              "      <td>0</td>\n",
              "      <td>0</td>\n",
              "      <td>0</td>\n",
              "      <td>0</td>\n",
              "      <td>0</td>\n",
              "      <td>0</td>\n",
              "      <td>1</td>\n",
              "      <td>0</td>\n",
              "      <td>0</td>\n",
              "      <td>0</td>\n",
              "      <td>0</td>\n",
              "      <td>0</td>\n",
              "      <td>0</td>\n",
              "      <td>0</td>\n",
              "      <td>0</td>\n",
              "      <td>0</td>\n",
              "      <td>0</td>\n",
              "      <td>0</td>\n",
              "      <td>0</td>\n",
              "      <td>0</td>\n",
              "      <td>0</td>\n",
              "      <td>0</td>\n",
              "      <td>0</td>\n",
              "      <td>0</td>\n",
              "      <td>0</td>\n",
              "      <td>0</td>\n",
              "      <td>0</td>\n",
              "      <td>0</td>\n",
              "      <td>0</td>\n",
              "      <td>0</td>\n",
              "      <td>0</td>\n",
              "      <td>0</td>\n",
              "      <td>0</td>\n",
              "      <td>0</td>\n",
              "      <td>0</td>\n",
              "      <td>0</td>\n",
              "      <td>0</td>\n",
              "      <td>0</td>\n",
              "      <td>0</td>\n",
              "      <td>0</td>\n",
              "      <td>0</td>\n",
              "      <td>0</td>\n",
              "      <td>0</td>\n",
              "      <td>0</td>\n",
              "      <td>0</td>\n",
              "      <td>0</td>\n",
              "      <td>0</td>\n",
              "      <td>0</td>\n",
              "      <td>0</td>\n",
              "      <td>0</td>\n",
              "      <td>0</td>\n",
              "      <td>0</td>\n",
              "      <td>0</td>\n",
              "      <td>0</td>\n",
              "      <td>0</td>\n",
              "    </tr>\n",
              "  </tbody>\n",
              "</table>\n",
              "</div>"
            ],
            "text/plain": [
              "    file_name  AGE_0  AGE_1  AGE_2  ...  AGE_62  AGE_63  AGE_67  AGE_69\n",
              "0  001A02.JPG      0      0      1  ...       0       0       0       0\n",
              "1  001A05.JPG      0      0      0  ...       0       0       0       0\n",
              "2  001A08.JPG      0      0      0  ...       0       0       0       0\n",
              "3  001A10.JPG      0      0      0  ...       0       0       0       0\n",
              "4  001A14.JPG      0      0      0  ...       0       0       0       0\n",
              "\n",
              "[5 rows x 64 columns]"
            ]
          },
          "metadata": {
            "tags": []
          },
          "execution_count": 186
        }
      ]
    },
    {
      "cell_type": "code",
      "metadata": {
        "id": "BqkrziYwfRFg",
        "colab_type": "code",
        "colab": {}
      },
      "source": [
        "X=pd.concat([X_train, y_train])"
      ],
      "execution_count": 0,
      "outputs": []
    },
    {
      "cell_type": "code",
      "metadata": {
        "id": "0r46FfOqemnh",
        "colab_type": "code",
        "colab": {
          "base_uri": "https://localhost:8080/",
          "height": 219
        },
        "outputId": "33a99a18-090a-4c38-bd16-c0d1dd7ed2da"
      },
      "source": [
        "y_train.columns"
      ],
      "execution_count": 33,
      "outputs": [
        {
          "output_type": "execute_result",
          "data": {
            "text/plain": [
              "Index(['AGE_0', 'AGE_1', 'AGE_2', 'AGE_3', 'AGE_4', 'AGE_5', 'AGE_6', 'AGE_7',\n",
              "       'AGE_8', 'AGE_9', 'AGE_10', 'AGE_11', 'AGE_12', 'AGE_13', 'AGE_14',\n",
              "       'AGE_15', 'AGE_16', 'AGE_17', 'AGE_18', 'AGE_19', 'AGE_20', 'AGE_21',\n",
              "       'AGE_22', 'AGE_23', 'AGE_24', 'AGE_25', 'AGE_26', 'AGE_27', 'AGE_28',\n",
              "       'AGE_29', 'AGE_30', 'AGE_31', 'AGE_32', 'AGE_33', 'AGE_34', 'AGE_35',\n",
              "       'AGE_36', 'AGE_37', 'AGE_38', 'AGE_39', 'AGE_40', 'AGE_41', 'AGE_42',\n",
              "       'AGE_43', 'AGE_44', 'AGE_45', 'AGE_46', 'AGE_47', 'AGE_48', 'AGE_49',\n",
              "       'AGE_50', 'AGE_51', 'AGE_52', 'AGE_53', 'AGE_54', 'AGE_55', 'AGE_58',\n",
              "       'AGE_60', 'AGE_61', 'AGE_62', 'AGE_63', 'AGE_67', 'AGE_69'],\n",
              "      dtype='object')"
            ]
          },
          "metadata": {
            "tags": []
          },
          "execution_count": 33
        }
      ]
    },
    {
      "cell_type": "code",
      "metadata": {
        "id": "GNqFChNLYR1E",
        "colab_type": "code",
        "colab": {
          "base_uri": "https://localhost:8080/",
          "height": 183
        },
        "outputId": "6b02adc0-454a-4a66-8c6c-55736410d969"
      },
      "source": [
        "y_valid.columns"
      ],
      "execution_count": 34,
      "outputs": [
        {
          "output_type": "execute_result",
          "data": {
            "text/plain": [
              "Index(['AGE_0', 'AGE_1', 'AGE_2', 'AGE_3', 'AGE_4', 'AGE_5', 'AGE_6', 'AGE_7',\n",
              "       'AGE_8', 'AGE_9', 'AGE_10', 'AGE_11', 'AGE_12', 'AGE_13', 'AGE_14',\n",
              "       'AGE_15', 'AGE_16', 'AGE_17', 'AGE_18', 'AGE_19', 'AGE_20', 'AGE_21',\n",
              "       'AGE_22', 'AGE_23', 'AGE_24', 'AGE_25', 'AGE_26', 'AGE_27', 'AGE_28',\n",
              "       'AGE_29', 'AGE_30', 'AGE_31', 'AGE_32', 'AGE_33', 'AGE_34', 'AGE_35',\n",
              "       'AGE_38', 'AGE_39', 'AGE_40', 'AGE_41', 'AGE_42', 'AGE_43', 'AGE_44',\n",
              "       'AGE_45', 'AGE_47', 'AGE_53', 'AGE_54'],\n",
              "      dtype='object')"
            ]
          },
          "metadata": {
            "tags": []
          },
          "execution_count": 34
        }
      ]
    },
    {
      "cell_type": "code",
      "metadata": {
        "id": "7sarWMAGaSjD",
        "colab_type": "code",
        "colab": {
          "base_uri": "https://localhost:8080/",
          "height": 35
        },
        "outputId": "d1673f08-c034-4f53-8b7f-627885d2767f"
      },
      "source": [
        "print(X_train.shape,X_valid.shape,y_train.shape,y_valid.shape)"
      ],
      "execution_count": 36,
      "outputs": [
        {
          "output_type": "stream",
          "text": [
            "(701, 1) (301, 1) (701, 63) (301, 47)\n"
          ],
          "name": "stdout"
        }
      ]
    },
    {
      "cell_type": "code",
      "metadata": {
        "id": "vZ4EHlXwLAes",
        "colab_type": "code",
        "colab": {
          "base_uri": "https://localhost:8080/",
          "height": 35
        },
        "outputId": "889f7413-ca89-4e5e-ffda-dc5d167480c2"
      },
      "source": [
        "X_train.columns"
      ],
      "execution_count": 22,
      "outputs": [
        {
          "output_type": "execute_result",
          "data": {
            "text/plain": [
              "Index(['file_name'], dtype='object')"
            ]
          },
          "metadata": {
            "tags": []
          },
          "execution_count": 22
        }
      ]
    },
    {
      "cell_type": "code",
      "metadata": {
        "id": "awM-snByK03_",
        "colab_type": "code",
        "colab": {
          "base_uri": "https://localhost:8080/",
          "height": 35
        },
        "outputId": "bf061492-ab36-402b-8ca2-b9c2cef38234"
      },
      "source": [
        "train_generator=datagen.flow_from_dataframe(\n",
        "dataframe=X_train,\n",
        "directory=\"/content/drive/My Drive/Aging model/fg\",\n",
        "x_col='file_name',\n",
        "y_col=y_train.columns,\n",
        "batch_size=32,\n",
        "seed=42,\n",
        "shuffle=False,class_mode='input',\n",
        "target_size=(100,100))"
      ],
      "execution_count": 46,
      "outputs": [
        {
          "output_type": "stream",
          "text": [
            "Found 701 validated image filenames.\n"
          ],
          "name": "stdout"
        }
      ]
    },
    {
      "cell_type": "code",
      "metadata": {
        "id": "xVmh_IGNO0oL",
        "colab_type": "code",
        "colab": {
          "base_uri": "https://localhost:8080/",
          "height": 35
        },
        "outputId": "dc7009c2-5c75-4065-db31-dea02244eb25"
      },
      "source": [
        "valid_generator=datagen.flow_from_dataframe(\n",
        "dataframe=X_valid,\n",
        "directory=\"/content/drive/My Drive/Aging model/fg\",\n",
        "x_col='file_name',\n",
        "y_col=y_valid.columns,\n",
        "batch_size=32,\n",
        "seed=42,\n",
        "shuffle=False,class_mode='input',\n",
        "target_size=(100,100))"
      ],
      "execution_count": 47,
      "outputs": [
        {
          "output_type": "stream",
          "text": [
            "Found 301 validated image filenames.\n"
          ],
          "name": "stdout"
        }
      ]
    },
    {
      "cell_type": "code",
      "metadata": {
        "id": "LgYxB24ZcYwu",
        "colab_type": "code",
        "colab": {
          "base_uri": "https://localhost:8080/",
          "height": 53
        },
        "outputId": "3a4dfc52-ac15-41b7-ff76-05b5e657190c"
      },
      "source": [
        "for data_batch, labels_batch in train_generator:\n",
        "  print('data batch shape:', data_batch.shape)\n",
        "  print('labels batch shape:', labels_batch.shape)\n",
        "  break"
      ],
      "execution_count": 40,
      "outputs": [
        {
          "output_type": "stream",
          "text": [
            "data batch shape: (32, 100, 100, 3)\n",
            "labels batch shape: (32, 100, 100, 3)\n"
          ],
          "name": "stdout"
        }
      ]
    },
    {
      "cell_type": "code",
      "metadata": {
        "id": "QGJFwjxtXyda",
        "colab_type": "code",
        "colab": {}
      },
      "source": [
        "model = Sequential()\n",
        "model.add(Conv2D(32, (3, 3), padding='same',\n",
        "                 input_shape=(100,100)))\n",
        "model.add(Activation('relu'))\n",
        "model.add(Conv2D(32, (3, 3)))\n",
        "model.add(Activation('relu'))\n",
        "model.add(MaxPooling2D(pool_size=(2, 2)))\n",
        "model.add(Dropout(0.25))\n",
        "model.add(Conv2D(64, (3, 3), padding='same'))\n",
        "model.add(Activation('relu'))\n",
        "model.add(Conv2D(64, (3, 3)))\n",
        "model.add(Activation('relu'))\n",
        "model.add(MaxPooling2D(pool_size=(2, 2)))\n",
        "model.add(Dropout(0.25))\n",
        "model.add(Flatten())\n",
        "model.add(Dense(512))\n",
        "model.add(Activation('relu'))\n",
        "model.add(Dropout(0.5))\n",
        "model.add(Dense(5, activation='softmax'))"
      ],
      "execution_count": 0,
      "outputs": []
    },
    {
      "cell_type": "markdown",
      "metadata": {
        "id": "paCHxCjYdNBo",
        "colab_type": "text"
      },
      "source": [
        "other data"
      ]
    },
    {
      "cell_type": "code",
      "metadata": {
        "id": "SYEuqv0wdQl6",
        "colab_type": "code",
        "colab": {
          "base_uri": "https://localhost:8080/",
          "height": 35
        },
        "outputId": "e2fa3e32-4872-4ff0-8657-b477262b3411"
      },
      "source": [
        "df=pd.read_csv('/content/drive/My Drive/miml_dataset/miml_labels_1.csv')\n",
        "columns=[\"desert\", \"mountains\", \"sea\", \"sunset\", \"trees\"]\n",
        "datagen=ImageDataGenerator(rescale=1./255.)\n",
        "test_datagen=ImageDataGenerator(rescale=1./255.)\n",
        "train_generator=datagen.flow_from_dataframe(\n",
        "dataframe=df[:1800],\n",
        "directory='/content/drive/My Drive/miml_dataset/images',\n",
        "x_col=\"Filenames\",\n",
        "y_col=columns,\n",
        "batch_size=32,\n",
        "seed=42,\n",
        "shuffle=True,\n",
        "class_mode=\"raw\",\n",
        "target_size=(100,100))"
      ],
      "execution_count": 44,
      "outputs": [
        {
          "output_type": "stream",
          "text": [
            "Found 1800 validated image filenames.\n"
          ],
          "name": "stdout"
        }
      ]
    },
    {
      "cell_type": "code",
      "metadata": {
        "id": "JYlF2FWhd1rp",
        "colab_type": "code",
        "colab": {
          "base_uri": "https://localhost:8080/",
          "height": 53
        },
        "outputId": "a6e4bf74-61fb-49f3-a8dd-1e72e7843892"
      },
      "source": [
        "for data_batch, labels_batch in train_generator:\n",
        "  print('data batch shape:', data_batch.shape)\n",
        "  print('labels batch shape:', labels_batch.shape)\n",
        "  break"
      ],
      "execution_count": 45,
      "outputs": [
        {
          "output_type": "stream",
          "text": [
            "data batch shape: (32, 100, 100, 3)\n",
            "labels batch shape: (32, 5)\n"
          ],
          "name": "stdout"
        }
      ]
    },
    {
      "cell_type": "code",
      "metadata": {
        "id": "WKanOVwadO6S",
        "colab_type": "code",
        "colab": {}
      },
      "source": [
        "datagen=ImageDataGenerator(rescale=1./255.)\n",
        "test_datagen=ImageDataGenerator(rescale=1./255.)train_generator=datagen.flow_from_dataframe(\n",
        "dataframe=df[:1800],\n",
        "directory=\"./miml_dataset/images\",\n",
        "x_col=\"Filenames\",\n",
        "y_col=\"labels\",\n",
        "batch_size=32,\n",
        "seed=42,\n",
        "shuffle=True,\n",
        "class_mode=\"categorical\",\n",
        "classes=[\"desert\", \"mountains\", \"sea\", \"sunset\", \"trees\"],\n",
        "target_size=(100,100))"
      ],
      "execution_count": 0,
      "outputs": []
    }
  ]
}