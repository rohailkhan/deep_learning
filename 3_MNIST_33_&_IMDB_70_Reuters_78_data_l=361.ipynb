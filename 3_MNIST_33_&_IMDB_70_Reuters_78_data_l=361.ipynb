{
  "nbformat": 4,
  "nbformat_minor": 0,
  "metadata": {
    "colab": {
      "name": "3 MNIST 33 &  IMDB 70 Reuters 78 data..l=361",
      "provenance": [],
      "authorship_tag": "ABX9TyNtS6k+eJtawhrE1NKM/5Z5",
      "include_colab_link": true
    },
    "kernelspec": {
      "name": "python3",
      "display_name": "Python 3"
    }
  },
  "cells": [
    {
      "cell_type": "markdown",
      "metadata": {
        "id": "view-in-github",
        "colab_type": "text"
      },
      "source": [
        "<a href=\"https://colab.research.google.com/github/rohailkhan/deep_learning/blob/master/3_MNIST_33_%26_IMDB_70_Reuters_78_data_l%3D361.ipynb\" target=\"_parent\"><img src=\"https://colab.research.google.com/assets/colab-badge.svg\" alt=\"Open In Colab\"/></a>"
      ]
    },
    {
      "cell_type": "code",
      "metadata": {
        "id": "GbprW4s7WcFK",
        "colab_type": "code",
        "colab": {
          "base_uri": "https://localhost:8080/",
          "height": 74
        },
        "outputId": "a782a688-126f-429d-f15f-7d72db4c26fd"
      },
      "source": [
        "import numpy as np\n",
        "import pandas as pd\n",
        "import matplotlib.pyplot as plt\n",
        "import seaborn as sns\n",
        "\n",
        "import sklearn.model_selection as model_selection\n",
        "\n",
        "import tensorflow\n",
        "from tensorflow import keras \n",
        "\n",
        "from tensorflow.keras import layers\n",
        "from tensorflow.keras import models\n",
        "\n",
        "from tensorflow.keras.callbacks import EarlyStopping , ModelCheckpoint\n"
      ],
      "execution_count": 95,
      "outputs": [
        {
          "output_type": "stream",
          "text": [
            "/usr/local/lib/python3.6/dist-packages/statsmodels/tools/_testing.py:19: FutureWarning: pandas.util.testing is deprecated. Use the functions in the public API at pandas.testing instead.\n",
            "  import pandas.util.testing as tm\n"
          ],
          "name": "stderr"
        }
      ]
    },
    {
      "cell_type": "code",
      "metadata": {
        "id": "ru0mJk9wYpZA",
        "colab_type": "code",
        "colab": {
          "base_uri": "https://localhost:8080/",
          "height": 72
        },
        "outputId": "b11b9839-256f-4b2e-f2cc-302fa2a6fb8c"
      },
      "source": [
        "from keras.datasets import mnist\n",
        "(train_images, train_labels), (test_images, test_labels) = mnist.load_data()\n",
        "print([train_images.shape, train_labels.shape,test_images.shape, test_labels.shape])"
      ],
      "execution_count": 96,
      "outputs": [
        {
          "output_type": "stream",
          "text": [
            "Downloading data from https://s3.amazonaws.com/img-datasets/mnist.npz\n",
            "11493376/11490434 [==============================] - 0s 0us/step\n",
            "[(60000, 28, 28), (60000,), (10000, 28, 28), (10000,)]\n"
          ],
          "name": "stdout"
        }
      ]
    },
    {
      "cell_type": "code",
      "metadata": {
        "id": "j1NcxDQ-Z8Ft",
        "colab_type": "code",
        "colab": {
          "base_uri": "https://localhost:8080/",
          "height": 265
        },
        "outputId": "ac41e697-df4e-47eb-d437-aa2055d54a52"
      },
      "source": [
        "digit = train_images[4]\n",
        "plt.imshow(digit,cmap='gray',vmin=0,vmax=255)\n",
        "plt.show()\n"
      ],
      "execution_count": 121,
      "outputs": [
        {
          "output_type": "display_data",
          "data": {
            "image/png": "[encoded data removed]",
            "text/plain": [
              "<Figure size 432x288 with 1 Axes>"
            ]
          },
          "metadata": {
            "tags": [],
            "needs_background": "light"
          }
        }
      ]
    },
    {
      "cell_type": "code",
      "metadata": {
        "id": "umCok8LyZI5f",
        "colab_type": "code",
        "colab": {
          "base_uri": "https://localhost:8080/",
          "height": 35
        },
        "outputId": "3e41d0d9-2d05-49d5-aa48-f159385893a1"
      },
      "source": [
        "#reshape train data\n",
        "train_images = train_images.reshape((60000, 28 * 28))\n",
        "#train_images = train_images.astype('float32') / 255\n",
        "test_images = test_images.reshape((10000, 28 * 28))\n",
        "#test_images = test_images.astype('float32') / 255\n",
        "print([train_images.shape, train_labels.shape,test_images.shape, test_labels.shape])"
      ],
      "execution_count": 97,
      "outputs": [
        {
          "output_type": "stream",
          "text": [
            "[(60000, 784), (60000,), (10000, 784), (10000,)]\n"
          ],
          "name": "stdout"
        }
      ]
    },
    {
      "cell_type": "markdown",
      "metadata": {
        "id": "R6PjlkX7ICdD",
        "colab_type": "text"
      },
      "source": [
        "# We have 10 classes,so the target should have 10 labels. We acheive it by one hot encoding"
      ]
    },
    {
      "cell_type": "code",
      "metadata": {
        "id": "krauSlD5IUGG",
        "colab_type": "code",
        "colab": {
          "base_uri": "https://localhost:8080/",
          "height": 35
        },
        "outputId": "32074dff-ae0a-4089-be03-4c2b4a5775e2"
      },
      "source": [
        "from tensorflow.keras.utils import to_categorical\n",
        "NB_CLASSES = 10 # number of outputs = number of digits\n",
        "#One-hot representation of the labels.\n",
        "train_labels = to_categorical(train_labels, NB_CLASSES)\n",
        "test_labels = to_categorical(test_labels, NB_CLASSES)\n",
        "print([train_images.shape, train_labels.shape,test_images.shape, test_labels.shape])"
      ],
      "execution_count": 98,
      "outputs": [
        {
          "output_type": "stream",
          "text": [
            "[(60000, 784), (60000, 10), (10000, 784), (10000, 10)]\n"
          ],
          "name": "stdout"
        }
      ]
    },
    {
      "cell_type": "code",
      "metadata": {
        "id": "EooZsB3Pb-sk",
        "colab_type": "code",
        "colab": {}
      },
      "source": [
        "network = models.Sequential()\n",
        "network.add(layers.Dense(512, kernel_initializer=keras.initializers.glorot_uniform(seed=66),activation='relu', input_shape=(28 * 28,)))\n",
        "network.add(layers.Dense(10,kernel_initializer=keras.initializers.glorot_uniform(seed=66), activation='softmax'))"
      ],
      "execution_count": 0,
      "outputs": []
    },
    {
      "cell_type": "code",
      "metadata": {
        "id": "7QI0my2QDxCt",
        "colab_type": "code",
        "colab": {}
      },
      "source": [
        "network.compile(optimizer='rmsprop',loss='categorical_crossentropy',metrics=['accuracy'])"
      ],
      "execution_count": 0,
      "outputs": []
    },
    {
      "cell_type": "code",
      "metadata": {
        "id": "5CwVL5jTD4yF",
        "colab_type": "code",
        "colab": {
          "base_uri": "https://localhost:8080/",
          "height": 202
        },
        "outputId": "7c777f8e-149a-46e3-a902-2605b8a27709"
      },
      "source": [
        "historynew=network.fit(train_images,train_labels,epochs=5,batch_size=128)"
      ],
      "execution_count": 101,
      "outputs": [
        {
          "output_type": "stream",
          "text": [
            "Epoch 1/5\n",
            "469/469 [==============================] - 4s 9ms/step - loss: 5.4011 - accuracy: 0.8983\n",
            "Epoch 2/5\n",
            "469/469 [==============================] - 4s 9ms/step - loss: 0.6588 - accuracy: 0.9532\n",
            "Epoch 3/5\n",
            "469/469 [==============================] - 5s 10ms/step - loss: 0.4593 - accuracy: 0.9650\n",
            "Epoch 4/5\n",
            "469/469 [==============================] - 4s 9ms/step - loss: 0.3543 - accuracy: 0.9712\n",
            "Epoch 5/5\n",
            "469/469 [==============================] - 4s 8ms/step - loss: 0.3323 - accuracy: 0.9753\n"
          ],
          "name": "stdout"
        }
      ]
    },
    {
      "cell_type": "code",
      "metadata": {
        "id": "7pyJa1lZKOka",
        "colab_type": "code",
        "colab": {
          "base_uri": "https://localhost:8080/",
          "height": 54
        },
        "outputId": "548f1b4e-a1c4-421b-ceba-b3df96ba8650"
      },
      "source": [
        "for i in historynew.history.keys():\n",
        "  print(i)"
      ],
      "execution_count": 102,
      "outputs": [
        {
          "output_type": "stream",
          "text": [
            "loss\n",
            "accuracy\n"
          ],
          "name": "stdout"
        }
      ]
    },
    {
      "cell_type": "code",
      "metadata": {
        "id": "PPo6OqsNLT3I",
        "colab_type": "code",
        "colab": {
          "base_uri": "https://localhost:8080/",
          "height": 74
        },
        "outputId": "988835c8-a799-4187-d580-dc17a5294c75"
      },
      "source": [
        "print(\"loss= \" + str(historynew.history['loss']))\n",
        "print(\"accuracy= \" + str(historynew.history['accuracy']))"
      ],
      "execution_count": 219,
      "outputs": [
        {
          "output_type": "stream",
          "text": [
            "loss= [5.7169365882873535, 0.709601104259491, 0.4701370894908905, 0.391478031873703, 0.35608041286468506]\n",
            "accuracy= [0.8992166519165039, 0.9532999992370605, 0.9653000235557556, 0.9725333452224731, 0.9761999845504761]\n"
          ],
          "name": "stdout"
        }
      ]
    },
    {
      "cell_type": "code",
      "metadata": {
        "id": "QWZZnI9dvh2z",
        "colab_type": "code",
        "colab": {}
      },
      "source": [
        ""
      ],
      "execution_count": 0,
      "outputs": []
    },
    {
      "cell_type": "markdown",
      "metadata": {
        "id": "tzIsEPEGLzXZ",
        "colab_type": "text"
      },
      "source": [
        "## Training with validation data"
      ]
    },
    {
      "cell_type": "code",
      "metadata": {
        "id": "neKSwDmIwXM1",
        "colab_type": "code",
        "colab": {
          "base_uri": "https://localhost:8080/",
          "height": 35
        },
        "outputId": "b628bb01-1db1-4d7c-a843-7bce70312d5b"
      },
      "source": [
        "print([train_images.shape, train_labels.shape,test_images.shape, test_labels.shape])"
      ],
      "execution_count": 103,
      "outputs": [
        {
          "output_type": "stream",
          "text": [
            "[(60000, 784), (60000, 10), (10000, 784), (10000, 10)]\n"
          ],
          "name": "stdout"
        }
      ]
    },
    {
      "cell_type": "code",
      "metadata": {
        "id": "OOxp1Seqxykn",
        "colab_type": "code",
        "colab": {
          "base_uri": "https://localhost:8080/",
          "height": 54
        },
        "outputId": "99347f9c-de26-412f-e863-18e27abf9925"
      },
      "source": [
        "a=[1,2,3,4,5,6,7,8,9,10]\n",
        "print(a[:5])\n",
        "print(a[-5:])"
      ],
      "execution_count": 93,
      "outputs": [
        {
          "output_type": "stream",
          "text": [
            "[1, 2, 3, 4, 5]\n",
            "[6, 7, 8, 9, 10]\n"
          ],
          "name": "stdout"
        }
      ]
    },
    {
      "cell_type": "code",
      "metadata": {
        "id": "1ur4HL1CL5Fj",
        "colab_type": "code",
        "colab": {}
      },
      "source": [
        "# use 30% of data for validation\n",
        "x_val = train_images[:2000]\n",
        "partial_x_train = train_images[-2000:]\n",
        "y_val = train_labels[:2000]\n",
        "partial_y_train = train_labels[-2000:]"
      ],
      "execution_count": 0,
      "outputs": []
    },
    {
      "cell_type": "code",
      "metadata": {
        "id": "1eUDgy7G0qqZ",
        "colab_type": "code",
        "colab": {
          "base_uri": "https://localhost:8080/",
          "height": 35
        },
        "outputId": "a7cdd30f-3bf5-4ccf-9477-d70fa065b077"
      },
      "source": [
        "print(x_val.shape,y_val.shape,partial_x_train.shape,partial_y_train.shape)"
      ],
      "execution_count": 105,
      "outputs": [
        {
          "output_type": "stream",
          "text": [
            "(2000, 784) (2000, 10) (2000, 784) (2000, 10)\n"
          ],
          "name": "stdout"
        }
      ]
    },
    {
      "cell_type": "code",
      "metadata": {
        "id": "HycU42DE1vCi",
        "colab_type": "code",
        "colab": {}
      },
      "source": [
        "from tensorflow.keras.callbacks import EarlyStopping\n",
        "early=EarlyStopping(monitor='val_loss',patience=2)"
      ],
      "execution_count": 0,
      "outputs": []
    },
    {
      "cell_type": "code",
      "metadata": {
        "id": "GBZl8UzV6Qj2",
        "colab_type": "code",
        "colab": {}
      },
      "source": [
        "# changing optimizer and also the learning rate\n",
        "from tensorflow.keras.optimizers import Adam\n",
        "opt=Adam(learning_rate=0.0001)\n"
      ],
      "execution_count": 0,
      "outputs": []
    },
    {
      "cell_type": "code",
      "metadata": {
        "id": "3692bXRL6zqh",
        "colab_type": "code",
        "colab": {}
      },
      "source": [
        "network.compile(optimizer=opt,loss='categorical_crossentropy',metrics=['accuracy'])"
      ],
      "execution_count": 0,
      "outputs": []
    },
    {
      "cell_type": "code",
      "metadata": {
        "id": "j_iLIr-pv04I",
        "colab_type": "code",
        "colab": {
          "base_uri": "https://localhost:8080/",
          "height": 259
        },
        "outputId": "56046187-be52-486e-dedc-d5df7b0302a1"
      },
      "source": [
        "history2_mnist=network.fit(partial_x_train,\n",
        "partial_y_train,epochs=1000,batch_size=128,validation_data=(x_val,y_val),callbacks=[early])"
      ],
      "execution_count": 109,
      "outputs": [
        {
          "output_type": "stream",
          "text": [
            "Epoch 1/1000\n",
            "16/16 [==============================] - 0s 17ms/step - loss: 0.0967 - accuracy: 0.9925 - val_loss: 0.1135 - val_accuracy: 0.9870\n",
            "Epoch 2/1000\n",
            "16/16 [==============================] - 0s 11ms/step - loss: 0.0496 - accuracy: 0.9965 - val_loss: 0.1121 - val_accuracy: 0.9875\n",
            "Epoch 3/1000\n",
            "16/16 [==============================] - 0s 11ms/step - loss: 0.0341 - accuracy: 0.9980 - val_loss: 0.1103 - val_accuracy: 0.9870\n",
            "Epoch 4/1000\n",
            "16/16 [==============================] - 0s 11ms/step - loss: 0.0220 - accuracy: 0.9985 - val_loss: 0.1100 - val_accuracy: 0.9865\n",
            "Epoch 5/1000\n",
            "16/16 [==============================] - 0s 11ms/step - loss: 0.0179 - accuracy: 0.9990 - val_loss: 0.1103 - val_accuracy: 0.9870\n",
            "Epoch 6/1000\n",
            "16/16 [==============================] - 0s 12ms/step - loss: 0.0062 - accuracy: 0.9990 - val_loss: 0.1105 - val_accuracy: 0.9865\n"
          ],
          "name": "stdout"
        }
      ]
    },
    {
      "cell_type": "code",
      "metadata": {
        "id": "RoV7wJ5F1oCZ",
        "colab_type": "code",
        "colab": {
          "base_uri": "https://localhost:8080/",
          "height": 35
        },
        "outputId": "519caee3-3566-4111-b23c-9dc8d8ce4a70"
      },
      "source": [
        "evalautation=network.evaluate(x_val,y_val)"
      ],
      "execution_count": 110,
      "outputs": [
        {
          "output_type": "stream",
          "text": [
            "63/63 [==============================] - 0s 2ms/step - loss: 0.1115 - accuracy: 0.9865\n"
          ],
          "name": "stdout"
        }
      ]
    },
    {
      "cell_type": "code",
      "metadata": {
        "id": "jQdgt8K8M0Mz",
        "colab_type": "code",
        "colab": {
          "base_uri": "https://localhost:8080/",
          "height": 91
        },
        "outputId": "11abc049-28cc-4c56-af8e-5b39870fc780"
      },
      "source": [
        "history2_mnist_dict=history2_mnist.history\n",
        "for i in history2_mnist_dict.keys():\n",
        "  print(i)"
      ],
      "execution_count": 111,
      "outputs": [
        {
          "output_type": "stream",
          "text": [
            "loss\n",
            "accuracy\n",
            "val_loss\n",
            "val_accuracy\n"
          ],
          "name": "stdout"
        }
      ]
    },
    {
      "cell_type": "code",
      "metadata": {
        "id": "pP-ALFwTKyej",
        "colab_type": "code",
        "colab": {
          "base_uri": "https://localhost:8080/",
          "height": 295
        },
        "outputId": "dc03cae7-eb13-436f-8294-b04c5675ea15"
      },
      "source": [
        "loss_values=history2_mnist_dict['loss']\n",
        "val_loss_values=history2_mnist_dict['val_loss']\n",
        "epochs = range(1, len(history2_mnist_dict['loss']) + 1)\n",
        "plt.plot(epochs, loss_values, 'bo',color='red', label='Training loss')\n",
        "plt.plot(epochs, val_loss_values, 'b', label='Validation loss')\n",
        "plt.title('Training and validation loss')\n",
        "plt.xlabel('Epochs')\n",
        "plt.ylabel('Loss')\n",
        "plt.legend()\n",
        "plt.show()\n"
      ],
      "execution_count": 112,
      "outputs": [
        {
          "output_type": "display_data",
          "data": {
            "image/png": "[encoded data removed]",
            "text/plain": [
              "<Figure size 432x288 with 1 Axes>"
            ]
          },
          "metadata": {
            "tags": [],
            "needs_background": "light"
          }
        }
      ]
    },
    {
      "cell_type": "code",
      "metadata": {
        "id": "4N8K9zW3OSDb",
        "colab_type": "code",
        "colab": {
          "base_uri": "https://localhost:8080/",
          "height": 295
        },
        "outputId": "60b465b7-d70b-4c4f-f5a4-17cdeac9e27c"
      },
      "source": [
        "accuracy_values=history2_mnist_dict['accuracy']\n",
        "val_accuracy_values=history2_mnist_dict['val_accuracy']\n",
        "epochs = range(1, len(history2_mnist_dict['accuracy']) + 1)\n",
        "plt.plot(epochs, accuracy_values, 'bo',color='red', label='Training accuracy')\n",
        "plt.plot(epochs, val_accuracy_values, 'b', label='Validation accuracy')\n",
        "plt.title('Training and validation accuracy')\n",
        "plt.xlabel('Epochs')\n",
        "plt.ylabel('accuracy')\n",
        "plt.legend()\n",
        "plt.show()"
      ],
      "execution_count": 113,
      "outputs": [
        {
          "output_type": "display_data",
          "data": {
            "image/png": "[encoded data removed]",
            "text/plain": [
              "<Figure size 432x288 with 1 Axes>"
            ]
          },
          "metadata": {
            "tags": [],
            "needs_background": "light"
          }
        }
      ]
    },
    {
      "cell_type": "markdown",
      "metadata": {
        "id": "5abdNH62VK5L",
        "colab_type": "text"
      },
      "source": [
        "https://www.manning.com/books/deep-learning-with-python  What is loss funcion...page 60"
      ]
    },
    {
      "cell_type": "markdown",
      "metadata": {
        "id": "lQL-jsZWXS_-",
        "colab_type": "text"
      },
      "source": [
        "# IMDB example"
      ]
    },
    {
      "cell_type": "code",
      "metadata": {
        "id": "sNECxOCyXPnA",
        "colab_type": "code",
        "colab": {}
      },
      "source": [
        ""
      ],
      "execution_count": 0,
      "outputs": []
    },
    {
      "cell_type": "code",
      "metadata": {
        "id": "JVl2Q_pMXnWz",
        "colab_type": "code",
        "colab": {
          "base_uri": "https://localhost:8080/",
          "height": 72
        },
        "outputId": "58187889-fa5b-44c3-f624-69e7393e7b03"
      },
      "source": [
        "from keras.datasets import imdb\n",
        "(train_data, train_labels), (test_data, test_labels) = imdb.load_data(num_words=10000)"
      ],
      "execution_count": 2,
      "outputs": [
        {
          "output_type": "stream",
          "text": [
            "Using TensorFlow backend.\n"
          ],
          "name": "stderr"
        },
        {
          "output_type": "stream",
          "text": [
            "Downloading data from https://s3.amazonaws.com/text-datasets/imdb.npz\n",
            "17465344/17464789 [==============================] - 0s 0us/step\n"
          ],
          "name": "stdout"
        }
      ]
    },
    {
      "cell_type": "code",
      "metadata": {
        "id": "Tc66VxaKXqF3",
        "colab_type": "code",
        "colab": {
          "base_uri": "https://localhost:8080/",
          "height": 35
        },
        "outputId": "c784bf49-6fed-428f-faa8-2a9bdfc75a32"
      },
      "source": [
        "print(train_data.shape,train_labels.shape,test_data.shape,test_labels.shape)"
      ],
      "execution_count": 3,
      "outputs": [
        {
          "output_type": "stream",
          "text": [
            "(25000,) (25000,) (25000,) (25000,)\n"
          ],
          "name": "stdout"
        }
      ]
    },
    {
      "cell_type": "code",
      "metadata": {
        "id": "NbkR_juwYMc-",
        "colab_type": "code",
        "colab": {
          "base_uri": "https://localhost:8080/",
          "height": 35
        },
        "outputId": "51724606-3da6-4b39-97db-f301e4b0ecdc"
      },
      "source": [
        "max([max(k) for k in train_data])"
      ],
      "execution_count": 5,
      "outputs": [
        {
          "output_type": "execute_result",
          "data": {
            "text/plain": [
              "9999"
            ]
          },
          "metadata": {
            "tags": []
          },
          "execution_count": 5
        }
      ]
    },
    {
      "cell_type": "code",
      "metadata": {
        "id": "ulsUSeVAYZBJ",
        "colab_type": "code",
        "colab": {
          "base_uri": "https://localhost:8080/",
          "height": 35
        },
        "outputId": "ae2a7ad9-efbc-4ca4-fa74-abc3a24836fa"
      },
      "source": [
        "max([max(p) for p in test_data])"
      ],
      "execution_count": 51,
      "outputs": [
        {
          "output_type": "execute_result",
          "data": {
            "text/plain": [
              "9999"
            ]
          },
          "metadata": {
            "tags": []
          },
          "execution_count": 51
        }
      ]
    },
    {
      "cell_type": "code",
      "metadata": {
        "id": "_H_rJuQfpPXi",
        "colab_type": "code",
        "colab": {
          "base_uri": "https://localhost:8080/",
          "height": 35
        },
        "outputId": "7d2fb5dd-def0-45a1-ba16-9021cf4ffbc1"
      },
      "source": [
        "import numpy as np\n",
        "np.zeros([1,2])"
      ],
      "execution_count": 6,
      "outputs": [
        {
          "output_type": "execute_result",
          "data": {
            "text/plain": [
              "array([[0., 0.]])"
            ]
          },
          "metadata": {
            "tags": []
          },
          "execution_count": 6
        }
      ]
    },
    {
      "cell_type": "code",
      "metadata": {
        "id": "jn05akiEpbt0",
        "colab_type": "code",
        "colab": {}
      },
      "source": [
        "def one_hot(sequence,dimension=10000):\n",
        "  #array of allll zeros\n",
        "  result=np.zeros(shape=(len(sequence),dimension))\n",
        "  for i,sequence in enumerate(sequence):\n",
        "    result[i,sequence]=1\n",
        "  return result"
      ],
      "execution_count": 0,
      "outputs": []
    },
    {
      "cell_type": "code",
      "metadata": {
        "id": "4N8zpWe3qXml",
        "colab_type": "code",
        "colab": {}
      },
      "source": [
        "x_train=one_hot(train_data)\n",
        "x_test=one_hot(test_data)"
      ],
      "execution_count": 0,
      "outputs": []
    },
    {
      "cell_type": "code",
      "metadata": {
        "id": "f4C6gVB6Pi8b",
        "colab_type": "code",
        "colab": {
          "base_uri": "https://localhost:8080/",
          "height": 91
        },
        "outputId": "d0b3a545-9e85-45ee-b8f9-70d05cdefba3"
      },
      "source": [
        "print(train_labels.shape)\n",
        "print(train_labels[0:1])\n",
        "print(train_labels[0:2])\n",
        "print(train_labels[0:5])"
      ],
      "execution_count": 19,
      "outputs": [
        {
          "output_type": "stream",
          "text": [
            "(25000,)\n",
            "[1]\n",
            "[1 0]\n",
            "[1 0 0 1 0]\n"
          ],
          "name": "stdout"
        }
      ]
    },
    {
      "cell_type": "markdown",
      "metadata": {
        "id": "MP8WrTVHQ12U",
        "colab_type": "text"
      },
      "source": [
        "convert labels to float"
      ]
    },
    {
      "cell_type": "code",
      "metadata": {
        "id": "qNDBORAuq5Oc",
        "colab_type": "code",
        "colab": {
          "base_uri": "https://localhost:8080/",
          "height": 91
        },
        "outputId": "0e0fbfcd-d22d-4fc1-dae6-57724368425d"
      },
      "source": [
        "# vectroise labels\n",
        "y_train=np.asanyarray(train_labels).astype('float32')\n",
        "y_test = np.asarray(test_labels).astype('float32')\n",
        "print(y_train.shape)\n",
        "print(y_train[0:1])\n",
        "print(y_train[0:2])\n",
        "print(y_train[0:5])"
      ],
      "execution_count": 9,
      "outputs": [
        {
          "output_type": "stream",
          "text": [
            "(25000,)\n",
            "[1.]\n",
            "[1. 0.]\n",
            "[1. 0. 0. 1. 0.]\n"
          ],
          "name": "stdout"
        }
      ]
    },
    {
      "cell_type": "code",
      "metadata": {
        "id": "n_lL59cSuXXc",
        "colab_type": "code",
        "colab": {
          "base_uri": "https://localhost:8080/",
          "height": 35
        },
        "outputId": "5d23bc24-57c7-495a-81e7-a175da6c259d"
      },
      "source": [
        "type(train_data)"
      ],
      "execution_count": 67,
      "outputs": [
        {
          "output_type": "execute_result",
          "data": {
            "text/plain": [
              "numpy.ndarray"
            ]
          },
          "metadata": {
            "tags": []
          },
          "execution_count": 67
        }
      ]
    },
    {
      "cell_type": "code",
      "metadata": {
        "id": "j3Kcz_OFt251",
        "colab_type": "code",
        "colab": {}
      },
      "source": [
        "from tensorflow.keras.utils import to_categorical"
      ],
      "execution_count": 0,
      "outputs": []
    },
    {
      "cell_type": "code",
      "metadata": {
        "id": "qY_ciTw5sc-t",
        "colab_type": "code",
        "colab": {}
      },
      "source": [
        "y_train=to_categorical(y_train)\n",
        "y_test=to_categorical(y_test)"
      ],
      "execution_count": 0,
      "outputs": []
    },
    {
      "cell_type": "code",
      "metadata": {
        "id": "mTBkoe3Kwing",
        "colab_type": "code",
        "colab": {
          "base_uri": "https://localhost:8080/",
          "height": 35
        },
        "outputId": "12ebc874-d59d-482e-97e7-26b99752cbbf"
      },
      "source": [
        "train_labels[1:4]"
      ],
      "execution_count": 78,
      "outputs": [
        {
          "output_type": "execute_result",
          "data": {
            "text/plain": [
              "array([0, 0, 1])"
            ]
          },
          "metadata": {
            "tags": []
          },
          "execution_count": 78
        }
      ]
    },
    {
      "cell_type": "code",
      "metadata": {
        "id": "1wxmdtY_rKoJ",
        "colab_type": "code",
        "colab": {}
      },
      "source": [
        "from keras import models\n",
        "from keras import layers\n",
        "model = models.Sequential()\n",
        "model.add(layers.Dense(16, activation='relu', input_shape=(10000,)))\n",
        "model.add(layers.Dense(16, activation='relu'))\n",
        "model.add(layers.Dense(1, activation='sigmoid'))"
      ],
      "execution_count": 0,
      "outputs": []
    },
    {
      "cell_type": "code",
      "metadata": {
        "id": "moiJhkYLSAPf",
        "colab_type": "code",
        "colab": {}
      },
      "source": [
        "from keras import optimizers\n",
        "model.compile(optimizer='rmsprop',loss='binary_crossentropy',metrics=['accuracy'])"
      ],
      "execution_count": 0,
      "outputs": []
    },
    {
      "cell_type": "code",
      "metadata": {
        "id": "Xd_SHvYgSiWC",
        "colab_type": "code",
        "colab": {}
      },
      "source": [
        "# using losses  with hyperparameters\n",
        "model.compile(optimizer=optimizers.RMSprop(learning_rate=0.01),loss='binary_crossentropy',metrics=['accuracy'])"
      ],
      "execution_count": 0,
      "outputs": []
    },
    {
      "cell_type": "code",
      "metadata": {
        "id": "LhiF0GFaTFJX",
        "colab_type": "code",
        "colab": {}
      },
      "source": [
        "#using metrics with hyperparameters\n",
        "from keras import metrics\n",
        "model.compile(optimizer=optimizers.RMSprop(learning_rate=0.01),loss='binary_crossentropy',metrics=[metrics.binary_accuracy])"
      ],
      "execution_count": 0,
      "outputs": []
    },
    {
      "cell_type": "code",
      "metadata": {
        "id": "OXDvWR8VS4SZ",
        "colab_type": "code",
        "colab": {}
      },
      "source": [
        "# validating our aproach by splitting data in train and test\n",
        "x_val = x_train[:10000]\n",
        "partial_x_train = x_train[10000:]\n",
        "y_val = y_train[:10000]\n",
        "partial_y_train = y_train[10000:]\n"
      ],
      "execution_count": 0,
      "outputs": []
    },
    {
      "cell_type": "code",
      "metadata": {
        "id": "JZRyU3lXWP6K",
        "colab_type": "code",
        "colab": {}
      },
      "source": [
        "model.compile(optimizer='rmsprop',loss='binary_crossentropy',metrics=['acc'])"
      ],
      "execution_count": 0,
      "outputs": []
    },
    {
      "cell_type": "code",
      "metadata": {
        "id": "PjCNCUfzWTEA",
        "colab_type": "code",
        "colab": {}
      },
      "source": [
        "history = model.fit(partial_x_train,partial_y_train,epochs=20,batch_size=512,validation_data=(x_val, y_val))"
      ],
      "execution_count": 0,
      "outputs": []
    },
    {
      "cell_type": "code",
      "metadata": {
        "id": "KdMU_ZR8WipN",
        "colab_type": "code",
        "colab": {
          "base_uri": "https://localhost:8080/",
          "height": 91
        },
        "outputId": "31d41303-9bee-480d-f591-bf0ce60aea7d"
      },
      "source": [
        "history_dict=history.history\n",
        "for i in history_dict.keys():\n",
        "  print(i)"
      ],
      "execution_count": 30,
      "outputs": [
        {
          "output_type": "stream",
          "text": [
            "val_loss\n",
            "val_acc\n",
            "loss\n",
            "acc\n"
          ],
          "name": "stdout"
        }
      ]
    },
    {
      "cell_type": "code",
      "metadata": {
        "id": "67VpCsRpW3Qc",
        "colab_type": "code",
        "colab": {
          "base_uri": "https://localhost:8080/",
          "height": 35
        },
        "outputId": "c80b8c7d-4733-407b-946b-a74860ac7fc1"
      },
      "source": [
        "history_dict.keys()"
      ],
      "execution_count": 31,
      "outputs": [
        {
          "output_type": "execute_result",
          "data": {
            "text/plain": [
              "dict_keys(['val_loss', 'val_acc', 'loss', 'acc'])"
            ]
          },
          "metadata": {
            "tags": []
          },
          "execution_count": 31
        }
      ]
    },
    {
      "cell_type": "code",
      "metadata": {
        "id": "57J_S4LXXBVq",
        "colab_type": "code",
        "colab": {
          "base_uri": "https://localhost:8080/",
          "height": 295
        },
        "outputId": "7e3105c3-000d-4b46-b44f-90c11e7fb052"
      },
      "source": [
        "import matplotlib.pyplot as plt\n",
        "history_dict = history.history\n",
        "loss_values = history_dict['loss']\n",
        "val_loss_values = history_dict['val_loss']\n",
        "epochs = range(1, len(history_dict['acc']) + 1)\n",
        "plt.plot(epochs, loss_values, 'bo', label='Training loss')\n",
        "plt.plot(epochs, val_loss_values, 'b', label='Validation loss',color='red')\n",
        "plt.title('Training and validation loss')\n",
        "plt.xlabel('Epochs')\n",
        "plt.ylabel('Loss')\n",
        "plt.legend()\n",
        "plt.show()"
      ],
      "execution_count": 35,
      "outputs": [
        {
          "output_type": "display_data",
          "data": {
            "image/png": "[encoded data removed]",
            "text/plain": [
              "<Figure size 432x288 with 1 Axes>"
            ]
          },
          "metadata": {
            "tags": [],
            "needs_background": "light"
          }
        }
      ]
    },
    {
      "cell_type": "code",
      "metadata": {
        "id": "RwCZMc8uXnO-",
        "colab_type": "code",
        "colab": {
          "base_uri": "https://localhost:8080/",
          "height": 295
        },
        "outputId": "8b0582ae-b2ad-4b5f-efa8-c986eeddf96a"
      },
      "source": [
        "plt.clf()\n",
        "acc_values = history_dict['acc']\n",
        "val_acc_values = history_dict['val_acc']\n",
        "plt.plot(epochs, acc_values, 'bo', label='Training acc')\n",
        "plt.plot(epochs, val_acc_values, 'b', label='Validation acc',color='red')\n",
        "plt.title('Training and validation accuracy')\n",
        "plt.xlabel('Epochs')\n",
        "plt.ylabel('Loss')\n",
        "plt.legend()\n",
        "plt.show()"
      ],
      "execution_count": 39,
      "outputs": [
        {
          "output_type": "display_data",
          "data": {
            "image/png": "[encoded data removed]",
            "text/plain": [
              "<Figure size 432x288 with 1 Axes>"
            ]
          },
          "metadata": {
            "tags": [],
            "needs_background": "light"
          }
        }
      ]
    },
    {
      "cell_type": "markdown",
      "metadata": {
        "id": "nS7dc7CudWsQ",
        "colab_type": "text"
      },
      "source": [
        "# Reuters Dataset"
      ]
    },
    {
      "cell_type": "code",
      "metadata": {
        "id": "tVI-Nb_fdaq8",
        "colab_type": "code",
        "colab": {
          "base_uri": "https://localhost:8080/",
          "height": 54
        },
        "outputId": "765ede06-2d84-4750-879b-8e32111d9cdf"
      },
      "source": [
        "from keras.datasets import reuters\n",
        "(train_data, train_labels), (test_data, test_labels) = reuters.load_data(\n",
        "num_words=10000)"
      ],
      "execution_count": 13,
      "outputs": [
        {
          "output_type": "stream",
          "text": [
            "Downloading data from https://s3.amazonaws.com/text-datasets/reuters.npz\n",
            "2113536/2110848 [==============================] - 0s 0us/step\n"
          ],
          "name": "stdout"
        }
      ]
    },
    {
      "cell_type": "code",
      "metadata": {
        "id": "ORiP7gizdTLy",
        "colab_type": "code",
        "colab": {
          "base_uri": "https://localhost:8080/",
          "height": 35
        },
        "outputId": "01c27df8-386b-46be-87ee-5e40064b7ae7"
      },
      "source": [
        "print(train_data.shape,train_labels.shape,test_data.shape,test_labels.shape)"
      ],
      "execution_count": 14,
      "outputs": [
        {
          "output_type": "stream",
          "text": [
            "(8982,) (8982,) (2246,) (2246,)\n"
          ],
          "name": "stdout"
        }
      ]
    },
    {
      "cell_type": "code",
      "metadata": {
        "id": "R9eshuXQfytN",
        "colab_type": "code",
        "colab": {
          "base_uri": "https://localhost:8080/",
          "height": 72
        },
        "outputId": "1f072708-d1bd-4c88-9d5a-8523e6f45b3e"
      },
      "source": [
        "t=np.array([1,2,3])\n",
        "r=np.zeros((len(t),4))\n",
        "r"
      ],
      "execution_count": 98,
      "outputs": [
        {
          "output_type": "execute_result",
          "data": {
            "text/plain": [
              "array([[0., 0., 0., 0.],\n",
              "       [0., 0., 0., 0.],\n",
              "       [0., 0., 0., 0.]])"
            ]
          },
          "metadata": {
            "tags": []
          },
          "execution_count": 98
        }
      ]
    },
    {
      "cell_type": "code",
      "metadata": {
        "id": "cwaWkz4qpdUw",
        "colab_type": "code",
        "colab": {
          "base_uri": "https://localhost:8080/",
          "height": 72
        },
        "outputId": "66505e85-afa8-4c54-c5de-410cfe6173c2"
      },
      "source": [
        "for i, s in enumerate(t):\n",
        "    r[i,s] = 1\n",
        "r\n",
        "# you can see that the for loop modified only a set of elements (len(t)) \n",
        "# which has index [i,s] (in this case ; (0, 1), (1, 2), (2, 3), an so on))"
      ],
      "execution_count": 99,
      "outputs": [
        {
          "output_type": "execute_result",
          "data": {
            "text/plain": [
              "array([[0., 1., 0., 0.],\n",
              "       [0., 0., 1., 0.],\n",
              "       [0., 0., 0., 1.]])"
            ]
          },
          "metadata": {
            "tags": []
          },
          "execution_count": 99
        }
      ]
    },
    {
      "cell_type": "code",
      "metadata": {
        "id": "fSLrsZ1dguSj",
        "colab_type": "code",
        "colab": {}
      },
      "source": [
        "import numpy as np\n",
        "def vectorize_sequences(sequences, dimension=10000):\n",
        "  results = np.zeros((len(sequences), dimension))\n",
        "  for i, sequence in enumerate(sequences):\n",
        "    results[i, sequence] = 1.\n",
        "  return results"
      ],
      "execution_count": 0,
      "outputs": []
    },
    {
      "cell_type": "code",
      "metadata": {
        "id": "c-65sJc-tUM-",
        "colab_type": "code",
        "colab": {}
      },
      "source": [
        "x_train = vectorize_sequences(train_data)\n",
        "x_test = vectorize_sequences(test_data)"
      ],
      "execution_count": 0,
      "outputs": []
    },
    {
      "cell_type": "code",
      "metadata": {
        "id": "9kaF5WMXtYd_",
        "colab_type": "code",
        "colab": {}
      },
      "source": [
        "def to_one_hot(labels, dimension=46):\n",
        "  results = np.zeros((len(labels), dimension))\n",
        "  for i, label in enumerate(labels):\n",
        "    results[i, label] = 1.\n",
        "  return results"
      ],
      "execution_count": 0,
      "outputs": []
    },
    {
      "cell_type": "code",
      "metadata": {
        "id": "LuqSja4xtowp",
        "colab_type": "code",
        "colab": {}
      },
      "source": [
        "one_hot_train_labels = to_one_hot(train_labels)\n",
        "one_hot_test_labels = to_one_hot(test_labels)"
      ],
      "execution_count": 0,
      "outputs": []
    },
    {
      "cell_type": "code",
      "metadata": {
        "id": "dWK-CsfKtwiC",
        "colab_type": "code",
        "colab": {}
      },
      "source": [
        "#Note that there is a built-in way to do this in Keras, which you’ve \n",
        "# already seen in action in the MNIST example:\n",
        "from keras.utils.np_utils import to_categorical\n",
        "one_hot_train_labels = to_categorical(train_labels)\n",
        "one_hot_test_labels = to_categorical(test_labels)"
      ],
      "execution_count": 0,
      "outputs": []
    },
    {
      "cell_type": "code",
      "metadata": {
        "id": "m9n-s10b1qZv",
        "colab_type": "code",
        "colab": {
          "base_uri": "https://localhost:8080/",
          "height": 35
        },
        "outputId": "d9d8f297-ffa5-4b5b-efa6-b48aa1beea15"
      },
      "source": [
        "print(one_hot_test_labels.shape,one_hot_train_labels.shape)"
      ],
      "execution_count": 56,
      "outputs": [
        {
          "output_type": "stream",
          "text": [
            "(2246, 46) (8982, 46)\n"
          ],
          "name": "stdout"
        }
      ]
    },
    {
      "cell_type": "code",
      "metadata": {
        "id": "2Me7E4w41E_8",
        "colab_type": "code",
        "colab": {}
      },
      "source": [
        "from tensorflow.keras.models import Sequential\n",
        "from tensorflow.keras.layers import Dense\n",
        "from tensorflow import keras\n",
        "import tensorflow"
      ],
      "execution_count": 0,
      "outputs": []
    },
    {
      "cell_type": "code",
      "metadata": {
        "id": "Jpg1Ndgi7f3e",
        "colab_type": "code",
        "colab": {}
      },
      "source": [
        "from tensorflow.keras import models\n",
        "from tensorflow.keras import layers\n",
        "from tensorflow import keras\n",
        "import tensorflow"
      ],
      "execution_count": 0,
      "outputs": []
    },
    {
      "cell_type": "code",
      "metadata": {
        "id": "qU9p7ktI25yA",
        "colab_type": "code",
        "colab": {}
      },
      "source": [
        "model = models.Sequential()"
      ],
      "execution_count": 0,
      "outputs": []
    },
    {
      "cell_type": "code",
      "metadata": {
        "id": "62-oW_lJ5Qz7",
        "colab_type": "code",
        "colab": {}
      },
      "source": [
        "from tensorflow.keras import initializers"
      ],
      "execution_count": 0,
      "outputs": []
    },
    {
      "cell_type": "code",
      "metadata": {
        "id": "Y9yw7OoI27ZS",
        "colab_type": "code",
        "colab": {}
      },
      "source": [
        "model.add(layers.Dense(64, activation='relu',kernel_initializer=initializers.glorot_uniform(seed=66), input_shape=(10000,)))"
      ],
      "execution_count": 0,
      "outputs": []
    },
    {
      "cell_type": "code",
      "metadata": {
        "id": "R_VGdjXOuJki",
        "colab_type": "code",
        "colab": {}
      },
      "source": [
        "model.add(layers.Dense(64, activation='relu',kernel_initializer=initializers.glorot_uniform(seed=66), input_shape=(10000,)))\n",
        "model.add(layers.Dense(64, activation='relu',kernel_initializer=initializers.glorot_uniform(seed=66)))\n",
        "model.add(layers.Dense(46, activation='softmax',kernel_initializer=initializers.glorot_uniform(seed=66)))"
      ],
      "execution_count": 0,
      "outputs": []
    },
    {
      "cell_type": "code",
      "metadata": {
        "id": "-fWhf8-JvJna",
        "colab_type": "code",
        "colab": {}
      },
      "source": [
        "model.compile(optimizer='rmsprop',loss='categorical_crossentropy',metrics=['accuracy'])"
      ],
      "execution_count": 0,
      "outputs": []
    },
    {
      "cell_type": "code",
      "metadata": {
        "id": "VHePAwnmHcay",
        "colab_type": "code",
        "colab": {
          "base_uri": "https://localhost:8080/",
          "height": 35
        },
        "outputId": "017bcc3a-a737-471a-c191-2d5808109bb0"
      },
      "source": [
        "from keras.datasets import reuters\n",
        "(x_train, y_train), (x_test, y_test) = reuters.load_data(\n",
        "num_words=10000)\n",
        "\n",
        "print(x_train.shape , y_train.shape , x_test.shape ,y_test.shape)"
      ],
      "execution_count": 119,
      "outputs": [
        {
          "output_type": "stream",
          "text": [
            "(8982,) (8982,) (2246,) (2246,)\n"
          ],
          "name": "stdout"
        }
      ]
    },
    {
      "cell_type": "code",
      "metadata": {
        "id": "-TpoSjLfHgzG",
        "colab_type": "code",
        "colab": {}
      },
      "source": [
        "import numpy as np\n",
        "def vectorize_sequences(sequences, dimension=10000):\n",
        "  results = np.zeros((len(sequences), dimension))\n",
        "  for i, sequence in enumerate(sequences):\n",
        "    results[i, sequence] = 1.\n",
        "  return results"
      ],
      "execution_count": 0,
      "outputs": []
    },
    {
      "cell_type": "code",
      "metadata": {
        "id": "qZ3ui-BUHnyp",
        "colab_type": "code",
        "colab": {
          "base_uri": "https://localhost:8080/",
          "height": 35
        },
        "outputId": "b4a18249-eb06-4580-9e1e-43e0ed0d5b21"
      },
      "source": [
        "x_train=vectorize_sequences(x_train)\n",
        "x_test=vectorize_sequences(x_test)\n",
        "print(x_train.shape , y_train.shape , x_test.shape ,y_test.shape)"
      ],
      "execution_count": 121,
      "outputs": [
        {
          "output_type": "stream",
          "text": [
            "(8982, 10000) (8982,) (2246, 10000) (2246,)\n"
          ],
          "name": "stdout"
        }
      ]
    },
    {
      "cell_type": "code",
      "metadata": {
        "id": "sYvLtrDJH3iw",
        "colab_type": "code",
        "colab": {
          "base_uri": "https://localhost:8080/",
          "height": 35
        },
        "outputId": "289d77d4-5b34-4307-efe8-86e0709fbb9e"
      },
      "source": [
        "#Note that there is a built-in way to do this in Keras, which you’ve \n",
        "# already seen in action in the MNIST example:\n",
        "# from keras.utils.np_utils import to_categorical\n",
        "\n",
        "def to_one_hot(labels, dimension=46):\n",
        "  results = np.zeros((len(labels), dimension))\n",
        "  for i, label in enumerate(labels):\n",
        "    results[i, label] = 1.\n",
        "  return results\n",
        "y_train=to_one_hot(y_train)\n",
        "y_test=to_one_hot(y_test)\n",
        "print(x_train.shape , y_train.shape , x_test.shape ,y_test.shape)"
      ],
      "execution_count": 68,
      "outputs": [
        {
          "output_type": "stream",
          "text": [
            "(8982, 10000) (8982, 46) (2246, 10000) (2246, 46)\n"
          ],
          "name": "stdout"
        }
      ]
    },
    {
      "cell_type": "code",
      "metadata": {
        "id": "BEv9MooqUJuP",
        "colab_type": "code",
        "colab": {
          "base_uri": "https://localhost:8080/",
          "height": 35
        },
        "outputId": "c4cc6218-6561-4d0e-8d9e-134c7addc264"
      },
      "source": [
        "from keras.utils import to_categorical\n",
        "num_classes=46\n",
        "y_train = to_categorical(y_train, num_classes)\n",
        "y_test = to_categorical(y_test, num_classes) \n",
        "print(x_train.shape , y_train.shape , x_test.shape ,y_test.shape)"
      ],
      "execution_count": 122,
      "outputs": [
        {
          "output_type": "stream",
          "text": [
            "(8982, 10000) (8982, 46) (2246, 10000) (2246, 46)\n"
          ],
          "name": "stdout"
        }
      ]
    },
    {
      "cell_type": "markdown",
      "metadata": {
        "id": "7gOaQ3oXITgs",
        "colab_type": "text"
      },
      "source": [
        "Taking only 1000 samples in X nad y"
      ]
    },
    {
      "cell_type": "code",
      "metadata": {
        "id": "-aS4pGWLIpZr",
        "colab_type": "code",
        "colab": {
          "base_uri": "https://localhost:8080/",
          "height": 35
        },
        "outputId": "be0a9b2d-fdef-4ddf-8518-304280218060"
      },
      "source": [
        "x_val=x_train[:1000]\n",
        "x_train_partial=x_train[-1000:]\n",
        "print(x_val.shape , x_train_partial.shape)"
      ],
      "execution_count": 123,
      "outputs": [
        {
          "output_type": "stream",
          "text": [
            "(1000, 10000) (1000, 10000)\n"
          ],
          "name": "stdout"
        }
      ]
    },
    {
      "cell_type": "code",
      "metadata": {
        "id": "83_AtMW5Nohu",
        "colab_type": "code",
        "colab": {}
      },
      "source": [
        "y_val=y_train[:1000]\n",
        "y_train_partial=y_train[-1000:]"
      ],
      "execution_count": 0,
      "outputs": []
    },
    {
      "cell_type": "code",
      "metadata": {
        "id": "CBiRKLKHNQGB",
        "colab_type": "code",
        "colab": {
          "base_uri": "https://localhost:8080/",
          "height": 35
        },
        "outputId": "6bdb8978-3e79-469d-eb40-0082503b2125"
      },
      "source": [
        "print(x_val.shape , x_train_partial.shape, y_val.shape ,y_val_partial.shape)"
      ],
      "execution_count": 125,
      "outputs": [
        {
          "output_type": "stream",
          "text": [
            "(1000, 10000) (1000, 10000) (1000, 46) (1000, 46)\n"
          ],
          "name": "stdout"
        }
      ]
    },
    {
      "cell_type": "code",
      "metadata": {
        "id": "4_xJH6EkOvB1",
        "colab_type": "code",
        "colab": {}
      },
      "source": [
        "history=model.fit(x_train_partial,y_val_partial,validation_data=(x_val,y_val),epochs=20,batch_size=512)"
      ],
      "execution_count": 0,
      "outputs": []
    },
    {
      "cell_type": "code",
      "metadata": {
        "id": "K1rfcSAKMKcc",
        "colab_type": "code",
        "colab": {
          "base_uri": "https://localhost:8080/",
          "height": 295
        },
        "outputId": "3999adcb-9647-4b3e-e4af-18bb35083818"
      },
      "source": [
        "import matplotlib.pyplot as plt\n",
        "loss = history.history['loss']\n",
        "val_loss = history.history['val_loss']\n",
        "epochs = range(1, len(loss) + 1)\n",
        "plt.plot(epochs, loss, 'bo', label='Training loss',color='red')\n",
        "plt.plot(epochs, val_loss, 'b', label='Validation loss')\n",
        "plt.title('Training and validation loss')\n",
        "plt.xlabel('Epochs')\n",
        "plt.ylabel('Loss')\n",
        "plt.legend()\n",
        "plt.show()"
      ],
      "execution_count": 85,
      "outputs": [
        {
          "output_type": "display_data",
          "data": {
            "image/png": "[encoded data removed]",
            "text/plain": [
              "<Figure size 432x288 with 1 Axes>"
            ]
          },
          "metadata": {
            "tags": [],
            "needs_background": "light"
          }
        }
      ]
    },
    {
      "cell_type": "code",
      "metadata": {
        "id": "r-1LPIAWP9NH",
        "colab_type": "code",
        "colab": {
          "base_uri": "https://localhost:8080/",
          "height": 91
        },
        "outputId": "e81615f1-f003-418f-f79b-8064db32ee38"
      },
      "source": [
        "for i in history.history.keys():\n",
        "  print(i)"
      ],
      "execution_count": 89,
      "outputs": [
        {
          "output_type": "stream",
          "text": [
            "loss\n",
            "accuracy\n",
            "val_loss\n",
            "val_accuracy\n"
          ],
          "name": "stdout"
        }
      ]
    },
    {
      "cell_type": "code",
      "metadata": {
        "id": "lb3eTQfDPyPU",
        "colab_type": "code",
        "colab": {
          "base_uri": "https://localhost:8080/",
          "height": 295
        },
        "outputId": "7404a2b1-1ee7-42b6-c292-ad77e8be8c15"
      },
      "source": [
        "plt.clf()\n",
        "acc = history.history['accuracy']\n",
        "val_acc = history.history['val_accuracy']\n",
        "plt.plot(epochs, acc, 'bo', label='Training acc')\n",
        "plt.plot(epochs, val_acc, 'b', label='Validation acc')\n",
        "plt.title('Training and validation accuracy')\n",
        "plt.xlabel('Epochs')\n",
        "plt.ylabel('Loss')\n",
        "plt.legend()\n",
        "plt.show()"
      ],
      "execution_count": 90,
      "outputs": [
        {
          "output_type": "display_data",
          "data": {
            "image/png": "[encoded data removed]",
            "text/plain": [
              "<Figure size 432x288 with 1 Axes>"
            ]
          },
          "metadata": {
            "tags": [],
            "needs_background": "light"
          }
        }
      ]
    },
    {
      "cell_type": "code",
      "metadata": {
        "id": "vEudcyBNScmu",
        "colab_type": "code",
        "colab": {
          "base_uri": "https://localhost:8080/",
          "height": 54
        },
        "outputId": "49dfee82-9da4-45b5-9b9d-cc4578e17ccf"
      },
      "source": [
        "model.evaluate(x_test,y_test)"
      ],
      "execution_count": 114,
      "outputs": [
        {
          "output_type": "stream",
          "text": [
            "71/71 [==============================] - 0s 2ms/step - loss: 1.5212 - accuracy: 0.6670\n"
          ],
          "name": "stdout"
        },
        {
          "output_type": "execute_result",
          "data": {
            "text/plain": [
              "[1.521156907081604, 0.666963517665863]"
            ]
          },
          "metadata": {
            "tags": []
          },
          "execution_count": 114
        }
      ]
    },
    {
      "cell_type": "code",
      "metadata": {
        "id": "rIho51drTKwK",
        "colab_type": "code",
        "colab": {}
      },
      "source": [
        "from tensorflow.keras.callbacks import EarlyStopping\n",
        "early=EarlyStopping(monitor='val_loss',patience=2)"
      ],
      "execution_count": 0,
      "outputs": []
    },
    {
      "cell_type": "code",
      "metadata": {
        "id": "e2oKTyJlTesD",
        "colab_type": "code",
        "colab": {}
      },
      "source": [
        "history=model.fit(x_train_partial,y_val_partial,validation_data=(x_val,y_val),epochs=20,batch_size=512,callbacks=[early])"
      ],
      "execution_count": 0,
      "outputs": []
    },
    {
      "cell_type": "code",
      "metadata": {
        "id": "4N9_9sIfTvOe",
        "colab_type": "code",
        "colab": {
          "base_uri": "https://localhost:8080/",
          "height": 54
        },
        "outputId": "a8cc7a2d-0375-462a-cae3-8ef25a0c2897"
      },
      "source": [
        "model.evaluate(x_test,y_test)"
      ],
      "execution_count": 127,
      "outputs": [
        {
          "output_type": "stream",
          "text": [
            "71/71 [==============================] - 0s 2ms/step - loss: 1.5596 - accuracy: 0.6719\n"
          ],
          "name": "stdout"
        },
        {
          "output_type": "execute_result",
          "data": {
            "text/plain": [
              "[1.5595948696136475, 0.6718611121177673]"
            ]
          },
          "metadata": {
            "tags": []
          },
          "execution_count": 127
        }
      ]
    },
    {
      "cell_type": "code",
      "metadata": {
        "id": "Ww1WH1tXVEL5",
        "colab_type": "code",
        "colab": {}
      },
      "source": [
        "history=model.fit(x_train_partial,y_val_partial,validation_data=(x_val,y_val),epochs=8,batch_size=512)"
      ],
      "execution_count": 0,
      "outputs": []
    },
    {
      "cell_type": "code",
      "metadata": {
        "id": "XqmmFI_cVOcO",
        "colab_type": "code",
        "colab": {
          "base_uri": "https://localhost:8080/",
          "height": 54
        },
        "outputId": "83da9687-cfeb-44e6-cf4c-70bc1a62144c"
      },
      "source": [
        "model.evaluate(x_test,y_test)"
      ],
      "execution_count": 131,
      "outputs": [
        {
          "output_type": "stream",
          "text": [
            "71/71 [==============================] - 0s 3ms/step - loss: 2.1461 - accuracy: 0.6857\n"
          ],
          "name": "stdout"
        },
        {
          "output_type": "execute_result",
          "data": {
            "text/plain": [
              "[2.146097421646118, 0.6856634020805359]"
            ]
          },
          "metadata": {
            "tags": []
          },
          "execution_count": 131
        }
      ]
    },
    {
      "cell_type": "code",
      "metadata": {
        "id": "jmD7TeprVdLo",
        "colab_type": "code",
        "colab": {}
      },
      "source": [
        "model = models.Sequential()\n",
        "model.add(layers.Dense(64, activation='relu', input_shape=(10000,),kernel_initializer=keras.initializers.glorot_uniform(seed=66)))\n",
        "model.add(layers.Dense(64, activation='relu',kernel_initializer=keras.initializers.glorot_uniform(seed=66)))\n",
        "model.add(layers.Dense(46, activation='softmax',kernel_initializer=keras.initializers.glorot_uniform(seed=66)))\n",
        "model.compile(optimizer='rmsprop',\n",
        "loss='categorical_crossentropy',\n",
        "metrics=['accuracy'])\n",
        "model.fit(x_train_partial,y_val_partial,validation_data=(x_val,y_val),epochs=200,batch_size=128,callbacks=early)\n"
      ],
      "execution_count": 0,
      "outputs": []
    },
    {
      "cell_type": "code",
      "metadata": {
        "id": "gENmLmKPV3EW",
        "colab_type": "code",
        "colab": {
          "base_uri": "https://localhost:8080/",
          "height": 35
        },
        "outputId": "0814abd6-0062-4a73-8e57-0cc3d130648a"
      },
      "source": [
        "results = model.evaluate(x_test, y_test)"
      ],
      "execution_count": 156,
      "outputs": [
        {
          "output_type": "stream",
          "text": [
            "71/71 [==============================] - 0s 2ms/step - loss: 1.4677 - accuracy: 0.7119\n"
          ],
          "name": "stdout"
        }
      ]
    },
    {
      "cell_type": "code",
      "metadata": {
        "id": "OV5WBcAqXdMr",
        "colab_type": "code",
        "colab": {
          "base_uri": "https://localhost:8080/",
          "height": 295
        },
        "outputId": "e8e1cee7-ccba-48dc-d562-6d5669da95b3"
      },
      "source": [
        "import matplotlib.pyplot as plt\n",
        "loss = history.history['loss']\n",
        "val_loss = history.history['val_loss']\n",
        "epochs = range(1, len(loss) + 1)\n",
        "plt.plot(epochs, loss, 'bo', label='Training loss',color='red')\n",
        "plt.plot(epochs, val_loss, 'b', label='Validation loss')\n",
        "plt.title('Training and validation loss')\n",
        "plt.xlabel('Epochs')\n",
        "plt.ylabel('Loss')\n",
        "plt.legend()\n",
        "plt.show()"
      ],
      "execution_count": 157,
      "outputs": [
        {
          "output_type": "display_data",
          "data": {
            "image/png": "[encoded data removed]",
            "text/plain": [
              "<Figure size 432x288 with 1 Axes>"
            ]
          },
          "metadata": {
            "tags": [],
            "needs_background": "light"
          }
        }
      ]
    }
  ]
}