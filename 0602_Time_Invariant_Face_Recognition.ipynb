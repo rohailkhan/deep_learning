{
  "nbformat": 4,
  "nbformat_minor": 0,
  "metadata": {
    "colab": {
      "name": "0602_Time_Invariant_Face_Recognition.ipynb",
      "provenance": [],
      "authorship_tag": "ABX9TyM0etvsWvTi/VA8WCR8t5fe",
      "include_colab_link": true
    },
    "kernelspec": {
      "name": "python3",
      "display_name": "Python 3"
    },
    "accelerator": "GPU"
  },
  "cells": [
    {
      "cell_type": "markdown",
      "metadata": {
        "id": "view-in-github",
        "colab_type": "text"
      },
      "source": [
        "<a href=\"https://colab.research.google.com/github/rohailkhan/deep_learning/blob/master/0602_Time_Invariant_Face_Recognition.ipynb\" target=\"_parent\"><img src=\"https://colab.research.google.com/assets/colab-badge.svg\" alt=\"Open In Colab\"/></a>"
      ]
    },
    {
      "cell_type": "code",
      "metadata": {
        "id": "3N252ow4aGj5",
        "colab_type": "code",
        "colab": {}
      },
      "source": [
        "\n",
        "\n",
        "# بسم الله الرحمن الرحيم\n",
        "اللهم صل على محمد وعلى آل محمد كما صليت على إبراهيم وعلى آل إبراهيم إنك حميد مجيد، اللهم بارك على محمد وعلى آل محمد كما باركت على إبراهيم وعلى آل إبراهيم إنك حميد مجيد\n",
        "\n",
        "\n"
      ],
      "execution_count": 0,
      "outputs": []
    },
    {
      "cell_type": "code",
      "metadata": {
        "id": "TXBXAMJsaaKy",
        "colab_type": "code",
        "colab": {
          "base_uri": "https://localhost:8080/",
          "height": 35
        },
        "outputId": "607d6c46-7d21-4bb5-ee56-d1ffb4849fde"
      },
      "source": [
        "from keras.models import Sequential\n",
        "\"\"\"Import from keras_preprocessing not from keras.preprocessing, \n",
        "because Keras may or maynot contain the features discussed here \n",
        "depending upon when you read this article, until the keras_\n",
        "preprocessed library is updated in Keras use the github version.\"\"\"\n",
        "from keras_preprocessing.image import ImageDataGenerator\n",
        "from keras.layers import Dense, Activation, Flatten, Dropout, BatchNormalization\n",
        "from keras.layers import Conv2D, MaxPooling2D\n",
        "from keras import regularizers, optimizers\n",
        "import pandas as pd\n",
        "import numpy as np\n",
        "import os ,PIL\n",
        "import matplotlib.pyplot as plt\n"
      ],
      "execution_count": 3,
      "outputs": [
        {
          "output_type": "stream",
          "text": [
            "Using TensorFlow backend.\n"
          ],
          "name": "stderr"
        }
      ]
    },
    {
      "cell_type": "code",
      "metadata": {
        "id": "p5SA8ZiVahc7",
        "colab_type": "code",
        "colab": {}
      },
      "source": [
        "# Put all files into a single dataframe\n",
        "list_dir = [i for i in os.listdir('/content/drive/My Drive/Aging model/datafiles')]\n",
        "final_df = pd.DataFrame(columns=['ID','Facial Index','Mandibular Index','Intercantal Index','Orbital Width Index','Eye Fissure Index','Vermilion Height Index','Mouth Face Width Index','AGE'])\n",
        "interim_df = pd.DataFrame(columns=['ID','Facial Index','Mandibular Index','Intercantal Index','Orbital Width Index','Eye Fissure Index','Vermilion Height Index','Mouth Face Width Index','AGE'])\n",
        "age_list=list()\n",
        "for d in list_dir:\n",
        "    interim_df.at[0,  ['Facial Index','Mandibular Index','Intercantal Index','Orbital Width Index','Eye Fissure Index','Vermilion Height Index','Mouth Face Width Index']] = pd.read_csv('/content/drive/My Drive/Aging model/datafiles/'+d, sep=\" \", header=None).values[0][:7]\n",
        "    interim_df['AGE'] = int(d[4:].replace('.txt','').replace('a','').replace('b',''))\n",
        "    interim_df['ID'] = int(d[:3])\n",
        "    final_df = pd.concat([final_df,interim_df])\n",
        "    \n",
        "# sort values by age of same person\n",
        "final_df = final_df.sort_values(['ID','AGE'],ascending=True)"
      ],
      "execution_count": 0,
      "outputs": []
    },
    {
      "cell_type": "code",
      "metadata": {
        "id": "92lJV4GPawSp",
        "colab_type": "code",
        "colab": {}
      },
      "source": [
        "final_df.to_csv('/content/drive/My Drive/Aging model/new/final_df.csv',index=False)"
      ],
      "execution_count": 0,
      "outputs": []
    },
    {
      "cell_type": "markdown",
      "metadata": {
        "id": "GCiG1qsQaxkr",
        "colab_type": "text"
      },
      "source": [
        "## Start"
      ]
    },
    {
      "cell_type": "code",
      "metadata": {
        "id": "IUL-w8YJaz8l",
        "colab_type": "code",
        "colab": {
          "base_uri": "https://localhost:8080/",
          "height": 129
        },
        "outputId": "aecd679f-ff3c-437b-ec5c-00f5b2431d72"
      },
      "source": [
        "from google.colab import drive\n",
        "drive.mount('/content/drive')"
      ],
      "execution_count": 1,
      "outputs": [
        {
          "output_type": "stream",
          "text": [
            "Go to this URL in a browser: https://accounts.google.com/o/oauth2/auth?client_id=947318989803-6bn6qk8qdgf4n4g3pfee6491hc0brc4i.apps.googleusercontent.com&redirect_uri=urn%3aietf%3awg%3aoauth%3a2.0%3aoob&response_type=code&scope=email%20https%3a%2f%2fwww.googleapis.com%2fauth%2fdocs.test%20https%3a%2f%2fwww.googleapis.com%2fauth%2fdrive%20https%3a%2f%2fwww.googleapis.com%2fauth%2fdrive.photos.readonly%20https%3a%2f%2fwww.googleapis.com%2fauth%2fpeopleapi.readonly\n",
            "\n",
            "Enter your authorization code:\n",
            "··········\n",
            "Mounted at /content/drive\n"
          ],
          "name": "stdout"
        }
      ]
    },
    {
      "cell_type": "code",
      "metadata": {
        "id": "rHPotxJCbBbN",
        "colab_type": "code",
        "colab": {}
      },
      "source": [
        "final_df=pd.read_csv('/content/drive/My Drive/Aging model/new/final_df.csv')"
      ],
      "execution_count": 0,
      "outputs": []
    },
    {
      "cell_type": "code",
      "metadata": {
        "id": "gXVTorTibOnI",
        "colab_type": "code",
        "colab": {
          "base_uri": "https://localhost:8080/",
          "height": 295
        },
        "outputId": "4255865c-5153-4b12-91b0-9e84eea14a63"
      },
      "source": [
        "classes=final_df[['ID']].values\n",
        "unique, counts = np.unique(classes, return_counts=True)\n",
        "plt.bar(unique,counts)\n",
        "plt.title('Class Frequency')\n",
        "plt.xlabel('Class')\n",
        "plt.ylabel('Frequency')\n",
        "plt.show()"
      ],
      "execution_count": 5,
      "outputs": [
        {
          "output_type": "display_data",
          "data": {
            "image/png": "[encoded data removed]",
            "text/plain": [
              "<Figure size 432x288 with 1 Axes>"
            ]
          },
          "metadata": {
            "tags": [],
            "needs_background": "light"
          }
        }
      ]
    },
    {
      "cell_type": "markdown",
      "metadata": {
        "id": "SmRtjOk4bY1U",
        "colab_type": "text"
      },
      "source": [
        "# One hot encoding"
      ]
    },
    {
      "cell_type": "code",
      "metadata": {
        "id": "yoGyfbhVbau-",
        "colab_type": "code",
        "colab": {}
      },
      "source": [
        "# use pd.concat to join the new columns with your original dataframe\n",
        "df = pd.concat([final_df['ID'],pd.get_dummies(final_df['ID'], prefix='person')],axis=1)"
      ],
      "execution_count": 0,
      "outputs": []
    },
    {
      "cell_type": "code",
      "metadata": {
        "id": "WZLgyMgWbgo-",
        "colab_type": "code",
        "colab": {}
      },
      "source": [
        "# addng file names\n",
        "image_names=[]\n",
        "for i in os.listdir('/content/drive/My Drive/Aging model/fgbw'):\n",
        "  image_names.append(i)"
      ],
      "execution_count": 0,
      "outputs": []
    },
    {
      "cell_type": "code",
      "metadata": {
        "id": "PRCs3mCubj6g",
        "colab_type": "code",
        "colab": {}
      },
      "source": [
        "df['file_name']=image_names"
      ],
      "execution_count": 0,
      "outputs": []
    },
    {
      "cell_type": "code",
      "metadata": {
        "id": "ZCtd5FCLbroT",
        "colab_type": "code",
        "colab": {
          "base_uri": "https://localhost:8080/",
          "height": 162
        },
        "outputId": "70b73e30-a4fc-4cc8-88ca-8cb20bce13d5"
      },
      "source": [
        "df.tail(2)"
      ],
      "execution_count": 11,
      "outputs": [
        {
          "output_type": "execute_result",
          "data": {
            "text/html": [
              "<div>\n",
              "<style scoped>\n",
              "    .dataframe tbody tr th:only-of-type {\n",
              "        vertical-align: middle;\n",
              "    }\n",
              "\n",
              "    .dataframe tbody tr th {\n",
              "        vertical-align: top;\n",
              "    }\n",
              "\n",
              "    .dataframe thead th {\n",
              "        text-align: right;\n",
              "    }\n",
              "</style>\n",
              "<table border=\"1\" class=\"dataframe\">\n",
              "  <thead>\n",
              "    <tr style=\"text-align: right;\">\n",
              "      <th></th>\n",
              "      <th>ID</th>\n",
              "      <th>person_1</th>\n",
              "      <th>person_2</th>\n",
              "      <th>person_3</th>\n",
              "      <th>person_4</th>\n",
              "      <th>person_5</th>\n",
              "      <th>person_6</th>\n",
              "      <th>person_7</th>\n",
              "      <th>person_8</th>\n",
              "      <th>person_9</th>\n",
              "      <th>person_10</th>\n",
              "      <th>person_11</th>\n",
              "      <th>person_12</th>\n",
              "      <th>person_13</th>\n",
              "      <th>person_14</th>\n",
              "      <th>person_15</th>\n",
              "      <th>person_16</th>\n",
              "      <th>person_17</th>\n",
              "      <th>person_18</th>\n",
              "      <th>person_19</th>\n",
              "      <th>person_20</th>\n",
              "      <th>person_21</th>\n",
              "      <th>person_22</th>\n",
              "      <th>person_23</th>\n",
              "      <th>person_24</th>\n",
              "      <th>person_25</th>\n",
              "      <th>person_26</th>\n",
              "      <th>person_27</th>\n",
              "      <th>person_28</th>\n",
              "      <th>person_29</th>\n",
              "      <th>person_30</th>\n",
              "      <th>person_31</th>\n",
              "      <th>person_32</th>\n",
              "      <th>person_33</th>\n",
              "      <th>person_34</th>\n",
              "      <th>person_35</th>\n",
              "      <th>person_36</th>\n",
              "      <th>person_37</th>\n",
              "      <th>person_38</th>\n",
              "      <th>person_39</th>\n",
              "      <th>...</th>\n",
              "      <th>person_44</th>\n",
              "      <th>person_45</th>\n",
              "      <th>person_46</th>\n",
              "      <th>person_47</th>\n",
              "      <th>person_48</th>\n",
              "      <th>person_49</th>\n",
              "      <th>person_50</th>\n",
              "      <th>person_51</th>\n",
              "      <th>person_52</th>\n",
              "      <th>person_53</th>\n",
              "      <th>person_54</th>\n",
              "      <th>person_55</th>\n",
              "      <th>person_56</th>\n",
              "      <th>person_57</th>\n",
              "      <th>person_58</th>\n",
              "      <th>person_59</th>\n",
              "      <th>person_60</th>\n",
              "      <th>person_61</th>\n",
              "      <th>person_62</th>\n",
              "      <th>person_63</th>\n",
              "      <th>person_64</th>\n",
              "      <th>person_65</th>\n",
              "      <th>person_66</th>\n",
              "      <th>person_67</th>\n",
              "      <th>person_68</th>\n",
              "      <th>person_69</th>\n",
              "      <th>person_70</th>\n",
              "      <th>person_71</th>\n",
              "      <th>person_72</th>\n",
              "      <th>person_73</th>\n",
              "      <th>person_74</th>\n",
              "      <th>person_75</th>\n",
              "      <th>person_76</th>\n",
              "      <th>person_77</th>\n",
              "      <th>person_78</th>\n",
              "      <th>person_79</th>\n",
              "      <th>person_80</th>\n",
              "      <th>person_81</th>\n",
              "      <th>person_82</th>\n",
              "      <th>file_name</th>\n",
              "    </tr>\n",
              "  </thead>\n",
              "  <tbody>\n",
              "    <tr>\n",
              "      <th>1000</th>\n",
              "      <td>82</td>\n",
              "      <td>0</td>\n",
              "      <td>0</td>\n",
              "      <td>0</td>\n",
              "      <td>0</td>\n",
              "      <td>0</td>\n",
              "      <td>0</td>\n",
              "      <td>0</td>\n",
              "      <td>0</td>\n",
              "      <td>0</td>\n",
              "      <td>0</td>\n",
              "      <td>0</td>\n",
              "      <td>0</td>\n",
              "      <td>0</td>\n",
              "      <td>0</td>\n",
              "      <td>0</td>\n",
              "      <td>0</td>\n",
              "      <td>0</td>\n",
              "      <td>0</td>\n",
              "      <td>0</td>\n",
              "      <td>0</td>\n",
              "      <td>0</td>\n",
              "      <td>0</td>\n",
              "      <td>0</td>\n",
              "      <td>0</td>\n",
              "      <td>0</td>\n",
              "      <td>0</td>\n",
              "      <td>0</td>\n",
              "      <td>0</td>\n",
              "      <td>0</td>\n",
              "      <td>0</td>\n",
              "      <td>0</td>\n",
              "      <td>0</td>\n",
              "      <td>0</td>\n",
              "      <td>0</td>\n",
              "      <td>0</td>\n",
              "      <td>0</td>\n",
              "      <td>0</td>\n",
              "      <td>0</td>\n",
              "      <td>0</td>\n",
              "      <td>...</td>\n",
              "      <td>0</td>\n",
              "      <td>0</td>\n",
              "      <td>0</td>\n",
              "      <td>0</td>\n",
              "      <td>0</td>\n",
              "      <td>0</td>\n",
              "      <td>0</td>\n",
              "      <td>0</td>\n",
              "      <td>0</td>\n",
              "      <td>0</td>\n",
              "      <td>0</td>\n",
              "      <td>0</td>\n",
              "      <td>0</td>\n",
              "      <td>0</td>\n",
              "      <td>0</td>\n",
              "      <td>0</td>\n",
              "      <td>0</td>\n",
              "      <td>0</td>\n",
              "      <td>0</td>\n",
              "      <td>0</td>\n",
              "      <td>0</td>\n",
              "      <td>0</td>\n",
              "      <td>0</td>\n",
              "      <td>0</td>\n",
              "      <td>0</td>\n",
              "      <td>0</td>\n",
              "      <td>0</td>\n",
              "      <td>0</td>\n",
              "      <td>0</td>\n",
              "      <td>0</td>\n",
              "      <td>0</td>\n",
              "      <td>0</td>\n",
              "      <td>0</td>\n",
              "      <td>0</td>\n",
              "      <td>0</td>\n",
              "      <td>0</td>\n",
              "      <td>0</td>\n",
              "      <td>0</td>\n",
              "      <td>1</td>\n",
              "      <td>001A02.JPG</td>\n",
              "    </tr>\n",
              "    <tr>\n",
              "      <th>1001</th>\n",
              "      <td>82</td>\n",
              "      <td>0</td>\n",
              "      <td>0</td>\n",
              "      <td>0</td>\n",
              "      <td>0</td>\n",
              "      <td>0</td>\n",
              "      <td>0</td>\n",
              "      <td>0</td>\n",
              "      <td>0</td>\n",
              "      <td>0</td>\n",
              "      <td>0</td>\n",
              "      <td>0</td>\n",
              "      <td>0</td>\n",
              "      <td>0</td>\n",
              "      <td>0</td>\n",
              "      <td>0</td>\n",
              "      <td>0</td>\n",
              "      <td>0</td>\n",
              "      <td>0</td>\n",
              "      <td>0</td>\n",
              "      <td>0</td>\n",
              "      <td>0</td>\n",
              "      <td>0</td>\n",
              "      <td>0</td>\n",
              "      <td>0</td>\n",
              "      <td>0</td>\n",
              "      <td>0</td>\n",
              "      <td>0</td>\n",
              "      <td>0</td>\n",
              "      <td>0</td>\n",
              "      <td>0</td>\n",
              "      <td>0</td>\n",
              "      <td>0</td>\n",
              "      <td>0</td>\n",
              "      <td>0</td>\n",
              "      <td>0</td>\n",
              "      <td>0</td>\n",
              "      <td>0</td>\n",
              "      <td>0</td>\n",
              "      <td>0</td>\n",
              "      <td>...</td>\n",
              "      <td>0</td>\n",
              "      <td>0</td>\n",
              "      <td>0</td>\n",
              "      <td>0</td>\n",
              "      <td>0</td>\n",
              "      <td>0</td>\n",
              "      <td>0</td>\n",
              "      <td>0</td>\n",
              "      <td>0</td>\n",
              "      <td>0</td>\n",
              "      <td>0</td>\n",
              "      <td>0</td>\n",
              "      <td>0</td>\n",
              "      <td>0</td>\n",
              "      <td>0</td>\n",
              "      <td>0</td>\n",
              "      <td>0</td>\n",
              "      <td>0</td>\n",
              "      <td>0</td>\n",
              "      <td>0</td>\n",
              "      <td>0</td>\n",
              "      <td>0</td>\n",
              "      <td>0</td>\n",
              "      <td>0</td>\n",
              "      <td>0</td>\n",
              "      <td>0</td>\n",
              "      <td>0</td>\n",
              "      <td>0</td>\n",
              "      <td>0</td>\n",
              "      <td>0</td>\n",
              "      <td>0</td>\n",
              "      <td>0</td>\n",
              "      <td>0</td>\n",
              "      <td>0</td>\n",
              "      <td>0</td>\n",
              "      <td>0</td>\n",
              "      <td>0</td>\n",
              "      <td>0</td>\n",
              "      <td>1</td>\n",
              "      <td>001A18.JPG</td>\n",
              "    </tr>\n",
              "  </tbody>\n",
              "</table>\n",
              "<p>2 rows × 84 columns</p>\n",
              "</div>"
            ],
            "text/plain": [
              "      ID  person_1  person_2  ...  person_81  person_82   file_name\n",
              "1000  82         0         0  ...          0          1  001A02.JPG\n",
              "1001  82         0         0  ...          0          1  001A18.JPG\n",
              "\n",
              "[2 rows x 84 columns]"
            ]
          },
          "metadata": {
            "tags": []
          },
          "execution_count": 11
        }
      ]
    },
    {
      "cell_type": "code",
      "metadata": {
        "id": "IWvaNYG_b6HF",
        "colab_type": "code",
        "colab": {}
      },
      "source": [
        "df.to_csv('/content/drive/My Drive/Aging model/new/df.csv',index=False)"
      ],
      "execution_count": 0,
      "outputs": []
    },
    {
      "cell_type": "markdown",
      "metadata": {
        "id": "RE6tg4yTb0vx",
        "colab_type": "text"
      },
      "source": [
        "# Start reading CSV"
      ]
    },
    {
      "cell_type": "code",
      "metadata": {
        "id": "L-gzWQRzb5Dk",
        "colab_type": "code",
        "colab": {}
      },
      "source": [
        "final_df=pd.read_csv('/content/drive/My Drive/Aging model/new/df.csv')\n"
      ],
      "execution_count": 0,
      "outputs": []
    },
    {
      "cell_type": "code",
      "metadata": {
        "id": "nFkEUckab-UN",
        "colab_type": "code",
        "colab": {}
      },
      "source": [
        "final_df=df"
      ],
      "execution_count": 0,
      "outputs": []
    },
    {
      "cell_type": "code",
      "metadata": {
        "id": "3eBRZtj0cLkb",
        "colab_type": "code",
        "colab": {
          "base_uri": "https://localhost:8080/",
          "height": 162
        },
        "outputId": "43639c56-2e3e-40eb-f4ba-c1401bc27ab7"
      },
      "source": [
        "final_df.tail(2)"
      ],
      "execution_count": 13,
      "outputs": [
        {
          "output_type": "execute_result",
          "data": {
            "text/html": [
              "<div>\n",
              "<style scoped>\n",
              "    .dataframe tbody tr th:only-of-type {\n",
              "        vertical-align: middle;\n",
              "    }\n",
              "\n",
              "    .dataframe tbody tr th {\n",
              "        vertical-align: top;\n",
              "    }\n",
              "\n",
              "    .dataframe thead th {\n",
              "        text-align: right;\n",
              "    }\n",
              "</style>\n",
              "<table border=\"1\" class=\"dataframe\">\n",
              "  <thead>\n",
              "    <tr style=\"text-align: right;\">\n",
              "      <th></th>\n",
              "      <th>ID</th>\n",
              "      <th>person_1</th>\n",
              "      <th>person_2</th>\n",
              "      <th>person_3</th>\n",
              "      <th>person_4</th>\n",
              "      <th>person_5</th>\n",
              "      <th>person_6</th>\n",
              "      <th>person_7</th>\n",
              "      <th>person_8</th>\n",
              "      <th>person_9</th>\n",
              "      <th>person_10</th>\n",
              "      <th>person_11</th>\n",
              "      <th>person_12</th>\n",
              "      <th>person_13</th>\n",
              "      <th>person_14</th>\n",
              "      <th>person_15</th>\n",
              "      <th>person_16</th>\n",
              "      <th>person_17</th>\n",
              "      <th>person_18</th>\n",
              "      <th>person_19</th>\n",
              "      <th>person_20</th>\n",
              "      <th>person_21</th>\n",
              "      <th>person_22</th>\n",
              "      <th>person_23</th>\n",
              "      <th>person_24</th>\n",
              "      <th>person_25</th>\n",
              "      <th>person_26</th>\n",
              "      <th>person_27</th>\n",
              "      <th>person_28</th>\n",
              "      <th>person_29</th>\n",
              "      <th>person_30</th>\n",
              "      <th>person_31</th>\n",
              "      <th>person_32</th>\n",
              "      <th>person_33</th>\n",
              "      <th>person_34</th>\n",
              "      <th>person_35</th>\n",
              "      <th>person_36</th>\n",
              "      <th>person_37</th>\n",
              "      <th>person_38</th>\n",
              "      <th>person_39</th>\n",
              "      <th>...</th>\n",
              "      <th>person_44</th>\n",
              "      <th>person_45</th>\n",
              "      <th>person_46</th>\n",
              "      <th>person_47</th>\n",
              "      <th>person_48</th>\n",
              "      <th>person_49</th>\n",
              "      <th>person_50</th>\n",
              "      <th>person_51</th>\n",
              "      <th>person_52</th>\n",
              "      <th>person_53</th>\n",
              "      <th>person_54</th>\n",
              "      <th>person_55</th>\n",
              "      <th>person_56</th>\n",
              "      <th>person_57</th>\n",
              "      <th>person_58</th>\n",
              "      <th>person_59</th>\n",
              "      <th>person_60</th>\n",
              "      <th>person_61</th>\n",
              "      <th>person_62</th>\n",
              "      <th>person_63</th>\n",
              "      <th>person_64</th>\n",
              "      <th>person_65</th>\n",
              "      <th>person_66</th>\n",
              "      <th>person_67</th>\n",
              "      <th>person_68</th>\n",
              "      <th>person_69</th>\n",
              "      <th>person_70</th>\n",
              "      <th>person_71</th>\n",
              "      <th>person_72</th>\n",
              "      <th>person_73</th>\n",
              "      <th>person_74</th>\n",
              "      <th>person_75</th>\n",
              "      <th>person_76</th>\n",
              "      <th>person_77</th>\n",
              "      <th>person_78</th>\n",
              "      <th>person_79</th>\n",
              "      <th>person_80</th>\n",
              "      <th>person_81</th>\n",
              "      <th>person_82</th>\n",
              "      <th>file_name</th>\n",
              "    </tr>\n",
              "  </thead>\n",
              "  <tbody>\n",
              "    <tr>\n",
              "      <th>1000</th>\n",
              "      <td>82</td>\n",
              "      <td>0</td>\n",
              "      <td>0</td>\n",
              "      <td>0</td>\n",
              "      <td>0</td>\n",
              "      <td>0</td>\n",
              "      <td>0</td>\n",
              "      <td>0</td>\n",
              "      <td>0</td>\n",
              "      <td>0</td>\n",
              "      <td>0</td>\n",
              "      <td>0</td>\n",
              "      <td>0</td>\n",
              "      <td>0</td>\n",
              "      <td>0</td>\n",
              "      <td>0</td>\n",
              "      <td>0</td>\n",
              "      <td>0</td>\n",
              "      <td>0</td>\n",
              "      <td>0</td>\n",
              "      <td>0</td>\n",
              "      <td>0</td>\n",
              "      <td>0</td>\n",
              "      <td>0</td>\n",
              "      <td>0</td>\n",
              "      <td>0</td>\n",
              "      <td>0</td>\n",
              "      <td>0</td>\n",
              "      <td>0</td>\n",
              "      <td>0</td>\n",
              "      <td>0</td>\n",
              "      <td>0</td>\n",
              "      <td>0</td>\n",
              "      <td>0</td>\n",
              "      <td>0</td>\n",
              "      <td>0</td>\n",
              "      <td>0</td>\n",
              "      <td>0</td>\n",
              "      <td>0</td>\n",
              "      <td>0</td>\n",
              "      <td>...</td>\n",
              "      <td>0</td>\n",
              "      <td>0</td>\n",
              "      <td>0</td>\n",
              "      <td>0</td>\n",
              "      <td>0</td>\n",
              "      <td>0</td>\n",
              "      <td>0</td>\n",
              "      <td>0</td>\n",
              "      <td>0</td>\n",
              "      <td>0</td>\n",
              "      <td>0</td>\n",
              "      <td>0</td>\n",
              "      <td>0</td>\n",
              "      <td>0</td>\n",
              "      <td>0</td>\n",
              "      <td>0</td>\n",
              "      <td>0</td>\n",
              "      <td>0</td>\n",
              "      <td>0</td>\n",
              "      <td>0</td>\n",
              "      <td>0</td>\n",
              "      <td>0</td>\n",
              "      <td>0</td>\n",
              "      <td>0</td>\n",
              "      <td>0</td>\n",
              "      <td>0</td>\n",
              "      <td>0</td>\n",
              "      <td>0</td>\n",
              "      <td>0</td>\n",
              "      <td>0</td>\n",
              "      <td>0</td>\n",
              "      <td>0</td>\n",
              "      <td>0</td>\n",
              "      <td>0</td>\n",
              "      <td>0</td>\n",
              "      <td>0</td>\n",
              "      <td>0</td>\n",
              "      <td>0</td>\n",
              "      <td>1</td>\n",
              "      <td>001A02.JPG</td>\n",
              "    </tr>\n",
              "    <tr>\n",
              "      <th>1001</th>\n",
              "      <td>82</td>\n",
              "      <td>0</td>\n",
              "      <td>0</td>\n",
              "      <td>0</td>\n",
              "      <td>0</td>\n",
              "      <td>0</td>\n",
              "      <td>0</td>\n",
              "      <td>0</td>\n",
              "      <td>0</td>\n",
              "      <td>0</td>\n",
              "      <td>0</td>\n",
              "      <td>0</td>\n",
              "      <td>0</td>\n",
              "      <td>0</td>\n",
              "      <td>0</td>\n",
              "      <td>0</td>\n",
              "      <td>0</td>\n",
              "      <td>0</td>\n",
              "      <td>0</td>\n",
              "      <td>0</td>\n",
              "      <td>0</td>\n",
              "      <td>0</td>\n",
              "      <td>0</td>\n",
              "      <td>0</td>\n",
              "      <td>0</td>\n",
              "      <td>0</td>\n",
              "      <td>0</td>\n",
              "      <td>0</td>\n",
              "      <td>0</td>\n",
              "      <td>0</td>\n",
              "      <td>0</td>\n",
              "      <td>0</td>\n",
              "      <td>0</td>\n",
              "      <td>0</td>\n",
              "      <td>0</td>\n",
              "      <td>0</td>\n",
              "      <td>0</td>\n",
              "      <td>0</td>\n",
              "      <td>0</td>\n",
              "      <td>0</td>\n",
              "      <td>...</td>\n",
              "      <td>0</td>\n",
              "      <td>0</td>\n",
              "      <td>0</td>\n",
              "      <td>0</td>\n",
              "      <td>0</td>\n",
              "      <td>0</td>\n",
              "      <td>0</td>\n",
              "      <td>0</td>\n",
              "      <td>0</td>\n",
              "      <td>0</td>\n",
              "      <td>0</td>\n",
              "      <td>0</td>\n",
              "      <td>0</td>\n",
              "      <td>0</td>\n",
              "      <td>0</td>\n",
              "      <td>0</td>\n",
              "      <td>0</td>\n",
              "      <td>0</td>\n",
              "      <td>0</td>\n",
              "      <td>0</td>\n",
              "      <td>0</td>\n",
              "      <td>0</td>\n",
              "      <td>0</td>\n",
              "      <td>0</td>\n",
              "      <td>0</td>\n",
              "      <td>0</td>\n",
              "      <td>0</td>\n",
              "      <td>0</td>\n",
              "      <td>0</td>\n",
              "      <td>0</td>\n",
              "      <td>0</td>\n",
              "      <td>0</td>\n",
              "      <td>0</td>\n",
              "      <td>0</td>\n",
              "      <td>0</td>\n",
              "      <td>0</td>\n",
              "      <td>0</td>\n",
              "      <td>0</td>\n",
              "      <td>1</td>\n",
              "      <td>001A18.JPG</td>\n",
              "    </tr>\n",
              "  </tbody>\n",
              "</table>\n",
              "<p>2 rows × 84 columns</p>\n",
              "</div>"
            ],
            "text/plain": [
              "      ID  person_1  person_2  ...  person_81  person_82   file_name\n",
              "1000  82         0         0  ...          0          1  001A02.JPG\n",
              "1001  82         0         0  ...          0          1  001A18.JPG\n",
              "\n",
              "[2 rows x 84 columns]"
            ]
          },
          "metadata": {
            "tags": []
          },
          "execution_count": 13
        }
      ]
    },
    {
      "cell_type": "markdown",
      "metadata": {
        "id": "RekUOdNjcXUA",
        "colab_type": "text"
      },
      "source": [
        "# Splitting data in training and validation(test) sets"
      ]
    },
    {
      "cell_type": "code",
      "metadata": {
        "id": "HYV8jj1ocYjB",
        "colab_type": "code",
        "colab": {}
      },
      "source": [
        "train_size = len(final_df['ID'].unique()) * .8\n",
        "train = pd.DataFrame()\n",
        "valid = pd.DataFrame()\n",
        "for n,i in enumerate(final_df['ID'].unique()):\n",
        "    if n< train_size:\n",
        "        train = pd.concat([train, final_df[final_df['ID']==i]])\n",
        "    else:\n",
        "        valid = pd.concat([valid, final_df[final_df['ID']==i]])"
      ],
      "execution_count": 0,
      "outputs": []
    },
    {
      "cell_type": "code",
      "metadata": {
        "id": "Bz91zS6oceiU",
        "colab_type": "code",
        "colab": {
          "base_uri": "https://localhost:8080/",
          "height": 54
        },
        "outputId": "f52d903c-2e29-4f03-ae04-f2c28e6d8e5f"
      },
      "source": [
        "print('Training Set Has: ' + str(len(train.groupby('ID').count())) + ' people')\n",
        "print('Validation (Test) Set Has: ' + str(len(valid.groupby('ID').count())) + ' people')"
      ],
      "execution_count": 15,
      "outputs": [
        {
          "output_type": "stream",
          "text": [
            "Training Set Has: 66 people\n",
            "Validation (Test) Set Has: 16 people\n"
          ],
          "name": "stdout"
        }
      ]
    },
    {
      "cell_type": "markdown",
      "metadata": {
        "id": "bJI6cskGclfh",
        "colab_type": "text"
      },
      "source": [
        "# Preparing Test data"
      ]
    },
    {
      "cell_type": "code",
      "metadata": {
        "id": "_GT76ot6cpmv",
        "colab_type": "code",
        "colab": {
          "base_uri": "https://localhost:8080/",
          "height": 91
        },
        "outputId": "06fc82d0-25b3-49f2-e6f0-d67bad846238"
      },
      "source": [
        "np.unique(train.ID.values)"
      ],
      "execution_count": 16,
      "outputs": [
        {
          "output_type": "execute_result",
          "data": {
            "text/plain": [
              "array([ 1,  2,  3,  4,  5,  6,  7,  8,  9, 10, 11, 12, 13, 14, 15, 16, 17,\n",
              "       18, 19, 20, 21, 22, 23, 24, 25, 26, 27, 28, 29, 30, 31, 32, 33, 34,\n",
              "       35, 36, 37, 38, 39, 40, 41, 42, 43, 44, 45, 46, 47, 48, 49, 50, 51,\n",
              "       52, 53, 54, 55, 56, 57, 58, 59, 60, 61, 62, 63, 64, 65, 66])"
            ]
          },
          "metadata": {
            "tags": []
          },
          "execution_count": 16
        }
      ]
    },
    {
      "cell_type": "code",
      "metadata": {
        "id": "6IAkEM86cvSp",
        "colab_type": "code",
        "colab": {
          "base_uri": "https://localhost:8080/",
          "height": 193
        },
        "outputId": "36316dbb-6dea-45f7-f245-e1668f473169"
      },
      "source": [
        "test_ids= [ 34,35, 36, 37, 38, 39, 40, 41] \n",
        "# selecting rows based on condition \n",
        "test= train[train['ID'].isin(test_ids)] \n",
        "test.head(3)"
      ],
      "execution_count": 17,
      "outputs": [
        {
          "output_type": "execute_result",
          "data": {
            "text/html": [
              "<div>\n",
              "<style scoped>\n",
              "    .dataframe tbody tr th:only-of-type {\n",
              "        vertical-align: middle;\n",
              "    }\n",
              "\n",
              "    .dataframe tbody tr th {\n",
              "        vertical-align: top;\n",
              "    }\n",
              "\n",
              "    .dataframe thead th {\n",
              "        text-align: right;\n",
              "    }\n",
              "</style>\n",
              "<table border=\"1\" class=\"dataframe\">\n",
              "  <thead>\n",
              "    <tr style=\"text-align: right;\">\n",
              "      <th></th>\n",
              "      <th>ID</th>\n",
              "      <th>person_1</th>\n",
              "      <th>person_2</th>\n",
              "      <th>person_3</th>\n",
              "      <th>person_4</th>\n",
              "      <th>person_5</th>\n",
              "      <th>person_6</th>\n",
              "      <th>person_7</th>\n",
              "      <th>person_8</th>\n",
              "      <th>person_9</th>\n",
              "      <th>person_10</th>\n",
              "      <th>person_11</th>\n",
              "      <th>person_12</th>\n",
              "      <th>person_13</th>\n",
              "      <th>person_14</th>\n",
              "      <th>person_15</th>\n",
              "      <th>person_16</th>\n",
              "      <th>person_17</th>\n",
              "      <th>person_18</th>\n",
              "      <th>person_19</th>\n",
              "      <th>person_20</th>\n",
              "      <th>person_21</th>\n",
              "      <th>person_22</th>\n",
              "      <th>person_23</th>\n",
              "      <th>person_24</th>\n",
              "      <th>person_25</th>\n",
              "      <th>person_26</th>\n",
              "      <th>person_27</th>\n",
              "      <th>person_28</th>\n",
              "      <th>person_29</th>\n",
              "      <th>person_30</th>\n",
              "      <th>person_31</th>\n",
              "      <th>person_32</th>\n",
              "      <th>person_33</th>\n",
              "      <th>person_34</th>\n",
              "      <th>person_35</th>\n",
              "      <th>person_36</th>\n",
              "      <th>person_37</th>\n",
              "      <th>person_38</th>\n",
              "      <th>person_39</th>\n",
              "      <th>...</th>\n",
              "      <th>person_44</th>\n",
              "      <th>person_45</th>\n",
              "      <th>person_46</th>\n",
              "      <th>person_47</th>\n",
              "      <th>person_48</th>\n",
              "      <th>person_49</th>\n",
              "      <th>person_50</th>\n",
              "      <th>person_51</th>\n",
              "      <th>person_52</th>\n",
              "      <th>person_53</th>\n",
              "      <th>person_54</th>\n",
              "      <th>person_55</th>\n",
              "      <th>person_56</th>\n",
              "      <th>person_57</th>\n",
              "      <th>person_58</th>\n",
              "      <th>person_59</th>\n",
              "      <th>person_60</th>\n",
              "      <th>person_61</th>\n",
              "      <th>person_62</th>\n",
              "      <th>person_63</th>\n",
              "      <th>person_64</th>\n",
              "      <th>person_65</th>\n",
              "      <th>person_66</th>\n",
              "      <th>person_67</th>\n",
              "      <th>person_68</th>\n",
              "      <th>person_69</th>\n",
              "      <th>person_70</th>\n",
              "      <th>person_71</th>\n",
              "      <th>person_72</th>\n",
              "      <th>person_73</th>\n",
              "      <th>person_74</th>\n",
              "      <th>person_75</th>\n",
              "      <th>person_76</th>\n",
              "      <th>person_77</th>\n",
              "      <th>person_78</th>\n",
              "      <th>person_79</th>\n",
              "      <th>person_80</th>\n",
              "      <th>person_81</th>\n",
              "      <th>person_82</th>\n",
              "      <th>file_name</th>\n",
              "    </tr>\n",
              "  </thead>\n",
              "  <tbody>\n",
              "    <tr>\n",
              "      <th>404</th>\n",
              "      <td>34</td>\n",
              "      <td>0</td>\n",
              "      <td>0</td>\n",
              "      <td>0</td>\n",
              "      <td>0</td>\n",
              "      <td>0</td>\n",
              "      <td>0</td>\n",
              "      <td>0</td>\n",
              "      <td>0</td>\n",
              "      <td>0</td>\n",
              "      <td>0</td>\n",
              "      <td>0</td>\n",
              "      <td>0</td>\n",
              "      <td>0</td>\n",
              "      <td>0</td>\n",
              "      <td>0</td>\n",
              "      <td>0</td>\n",
              "      <td>0</td>\n",
              "      <td>0</td>\n",
              "      <td>0</td>\n",
              "      <td>0</td>\n",
              "      <td>0</td>\n",
              "      <td>0</td>\n",
              "      <td>0</td>\n",
              "      <td>0</td>\n",
              "      <td>0</td>\n",
              "      <td>0</td>\n",
              "      <td>0</td>\n",
              "      <td>0</td>\n",
              "      <td>0</td>\n",
              "      <td>0</td>\n",
              "      <td>0</td>\n",
              "      <td>0</td>\n",
              "      <td>0</td>\n",
              "      <td>1</td>\n",
              "      <td>0</td>\n",
              "      <td>0</td>\n",
              "      <td>0</td>\n",
              "      <td>0</td>\n",
              "      <td>0</td>\n",
              "      <td>...</td>\n",
              "      <td>0</td>\n",
              "      <td>0</td>\n",
              "      <td>0</td>\n",
              "      <td>0</td>\n",
              "      <td>0</td>\n",
              "      <td>0</td>\n",
              "      <td>0</td>\n",
              "      <td>0</td>\n",
              "      <td>0</td>\n",
              "      <td>0</td>\n",
              "      <td>0</td>\n",
              "      <td>0</td>\n",
              "      <td>0</td>\n",
              "      <td>0</td>\n",
              "      <td>0</td>\n",
              "      <td>0</td>\n",
              "      <td>0</td>\n",
              "      <td>0</td>\n",
              "      <td>0</td>\n",
              "      <td>0</td>\n",
              "      <td>0</td>\n",
              "      <td>0</td>\n",
              "      <td>0</td>\n",
              "      <td>0</td>\n",
              "      <td>0</td>\n",
              "      <td>0</td>\n",
              "      <td>0</td>\n",
              "      <td>0</td>\n",
              "      <td>0</td>\n",
              "      <td>0</td>\n",
              "      <td>0</td>\n",
              "      <td>0</td>\n",
              "      <td>0</td>\n",
              "      <td>0</td>\n",
              "      <td>0</td>\n",
              "      <td>0</td>\n",
              "      <td>0</td>\n",
              "      <td>0</td>\n",
              "      <td>0</td>\n",
              "      <td>034A25.JPG</td>\n",
              "    </tr>\n",
              "    <tr>\n",
              "      <th>405</th>\n",
              "      <td>34</td>\n",
              "      <td>0</td>\n",
              "      <td>0</td>\n",
              "      <td>0</td>\n",
              "      <td>0</td>\n",
              "      <td>0</td>\n",
              "      <td>0</td>\n",
              "      <td>0</td>\n",
              "      <td>0</td>\n",
              "      <td>0</td>\n",
              "      <td>0</td>\n",
              "      <td>0</td>\n",
              "      <td>0</td>\n",
              "      <td>0</td>\n",
              "      <td>0</td>\n",
              "      <td>0</td>\n",
              "      <td>0</td>\n",
              "      <td>0</td>\n",
              "      <td>0</td>\n",
              "      <td>0</td>\n",
              "      <td>0</td>\n",
              "      <td>0</td>\n",
              "      <td>0</td>\n",
              "      <td>0</td>\n",
              "      <td>0</td>\n",
              "      <td>0</td>\n",
              "      <td>0</td>\n",
              "      <td>0</td>\n",
              "      <td>0</td>\n",
              "      <td>0</td>\n",
              "      <td>0</td>\n",
              "      <td>0</td>\n",
              "      <td>0</td>\n",
              "      <td>0</td>\n",
              "      <td>1</td>\n",
              "      <td>0</td>\n",
              "      <td>0</td>\n",
              "      <td>0</td>\n",
              "      <td>0</td>\n",
              "      <td>0</td>\n",
              "      <td>...</td>\n",
              "      <td>0</td>\n",
              "      <td>0</td>\n",
              "      <td>0</td>\n",
              "      <td>0</td>\n",
              "      <td>0</td>\n",
              "      <td>0</td>\n",
              "      <td>0</td>\n",
              "      <td>0</td>\n",
              "      <td>0</td>\n",
              "      <td>0</td>\n",
              "      <td>0</td>\n",
              "      <td>0</td>\n",
              "      <td>0</td>\n",
              "      <td>0</td>\n",
              "      <td>0</td>\n",
              "      <td>0</td>\n",
              "      <td>0</td>\n",
              "      <td>0</td>\n",
              "      <td>0</td>\n",
              "      <td>0</td>\n",
              "      <td>0</td>\n",
              "      <td>0</td>\n",
              "      <td>0</td>\n",
              "      <td>0</td>\n",
              "      <td>0</td>\n",
              "      <td>0</td>\n",
              "      <td>0</td>\n",
              "      <td>0</td>\n",
              "      <td>0</td>\n",
              "      <td>0</td>\n",
              "      <td>0</td>\n",
              "      <td>0</td>\n",
              "      <td>0</td>\n",
              "      <td>0</td>\n",
              "      <td>0</td>\n",
              "      <td>0</td>\n",
              "      <td>0</td>\n",
              "      <td>0</td>\n",
              "      <td>0</td>\n",
              "      <td>034A21.JPG</td>\n",
              "    </tr>\n",
              "    <tr>\n",
              "      <th>406</th>\n",
              "      <td>34</td>\n",
              "      <td>0</td>\n",
              "      <td>0</td>\n",
              "      <td>0</td>\n",
              "      <td>0</td>\n",
              "      <td>0</td>\n",
              "      <td>0</td>\n",
              "      <td>0</td>\n",
              "      <td>0</td>\n",
              "      <td>0</td>\n",
              "      <td>0</td>\n",
              "      <td>0</td>\n",
              "      <td>0</td>\n",
              "      <td>0</td>\n",
              "      <td>0</td>\n",
              "      <td>0</td>\n",
              "      <td>0</td>\n",
              "      <td>0</td>\n",
              "      <td>0</td>\n",
              "      <td>0</td>\n",
              "      <td>0</td>\n",
              "      <td>0</td>\n",
              "      <td>0</td>\n",
              "      <td>0</td>\n",
              "      <td>0</td>\n",
              "      <td>0</td>\n",
              "      <td>0</td>\n",
              "      <td>0</td>\n",
              "      <td>0</td>\n",
              "      <td>0</td>\n",
              "      <td>0</td>\n",
              "      <td>0</td>\n",
              "      <td>0</td>\n",
              "      <td>0</td>\n",
              "      <td>1</td>\n",
              "      <td>0</td>\n",
              "      <td>0</td>\n",
              "      <td>0</td>\n",
              "      <td>0</td>\n",
              "      <td>0</td>\n",
              "      <td>...</td>\n",
              "      <td>0</td>\n",
              "      <td>0</td>\n",
              "      <td>0</td>\n",
              "      <td>0</td>\n",
              "      <td>0</td>\n",
              "      <td>0</td>\n",
              "      <td>0</td>\n",
              "      <td>0</td>\n",
              "      <td>0</td>\n",
              "      <td>0</td>\n",
              "      <td>0</td>\n",
              "      <td>0</td>\n",
              "      <td>0</td>\n",
              "      <td>0</td>\n",
              "      <td>0</td>\n",
              "      <td>0</td>\n",
              "      <td>0</td>\n",
              "      <td>0</td>\n",
              "      <td>0</td>\n",
              "      <td>0</td>\n",
              "      <td>0</td>\n",
              "      <td>0</td>\n",
              "      <td>0</td>\n",
              "      <td>0</td>\n",
              "      <td>0</td>\n",
              "      <td>0</td>\n",
              "      <td>0</td>\n",
              "      <td>0</td>\n",
              "      <td>0</td>\n",
              "      <td>0</td>\n",
              "      <td>0</td>\n",
              "      <td>0</td>\n",
              "      <td>0</td>\n",
              "      <td>0</td>\n",
              "      <td>0</td>\n",
              "      <td>0</td>\n",
              "      <td>0</td>\n",
              "      <td>0</td>\n",
              "      <td>0</td>\n",
              "      <td>034A16.JPG</td>\n",
              "    </tr>\n",
              "  </tbody>\n",
              "</table>\n",
              "<p>3 rows × 84 columns</p>\n",
              "</div>"
            ],
            "text/plain": [
              "     ID  person_1  person_2  ...  person_81  person_82   file_name\n",
              "404  34         0         0  ...          0          0  034A25.JPG\n",
              "405  34         0         0  ...          0          0  034A21.JPG\n",
              "406  34         0         0  ...          0          0  034A16.JPG\n",
              "\n",
              "[3 rows x 84 columns]"
            ]
          },
          "metadata": {
            "tags": []
          },
          "execution_count": 17
        }
      ]
    },
    {
      "cell_type": "code",
      "metadata": {
        "id": "JTtNkfWcc4e0",
        "colab_type": "code",
        "colab": {
          "base_uri": "https://localhost:8080/",
          "height": 350
        },
        "outputId": "92665d1f-505d-427b-9ec1-fca0af00d8e1"
      },
      "source": [
        "train.columns"
      ],
      "execution_count": 18,
      "outputs": [
        {
          "output_type": "execute_result",
          "data": {
            "text/plain": [
              "Index(['ID', 'person_1', 'person_2', 'person_3', 'person_4', 'person_5',\n",
              "       'person_6', 'person_7', 'person_8', 'person_9', 'person_10',\n",
              "       'person_11', 'person_12', 'person_13', 'person_14', 'person_15',\n",
              "       'person_16', 'person_17', 'person_18', 'person_19', 'person_20',\n",
              "       'person_21', 'person_22', 'person_23', 'person_24', 'person_25',\n",
              "       'person_26', 'person_27', 'person_28', 'person_29', 'person_30',\n",
              "       'person_31', 'person_32', 'person_33', 'person_34', 'person_35',\n",
              "       'person_36', 'person_37', 'person_38', 'person_39', 'person_40',\n",
              "       'person_41', 'person_42', 'person_43', 'person_44', 'person_45',\n",
              "       'person_46', 'person_47', 'person_48', 'person_49', 'person_50',\n",
              "       'person_51', 'person_52', 'person_53', 'person_54', 'person_55',\n",
              "       'person_56', 'person_57', 'person_58', 'person_59', 'person_60',\n",
              "       'person_61', 'person_62', 'person_63', 'person_64', 'person_65',\n",
              "       'person_66', 'person_67', 'person_68', 'person_69', 'person_70',\n",
              "       'person_71', 'person_72', 'person_73', 'person_74', 'person_75',\n",
              "       'person_76', 'person_77', 'person_78', 'person_79', 'person_80',\n",
              "       'person_81', 'person_82', 'file_name'],\n",
              "      dtype='object')"
            ]
          },
          "metadata": {
            "tags": []
          },
          "execution_count": 18
        }
      ]
    },
    {
      "cell_type": "code",
      "metadata": {
        "id": "v7QvHemDc-Up",
        "colab_type": "code",
        "colab": {}
      },
      "source": [
        "# removing 34,35, 36, 37, 38, 39, 40, 41 indices\n",
        "train_ids=['0', '1', '2', '3', '4', '5', '6', '7', '8', '9', '10', '11',\n",
        "       '12', '13', '14', '15', '16', '17', '18', '19', '20', '21', '22', '23',\n",
        "       '24', '25', '26', '27', '28', '29', '30', '31', '32', '33', '42', '43', '44', '45', '46', '47',\n",
        "       '48', '49', '50', '51', '52', '53', '54', '55', '56', '57', '58', '59',\n",
        "       '60', '61', '62', '63', '64', '65', '66', '67', '68', '69', '70', '71',\n",
        "       '72', '73', '74', '75', '76', '77', '78', '79', '80', '81']"
      ],
      "execution_count": 0,
      "outputs": []
    },
    {
      "cell_type": "code",
      "metadata": {
        "id": "g9-xMbPGdIjo",
        "colab_type": "code",
        "colab": {
          "base_uri": "https://localhost:8080/",
          "height": 193
        },
        "outputId": "9a7201c3-8337-436c-bf08-0d20744211df"
      },
      "source": [
        "train= train[train['ID'].isin(train_ids)] \n",
        "train.head(3)"
      ],
      "execution_count": 21,
      "outputs": [
        {
          "output_type": "execute_result",
          "data": {
            "text/html": [
              "<div>\n",
              "<style scoped>\n",
              "    .dataframe tbody tr th:only-of-type {\n",
              "        vertical-align: middle;\n",
              "    }\n",
              "\n",
              "    .dataframe tbody tr th {\n",
              "        vertical-align: top;\n",
              "    }\n",
              "\n",
              "    .dataframe thead th {\n",
              "        text-align: right;\n",
              "    }\n",
              "</style>\n",
              "<table border=\"1\" class=\"dataframe\">\n",
              "  <thead>\n",
              "    <tr style=\"text-align: right;\">\n",
              "      <th></th>\n",
              "      <th>ID</th>\n",
              "      <th>person_1</th>\n",
              "      <th>person_2</th>\n",
              "      <th>person_3</th>\n",
              "      <th>person_4</th>\n",
              "      <th>person_5</th>\n",
              "      <th>person_6</th>\n",
              "      <th>person_7</th>\n",
              "      <th>person_8</th>\n",
              "      <th>person_9</th>\n",
              "      <th>person_10</th>\n",
              "      <th>person_11</th>\n",
              "      <th>person_12</th>\n",
              "      <th>person_13</th>\n",
              "      <th>person_14</th>\n",
              "      <th>person_15</th>\n",
              "      <th>person_16</th>\n",
              "      <th>person_17</th>\n",
              "      <th>person_18</th>\n",
              "      <th>person_19</th>\n",
              "      <th>person_20</th>\n",
              "      <th>person_21</th>\n",
              "      <th>person_22</th>\n",
              "      <th>person_23</th>\n",
              "      <th>person_24</th>\n",
              "      <th>person_25</th>\n",
              "      <th>person_26</th>\n",
              "      <th>person_27</th>\n",
              "      <th>person_28</th>\n",
              "      <th>person_29</th>\n",
              "      <th>person_30</th>\n",
              "      <th>person_31</th>\n",
              "      <th>person_32</th>\n",
              "      <th>person_33</th>\n",
              "      <th>person_34</th>\n",
              "      <th>person_35</th>\n",
              "      <th>person_36</th>\n",
              "      <th>person_37</th>\n",
              "      <th>person_38</th>\n",
              "      <th>person_39</th>\n",
              "      <th>...</th>\n",
              "      <th>person_44</th>\n",
              "      <th>person_45</th>\n",
              "      <th>person_46</th>\n",
              "      <th>person_47</th>\n",
              "      <th>person_48</th>\n",
              "      <th>person_49</th>\n",
              "      <th>person_50</th>\n",
              "      <th>person_51</th>\n",
              "      <th>person_52</th>\n",
              "      <th>person_53</th>\n",
              "      <th>person_54</th>\n",
              "      <th>person_55</th>\n",
              "      <th>person_56</th>\n",
              "      <th>person_57</th>\n",
              "      <th>person_58</th>\n",
              "      <th>person_59</th>\n",
              "      <th>person_60</th>\n",
              "      <th>person_61</th>\n",
              "      <th>person_62</th>\n",
              "      <th>person_63</th>\n",
              "      <th>person_64</th>\n",
              "      <th>person_65</th>\n",
              "      <th>person_66</th>\n",
              "      <th>person_67</th>\n",
              "      <th>person_68</th>\n",
              "      <th>person_69</th>\n",
              "      <th>person_70</th>\n",
              "      <th>person_71</th>\n",
              "      <th>person_72</th>\n",
              "      <th>person_73</th>\n",
              "      <th>person_74</th>\n",
              "      <th>person_75</th>\n",
              "      <th>person_76</th>\n",
              "      <th>person_77</th>\n",
              "      <th>person_78</th>\n",
              "      <th>person_79</th>\n",
              "      <th>person_80</th>\n",
              "      <th>person_81</th>\n",
              "      <th>person_82</th>\n",
              "      <th>file_name</th>\n",
              "    </tr>\n",
              "  </thead>\n",
              "  <tbody>\n",
              "    <tr>\n",
              "      <th>0</th>\n",
              "      <td>1</td>\n",
              "      <td>1</td>\n",
              "      <td>0</td>\n",
              "      <td>0</td>\n",
              "      <td>0</td>\n",
              "      <td>0</td>\n",
              "      <td>0</td>\n",
              "      <td>0</td>\n",
              "      <td>0</td>\n",
              "      <td>0</td>\n",
              "      <td>0</td>\n",
              "      <td>0</td>\n",
              "      <td>0</td>\n",
              "      <td>0</td>\n",
              "      <td>0</td>\n",
              "      <td>0</td>\n",
              "      <td>0</td>\n",
              "      <td>0</td>\n",
              "      <td>0</td>\n",
              "      <td>0</td>\n",
              "      <td>0</td>\n",
              "      <td>0</td>\n",
              "      <td>0</td>\n",
              "      <td>0</td>\n",
              "      <td>0</td>\n",
              "      <td>0</td>\n",
              "      <td>0</td>\n",
              "      <td>0</td>\n",
              "      <td>0</td>\n",
              "      <td>0</td>\n",
              "      <td>0</td>\n",
              "      <td>0</td>\n",
              "      <td>0</td>\n",
              "      <td>0</td>\n",
              "      <td>0</td>\n",
              "      <td>0</td>\n",
              "      <td>0</td>\n",
              "      <td>0</td>\n",
              "      <td>0</td>\n",
              "      <td>0</td>\n",
              "      <td>...</td>\n",
              "      <td>0</td>\n",
              "      <td>0</td>\n",
              "      <td>0</td>\n",
              "      <td>0</td>\n",
              "      <td>0</td>\n",
              "      <td>0</td>\n",
              "      <td>0</td>\n",
              "      <td>0</td>\n",
              "      <td>0</td>\n",
              "      <td>0</td>\n",
              "      <td>0</td>\n",
              "      <td>0</td>\n",
              "      <td>0</td>\n",
              "      <td>0</td>\n",
              "      <td>0</td>\n",
              "      <td>0</td>\n",
              "      <td>0</td>\n",
              "      <td>0</td>\n",
              "      <td>0</td>\n",
              "      <td>0</td>\n",
              "      <td>0</td>\n",
              "      <td>0</td>\n",
              "      <td>0</td>\n",
              "      <td>0</td>\n",
              "      <td>0</td>\n",
              "      <td>0</td>\n",
              "      <td>0</td>\n",
              "      <td>0</td>\n",
              "      <td>0</td>\n",
              "      <td>0</td>\n",
              "      <td>0</td>\n",
              "      <td>0</td>\n",
              "      <td>0</td>\n",
              "      <td>0</td>\n",
              "      <td>0</td>\n",
              "      <td>0</td>\n",
              "      <td>0</td>\n",
              "      <td>0</td>\n",
              "      <td>0</td>\n",
              "      <td>002A03.JPG</td>\n",
              "    </tr>\n",
              "    <tr>\n",
              "      <th>1</th>\n",
              "      <td>1</td>\n",
              "      <td>1</td>\n",
              "      <td>0</td>\n",
              "      <td>0</td>\n",
              "      <td>0</td>\n",
              "      <td>0</td>\n",
              "      <td>0</td>\n",
              "      <td>0</td>\n",
              "      <td>0</td>\n",
              "      <td>0</td>\n",
              "      <td>0</td>\n",
              "      <td>0</td>\n",
              "      <td>0</td>\n",
              "      <td>0</td>\n",
              "      <td>0</td>\n",
              "      <td>0</td>\n",
              "      <td>0</td>\n",
              "      <td>0</td>\n",
              "      <td>0</td>\n",
              "      <td>0</td>\n",
              "      <td>0</td>\n",
              "      <td>0</td>\n",
              "      <td>0</td>\n",
              "      <td>0</td>\n",
              "      <td>0</td>\n",
              "      <td>0</td>\n",
              "      <td>0</td>\n",
              "      <td>0</td>\n",
              "      <td>0</td>\n",
              "      <td>0</td>\n",
              "      <td>0</td>\n",
              "      <td>0</td>\n",
              "      <td>0</td>\n",
              "      <td>0</td>\n",
              "      <td>0</td>\n",
              "      <td>0</td>\n",
              "      <td>0</td>\n",
              "      <td>0</td>\n",
              "      <td>0</td>\n",
              "      <td>0</td>\n",
              "      <td>...</td>\n",
              "      <td>0</td>\n",
              "      <td>0</td>\n",
              "      <td>0</td>\n",
              "      <td>0</td>\n",
              "      <td>0</td>\n",
              "      <td>0</td>\n",
              "      <td>0</td>\n",
              "      <td>0</td>\n",
              "      <td>0</td>\n",
              "      <td>0</td>\n",
              "      <td>0</td>\n",
              "      <td>0</td>\n",
              "      <td>0</td>\n",
              "      <td>0</td>\n",
              "      <td>0</td>\n",
              "      <td>0</td>\n",
              "      <td>0</td>\n",
              "      <td>0</td>\n",
              "      <td>0</td>\n",
              "      <td>0</td>\n",
              "      <td>0</td>\n",
              "      <td>0</td>\n",
              "      <td>0</td>\n",
              "      <td>0</td>\n",
              "      <td>0</td>\n",
              "      <td>0</td>\n",
              "      <td>0</td>\n",
              "      <td>0</td>\n",
              "      <td>0</td>\n",
              "      <td>0</td>\n",
              "      <td>0</td>\n",
              "      <td>0</td>\n",
              "      <td>0</td>\n",
              "      <td>0</td>\n",
              "      <td>0</td>\n",
              "      <td>0</td>\n",
              "      <td>0</td>\n",
              "      <td>0</td>\n",
              "      <td>0</td>\n",
              "      <td>001A33.JPG</td>\n",
              "    </tr>\n",
              "    <tr>\n",
              "      <th>2</th>\n",
              "      <td>1</td>\n",
              "      <td>1</td>\n",
              "      <td>0</td>\n",
              "      <td>0</td>\n",
              "      <td>0</td>\n",
              "      <td>0</td>\n",
              "      <td>0</td>\n",
              "      <td>0</td>\n",
              "      <td>0</td>\n",
              "      <td>0</td>\n",
              "      <td>0</td>\n",
              "      <td>0</td>\n",
              "      <td>0</td>\n",
              "      <td>0</td>\n",
              "      <td>0</td>\n",
              "      <td>0</td>\n",
              "      <td>0</td>\n",
              "      <td>0</td>\n",
              "      <td>0</td>\n",
              "      <td>0</td>\n",
              "      <td>0</td>\n",
              "      <td>0</td>\n",
              "      <td>0</td>\n",
              "      <td>0</td>\n",
              "      <td>0</td>\n",
              "      <td>0</td>\n",
              "      <td>0</td>\n",
              "      <td>0</td>\n",
              "      <td>0</td>\n",
              "      <td>0</td>\n",
              "      <td>0</td>\n",
              "      <td>0</td>\n",
              "      <td>0</td>\n",
              "      <td>0</td>\n",
              "      <td>0</td>\n",
              "      <td>0</td>\n",
              "      <td>0</td>\n",
              "      <td>0</td>\n",
              "      <td>0</td>\n",
              "      <td>0</td>\n",
              "      <td>...</td>\n",
              "      <td>0</td>\n",
              "      <td>0</td>\n",
              "      <td>0</td>\n",
              "      <td>0</td>\n",
              "      <td>0</td>\n",
              "      <td>0</td>\n",
              "      <td>0</td>\n",
              "      <td>0</td>\n",
              "      <td>0</td>\n",
              "      <td>0</td>\n",
              "      <td>0</td>\n",
              "      <td>0</td>\n",
              "      <td>0</td>\n",
              "      <td>0</td>\n",
              "      <td>0</td>\n",
              "      <td>0</td>\n",
              "      <td>0</td>\n",
              "      <td>0</td>\n",
              "      <td>0</td>\n",
              "      <td>0</td>\n",
              "      <td>0</td>\n",
              "      <td>0</td>\n",
              "      <td>0</td>\n",
              "      <td>0</td>\n",
              "      <td>0</td>\n",
              "      <td>0</td>\n",
              "      <td>0</td>\n",
              "      <td>0</td>\n",
              "      <td>0</td>\n",
              "      <td>0</td>\n",
              "      <td>0</td>\n",
              "      <td>0</td>\n",
              "      <td>0</td>\n",
              "      <td>0</td>\n",
              "      <td>0</td>\n",
              "      <td>0</td>\n",
              "      <td>0</td>\n",
              "      <td>0</td>\n",
              "      <td>0</td>\n",
              "      <td>001A28.JPG</td>\n",
              "    </tr>\n",
              "  </tbody>\n",
              "</table>\n",
              "<p>3 rows × 84 columns</p>\n",
              "</div>"
            ],
            "text/plain": [
              "   ID  person_1  person_2  ...  person_81  person_82   file_name\n",
              "0   1         1         0  ...          0          0  002A03.JPG\n",
              "1   1         1         0  ...          0          0  001A33.JPG\n",
              "2   1         1         0  ...          0          0  001A28.JPG\n",
              "\n",
              "[3 rows x 84 columns]"
            ]
          },
          "metadata": {
            "tags": []
          },
          "execution_count": 21
        }
      ]
    },
    {
      "cell_type": "code",
      "metadata": {
        "id": "Zi384qjYdEAf",
        "colab_type": "code",
        "colab": {
          "base_uri": "https://localhost:8080/",
          "height": 72
        },
        "outputId": "f08d950a-588e-4d98-aadf-3955dd67aef2"
      },
      "source": [
        "print('Training    Set Has: ' + str(len(train.groupby('ID').count())) + ' people')\n",
        "print('Validation  Set Has: ' + str(len(valid.groupby('ID').count())) + ' people')\n",
        "print('.....Test   Set Has:  ' + str(len(test.groupby('ID').count())) + ' people')"
      ],
      "execution_count": 27,
      "outputs": [
        {
          "output_type": "stream",
          "text": [
            "Training    Set Has: 58 people\n",
            "Validation  Set Has: 16 people\n",
            ".....Test   Set Has:  8 people\n"
          ],
          "name": "stdout"
        }
      ]
    },
    {
      "cell_type": "markdown",
      "metadata": {
        "id": "RwsyIdXBdyoO",
        "colab_type": "text"
      },
      "source": [
        "# Target labels"
      ]
    },
    {
      "cell_type": "code",
      "metadata": {
        "id": "OKF9cP1Wdx4C",
        "colab_type": "code",
        "colab": {
          "base_uri": "https://localhost:8080/",
          "height": 350
        },
        "outputId": "88e256b4-7740-4908-a753-93c7c3ef9373"
      },
      "source": [
        "test.columns"
      ],
      "execution_count": 28,
      "outputs": [
        {
          "output_type": "execute_result",
          "data": {
            "text/plain": [
              "Index(['ID', 'person_1', 'person_2', 'person_3', 'person_4', 'person_5',\n",
              "       'person_6', 'person_7', 'person_8', 'person_9', 'person_10',\n",
              "       'person_11', 'person_12', 'person_13', 'person_14', 'person_15',\n",
              "       'person_16', 'person_17', 'person_18', 'person_19', 'person_20',\n",
              "       'person_21', 'person_22', 'person_23', 'person_24', 'person_25',\n",
              "       'person_26', 'person_27', 'person_28', 'person_29', 'person_30',\n",
              "       'person_31', 'person_32', 'person_33', 'person_34', 'person_35',\n",
              "       'person_36', 'person_37', 'person_38', 'person_39', 'person_40',\n",
              "       'person_41', 'person_42', 'person_43', 'person_44', 'person_45',\n",
              "       'person_46', 'person_47', 'person_48', 'person_49', 'person_50',\n",
              "       'person_51', 'person_52', 'person_53', 'person_54', 'person_55',\n",
              "       'person_56', 'person_57', 'person_58', 'person_59', 'person_60',\n",
              "       'person_61', 'person_62', 'person_63', 'person_64', 'person_65',\n",
              "       'person_66', 'person_67', 'person_68', 'person_69', 'person_70',\n",
              "       'person_71', 'person_72', 'person_73', 'person_74', 'person_75',\n",
              "       'person_76', 'person_77', 'person_78', 'person_79', 'person_80',\n",
              "       'person_81', 'person_82', 'file_name'],\n",
              "      dtype='object')"
            ]
          },
          "metadata": {
            "tags": []
          },
          "execution_count": 28
        }
      ]
    },
    {
      "cell_type": "code",
      "metadata": {
        "id": "Xvh1kj7_d6Bw",
        "colab_type": "code",
        "colab": {}
      },
      "source": [
        "# Only keeping the labels in the Target columns\n",
        "target_columns=['person_1', 'person_2', 'person_3', 'person_4', 'person_5',\n",
        "       'person_6', 'person_7', 'person_8', 'person_9', 'person_10',\n",
        "       'person_11', 'person_12', 'person_13', 'person_14', 'person_15',\n",
        "       'person_16', 'person_17', 'person_18', 'person_19', 'person_20',\n",
        "       'person_21', 'person_22', 'person_23', 'person_24', 'person_25',\n",
        "       'person_26', 'person_27', 'person_28', 'person_29', 'person_30',\n",
        "       'person_31', 'person_32', 'person_33', 'person_34', 'person_35',\n",
        "       'person_36', 'person_37', 'person_38', 'person_39', 'person_40',\n",
        "       'person_41', 'person_42', 'person_43', 'person_44', 'person_45',\n",
        "       'person_46', 'person_47', 'person_48', 'person_49', 'person_50',\n",
        "       'person_51', 'person_52', 'person_53', 'person_54', 'person_55',\n",
        "       'person_56', 'person_57', 'person_58', 'person_59', 'person_60',\n",
        "       'person_61', 'person_62', 'person_63', 'person_64', 'person_65',\n",
        "       'person_66', 'person_67', 'person_68', 'person_69', 'person_70',\n",
        "       'person_71', 'person_72', 'person_73', 'person_74', 'person_75',\n",
        "       'person_76', 'person_77', 'person_78', 'person_79', 'person_80',\n",
        "       'person_81', 'person_82']"
      ],
      "execution_count": 0,
      "outputs": []
    },
    {
      "cell_type": "code",
      "metadata": {
        "id": "3Y5Qt4DaeElI",
        "colab_type": "code",
        "colab": {}
      },
      "source": [
        "len(target_columns)"
      ],
      "execution_count": 0,
      "outputs": []
    },
    {
      "cell_type": "markdown",
      "metadata": {
        "id": "I3mTed_Xfv1s",
        "colab_type": "text"
      },
      "source": [
        "# Using the Best Model 6 in Notebook 0601"
      ]
    },
    {
      "cell_type": "code",
      "metadata": {
        "id": "AcS2JKHsgDke",
        "colab_type": "code",
        "colab": {}
      },
      "source": [
        "# adding regularization\n",
        "from keras.regularizers import l2\n",
        "from keras.layers.advanced_activations import LeakyReLU\n",
        "act = LeakyReLU(alpha=0.1)"
      ],
      "execution_count": 0,
      "outputs": []
    },
    {
      "cell_type": "code",
      "metadata": {
        "id": "FPgNhWsgf1zq",
        "colab_type": "code",
        "colab": {}
      },
      "source": [
        "## Alhamdulillah...\n",
        "\n",
        "model6 =Sequential()\n",
        "\n",
        "model6.add(Conv2D(32, (3, 3), input_shape=(150, 150, 3)))\n",
        "model6.add(act)\n",
        "model6.add(MaxPooling2D((2, 2)))\n",
        "model6.add(Dropout(0.2))\n",
        "\n",
        "\n",
        "model6.add(Conv2D(64, (3, 3)))\n",
        "model6.add(act)\n",
        "model6.add(MaxPooling2D((2, 2)))\n",
        "model6.add(Dropout(0.2))\n",
        "\n",
        "\n",
        "model6.add(Conv2D(62, (3,3), kernel_regularizer=l2(0.01), bias_regularizer=l2(0.01)))\n",
        "model6.add(act)\n",
        "model6.add(MaxPooling2D((2, 2)))\n",
        "model6.add(Dropout(0.2))\n",
        "\n",
        "\n",
        "model6.add(Conv2D(128, (3, 3)))\n",
        "model6.add(act)\n",
        "model6.add(MaxPooling2D((2, 2)))\n",
        "model6.add(Dropout(0.2))\n",
        "\n",
        "\n",
        "model6.add(Conv2D(128, (3, 3)))\n",
        "model6.add(act)\n",
        "model6.add(MaxPooling2D((2, 2)))\n",
        "model6.add(Dropout(0.2))\n",
        "\n",
        "model6.add(Flatten())\n",
        "model6.add(Dropout(0.2))\n",
        "model6.add(Dense(512))\n",
        "model6.add(act)\n",
        "model6.add(Dense(82, activation='sigmoid'))\n",
        "\n",
        "model6.compile(loss='binary_crossentropy',\n",
        "optimizer=optimizers.Adam(lr=1e-5),\n",
        "metrics=['accuracy'])\n"
      ],
      "execution_count": 0,
      "outputs": []
    },
    {
      "cell_type": "markdown",
      "metadata": {
        "id": "lq4HkWYzgRAu",
        "colab_type": "text"
      },
      "source": [
        "# **Defining Train ,Validation and Test generator**"
      ]
    },
    {
      "cell_type": "markdown",
      "metadata": {
        "id": "2FBjiwxygWEg",
        "colab_type": "text"
      },
      "source": [
        "## First doing Face Augmentation only for the Train Data"
      ]
    },
    {
      "cell_type": "code",
      "metadata": {
        "id": "FzwWkMp2gSMz",
        "colab_type": "code",
        "colab": {}
      },
      "source": [
        "## Defining Augmentation object using ImageDataGenerator\n",
        "TRAIN_DATAGEN = ImageDataGenerator(\n",
        "rescale=1./255,\n",
        "rotation_range=40,\n",
        "width_shift_range=0.2,\n",
        "height_shift_range=0.2,\n",
        "shear_range=0.2,\n",
        "zoom_range=0.2,\n",
        "horizontal_flip=True,)"
      ],
      "execution_count": 0,
      "outputs": []
    },
    {
      "cell_type": "code",
      "metadata": {
        "id": "dM_6gNJrgej7",
        "colab_type": "code",
        "colab": {
          "base_uri": "https://localhost:8080/",
          "height": 35
        },
        "outputId": "3028f9fd-dbe4-4217-f85f-711c7424dbe7"
      },
      "source": [
        "train_generator=TRAIN_DATAGEN.flow_from_dataframe(\n",
        "dataframe=train,\n",
        "directory=\"/content/drive/My Drive/Aging model/fg\",\n",
        "x_col='file_name',\n",
        "y_col=target_columns,\n",
        "batch_size=32,\n",
        "seed=42,\n",
        "shuffle=True,class_mode='raw',\n",
        "target_size=(150,150))"
      ],
      "execution_count": 35,
      "outputs": [
        {
          "output_type": "stream",
          "text": [
            "Found 686 validated image filenames.\n"
          ],
          "name": "stdout"
        }
      ]
    },
    {
      "cell_type": "code",
      "metadata": {
        "id": "kmU0texKgnOc",
        "colab_type": "code",
        "colab": {
          "base_uri": "https://localhost:8080/",
          "height": 35
        },
        "outputId": "323a11bd-7203-4f29-a844-819df73d6046"
      },
      "source": [
        "valid_datagen = ImageDataGenerator(rescale=1./255)\n",
        "\n",
        "valid_generator=valid_datagen.flow_from_dataframe(\n",
        "dataframe=valid,\n",
        "directory=\"/content/drive/My Drive/Aging model/fg\",\n",
        "x_col='file_name',\n",
        "y_col=target_columns,\n",
        "batch_size=32,\n",
        "seed=42,\n",
        "shuffle=True,class_mode='raw',\n",
        "target_size=(150,150))"
      ],
      "execution_count": 36,
      "outputs": [
        {
          "output_type": "stream",
          "text": [
            "Found 212 validated image filenames.\n"
          ],
          "name": "stdout"
        }
      ]
    },
    {
      "cell_type": "code",
      "metadata": {
        "id": "uwLqFk5CgsXw",
        "colab_type": "code",
        "colab": {
          "base_uri": "https://localhost:8080/",
          "height": 35
        },
        "outputId": "c75b3685-6f82-4b93-a46d-f8682ee24923"
      },
      "source": [
        "test_datagen = ImageDataGenerator(rescale=1./255)\n",
        "\n",
        "test_generator=valid_datagen.flow_from_dataframe(\n",
        "dataframe=test,\n",
        "directory=\"/content/drive/My Drive/Aging model/fg\",\n",
        "x_col='file_name',\n",
        "y_col=target_columns,\n",
        "batch_size=32,\n",
        "seed=42,\n",
        "shuffle=True,class_mode='raw',\n",
        "target_size=(150,150))"
      ],
      "execution_count": 37,
      "outputs": [
        {
          "output_type": "stream",
          "text": [
            "Found 104 validated image filenames.\n"
          ],
          "name": "stdout"
        }
      ]
    },
    {
      "cell_type": "markdown",
      "metadata": {
        "id": "18gNefizgxEJ",
        "colab_type": "text"
      },
      "source": [
        "# Training begins Experiment 1 (model 6)"
      ]
    },
    {
      "cell_type": "code",
      "metadata": {
        "id": "oLbpILsqg0Vm",
        "colab_type": "code",
        "colab": {
          "base_uri": "https://localhost:8080/",
          "height": 756
        },
        "outputId": "3d87e8d8-9665-4332-87cc-3ecd72de83d1"
      },
      "source": [
        "STEP_SIZE_TRAIN=train_generator.n//train_generator.batch_size\n",
        "STEP_SIZE_VALID=valid_generator.n//valid_generator.batch_size\n",
        "\n",
        "history =model6.fit_generator(generator=train_generator,\n",
        "                    steps_per_epoch=STEP_SIZE_TRAIN,\n",
        "                    validation_data=valid_generator,\n",
        "                    validation_steps=STEP_SIZE_VALID,\n",
        "                    epochs=20\n",
        ")"
      ],
      "execution_count": 38,
      "outputs": [
        {
          "output_type": "stream",
          "text": [
            "Epoch 1/20\n",
            "21/21 [==============================] - 317s 15s/step - loss: 1.3238 - accuracy: 0.5181 - val_loss: 1.3174 - val_accuracy: 0.5772\n",
            "Epoch 2/20\n",
            "21/21 [==============================] - 21s 1s/step - loss: 1.3006 - accuracy: 0.6039 - val_loss: 1.3068 - val_accuracy: 0.6628\n",
            "Epoch 3/20\n",
            "21/21 [==============================] - 6s 299ms/step - loss: 1.2736 - accuracy: 0.6774 - val_loss: 1.2935 - val_accuracy: 0.7528\n",
            "Epoch 4/20\n",
            "21/21 [==============================] - 6s 300ms/step - loss: 1.2357 - accuracy: 0.7476 - val_loss: 1.2744 - val_accuracy: 0.8220\n",
            "Epoch 5/20\n",
            "21/21 [==============================] - 6s 289ms/step - loss: 1.1799 - accuracy: 0.8076 - val_loss: 1.2394 - val_accuracy: 0.8713\n",
            "Epoch 6/20\n",
            "21/21 [==============================] - 6s 295ms/step - loss: 1.1005 - accuracy: 0.8594 - val_loss: 1.1808 - val_accuracy: 0.9139\n",
            "Epoch 7/20\n",
            "21/21 [==============================] - 6s 292ms/step - loss: 0.9992 - accuracy: 0.9046 - val_loss: 1.1096 - val_accuracy: 0.9527\n",
            "Epoch 8/20\n",
            "21/21 [==============================] - 6s 301ms/step - loss: 0.8886 - accuracy: 0.9446 - val_loss: 1.0104 - val_accuracy: 0.9877\n",
            "Epoch 9/20\n",
            "21/21 [==============================] - 7s 319ms/step - loss: 0.7974 - accuracy: 0.9700 - val_loss: 0.9138 - val_accuracy: 0.9878\n",
            "Epoch 10/20\n",
            "21/21 [==============================] - 6s 296ms/step - loss: 0.7337 - accuracy: 0.9828 - val_loss: 0.8327 - val_accuracy: 0.9878\n",
            "Epoch 11/20\n",
            "21/21 [==============================] - 6s 291ms/step - loss: 0.6956 - accuracy: 0.9865 - val_loss: 0.7922 - val_accuracy: 0.9878\n",
            "Epoch 12/20\n",
            "21/21 [==============================] - 6s 285ms/step - loss: 0.6790 - accuracy: 0.9871 - val_loss: 0.7688 - val_accuracy: 0.9878\n",
            "Epoch 13/20\n",
            "21/21 [==============================] - 6s 300ms/step - loss: 0.6663 - accuracy: 0.9876 - val_loss: 0.7393 - val_accuracy: 0.9878\n",
            "Epoch 14/20\n",
            "21/21 [==============================] - 6s 293ms/step - loss: 0.6597 - accuracy: 0.9877 - val_loss: 0.7146 - val_accuracy: 0.9878\n",
            "Epoch 15/20\n",
            "21/21 [==============================] - 6s 307ms/step - loss: 0.6537 - accuracy: 0.9877 - val_loss: 0.7220 - val_accuracy: 0.9878\n",
            "Epoch 16/20\n",
            "21/21 [==============================] - 7s 329ms/step - loss: 0.6470 - accuracy: 0.9878 - val_loss: 0.7059 - val_accuracy: 0.9878\n",
            "Epoch 17/20\n",
            "21/21 [==============================] - 6s 298ms/step - loss: 0.6415 - accuracy: 0.9878 - val_loss: 0.7079 - val_accuracy: 0.9878\n",
            "Epoch 18/20\n",
            "21/21 [==============================] - 6s 290ms/step - loss: 0.6365 - accuracy: 0.9878 - val_loss: 0.7007 - val_accuracy: 0.9878\n",
            "Epoch 19/20\n",
            "21/21 [==============================] - 6s 295ms/step - loss: 0.6320 - accuracy: 0.9878 - val_loss: 0.6981 - val_accuracy: 0.9878\n",
            "Epoch 20/20\n",
            "21/21 [==============================] - 6s 290ms/step - loss: 0.6272 - accuracy: 0.9878 - val_loss: 0.6898 - val_accuracy: 0.9878\n"
          ],
          "name": "stdout"
        }
      ]
    },
    {
      "cell_type": "code",
      "metadata": {
        "id": "6yMCEdkslNzC",
        "colab_type": "code",
        "colab": {
          "base_uri": "https://localhost:8080/",
          "height": 545
        },
        "outputId": "3cd3b6dc-4ba8-49df-8235-b78fb076ecba"
      },
      "source": [
        "#MAY 30 am\n",
        "### FINAL Alhamdulillah...use sigmoid with binary-entropy...\n",
        "acc = history.history['accuracy']\n",
        "val_acc = history.history['val_accuracy']\n",
        "loss = history.history['loss']\n",
        "val_loss = history.history['val_loss']\n",
        "epochs = range(1, len(acc) + 1)\n",
        "plt.plot(epochs, acc, 'r', label='Training acc')\n",
        "plt.plot(epochs, val_acc, 'b', label='Validation acc')\n",
        "plt.title('Training and validation accuracy')\n",
        "plt.legend()\n",
        "plt.figure()\n",
        "plt.plot(epochs, loss, 'r', label='Training loss')\n",
        "plt.plot(epochs, val_loss, 'b', label='Validation loss')\n",
        "plt.title('Training and validation loss')\n",
        "plt.legend()\n",
        "plt.show()"
      ],
      "execution_count": 39,
      "outputs": [
        {
          "output_type": "display_data",
          "data": {
            "image/png": "[encoded data removed]",
            "text/plain": [
              "<Figure size 432x288 with 1 Axes>"
            ]
          },
          "metadata": {
            "tags": [],
            "needs_background": "light"
          }
        },
        {
          "output_type": "display_data",
          "data": {
            "image/png": "[encoded data removed]",
            "text/plain": [
              "<Figure size 432x288 with 1 Axes>"
            ]
          },
          "metadata": {
            "tags": [],
            "needs_background": "light"
          }
        }
      ]
    },
    {
      "cell_type": "markdown",
      "metadata": {
        "id": "YB1haRmslZas",
        "colab_type": "text"
      },
      "source": [
        "## Evaluating on un seen data"
      ]
    },
    {
      "cell_type": "code",
      "metadata": {
        "id": "qVUZpGgJlgIN",
        "colab_type": "code",
        "colab": {
          "base_uri": "https://localhost:8080/",
          "height": 54
        },
        "outputId": "04065aee-b9f0-4bd9-aea7-3939c2a8a02c"
      },
      "source": [
        "score=model6.evaluate_generator(test_generator)\n",
        "print('Test loss:', score[0])\n",
        "print('Test accuracy:', score[1])"
      ],
      "execution_count": 40,
      "outputs": [
        {
          "output_type": "stream",
          "text": [
            "Test loss: 0.7143713235855103\n",
            "Test accuracy: 0.9878048300743103\n"
          ],
          "name": "stdout"
        }
      ]
    },
    {
      "cell_type": "markdown",
      "metadata": {
        "id": "9CCCHNp1mQ-a",
        "colab_type": "text"
      },
      "source": [
        "#Using bigger size images in bw"
      ]
    },
    {
      "cell_type": "code",
      "metadata": {
        "id": "7jV7ZDw0r5G-",
        "colab_type": "code",
        "colab": {}
      },
      "source": [
        "## Alhamdulillah...\n",
        "\n",
        "model6 =Sequential()\n",
        "\n",
        "model6.add(Conv2D(32, (3, 3), input_shape=(300,300, 3)))\n",
        "model6.add(act)\n",
        "model6.add(MaxPooling2D((2, 2)))\n",
        "model6.add(Dropout(0.2))\n",
        "\n",
        "\n",
        "model6.add(Conv2D(64, (3, 3)))\n",
        "model6.add(act)\n",
        "model6.add(MaxPooling2D((2, 2)))\n",
        "model6.add(Dropout(0.2))\n",
        "\n",
        "\n",
        "model6.add(Conv2D(62, (3,3), kernel_regularizer=l2(0.01), bias_regularizer=l2(0.01)))\n",
        "model6.add(act)\n",
        "model6.add(MaxPooling2D((2, 2)))\n",
        "model6.add(Dropout(0.2))\n",
        "\n",
        "\n",
        "model6.add(Conv2D(128, (3, 3)))\n",
        "model6.add(act)\n",
        "model6.add(MaxPooling2D((2, 2)))\n",
        "model6.add(Dropout(0.2))\n",
        "\n",
        "\n",
        "model6.add(Conv2D(128, (3, 3)))\n",
        "model6.add(act)\n",
        "model6.add(MaxPooling2D((2, 2)))\n",
        "model6.add(Dropout(0.2))\n",
        "\n",
        "model6.add(Flatten())\n",
        "model6.add(Dropout(0.2))\n",
        "model6.add(Dense(512))\n",
        "model6.add(act)\n",
        "model6.add(Dense(82, activation='sigmoid'))\n",
        "\n",
        "model6.compile(loss='binary_crossentropy',\n",
        "optimizer=optimizers.Adam(lr=1e-5),\n",
        "metrics=['accuracy'])\n"
      ],
      "execution_count": 0,
      "outputs": []
    },
    {
      "cell_type": "code",
      "metadata": {
        "id": "j63M0__gmWA5",
        "colab_type": "code",
        "colab": {}
      },
      "source": [
        "## Defining Augmentation object using ImageDataGenerator\n",
        "TRAIN_DATAGEN = ImageDataGenerator(\n",
        "rescale=1./255,\n",
        "rotation_range=40,\n",
        "width_shift_range=0.2,\n",
        "height_shift_range=0.2,\n",
        "shear_range=0.2,\n",
        "zoom_range=0.2,\n",
        "horizontal_flip=True,)"
      ],
      "execution_count": 0,
      "outputs": []
    },
    {
      "cell_type": "code",
      "metadata": {
        "id": "3-lFcT5gmlwN",
        "colab_type": "code",
        "colab": {
          "base_uri": "https://localhost:8080/",
          "height": 35
        },
        "outputId": "bf98949d-bd03-424b-ba50-33ac35d7fe85"
      },
      "source": [
        "train_generator=TRAIN_DATAGEN.flow_from_dataframe(\n",
        "dataframe=train,\n",
        "directory=\"/content/drive/My Drive/Aging model/fgbw\",\n",
        "x_col='file_name',\n",
        "y_col=target_columns,\n",
        "batch_size=32,\n",
        "seed=42,\n",
        "shuffle=True,class_mode='raw',\n",
        "target_size=(300,300))"
      ],
      "execution_count": 48,
      "outputs": [
        {
          "output_type": "stream",
          "text": [
            "Found 686 validated image filenames.\n"
          ],
          "name": "stdout"
        }
      ]
    },
    {
      "cell_type": "code",
      "metadata": {
        "id": "A2LRwcBQm4yv",
        "colab_type": "code",
        "colab": {
          "base_uri": "https://localhost:8080/",
          "height": 35
        },
        "outputId": "04425fd2-7cc5-4304-fdb3-fd26be70a853"
      },
      "source": [
        "valid_datagen = ImageDataGenerator(rescale=1./255)\n",
        "\n",
        "valid_generator=valid_datagen.flow_from_dataframe(\n",
        "dataframe=valid,\n",
        "directory=\"/content/drive/My Drive/Aging model/fgbw\",\n",
        "x_col='file_name',\n",
        "y_col=target_columns,\n",
        "batch_size=32,\n",
        "seed=42,\n",
        "shuffle=True,class_mode='raw',\n",
        "target_size=(300,300))"
      ],
      "execution_count": 49,
      "outputs": [
        {
          "output_type": "stream",
          "text": [
            "Found 212 validated image filenames.\n"
          ],
          "name": "stdout"
        }
      ]
    },
    {
      "cell_type": "code",
      "metadata": {
        "id": "hDIGp4HZnB4C",
        "colab_type": "code",
        "colab": {
          "base_uri": "https://localhost:8080/",
          "height": 35
        },
        "outputId": "51930cd0-17f1-487c-8da9-7224896581d3"
      },
      "source": [
        "test_datagen = ImageDataGenerator(rescale=1./255)\n",
        "\n",
        "test_generator=valid_datagen.flow_from_dataframe(\n",
        "dataframe=test,\n",
        "directory=\"/content/drive/My Drive/Aging model/fgbw\",\n",
        "x_col='file_name',\n",
        "y_col=target_columns,\n",
        "batch_size=32,\n",
        "seed=42,\n",
        "shuffle=True,class_mode='raw',\n",
        "target_size=(300,300))"
      ],
      "execution_count": 50,
      "outputs": [
        {
          "output_type": "stream",
          "text": [
            "Found 104 validated image filenames.\n"
          ],
          "name": "stdout"
        }
      ]
    },
    {
      "cell_type": "markdown",
      "metadata": {
        "id": "g_OquE3wnMVb",
        "colab_type": "text"
      },
      "source": [
        "# Training begins Experiment 2 (model 6) using bigger target size in bw images"
      ]
    },
    {
      "cell_type": "code",
      "metadata": {
        "id": "oEql3T2qnUR4",
        "colab_type": "code",
        "colab": {
          "base_uri": "https://localhost:8080/",
          "height": 756
        },
        "outputId": "2196913c-9f5e-4a21-c434-87264df9f606"
      },
      "source": [
        "STEP_SIZE_TRAIN=train_generator.n//train_generator.batch_size\n",
        "STEP_SIZE_VALID=valid_generator.n//valid_generator.batch_size\n",
        "\n",
        "history =model6.fit_generator(generator=train_generator,\n",
        "                    steps_per_epoch=STEP_SIZE_TRAIN,\n",
        "                    validation_data=valid_generator,\n",
        "                    validation_steps=STEP_SIZE_VALID,\n",
        "                    epochs=20\n",
        ")"
      ],
      "execution_count": 51,
      "outputs": [
        {
          "output_type": "stream",
          "text": [
            "Epoch 1/20\n",
            "21/21 [==============================] - 313s 15s/step - loss: 1.2833 - accuracy: 0.6440 - val_loss: 1.2965 - val_accuracy: 0.8435\n",
            "Epoch 2/20\n",
            "21/21 [==============================] - 30s 1s/step - loss: 1.1616 - accuracy: 0.8707 - val_loss: 1.2443 - val_accuracy: 0.9505\n",
            "Epoch 3/20\n",
            "21/21 [==============================] - 14s 653ms/step - loss: 0.9866 - accuracy: 0.9561 - val_loss: 1.1485 - val_accuracy: 0.9878\n",
            "Epoch 4/20\n",
            "21/21 [==============================] - 13s 623ms/step - loss: 0.8095 - accuracy: 0.9855 - val_loss: 1.0262 - val_accuracy: 0.9878\n",
            "Epoch 5/20\n",
            "21/21 [==============================] - 14s 648ms/step - loss: 0.7183 - accuracy: 0.9878 - val_loss: 0.9214 - val_accuracy: 0.9878\n",
            "Epoch 6/20\n",
            "21/21 [==============================] - 14s 647ms/step - loss: 0.6886 - accuracy: 0.9878 - val_loss: 0.8619 - val_accuracy: 0.9878\n",
            "Epoch 7/20\n",
            "21/21 [==============================] - 13s 640ms/step - loss: 0.6795 - accuracy: 0.9878 - val_loss: 0.8450 - val_accuracy: 0.9878\n",
            "Epoch 8/20\n",
            "21/21 [==============================] - 14s 643ms/step - loss: 0.6730 - accuracy: 0.9878 - val_loss: 0.8314 - val_accuracy: 0.9878\n",
            "Epoch 9/20\n",
            "21/21 [==============================] - 14s 666ms/step - loss: 0.6661 - accuracy: 0.9878 - val_loss: 0.8252 - val_accuracy: 0.9878\n",
            "Epoch 10/20\n",
            "21/21 [==============================] - 13s 624ms/step - loss: 0.6627 - accuracy: 0.9878 - val_loss: 0.8195 - val_accuracy: 0.9878\n",
            "Epoch 11/20\n",
            "21/21 [==============================] - 14s 656ms/step - loss: 0.6577 - accuracy: 0.9878 - val_loss: 0.8308 - val_accuracy: 0.9878\n",
            "Epoch 12/20\n",
            "21/21 [==============================] - 13s 638ms/step - loss: 0.6526 - accuracy: 0.9878 - val_loss: 0.8200 - val_accuracy: 0.9878\n",
            "Epoch 13/20\n",
            "21/21 [==============================] - 13s 641ms/step - loss: 0.6488 - accuracy: 0.9878 - val_loss: 0.7981 - val_accuracy: 0.9878\n",
            "Epoch 14/20\n",
            "21/21 [==============================] - 13s 635ms/step - loss: 0.6431 - accuracy: 0.9878 - val_loss: 0.7996 - val_accuracy: 0.9878\n",
            "Epoch 15/20\n",
            "21/21 [==============================] - 14s 645ms/step - loss: 0.6386 - accuracy: 0.9878 - val_loss: 0.8088 - val_accuracy: 0.9878\n",
            "Epoch 16/20\n",
            "21/21 [==============================] - 14s 651ms/step - loss: 0.6344 - accuracy: 0.9878 - val_loss: 0.7913 - val_accuracy: 0.9878\n",
            "Epoch 17/20\n",
            "21/21 [==============================] - 13s 626ms/step - loss: 0.6303 - accuracy: 0.9878 - val_loss: 0.7724 - val_accuracy: 0.9878\n",
            "Epoch 18/20\n",
            "21/21 [==============================] - 14s 656ms/step - loss: 0.6258 - accuracy: 0.9878 - val_loss: 0.7789 - val_accuracy: 0.9878\n",
            "Epoch 19/20\n",
            "21/21 [==============================] - 14s 643ms/step - loss: 0.6217 - accuracy: 0.9878 - val_loss: 0.7705 - val_accuracy: 0.9878\n",
            "Epoch 20/20\n",
            "21/21 [==============================] - 13s 638ms/step - loss: 0.6168 - accuracy: 0.9878 - val_loss: 0.7626 - val_accuracy: 0.9878\n"
          ],
          "name": "stdout"
        }
      ]
    },
    {
      "cell_type": "code",
      "metadata": {
        "id": "q-9x38q0wUrM",
        "colab_type": "code",
        "colab": {
          "base_uri": "https://localhost:8080/",
          "height": 545
        },
        "outputId": "b9fbe033-8941-4eab-f003-ecefbf235fd3"
      },
      "source": [
        "#MAY 30 am\n",
        "### FINAL Alhamdulillah...use sigmoid with binary-entropy...\n",
        "acc = history.history['accuracy']\n",
        "val_acc = history.history['val_accuracy']\n",
        "loss = history.history['loss']\n",
        "val_loss = history.history['val_loss']\n",
        "epochs = range(1, len(acc) + 1)\n",
        "plt.plot(epochs, acc, 'r', label='Training acc')\n",
        "plt.plot(epochs, val_acc, 'b', label='Validation acc')\n",
        "plt.title('Training and validation accuracy')\n",
        "plt.legend()\n",
        "plt.figure()\n",
        "plt.plot(epochs, loss, 'r', label='Training loss')\n",
        "plt.plot(epochs, val_loss, 'b', label='Validation loss')\n",
        "plt.title('Training and validation loss')\n",
        "plt.legend()\n",
        "plt.show()"
      ],
      "execution_count": 52,
      "outputs": [
        {
          "output_type": "display_data",
          "data": {
            "image/png": "[encoded data removed]",
            "text/plain": [
              "<Figure size 432x288 with 1 Axes>"
            ]
          },
          "metadata": {
            "tags": [],
            "needs_background": "light"
          }
        },
        {
          "output_type": "display_data",
          "data": {
            "image/png": "[encoded data removed]",
            "text/plain": [
              "<Figure size 432x288 with 1 Axes>"
            ]
          },
          "metadata": {
            "tags": [],
            "needs_background": "light"
          }
        }
      ]
    },
    {
      "cell_type": "code",
      "metadata": {
        "id": "b-VFl4zGwfok",
        "colab_type": "code",
        "colab": {
          "base_uri": "https://localhost:8080/",
          "height": 54
        },
        "outputId": "8bef1f97-54b4-4690-c13c-d1b948afeeae"
      },
      "source": [
        "score=model6.evaluate_generator(test_generator)\n",
        "print('Test loss:', score[0])\n",
        "print('Test accuracy:', score[1])"
      ],
      "execution_count": 53,
      "outputs": [
        {
          "output_type": "stream",
          "text": [
            "Test loss: 0.8115292191505432\n",
            "Test accuracy: 0.9878048300743103\n"
          ],
          "name": "stdout"
        }
      ]
    }
  ]
}