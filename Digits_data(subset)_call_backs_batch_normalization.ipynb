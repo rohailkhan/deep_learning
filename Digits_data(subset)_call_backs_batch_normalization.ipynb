{
  "nbformat": 4,
  "nbformat_minor": 0,
  "metadata": {
    "colab": {
      "name": "Digits data(subset) call backs -batch normalization.ipynb",
      "provenance": [],
      "authorship_tag": "ABX9TyOMkjkgCAyHebOH/W00vcpJ",
      "include_colab_link": true
    },
    "kernelspec": {
      "name": "python3",
      "display_name": "Python 3"
    }
  },
  "cells": [
    {
      "cell_type": "markdown",
      "metadata": {
        "id": "view-in-github",
        "colab_type": "text"
      },
      "source": [
        "<a href=\"https://colab.research.google.com/github/rohailkhan/deep_learning/blob/master/Digits_data(subset)_call_backs_batch_normalization.ipynb\" target=\"_parent\"><img src=\"https://colab.research.google.com/assets/colab-badge.svg\" alt=\"Open In Colab\"/></a>"
      ]
    },
    {
      "cell_type": "code",
      "metadata": {
        "id": "LWkugro42sN5",
        "colab_type": "code",
        "outputId": "f48ad6ab-d541-4c3b-cc0c-7a18e9c87be5",
        "colab": {
          "base_uri": "https://localhost:8080/",
          "height": 74
        }
      },
      "source": [
        "import pandas as pd\n",
        "import numpy as np\n",
        "import seaborn as sns\n",
        "import matplotlib.pyplot as plt\n",
        "import tensorflow "
      ],
      "execution_count": 0,
      "outputs": [
        {
          "output_type": "stream",
          "text": [
            "/usr/local/lib/python3.6/dist-packages/statsmodels/tools/_testing.py:19: FutureWarning: pandas.util.testing is deprecated. Use the functions in the public API at pandas.testing instead.\n",
            "  import pandas.util.testing as tm\n"
          ],
          "name": "stderr"
        }
      ]
    },
    {
      "cell_type": "code",
      "metadata": {
        "id": "5Qnul74z3nuK",
        "colab_type": "code",
        "colab": {}
      },
      "source": [
        "from tensorflow.keras.layers import Dense\n",
        "from tensorflow.keras.models import Sequential\n",
        "from tensorflow.keras import datasets\n",
        "# Loading MNIST dataset.\n",
        "# verify\n",
        "# You can verify that the split between train and test is 60,000, and\n",
        "#10,000 respectively.\n",
        "# Labels have one-hot representation.is automatically applied\n",
        "mnist = datasets.mnist\n",
        "(X_train, y_train), (X_test, y_test) = mnist.load_data()\n",
        "# X_train is 60000 rows of 28x28 values; we --> reshape it to\n",
        "# 60000 x 784.\n",
        "X_train=X_train.reshape(60000,(28*28))\n",
        "X_test=X_test.reshape(10000,(28*28))\n",
        "from tensorflow.keras.utils import to_categorical\n",
        "NB_CLASSES = 10 # number of outputs = number of digits\n",
        "#One-hot representation of the labels.\n",
        "y_train = to_categorical(y_train, NB_CLASSES)\n",
        "y_test = to_categorical(y_test, NB_CLASSES)"
      ],
      "execution_count": 0,
      "outputs": []
    },
    {
      "cell_type": "code",
      "metadata": {
        "id": "rN6tjnBsayBK",
        "colab_type": "code",
        "outputId": "806a1e02-1e29-4309-f32e-8d2ae5b0e7c6",
        "colab": {
          "base_uri": "https://localhost:8080/",
          "height": 35
        }
      },
      "source": [
        "X_train=X_train[0:1257,0:64]\n",
        "y_train=y_train[0:1257,:]\n",
        "X_test=X_test[0:540,0:64]\n",
        "y_test=y_test[0:540,:]\n",
        "print('Xtest={} y_test={} X_train={} y_train={}'.format(X_test.shape,y_test.shape,X_train.shape,y_train.shape))"
      ],
      "execution_count": 0,
      "outputs": [
        {
          "output_type": "stream",
          "text": [
            "Xtest=(540, 64) y_test=(540, 10) X_train=(1257, 64) y_train=(1257, 10)\n"
          ],
          "name": "stdout"
        }
      ]
    },
    {
      "cell_type": "code",
      "metadata": {
        "id": "TtHA8gnxa_HS",
        "colab_type": "code",
        "colab": {}
      },
      "source": [
        "model=Sequential()\n",
        "# using \n",
        "model.add(Dense(16,input_shape=(64,),activation='relu'))\n",
        "model.add(Dense(10,activation='softmax'))\n",
        "model.compile(optimizer='adam',loss='categorical_crossentropy',  metrics=['accuracy'])"
      ],
      "execution_count": 0,
      "outputs": []
    },
    {
      "cell_type": "code",
      "metadata": {
        "id": "pQSrABXEF67K",
        "colab_type": "code",
        "colab": {}
      },
      "source": [
        "history=model.fit(X_train,y_train,epochs=60,validation_data=(X_test,y_test),verbose=0)"
      ],
      "execution_count": 0,
      "outputs": []
    },
    {
      "cell_type": "code",
      "metadata": {
        "id": "5lr-vR8tFdJv",
        "colab_type": "code",
        "colab": {}
      },
      "source": [
        "## check if the model is overfitting by plotting\n",
        "def plot_accuracy(acc,val_acc):\n",
        "    plt.figure()\n",
        "    plt.plot(acc,color='red')\n",
        "    plt.plot(val_acc,color='green')\n",
        "    plt.legend(['Train','Test'])\n",
        "    plt.xlabel('EPOCH')\n",
        "    plt.ylabel('Accuracy')\n",
        "    plt.show()"
      ],
      "execution_count": 0,
      "outputs": []
    },
    {
      "cell_type": "code",
      "metadata": {
        "id": "OAJwfIiuNf6T",
        "colab_type": "code",
        "colab": {}
      },
      "source": [
        "def plot_loss(loss,val_loss):\n",
        "    plt.figure()\n",
        "    plt.plot(loss,color='red')\n",
        "    plt.plot(val_loss,color='green')\n",
        "    plt.xlabel('EPOCHS')\n",
        "    plt.ylabel('LOSS')\n",
        "    plt.legend(['Training' ,'Testing'])\n",
        "    plt.show()"
      ],
      "execution_count": 0,
      "outputs": []
    },
    {
      "cell_type": "code",
      "metadata": {
        "id": "MXosRXyfFj7Q",
        "colab_type": "code",
        "outputId": "fcf18a9d-52e8-4521-c304-51cbfe7f50f7",
        "colab": {
          "base_uri": "https://localhost:8080/",
          "height": 279
        }
      },
      "source": [
        "plot_loss(history.history['loss'],history.history['val_loss'])"
      ],
      "execution_count": 0,
      "outputs": [
        {
          "output_type": "display_data",
          "data": {
            "image/png": "[encoded data removed]",
            "text/plain": [
              "<Figure size 432x288 with 1 Axes>"
            ]
          },
          "metadata": {
            "tags": [],
            "needs_background": "light"
          }
        }
      ]
    },
    {
      "cell_type": "code",
      "metadata": {
        "id": "GZJ-JoRCRIOw",
        "colab_type": "code",
        "outputId": "6cf6a410-1783-496f-fb01-15243a142b22",
        "colab": {
          "base_uri": "https://localhost:8080/",
          "height": 91
        }
      },
      "source": [
        "for key in history.history.keys():\n",
        "    print(key)"
      ],
      "execution_count": 0,
      "outputs": [
        {
          "output_type": "stream",
          "text": [
            "loss\n",
            "accuracy\n",
            "val_loss\n",
            "val_accuracy\n"
          ],
          "name": "stdout"
        }
      ]
    },
    {
      "cell_type": "code",
      "metadata": {
        "id": "0wCO__e0RVA4",
        "colab_type": "code",
        "colab": {}
      },
      "source": [
        "#plot_accuracy(history.history['accuracy'], history.history['val_accuracy'])"
      ],
      "execution_count": 0,
      "outputs": []
    },
    {
      "cell_type": "code",
      "metadata": {
        "id": "eEhIylh3G8kB",
        "colab_type": "code",
        "colab": {}
      },
      "source": [
        "from tensorflow.keras.callbacks import EarlyStopping , ModelCheckpoint"
      ],
      "execution_count": 0,
      "outputs": []
    },
    {
      "cell_type": "code",
      "metadata": {
        "id": "BEtvPXSoG-6Z",
        "colab_type": "code",
        "colab": {}
      },
      "source": [
        "early_stop=EarlyStopping(monitor='val_loss',patience=3)"
      ],
      "execution_count": 0,
      "outputs": []
    },
    {
      "cell_type": "code",
      "metadata": {
        "id": "gpDYiYmCHeAE",
        "colab_type": "code",
        "colab": {}
      },
      "source": [
        "best_model=ModelCheckpoint('best_digits_model.hdf5',save_best_only=True)"
      ],
      "execution_count": 0,
      "outputs": []
    },
    {
      "cell_type": "code",
      "metadata": {
        "id": "oejdSZLiHlae",
        "colab_type": "code",
        "colab": {}
      },
      "source": [
        "model=Sequential()\n",
        "# using \n",
        "model.add(Dense(16,input_shape=(64,),activation='relu'))\n",
        "model.add(Dense(10,activation='softmax'))\n",
        "model.compile(optimizer='adam',loss='categorical_crossentropy',  metrics=['accuracy'])"
      ],
      "execution_count": 0,
      "outputs": []
    },
    {
      "cell_type": "code",
      "metadata": {
        "id": "Sw9-F7BqIi_w",
        "colab_type": "code",
        "colab": {}
      },
      "source": [
        "history1=model.fit(X_train,y_train,epochs=10000,validation_data=(X_test,y_test),callbacks=[early_stop,best_model],verbose=0)\n"
      ],
      "execution_count": 0,
      "outputs": []
    },
    {
      "cell_type": "code",
      "metadata": {
        "id": "BuQOflr3NUmi",
        "colab_type": "code",
        "outputId": "5bf7938f-b1e9-4a33-ec7b-223d94c0a584",
        "colab": {
          "base_uri": "https://localhost:8080/",
          "height": 279
        }
      },
      "source": [
        "plot_loss(history1.history['loss'],history1.history['val_loss'])"
      ],
      "execution_count": 0,
      "outputs": [
        {
          "output_type": "display_data",
          "data": {
            "image/png": "[encoded data removed]",
            "text/plain": [
              "<Figure size 432x288 with 1 Axes>"
            ]
          },
          "metadata": {
            "tags": [],
            "needs_background": "light"
          }
        }
      ]
    },
    {
      "cell_type": "code",
      "metadata": {
        "id": "cYUpZ8BjRkX_",
        "colab_type": "code",
        "colab": {}
      },
      "source": [
        "#plot_accuracy(history1.history['accuracy'], history1.history['val_accuracy'])"
      ],
      "execution_count": 0,
      "outputs": []
    },
    {
      "cell_type": "markdown",
      "metadata": {
        "id": "zBlD3wGvLJYh",
        "colab_type": "text"
      },
      "source": [
        "# **Batch normalizing a this digits model**"
      ]
    },
    {
      "cell_type": "code",
      "metadata": {
        "id": "rsu_DobQRzPJ",
        "colab_type": "code",
        "colab": {}
      },
      "source": [
        "from tensorflow.keras.layers import Dense\n",
        "from tensorflow.keras.models import Sequential"
      ],
      "execution_count": 0,
      "outputs": []
    },
    {
      "cell_type": "code",
      "metadata": {
        "id": "gePsqYZnLWWb",
        "colab_type": "code",
        "colab": {}
      },
      "source": [
        "# Import batch normalization from keras layers\n",
        "from tensorflow.keras.layers import BatchNormalization\n",
        "# from keras.layers import BatchNormalization not working\n"
      ],
      "execution_count": 0,
      "outputs": []
    },
    {
      "cell_type": "code",
      "metadata": {
        "id": "jJCwTVQwLcwu",
        "colab_type": "code",
        "colab": {}
      },
      "source": [
        "batchnorm_model = Sequential()\n",
        "batchnorm_model.add(Dense(50, input_shape=(64,), activation='relu', kernel_initializer='normal'))\n",
        "batchnorm_model.add(BatchNormalization())\n",
        "batchnorm_model.add(Dense(50, activation='relu', kernel_initializer='normal'))\n",
        "batchnorm_model.add(BatchNormalization())\n",
        "batchnorm_model.add(Dense(50, activation='relu', kernel_initializer='normal'))\n",
        "batchnorm_model.add(BatchNormalization())\n",
        "batchnorm_model.add(Dense(10, activation='softmax', kernel_initializer='normal'))\n"
      ],
      "execution_count": 0,
      "outputs": []
    },
    {
      "cell_type": "code",
      "metadata": {
        "id": "Paf7hT04TCho",
        "colab_type": "code",
        "colab": {}
      },
      "source": [
        "# Compile your model with sgd\n",
        "batchnorm_model.compile(optimizer='sgd', loss='categorical_crossentropy', metrics=['accuracy'])"
      ],
      "execution_count": 0,
      "outputs": []
    },
    {
      "cell_type": "code",
      "metadata": {
        "id": "QzGHBQN4VbR8",
        "colab_type": "code",
        "colab": {}
      },
      "source": [
        "early_stop=EarlyStopping(monitor='val_loss',patience=6)"
      ],
      "execution_count": 0,
      "outputs": []
    },
    {
      "cell_type": "code",
      "metadata": {
        "id": "H5hPPbCPTHCj",
        "colab_type": "code",
        "colab": {}
      },
      "source": [
        "history_batch=batchnorm_model.fit(X_train,y_train,validation_data=(X_test,y_test),epochs=1000,callbacks=[early_stop])"
      ],
      "execution_count": 0,
      "outputs": []
    },
    {
      "cell_type": "code",
      "metadata": {
        "id": "KOeFhIvwMFQa",
        "colab_type": "code",
        "colab": {}
      },
      "source": [
        "def compare_history_loss(history_batch,history_nobatch):\n",
        "  plt.figure()\n",
        "  plt.plot(history_batch.history['loss'],color='red')\n",
        "  plt.plot(history_nobatch.history['loss'],color='green')\n",
        "  plt.legend(['With Batch Norm', 'No Batch Norm'])\n",
        "  plt.xlabel('Epochs')\n",
        "  plt.ylabel('Loss')\n",
        "  plt.show()"
      ],
      "execution_count": 0,
      "outputs": []
    },
    {
      "cell_type": "code",
      "metadata": {
        "id": "zkJuz_sPWx4h",
        "colab_type": "code",
        "outputId": "af6c298c-eec4-4d44-c383-59496818c504",
        "colab": {
          "base_uri": "https://localhost:8080/",
          "height": 279
        }
      },
      "source": [
        "compare_history_loss(history_batch,history1)"
      ],
      "execution_count": 0,
      "outputs": [
        {
          "output_type": "display_data",
          "data": {
            "image/png": "[encoded data removed]",
            "text/plain": [
              "<Figure size 432x288 with 1 Axes>"
            ]
          },
          "metadata": {
            "tags": [],
            "needs_background": "light"
          }
        }
      ]
    },
    {
      "cell_type": "code",
      "metadata": {
        "id": "Ba9paj37XsQt",
        "colab_type": "code",
        "colab": {}
      },
      "source": [
        "def compare_history_accuracy(history_batch,history_nobatch):\n",
        "  plt.figure()\n",
        "  plt.plot(history_batch.history['accuracy'],color='red')\n",
        "  plt.plot(history_nobatch.history['accuracy'],color='green')\n",
        "  plt.legend(['With Batch Norm', 'No Batch Norm'])\n",
        "  plt.xlabel('Epochs')\n",
        "  plt.ylabel('Accuracy')\n",
        "  plt.show()"
      ],
      "execution_count": 0,
      "outputs": []
    },
    {
      "cell_type": "code",
      "metadata": {
        "id": "gEy0dWWoX9ND",
        "colab_type": "code",
        "outputId": "a0169c6b-5252-4ba4-9491-740e7ad273a2",
        "colab": {
          "base_uri": "https://localhost:8080/",
          "height": 279
        }
      },
      "source": [
        "# compare_history_accuracy(history_batch,history1)"
      ],
      "execution_count": 0,
      "outputs": [
        {
          "output_type": "display_data",
          "data": {
            "image/png": "[encoded data removed]",
            "text/plain": [
              "<Figure size 432x288 with 1 Axes>"
            ]
          },
          "metadata": {
            "tags": [],
            "needs_background": "light"
          }
        }
      ]
    }
  ]
}