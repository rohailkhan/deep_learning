{
  "nbformat": 4,
  "nbformat_minor": 0,
  "metadata": {
    "colab": {
      "name": "Cancer data call back -batch norm-kera Tuning.ipynb",
      "provenance": [],
      "authorship_tag": "ABX9TyMKKSCBxJr9MzQxk6VIO28x",
      "include_colab_link": true
    },
    "kernelspec": {
      "name": "python3",
      "display_name": "Python 3"
    }
  },
  "cells": [
    {
      "cell_type": "markdown",
      "metadata": {
        "id": "view-in-github",
        "colab_type": "text"
      },
      "source": [
        "<a href=\"https://colab.research.google.com/github/rohailkhan/deep_learning/blob/master/Cancer_data_call_back_batch_norm_kera_Tuning.ipynb\" target=\"_parent\"><img src=\"https://colab.research.google.com/assets/colab-badge.svg\" alt=\"Open In Colab\"/></a>"
      ]
    },
    {
      "cell_type": "markdown",
      "metadata": {
        "id": "9Lw5QOmstPHQ",
        "colab_type": "text"
      },
      "source": [
        "# **Using RandomSearchCV(model= KerasClassifier(builf_fn= model , param_distrubutions=dictionsry ,cv=KFold(3)**\n",
        "\n",
        "\n",
        "\n",
        "\n"
      ]
    },
    {
      "cell_type": "code",
      "metadata": {
        "id": "-MGKs9pMpeXr",
        "colab_type": "code",
        "outputId": "0acd74c9-7fc1-4358-efda-eae16a516704",
        "colab": {
          "base_uri": "https://localhost:8080/",
          "height": 35
        }
      },
      "source": [
        "from sklearn.datasets import load_breast_cancer\n",
        "cancer = load_breast_cancer()\n",
        "print(cancer.keys())"
      ],
      "execution_count": 4,
      "outputs": [
        {
          "output_type": "stream",
          "text": [
            "dict_keys(['data', 'target', 'target_names', 'DESCR', 'feature_names', 'filename'])\n"
          ],
          "name": "stdout"
        }
      ]
    },
    {
      "cell_type": "code",
      "metadata": {
        "id": "1_Rz6uNlq1Sa",
        "colab_type": "code",
        "outputId": "7bf9126c-2835-411f-8bac-c3f0ad919ab9",
        "colab": {
          "base_uri": "https://localhost:8080/",
          "height": 35
        }
      },
      "source": [
        "print((cancer['data'].shape, cancer['target'].shape))\n",
        "X=cancer['data']\n",
        "y=cancer['target']"
      ],
      "execution_count": 5,
      "outputs": [
        {
          "output_type": "stream",
          "text": [
            "((569, 30), (569,))\n"
          ],
          "name": "stdout"
        }
      ]
    },
    {
      "cell_type": "markdown",
      "metadata": {
        "id": "H0t5xsGOx4u2",
        "colab_type": "text"
      },
      "source": [
        "Model function with Learning rate & activation paremeters. Using 1 input, 1 hidden & 1 output layer .Output has sigmoid activation as we are dealing with binary classification.We can only change the activation of the other layers"
      ]
    },
    {
      "cell_type": "code",
      "metadata": {
        "id": "Yd0gTkzbzNtc",
        "colab_type": "code",
        "colab": {
          "base_uri": "https://localhost:8080/",
          "height": 74
        },
        "outputId": "7fdbc885-e515-4e31-a70b-2df8c494fc66"
      },
      "source": [
        "import pandas as pd\n",
        "import numpy as np\n",
        "import seaborn as sns\n",
        "import matplotlib.pyplot as plt\n",
        "import tensorflow\n",
        "from tensorflow.keras import layers\n",
        "from tensorflow.keras import models\n",
        "from tensorflow.keras.optimizers import Adam\n",
        "from tensorflow.keras.models import Sequential"
      ],
      "execution_count": 6,
      "outputs": [
        {
          "output_type": "stream",
          "text": [
            "/usr/local/lib/python3.6/dist-packages/statsmodels/tools/_testing.py:19: FutureWarning: pandas.util.testing is deprecated. Use the functions in the public API at pandas.testing instead.\n",
            "  import pandas.util.testing as tm\n"
          ],
          "name": "stderr"
        }
      ]
    },
    {
      "cell_type": "code",
      "metadata": {
        "id": "jQYLZVYC1HkC",
        "colab_type": "code",
        "colab": {}
      },
      "source": [
        "from tensorflow.keras.layers import Dense"
      ],
      "execution_count": 0,
      "outputs": []
    },
    {
      "cell_type": "code",
      "metadata": {
        "id": "PGjLQZ45zR_8",
        "colab_type": "code",
        "colab": {}
      },
      "source": [
        "import sklearn.model_selection as model_selection\n",
        "X_train, X_test, y_train, y_test = model_selection.train_test_split(X, y,test_size=0.30)"
      ],
      "execution_count": 0,
      "outputs": []
    },
    {
      "cell_type": "code",
      "metadata": {
        "id": "MRQYP8idBeiS",
        "colab_type": "code",
        "colab": {
          "base_uri": "https://localhost:8080/",
          "height": 35
        },
        "outputId": "828aea50-4803-4d8c-99b7-4b7222a148ed"
      },
      "source": [
        "(X_train.shape,y_train.shape)"
      ],
      "execution_count": 9,
      "outputs": [
        {
          "output_type": "execute_result",
          "data": {
            "text/plain": [
              "((398, 30), (398,))"
            ]
          },
          "metadata": {
            "tags": []
          },
          "execution_count": 9
        }
      ]
    },
    {
      "cell_type": "code",
      "metadata": {
        "id": "pS1uhJE1TBYg",
        "colab_type": "code",
        "outputId": "cbc482fe-2177-40f0-b518-a00b744a69bb",
        "colab": {
          "base_uri": "https://localhost:8080/",
          "height": 35
        }
      },
      "source": [
        "print((cancer['data'].shape, cancer['target'].shape))"
      ],
      "execution_count": 0,
      "outputs": [
        {
          "output_type": "stream",
          "text": [
            "((569, 30), (569,))\n"
          ],
          "name": "stdout"
        }
      ]
    },
    {
      "cell_type": "code",
      "metadata": {
        "id": "eko3OBKESqnJ",
        "colab_type": "code",
        "outputId": "8e35c0ec-7dc7-4926-8c14-7452d8bd5d06",
        "colab": {
          "base_uri": "https://localhost:8080/",
          "height": 35
        }
      },
      "source": [
        "(X_test.shape,y_test.shape)"
      ],
      "execution_count": 10,
      "outputs": [
        {
          "output_type": "execute_result",
          "data": {
            "text/plain": [
              "((171, 30), (171,))"
            ]
          },
          "metadata": {
            "tags": []
          },
          "execution_count": 10
        }
      ]
    },
    {
      "cell_type": "code",
      "metadata": {
        "id": "gHrP_kFEyPWg",
        "colab_type": "code",
        "colab": {}
      },
      "source": [
        "def my_model(learning_rate=0.01,activation='relu'):\n",
        "  opt=Adam(learning_rate=learning_rate)\n",
        "  model=Sequential()\n",
        "  model.add(Dense(148,input_shape=(30,),activation=activation))\n",
        "  model.add(Dense(296,activation=activation ))\n",
        "  model.add(Dense(1,activation='sigmoid'))\n",
        "  model.compile(optimizer=opt,loss='binary_crossentropy',metrics=['accuracy'])\n",
        "  return model "
      ],
      "execution_count": 0,
      "outputs": []
    },
    {
      "cell_type": "code",
      "metadata": {
        "id": "qXiRNAXh7HH-",
        "colab_type": "code",
        "colab": {}
      },
      "source": [
        "from keras.wrappers.scikit_learn import KerasClassifier"
      ],
      "execution_count": 0,
      "outputs": []
    },
    {
      "cell_type": "code",
      "metadata": {
        "id": "6MIsyGWH-eRf",
        "colab_type": "code",
        "colab": {}
      },
      "source": [
        "from sklearn.model_selection import RandomizedSearchCV, KFold"
      ],
      "execution_count": 0,
      "outputs": []
    },
    {
      "cell_type": "code",
      "metadata": {
        "id": "kLNTMkC07jvM",
        "colab_type": "code",
        "colab": {}
      },
      "source": [
        "model=KerasClassifier(build_fn=my_model)\n",
        "params = {'activation': ['relu','tanh'], 'batch_size': [32,128,256], \n",
        "          'epochs': [50,100,200], 'learning_rate': [0.1,0.01,0.001]}\n",
        "\n",
        "random_search=RandomizedSearchCV(model,param_distributions=params,cv=KFold(3))\n"
      ],
      "execution_count": 0,
      "outputs": []
    },
    {
      "cell_type": "code",
      "metadata": {
        "id": "6mpuUeKUAi7Q",
        "colab_type": "code",
        "colab": {}
      },
      "source": [
        "from tensorflow.keras.callbacks import EarlyStopping , ModelCheckpoint"
      ],
      "execution_count": 0,
      "outputs": []
    },
    {
      "cell_type": "code",
      "metadata": {
        "id": "sBID8BWUTdMC",
        "colab_type": "code",
        "colab": {}
      },
      "source": [
        "stop_early=EarlyStopping(monitor='val_acc',patience=3)"
      ],
      "execution_count": 0,
      "outputs": []
    },
    {
      "cell_type": "code",
      "metadata": {
        "id": "_PCcq51gT1Id",
        "colab_type": "code",
        "outputId": "1367d6f4-ec66-4198-8cb4-ab1919ccfcf9",
        "colab": {
          "base_uri": "https://localhost:8080/",
          "height": 326
        }
      },
      "source": [
        "history=random_search.fit(X_train,y_train)"
      ],
      "execution_count": 31,
      "outputs": [
        {
          "output_type": "error",
          "ename": "TypeError",
          "evalue": "ignored",
          "traceback": [
            "\u001b[0;31m---------------------------------------------------------------------------\u001b[0m",
            "\u001b[0;31mTypeError\u001b[0m                                 Traceback (most recent call last)",
            "\u001b[0;32m<ipython-input-31-5df483dc8695>\u001b[0m in \u001b[0;36m<module>\u001b[0;34m()\u001b[0m\n\u001b[0;32m----> 1\u001b[0;31m \u001b[0mhistory\u001b[0m\u001b[0;34m=\u001b[0m\u001b[0mrandom_search\u001b[0m\u001b[0;34m.\u001b[0m\u001b[0mfit\u001b[0m\u001b[0;34m(\u001b[0m\u001b[0mX_train\u001b[0m\u001b[0;34m,\u001b[0m\u001b[0my_train\u001b[0m\u001b[0;34m,\u001b[0m\u001b[0mcallbacks\u001b[0m\u001b[0;34m=\u001b[0m\u001b[0mstop_early\u001b[0m\u001b[0;34m)\u001b[0m\u001b[0;34m\u001b[0m\u001b[0;34m\u001b[0m\u001b[0m\n\u001b[0m",
            "\u001b[0;32m/usr/local/lib/python3.6/dist-packages/sklearn/model_selection/_search.py\u001b[0m in \u001b[0;36mfit\u001b[0;34m(self, X, y, groups, **fit_params)\u001b[0m\n\u001b[1;32m    653\u001b[0m         \u001b[0mn_splits\u001b[0m \u001b[0;34m=\u001b[0m \u001b[0mcv\u001b[0m\u001b[0;34m.\u001b[0m\u001b[0mget_n_splits\u001b[0m\u001b[0;34m(\u001b[0m\u001b[0mX\u001b[0m\u001b[0;34m,\u001b[0m \u001b[0my\u001b[0m\u001b[0;34m,\u001b[0m \u001b[0mgroups\u001b[0m\u001b[0;34m)\u001b[0m\u001b[0;34m\u001b[0m\u001b[0;34m\u001b[0m\u001b[0m\n\u001b[1;32m    654\u001b[0m \u001b[0;34m\u001b[0m\u001b[0m\n\u001b[0;32m--> 655\u001b[0;31m         \u001b[0mbase_estimator\u001b[0m \u001b[0;34m=\u001b[0m \u001b[0mclone\u001b[0m\u001b[0;34m(\u001b[0m\u001b[0mself\u001b[0m\u001b[0;34m.\u001b[0m\u001b[0mestimator\u001b[0m\u001b[0;34m)\u001b[0m\u001b[0;34m\u001b[0m\u001b[0;34m\u001b[0m\u001b[0m\n\u001b[0m\u001b[1;32m    656\u001b[0m \u001b[0;34m\u001b[0m\u001b[0m\n\u001b[1;32m    657\u001b[0m         parallel = Parallel(n_jobs=self.n_jobs, verbose=self.verbose,\n",
            "\u001b[0;32m/usr/local/lib/python3.6/dist-packages/sklearn/base.py\u001b[0m in \u001b[0;36mclone\u001b[0;34m(estimator, safe)\u001b[0m\n\u001b[1;32m     69\u001b[0m     \u001b[0mnew_object_params\u001b[0m \u001b[0;34m=\u001b[0m \u001b[0mestimator\u001b[0m\u001b[0;34m.\u001b[0m\u001b[0mget_params\u001b[0m\u001b[0;34m(\u001b[0m\u001b[0mdeep\u001b[0m\u001b[0;34m=\u001b[0m\u001b[0;32mFalse\u001b[0m\u001b[0;34m)\u001b[0m\u001b[0;34m\u001b[0m\u001b[0;34m\u001b[0m\u001b[0m\n\u001b[1;32m     70\u001b[0m     \u001b[0;32mfor\u001b[0m \u001b[0mname\u001b[0m\u001b[0;34m,\u001b[0m \u001b[0mparam\u001b[0m \u001b[0;32min\u001b[0m \u001b[0mnew_object_params\u001b[0m\u001b[0;34m.\u001b[0m\u001b[0mitems\u001b[0m\u001b[0;34m(\u001b[0m\u001b[0;34m)\u001b[0m\u001b[0;34m:\u001b[0m\u001b[0;34m\u001b[0m\u001b[0;34m\u001b[0m\u001b[0m\n\u001b[0;32m---> 71\u001b[0;31m         \u001b[0mnew_object_params\u001b[0m\u001b[0;34m[\u001b[0m\u001b[0mname\u001b[0m\u001b[0;34m]\u001b[0m \u001b[0;34m=\u001b[0m \u001b[0mclone\u001b[0m\u001b[0;34m(\u001b[0m\u001b[0mparam\u001b[0m\u001b[0;34m,\u001b[0m \u001b[0msafe\u001b[0m\u001b[0;34m=\u001b[0m\u001b[0;32mFalse\u001b[0m\u001b[0;34m)\u001b[0m\u001b[0;34m\u001b[0m\u001b[0;34m\u001b[0m\u001b[0m\n\u001b[0m\u001b[1;32m     72\u001b[0m     \u001b[0mnew_object\u001b[0m \u001b[0;34m=\u001b[0m \u001b[0mklass\u001b[0m\u001b[0;34m(\u001b[0m\u001b[0;34m**\u001b[0m\u001b[0mnew_object_params\u001b[0m\u001b[0;34m)\u001b[0m\u001b[0;34m\u001b[0m\u001b[0;34m\u001b[0m\u001b[0m\n\u001b[1;32m     73\u001b[0m     \u001b[0mparams_set\u001b[0m \u001b[0;34m=\u001b[0m \u001b[0mnew_object\u001b[0m\u001b[0;34m.\u001b[0m\u001b[0mget_params\u001b[0m\u001b[0;34m(\u001b[0m\u001b[0mdeep\u001b[0m\u001b[0;34m=\u001b[0m\u001b[0;32mFalse\u001b[0m\u001b[0;34m)\u001b[0m\u001b[0;34m\u001b[0m\u001b[0;34m\u001b[0m\u001b[0m\n",
            "\u001b[0;32m/usr/local/lib/python3.6/dist-packages/sklearn/base.py\u001b[0m in \u001b[0;36mclone\u001b[0;34m(estimator, safe)\u001b[0m\n\u001b[1;32m     60\u001b[0m     \u001b[0;32melif\u001b[0m \u001b[0;32mnot\u001b[0m \u001b[0mhasattr\u001b[0m\u001b[0;34m(\u001b[0m\u001b[0mestimator\u001b[0m\u001b[0;34m,\u001b[0m \u001b[0;34m'get_params'\u001b[0m\u001b[0;34m)\u001b[0m \u001b[0;32mor\u001b[0m \u001b[0misinstance\u001b[0m\u001b[0;34m(\u001b[0m\u001b[0mestimator\u001b[0m\u001b[0;34m,\u001b[0m \u001b[0mtype\u001b[0m\u001b[0;34m)\u001b[0m\u001b[0;34m:\u001b[0m\u001b[0;34m\u001b[0m\u001b[0;34m\u001b[0m\u001b[0m\n\u001b[1;32m     61\u001b[0m         \u001b[0;32mif\u001b[0m \u001b[0;32mnot\u001b[0m \u001b[0msafe\u001b[0m\u001b[0;34m:\u001b[0m\u001b[0;34m\u001b[0m\u001b[0;34m\u001b[0m\u001b[0m\n\u001b[0;32m---> 62\u001b[0;31m             \u001b[0;32mreturn\u001b[0m \u001b[0mcopy\u001b[0m\u001b[0;34m.\u001b[0m\u001b[0mdeepcopy\u001b[0m\u001b[0;34m(\u001b[0m\u001b[0mestimator\u001b[0m\u001b[0;34m)\u001b[0m\u001b[0;34m\u001b[0m\u001b[0;34m\u001b[0m\u001b[0m\n\u001b[0m\u001b[1;32m     63\u001b[0m         \u001b[0;32melse\u001b[0m\u001b[0;34m:\u001b[0m\u001b[0;34m\u001b[0m\u001b[0;34m\u001b[0m\u001b[0m\n\u001b[1;32m     64\u001b[0m             raise TypeError(\"Cannot clone object '%s' (type %s): \"\n",
            "\u001b[0;32m/usr/lib/python3.6/copy.py\u001b[0m in \u001b[0;36mdeepcopy\u001b[0;34m(x, memo, _nil)\u001b[0m\n\u001b[1;32m    178\u001b[0m                     \u001b[0my\u001b[0m \u001b[0;34m=\u001b[0m \u001b[0mx\u001b[0m\u001b[0;34m\u001b[0m\u001b[0;34m\u001b[0m\u001b[0m\n\u001b[1;32m    179\u001b[0m                 \u001b[0;32melse\u001b[0m\u001b[0;34m:\u001b[0m\u001b[0;34m\u001b[0m\u001b[0;34m\u001b[0m\u001b[0m\n\u001b[0;32m--> 180\u001b[0;31m                     \u001b[0my\u001b[0m \u001b[0;34m=\u001b[0m \u001b[0m_reconstruct\u001b[0m\u001b[0;34m(\u001b[0m\u001b[0mx\u001b[0m\u001b[0;34m,\u001b[0m \u001b[0mmemo\u001b[0m\u001b[0;34m,\u001b[0m \u001b[0;34m*\u001b[0m\u001b[0mrv\u001b[0m\u001b[0;34m)\u001b[0m\u001b[0;34m\u001b[0m\u001b[0;34m\u001b[0m\u001b[0m\n\u001b[0m\u001b[1;32m    181\u001b[0m \u001b[0;34m\u001b[0m\u001b[0m\n\u001b[1;32m    182\u001b[0m     \u001b[0;31m# If is its own copy, don't memoize.\u001b[0m\u001b[0;34m\u001b[0m\u001b[0;34m\u001b[0m\u001b[0;34m\u001b[0m\u001b[0m\n",
            "\u001b[0;32m/usr/lib/python3.6/copy.py\u001b[0m in \u001b[0;36m_reconstruct\u001b[0;34m(x, memo, func, args, state, listiter, dictiter, deepcopy)\u001b[0m\n\u001b[1;32m    278\u001b[0m     \u001b[0;32mif\u001b[0m \u001b[0mstate\u001b[0m \u001b[0;32mis\u001b[0m \u001b[0;32mnot\u001b[0m \u001b[0;32mNone\u001b[0m\u001b[0;34m:\u001b[0m\u001b[0;34m\u001b[0m\u001b[0;34m\u001b[0m\u001b[0m\n\u001b[1;32m    279\u001b[0m         \u001b[0;32mif\u001b[0m \u001b[0mdeep\u001b[0m\u001b[0;34m:\u001b[0m\u001b[0;34m\u001b[0m\u001b[0;34m\u001b[0m\u001b[0m\n\u001b[0;32m--> 280\u001b[0;31m             \u001b[0mstate\u001b[0m \u001b[0;34m=\u001b[0m \u001b[0mdeepcopy\u001b[0m\u001b[0;34m(\u001b[0m\u001b[0mstate\u001b[0m\u001b[0;34m,\u001b[0m \u001b[0mmemo\u001b[0m\u001b[0;34m)\u001b[0m\u001b[0;34m\u001b[0m\u001b[0;34m\u001b[0m\u001b[0m\n\u001b[0m\u001b[1;32m    281\u001b[0m         \u001b[0;32mif\u001b[0m \u001b[0mhasattr\u001b[0m\u001b[0;34m(\u001b[0m\u001b[0my\u001b[0m\u001b[0;34m,\u001b[0m \u001b[0;34m'__setstate__'\u001b[0m\u001b[0;34m)\u001b[0m\u001b[0;34m:\u001b[0m\u001b[0;34m\u001b[0m\u001b[0;34m\u001b[0m\u001b[0m\n\u001b[1;32m    282\u001b[0m             \u001b[0my\u001b[0m\u001b[0;34m.\u001b[0m\u001b[0m__setstate__\u001b[0m\u001b[0;34m(\u001b[0m\u001b[0mstate\u001b[0m\u001b[0;34m)\u001b[0m\u001b[0;34m\u001b[0m\u001b[0;34m\u001b[0m\u001b[0m\n",
            "\u001b[0;32m/usr/lib/python3.6/copy.py\u001b[0m in \u001b[0;36mdeepcopy\u001b[0;34m(x, memo, _nil)\u001b[0m\n\u001b[1;32m    148\u001b[0m     \u001b[0mcopier\u001b[0m \u001b[0;34m=\u001b[0m \u001b[0m_deepcopy_dispatch\u001b[0m\u001b[0;34m.\u001b[0m\u001b[0mget\u001b[0m\u001b[0;34m(\u001b[0m\u001b[0mcls\u001b[0m\u001b[0;34m)\u001b[0m\u001b[0;34m\u001b[0m\u001b[0;34m\u001b[0m\u001b[0m\n\u001b[1;32m    149\u001b[0m     \u001b[0;32mif\u001b[0m \u001b[0mcopier\u001b[0m\u001b[0;34m:\u001b[0m\u001b[0;34m\u001b[0m\u001b[0;34m\u001b[0m\u001b[0m\n\u001b[0;32m--> 150\u001b[0;31m         \u001b[0my\u001b[0m \u001b[0;34m=\u001b[0m \u001b[0mcopier\u001b[0m\u001b[0;34m(\u001b[0m\u001b[0mx\u001b[0m\u001b[0;34m,\u001b[0m \u001b[0mmemo\u001b[0m\u001b[0;34m)\u001b[0m\u001b[0;34m\u001b[0m\u001b[0;34m\u001b[0m\u001b[0m\n\u001b[0m\u001b[1;32m    151\u001b[0m     \u001b[0;32melse\u001b[0m\u001b[0;34m:\u001b[0m\u001b[0;34m\u001b[0m\u001b[0;34m\u001b[0m\u001b[0m\n\u001b[1;32m    152\u001b[0m         \u001b[0;32mtry\u001b[0m\u001b[0;34m:\u001b[0m\u001b[0;34m\u001b[0m\u001b[0;34m\u001b[0m\u001b[0m\n",
            "\u001b[0;32m/usr/lib/python3.6/copy.py\u001b[0m in \u001b[0;36m_deepcopy_dict\u001b[0;34m(x, memo, deepcopy)\u001b[0m\n\u001b[1;32m    238\u001b[0m     \u001b[0mmemo\u001b[0m\u001b[0;34m[\u001b[0m\u001b[0mid\u001b[0m\u001b[0;34m(\u001b[0m\u001b[0mx\u001b[0m\u001b[0;34m)\u001b[0m\u001b[0;34m]\u001b[0m \u001b[0;34m=\u001b[0m \u001b[0my\u001b[0m\u001b[0;34m\u001b[0m\u001b[0;34m\u001b[0m\u001b[0m\n\u001b[1;32m    239\u001b[0m     \u001b[0;32mfor\u001b[0m \u001b[0mkey\u001b[0m\u001b[0;34m,\u001b[0m \u001b[0mvalue\u001b[0m \u001b[0;32min\u001b[0m \u001b[0mx\u001b[0m\u001b[0;34m.\u001b[0m\u001b[0mitems\u001b[0m\u001b[0;34m(\u001b[0m\u001b[0;34m)\u001b[0m\u001b[0;34m:\u001b[0m\u001b[0;34m\u001b[0m\u001b[0;34m\u001b[0m\u001b[0m\n\u001b[0;32m--> 240\u001b[0;31m         \u001b[0my\u001b[0m\u001b[0;34m[\u001b[0m\u001b[0mdeepcopy\u001b[0m\u001b[0;34m(\u001b[0m\u001b[0mkey\u001b[0m\u001b[0;34m,\u001b[0m \u001b[0mmemo\u001b[0m\u001b[0;34m)\u001b[0m\u001b[0;34m]\u001b[0m \u001b[0;34m=\u001b[0m \u001b[0mdeepcopy\u001b[0m\u001b[0;34m(\u001b[0m\u001b[0mvalue\u001b[0m\u001b[0;34m,\u001b[0m \u001b[0mmemo\u001b[0m\u001b[0;34m)\u001b[0m\u001b[0;34m\u001b[0m\u001b[0;34m\u001b[0m\u001b[0m\n\u001b[0m\u001b[1;32m    241\u001b[0m     \u001b[0;32mreturn\u001b[0m \u001b[0my\u001b[0m\u001b[0;34m\u001b[0m\u001b[0;34m\u001b[0m\u001b[0m\n\u001b[1;32m    242\u001b[0m \u001b[0md\u001b[0m\u001b[0;34m[\u001b[0m\u001b[0mdict\u001b[0m\u001b[0;34m]\u001b[0m \u001b[0;34m=\u001b[0m \u001b[0m_deepcopy_dict\u001b[0m\u001b[0;34m\u001b[0m\u001b[0;34m\u001b[0m\u001b[0m\n",
            "\u001b[0;32m/usr/lib/python3.6/copy.py\u001b[0m in \u001b[0;36mdeepcopy\u001b[0;34m(x, memo, _nil)\u001b[0m\n\u001b[1;32m    148\u001b[0m     \u001b[0mcopier\u001b[0m \u001b[0;34m=\u001b[0m \u001b[0m_deepcopy_dispatch\u001b[0m\u001b[0;34m.\u001b[0m\u001b[0mget\u001b[0m\u001b[0;34m(\u001b[0m\u001b[0mcls\u001b[0m\u001b[0;34m)\u001b[0m\u001b[0;34m\u001b[0m\u001b[0;34m\u001b[0m\u001b[0m\n\u001b[1;32m    149\u001b[0m     \u001b[0;32mif\u001b[0m \u001b[0mcopier\u001b[0m\u001b[0;34m:\u001b[0m\u001b[0;34m\u001b[0m\u001b[0;34m\u001b[0m\u001b[0m\n\u001b[0;32m--> 150\u001b[0;31m         \u001b[0my\u001b[0m \u001b[0;34m=\u001b[0m \u001b[0mcopier\u001b[0m\u001b[0;34m(\u001b[0m\u001b[0mx\u001b[0m\u001b[0;34m,\u001b[0m \u001b[0mmemo\u001b[0m\u001b[0;34m)\u001b[0m\u001b[0;34m\u001b[0m\u001b[0;34m\u001b[0m\u001b[0m\n\u001b[0m\u001b[1;32m    151\u001b[0m     \u001b[0;32melse\u001b[0m\u001b[0;34m:\u001b[0m\u001b[0;34m\u001b[0m\u001b[0;34m\u001b[0m\u001b[0m\n\u001b[1;32m    152\u001b[0m         \u001b[0;32mtry\u001b[0m\u001b[0;34m:\u001b[0m\u001b[0;34m\u001b[0m\u001b[0;34m\u001b[0m\u001b[0m\n",
            "\u001b[0;32m/usr/lib/python3.6/copy.py\u001b[0m in \u001b[0;36m_deepcopy_list\u001b[0;34m(x, memo, deepcopy)\u001b[0m\n\u001b[1;32m    213\u001b[0m     \u001b[0mappend\u001b[0m \u001b[0;34m=\u001b[0m \u001b[0my\u001b[0m\u001b[0;34m.\u001b[0m\u001b[0mappend\u001b[0m\u001b[0;34m\u001b[0m\u001b[0;34m\u001b[0m\u001b[0m\n\u001b[1;32m    214\u001b[0m     \u001b[0;32mfor\u001b[0m \u001b[0ma\u001b[0m \u001b[0;32min\u001b[0m \u001b[0mx\u001b[0m\u001b[0;34m:\u001b[0m\u001b[0;34m\u001b[0m\u001b[0;34m\u001b[0m\u001b[0m\n\u001b[0;32m--> 215\u001b[0;31m         \u001b[0mappend\u001b[0m\u001b[0;34m(\u001b[0m\u001b[0mdeepcopy\u001b[0m\u001b[0;34m(\u001b[0m\u001b[0ma\u001b[0m\u001b[0;34m,\u001b[0m \u001b[0mmemo\u001b[0m\u001b[0;34m)\u001b[0m\u001b[0;34m)\u001b[0m\u001b[0;34m\u001b[0m\u001b[0;34m\u001b[0m\u001b[0m\n\u001b[0m\u001b[1;32m    216\u001b[0m     \u001b[0;32mreturn\u001b[0m \u001b[0my\u001b[0m\u001b[0;34m\u001b[0m\u001b[0;34m\u001b[0m\u001b[0m\n\u001b[1;32m    217\u001b[0m \u001b[0md\u001b[0m\u001b[0;34m[\u001b[0m\u001b[0mlist\u001b[0m\u001b[0;34m]\u001b[0m \u001b[0;34m=\u001b[0m \u001b[0m_deepcopy_list\u001b[0m\u001b[0;34m\u001b[0m\u001b[0;34m\u001b[0m\u001b[0m\n",
            "\u001b[0;32m/usr/lib/python3.6/copy.py\u001b[0m in \u001b[0;36mdeepcopy\u001b[0;34m(x, memo, _nil)\u001b[0m\n\u001b[1;32m    178\u001b[0m                     \u001b[0my\u001b[0m \u001b[0;34m=\u001b[0m \u001b[0mx\u001b[0m\u001b[0;34m\u001b[0m\u001b[0;34m\u001b[0m\u001b[0m\n\u001b[1;32m    179\u001b[0m                 \u001b[0;32melse\u001b[0m\u001b[0;34m:\u001b[0m\u001b[0;34m\u001b[0m\u001b[0;34m\u001b[0m\u001b[0m\n\u001b[0;32m--> 180\u001b[0;31m                     \u001b[0my\u001b[0m \u001b[0;34m=\u001b[0m \u001b[0m_reconstruct\u001b[0m\u001b[0;34m(\u001b[0m\u001b[0mx\u001b[0m\u001b[0;34m,\u001b[0m \u001b[0mmemo\u001b[0m\u001b[0;34m,\u001b[0m \u001b[0;34m*\u001b[0m\u001b[0mrv\u001b[0m\u001b[0;34m)\u001b[0m\u001b[0;34m\u001b[0m\u001b[0;34m\u001b[0m\u001b[0m\n\u001b[0m\u001b[1;32m    181\u001b[0m \u001b[0;34m\u001b[0m\u001b[0m\n\u001b[1;32m    182\u001b[0m     \u001b[0;31m# If is its own copy, don't memoize.\u001b[0m\u001b[0;34m\u001b[0m\u001b[0;34m\u001b[0m\u001b[0;34m\u001b[0m\u001b[0m\n",
            "\u001b[0;32m/usr/lib/python3.6/copy.py\u001b[0m in \u001b[0;36m_reconstruct\u001b[0;34m(x, memo, func, args, state, listiter, dictiter, deepcopy)\u001b[0m\n\u001b[1;32m    278\u001b[0m     \u001b[0;32mif\u001b[0m \u001b[0mstate\u001b[0m \u001b[0;32mis\u001b[0m \u001b[0;32mnot\u001b[0m \u001b[0;32mNone\u001b[0m\u001b[0;34m:\u001b[0m\u001b[0;34m\u001b[0m\u001b[0;34m\u001b[0m\u001b[0m\n\u001b[1;32m    279\u001b[0m         \u001b[0;32mif\u001b[0m \u001b[0mdeep\u001b[0m\u001b[0;34m:\u001b[0m\u001b[0;34m\u001b[0m\u001b[0;34m\u001b[0m\u001b[0m\n\u001b[0;32m--> 280\u001b[0;31m             \u001b[0mstate\u001b[0m \u001b[0;34m=\u001b[0m \u001b[0mdeepcopy\u001b[0m\u001b[0;34m(\u001b[0m\u001b[0mstate\u001b[0m\u001b[0;34m,\u001b[0m \u001b[0mmemo\u001b[0m\u001b[0;34m)\u001b[0m\u001b[0;34m\u001b[0m\u001b[0;34m\u001b[0m\u001b[0m\n\u001b[0m\u001b[1;32m    281\u001b[0m         \u001b[0;32mif\u001b[0m \u001b[0mhasattr\u001b[0m\u001b[0;34m(\u001b[0m\u001b[0my\u001b[0m\u001b[0;34m,\u001b[0m \u001b[0;34m'__setstate__'\u001b[0m\u001b[0;34m)\u001b[0m\u001b[0;34m:\u001b[0m\u001b[0;34m\u001b[0m\u001b[0;34m\u001b[0m\u001b[0m\n\u001b[1;32m    282\u001b[0m             \u001b[0my\u001b[0m\u001b[0;34m.\u001b[0m\u001b[0m__setstate__\u001b[0m\u001b[0;34m(\u001b[0m\u001b[0mstate\u001b[0m\u001b[0;34m)\u001b[0m\u001b[0;34m\u001b[0m\u001b[0;34m\u001b[0m\u001b[0m\n",
            "\u001b[0;32m/usr/lib/python3.6/copy.py\u001b[0m in \u001b[0;36mdeepcopy\u001b[0;34m(x, memo, _nil)\u001b[0m\n\u001b[1;32m    148\u001b[0m     \u001b[0mcopier\u001b[0m \u001b[0;34m=\u001b[0m \u001b[0m_deepcopy_dispatch\u001b[0m\u001b[0;34m.\u001b[0m\u001b[0mget\u001b[0m\u001b[0;34m(\u001b[0m\u001b[0mcls\u001b[0m\u001b[0;34m)\u001b[0m\u001b[0;34m\u001b[0m\u001b[0;34m\u001b[0m\u001b[0m\n\u001b[1;32m    149\u001b[0m     \u001b[0;32mif\u001b[0m \u001b[0mcopier\u001b[0m\u001b[0;34m:\u001b[0m\u001b[0;34m\u001b[0m\u001b[0;34m\u001b[0m\u001b[0m\n\u001b[0;32m--> 150\u001b[0;31m         \u001b[0my\u001b[0m \u001b[0;34m=\u001b[0m \u001b[0mcopier\u001b[0m\u001b[0;34m(\u001b[0m\u001b[0mx\u001b[0m\u001b[0;34m,\u001b[0m \u001b[0mmemo\u001b[0m\u001b[0;34m)\u001b[0m\u001b[0;34m\u001b[0m\u001b[0;34m\u001b[0m\u001b[0m\n\u001b[0m\u001b[1;32m    151\u001b[0m     \u001b[0;32melse\u001b[0m\u001b[0;34m:\u001b[0m\u001b[0;34m\u001b[0m\u001b[0;34m\u001b[0m\u001b[0m\n\u001b[1;32m    152\u001b[0m         \u001b[0;32mtry\u001b[0m\u001b[0;34m:\u001b[0m\u001b[0;34m\u001b[0m\u001b[0;34m\u001b[0m\u001b[0m\n",
            "\u001b[0;32m/usr/lib/python3.6/copy.py\u001b[0m in \u001b[0;36m_deepcopy_dict\u001b[0;34m(x, memo, deepcopy)\u001b[0m\n\u001b[1;32m    238\u001b[0m     \u001b[0mmemo\u001b[0m\u001b[0;34m[\u001b[0m\u001b[0mid\u001b[0m\u001b[0;34m(\u001b[0m\u001b[0mx\u001b[0m\u001b[0;34m)\u001b[0m\u001b[0;34m]\u001b[0m \u001b[0;34m=\u001b[0m \u001b[0my\u001b[0m\u001b[0;34m\u001b[0m\u001b[0;34m\u001b[0m\u001b[0m\n\u001b[1;32m    239\u001b[0m     \u001b[0;32mfor\u001b[0m \u001b[0mkey\u001b[0m\u001b[0;34m,\u001b[0m \u001b[0mvalue\u001b[0m \u001b[0;32min\u001b[0m \u001b[0mx\u001b[0m\u001b[0;34m.\u001b[0m\u001b[0mitems\u001b[0m\u001b[0;34m(\u001b[0m\u001b[0;34m)\u001b[0m\u001b[0;34m:\u001b[0m\u001b[0;34m\u001b[0m\u001b[0;34m\u001b[0m\u001b[0m\n\u001b[0;32m--> 240\u001b[0;31m         \u001b[0my\u001b[0m\u001b[0;34m[\u001b[0m\u001b[0mdeepcopy\u001b[0m\u001b[0;34m(\u001b[0m\u001b[0mkey\u001b[0m\u001b[0;34m,\u001b[0m \u001b[0mmemo\u001b[0m\u001b[0;34m)\u001b[0m\u001b[0;34m]\u001b[0m \u001b[0;34m=\u001b[0m \u001b[0mdeepcopy\u001b[0m\u001b[0;34m(\u001b[0m\u001b[0mvalue\u001b[0m\u001b[0;34m,\u001b[0m \u001b[0mmemo\u001b[0m\u001b[0;34m)\u001b[0m\u001b[0;34m\u001b[0m\u001b[0;34m\u001b[0m\u001b[0m\n\u001b[0m\u001b[1;32m    241\u001b[0m     \u001b[0;32mreturn\u001b[0m \u001b[0my\u001b[0m\u001b[0;34m\u001b[0m\u001b[0;34m\u001b[0m\u001b[0m\n\u001b[1;32m    242\u001b[0m \u001b[0md\u001b[0m\u001b[0;34m[\u001b[0m\u001b[0mdict\u001b[0m\u001b[0;34m]\u001b[0m \u001b[0;34m=\u001b[0m \u001b[0m_deepcopy_dict\u001b[0m\u001b[0;34m\u001b[0m\u001b[0;34m\u001b[0m\u001b[0m\n",
            "\u001b[0;32m/usr/lib/python3.6/copy.py\u001b[0m in \u001b[0;36mdeepcopy\u001b[0;34m(x, memo, _nil)\u001b[0m\n\u001b[1;32m    148\u001b[0m     \u001b[0mcopier\u001b[0m \u001b[0;34m=\u001b[0m \u001b[0m_deepcopy_dispatch\u001b[0m\u001b[0;34m.\u001b[0m\u001b[0mget\u001b[0m\u001b[0;34m(\u001b[0m\u001b[0mcls\u001b[0m\u001b[0;34m)\u001b[0m\u001b[0;34m\u001b[0m\u001b[0;34m\u001b[0m\u001b[0m\n\u001b[1;32m    149\u001b[0m     \u001b[0;32mif\u001b[0m \u001b[0mcopier\u001b[0m\u001b[0;34m:\u001b[0m\u001b[0;34m\u001b[0m\u001b[0;34m\u001b[0m\u001b[0m\n\u001b[0;32m--> 150\u001b[0;31m         \u001b[0my\u001b[0m \u001b[0;34m=\u001b[0m \u001b[0mcopier\u001b[0m\u001b[0;34m(\u001b[0m\u001b[0mx\u001b[0m\u001b[0;34m,\u001b[0m \u001b[0mmemo\u001b[0m\u001b[0;34m)\u001b[0m\u001b[0;34m\u001b[0m\u001b[0;34m\u001b[0m\u001b[0m\n\u001b[0m\u001b[1;32m    151\u001b[0m     \u001b[0;32melse\u001b[0m\u001b[0;34m:\u001b[0m\u001b[0;34m\u001b[0m\u001b[0;34m\u001b[0m\u001b[0m\n\u001b[1;32m    152\u001b[0m         \u001b[0;32mtry\u001b[0m\u001b[0;34m:\u001b[0m\u001b[0;34m\u001b[0m\u001b[0;34m\u001b[0m\u001b[0m\n",
            "\u001b[0;32m/usr/lib/python3.6/copy.py\u001b[0m in \u001b[0;36m_deepcopy_list\u001b[0;34m(x, memo, deepcopy)\u001b[0m\n\u001b[1;32m    213\u001b[0m     \u001b[0mappend\u001b[0m \u001b[0;34m=\u001b[0m \u001b[0my\u001b[0m\u001b[0;34m.\u001b[0m\u001b[0mappend\u001b[0m\u001b[0;34m\u001b[0m\u001b[0;34m\u001b[0m\u001b[0m\n\u001b[1;32m    214\u001b[0m     \u001b[0;32mfor\u001b[0m \u001b[0ma\u001b[0m \u001b[0;32min\u001b[0m \u001b[0mx\u001b[0m\u001b[0;34m:\u001b[0m\u001b[0;34m\u001b[0m\u001b[0;34m\u001b[0m\u001b[0m\n\u001b[0;32m--> 215\u001b[0;31m         \u001b[0mappend\u001b[0m\u001b[0;34m(\u001b[0m\u001b[0mdeepcopy\u001b[0m\u001b[0;34m(\u001b[0m\u001b[0ma\u001b[0m\u001b[0;34m,\u001b[0m \u001b[0mmemo\u001b[0m\u001b[0;34m)\u001b[0m\u001b[0;34m)\u001b[0m\u001b[0;34m\u001b[0m\u001b[0;34m\u001b[0m\u001b[0m\n\u001b[0m\u001b[1;32m    216\u001b[0m     \u001b[0;32mreturn\u001b[0m \u001b[0my\u001b[0m\u001b[0;34m\u001b[0m\u001b[0;34m\u001b[0m\u001b[0m\n\u001b[1;32m    217\u001b[0m \u001b[0md\u001b[0m\u001b[0;34m[\u001b[0m\u001b[0mlist\u001b[0m\u001b[0;34m]\u001b[0m \u001b[0;34m=\u001b[0m \u001b[0m_deepcopy_list\u001b[0m\u001b[0;34m\u001b[0m\u001b[0;34m\u001b[0m\u001b[0m\n",
            "\u001b[0;32m/usr/lib/python3.6/copy.py\u001b[0m in \u001b[0;36mdeepcopy\u001b[0;34m(x, memo, _nil)\u001b[0m\n\u001b[1;32m    178\u001b[0m                     \u001b[0my\u001b[0m \u001b[0;34m=\u001b[0m \u001b[0mx\u001b[0m\u001b[0;34m\u001b[0m\u001b[0;34m\u001b[0m\u001b[0m\n\u001b[1;32m    179\u001b[0m                 \u001b[0;32melse\u001b[0m\u001b[0;34m:\u001b[0m\u001b[0;34m\u001b[0m\u001b[0;34m\u001b[0m\u001b[0m\n\u001b[0;32m--> 180\u001b[0;31m                     \u001b[0my\u001b[0m \u001b[0;34m=\u001b[0m \u001b[0m_reconstruct\u001b[0m\u001b[0;34m(\u001b[0m\u001b[0mx\u001b[0m\u001b[0;34m,\u001b[0m \u001b[0mmemo\u001b[0m\u001b[0;34m,\u001b[0m \u001b[0;34m*\u001b[0m\u001b[0mrv\u001b[0m\u001b[0;34m)\u001b[0m\u001b[0;34m\u001b[0m\u001b[0;34m\u001b[0m\u001b[0m\n\u001b[0m\u001b[1;32m    181\u001b[0m \u001b[0;34m\u001b[0m\u001b[0m\n\u001b[1;32m    182\u001b[0m     \u001b[0;31m# If is its own copy, don't memoize.\u001b[0m\u001b[0;34m\u001b[0m\u001b[0;34m\u001b[0m\u001b[0;34m\u001b[0m\u001b[0m\n",
            "\u001b[0;32m/usr/lib/python3.6/copy.py\u001b[0m in \u001b[0;36m_reconstruct\u001b[0;34m(x, memo, func, args, state, listiter, dictiter, deepcopy)\u001b[0m\n\u001b[1;32m    278\u001b[0m     \u001b[0;32mif\u001b[0m \u001b[0mstate\u001b[0m \u001b[0;32mis\u001b[0m \u001b[0;32mnot\u001b[0m \u001b[0;32mNone\u001b[0m\u001b[0;34m:\u001b[0m\u001b[0;34m\u001b[0m\u001b[0;34m\u001b[0m\u001b[0m\n\u001b[1;32m    279\u001b[0m         \u001b[0;32mif\u001b[0m \u001b[0mdeep\u001b[0m\u001b[0;34m:\u001b[0m\u001b[0;34m\u001b[0m\u001b[0;34m\u001b[0m\u001b[0m\n\u001b[0;32m--> 280\u001b[0;31m             \u001b[0mstate\u001b[0m \u001b[0;34m=\u001b[0m \u001b[0mdeepcopy\u001b[0m\u001b[0;34m(\u001b[0m\u001b[0mstate\u001b[0m\u001b[0;34m,\u001b[0m \u001b[0mmemo\u001b[0m\u001b[0;34m)\u001b[0m\u001b[0;34m\u001b[0m\u001b[0;34m\u001b[0m\u001b[0m\n\u001b[0m\u001b[1;32m    281\u001b[0m         \u001b[0;32mif\u001b[0m \u001b[0mhasattr\u001b[0m\u001b[0;34m(\u001b[0m\u001b[0my\u001b[0m\u001b[0;34m,\u001b[0m \u001b[0;34m'__setstate__'\u001b[0m\u001b[0;34m)\u001b[0m\u001b[0;34m:\u001b[0m\u001b[0;34m\u001b[0m\u001b[0;34m\u001b[0m\u001b[0m\n\u001b[1;32m    282\u001b[0m             \u001b[0my\u001b[0m\u001b[0;34m.\u001b[0m\u001b[0m__setstate__\u001b[0m\u001b[0;34m(\u001b[0m\u001b[0mstate\u001b[0m\u001b[0;34m)\u001b[0m\u001b[0;34m\u001b[0m\u001b[0;34m\u001b[0m\u001b[0m\n",
            "\u001b[0;32m/usr/lib/python3.6/copy.py\u001b[0m in \u001b[0;36mdeepcopy\u001b[0;34m(x, memo, _nil)\u001b[0m\n\u001b[1;32m    148\u001b[0m     \u001b[0mcopier\u001b[0m \u001b[0;34m=\u001b[0m \u001b[0m_deepcopy_dispatch\u001b[0m\u001b[0;34m.\u001b[0m\u001b[0mget\u001b[0m\u001b[0;34m(\u001b[0m\u001b[0mcls\u001b[0m\u001b[0;34m)\u001b[0m\u001b[0;34m\u001b[0m\u001b[0;34m\u001b[0m\u001b[0m\n\u001b[1;32m    149\u001b[0m     \u001b[0;32mif\u001b[0m \u001b[0mcopier\u001b[0m\u001b[0;34m:\u001b[0m\u001b[0;34m\u001b[0m\u001b[0;34m\u001b[0m\u001b[0m\n\u001b[0;32m--> 150\u001b[0;31m         \u001b[0my\u001b[0m \u001b[0;34m=\u001b[0m \u001b[0mcopier\u001b[0m\u001b[0;34m(\u001b[0m\u001b[0mx\u001b[0m\u001b[0;34m,\u001b[0m \u001b[0mmemo\u001b[0m\u001b[0;34m)\u001b[0m\u001b[0;34m\u001b[0m\u001b[0;34m\u001b[0m\u001b[0m\n\u001b[0m\u001b[1;32m    151\u001b[0m     \u001b[0;32melse\u001b[0m\u001b[0;34m:\u001b[0m\u001b[0;34m\u001b[0m\u001b[0;34m\u001b[0m\u001b[0m\n\u001b[1;32m    152\u001b[0m         \u001b[0;32mtry\u001b[0m\u001b[0;34m:\u001b[0m\u001b[0;34m\u001b[0m\u001b[0;34m\u001b[0m\u001b[0m\n",
            "\u001b[0;32m/usr/lib/python3.6/copy.py\u001b[0m in \u001b[0;36m_deepcopy_dict\u001b[0;34m(x, memo, deepcopy)\u001b[0m\n\u001b[1;32m    238\u001b[0m     \u001b[0mmemo\u001b[0m\u001b[0;34m[\u001b[0m\u001b[0mid\u001b[0m\u001b[0;34m(\u001b[0m\u001b[0mx\u001b[0m\u001b[0;34m)\u001b[0m\u001b[0;34m]\u001b[0m \u001b[0;34m=\u001b[0m \u001b[0my\u001b[0m\u001b[0;34m\u001b[0m\u001b[0;34m\u001b[0m\u001b[0m\n\u001b[1;32m    239\u001b[0m     \u001b[0;32mfor\u001b[0m \u001b[0mkey\u001b[0m\u001b[0;34m,\u001b[0m \u001b[0mvalue\u001b[0m \u001b[0;32min\u001b[0m \u001b[0mx\u001b[0m\u001b[0;34m.\u001b[0m\u001b[0mitems\u001b[0m\u001b[0;34m(\u001b[0m\u001b[0;34m)\u001b[0m\u001b[0;34m:\u001b[0m\u001b[0;34m\u001b[0m\u001b[0;34m\u001b[0m\u001b[0m\n\u001b[0;32m--> 240\u001b[0;31m         \u001b[0my\u001b[0m\u001b[0;34m[\u001b[0m\u001b[0mdeepcopy\u001b[0m\u001b[0;34m(\u001b[0m\u001b[0mkey\u001b[0m\u001b[0;34m,\u001b[0m \u001b[0mmemo\u001b[0m\u001b[0;34m)\u001b[0m\u001b[0;34m]\u001b[0m \u001b[0;34m=\u001b[0m \u001b[0mdeepcopy\u001b[0m\u001b[0;34m(\u001b[0m\u001b[0mvalue\u001b[0m\u001b[0;34m,\u001b[0m \u001b[0mmemo\u001b[0m\u001b[0;34m)\u001b[0m\u001b[0;34m\u001b[0m\u001b[0;34m\u001b[0m\u001b[0m\n\u001b[0m\u001b[1;32m    241\u001b[0m     \u001b[0;32mreturn\u001b[0m \u001b[0my\u001b[0m\u001b[0;34m\u001b[0m\u001b[0;34m\u001b[0m\u001b[0m\n\u001b[1;32m    242\u001b[0m \u001b[0md\u001b[0m\u001b[0;34m[\u001b[0m\u001b[0mdict\u001b[0m\u001b[0;34m]\u001b[0m \u001b[0;34m=\u001b[0m \u001b[0m_deepcopy_dict\u001b[0m\u001b[0;34m\u001b[0m\u001b[0;34m\u001b[0m\u001b[0m\n",
            "\u001b[0;32m/usr/lib/python3.6/copy.py\u001b[0m in \u001b[0;36mdeepcopy\u001b[0;34m(x, memo, _nil)\u001b[0m\n\u001b[1;32m    148\u001b[0m     \u001b[0mcopier\u001b[0m \u001b[0;34m=\u001b[0m \u001b[0m_deepcopy_dispatch\u001b[0m\u001b[0;34m.\u001b[0m\u001b[0mget\u001b[0m\u001b[0;34m(\u001b[0m\u001b[0mcls\u001b[0m\u001b[0;34m)\u001b[0m\u001b[0;34m\u001b[0m\u001b[0;34m\u001b[0m\u001b[0m\n\u001b[1;32m    149\u001b[0m     \u001b[0;32mif\u001b[0m \u001b[0mcopier\u001b[0m\u001b[0;34m:\u001b[0m\u001b[0;34m\u001b[0m\u001b[0;34m\u001b[0m\u001b[0m\n\u001b[0;32m--> 150\u001b[0;31m         \u001b[0my\u001b[0m \u001b[0;34m=\u001b[0m \u001b[0mcopier\u001b[0m\u001b[0;34m(\u001b[0m\u001b[0mx\u001b[0m\u001b[0;34m,\u001b[0m \u001b[0mmemo\u001b[0m\u001b[0;34m)\u001b[0m\u001b[0;34m\u001b[0m\u001b[0;34m\u001b[0m\u001b[0m\n\u001b[0m\u001b[1;32m    151\u001b[0m     \u001b[0;32melse\u001b[0m\u001b[0;34m:\u001b[0m\u001b[0;34m\u001b[0m\u001b[0;34m\u001b[0m\u001b[0m\n\u001b[1;32m    152\u001b[0m         \u001b[0;32mtry\u001b[0m\u001b[0;34m:\u001b[0m\u001b[0;34m\u001b[0m\u001b[0;34m\u001b[0m\u001b[0m\n",
            "\u001b[0;32m/usr/lib/python3.6/copy.py\u001b[0m in \u001b[0;36m_deepcopy_list\u001b[0;34m(x, memo, deepcopy)\u001b[0m\n\u001b[1;32m    213\u001b[0m     \u001b[0mappend\u001b[0m \u001b[0;34m=\u001b[0m \u001b[0my\u001b[0m\u001b[0;34m.\u001b[0m\u001b[0mappend\u001b[0m\u001b[0;34m\u001b[0m\u001b[0;34m\u001b[0m\u001b[0m\n\u001b[1;32m    214\u001b[0m     \u001b[0;32mfor\u001b[0m \u001b[0ma\u001b[0m \u001b[0;32min\u001b[0m \u001b[0mx\u001b[0m\u001b[0;34m:\u001b[0m\u001b[0;34m\u001b[0m\u001b[0;34m\u001b[0m\u001b[0m\n\u001b[0;32m--> 215\u001b[0;31m         \u001b[0mappend\u001b[0m\u001b[0;34m(\u001b[0m\u001b[0mdeepcopy\u001b[0m\u001b[0;34m(\u001b[0m\u001b[0ma\u001b[0m\u001b[0;34m,\u001b[0m \u001b[0mmemo\u001b[0m\u001b[0;34m)\u001b[0m\u001b[0;34m)\u001b[0m\u001b[0;34m\u001b[0m\u001b[0;34m\u001b[0m\u001b[0m\n\u001b[0m\u001b[1;32m    216\u001b[0m     \u001b[0;32mreturn\u001b[0m \u001b[0my\u001b[0m\u001b[0;34m\u001b[0m\u001b[0;34m\u001b[0m\u001b[0m\n\u001b[1;32m    217\u001b[0m \u001b[0md\u001b[0m\u001b[0;34m[\u001b[0m\u001b[0mlist\u001b[0m\u001b[0;34m]\u001b[0m \u001b[0;34m=\u001b[0m \u001b[0m_deepcopy_list\u001b[0m\u001b[0;34m\u001b[0m\u001b[0;34m\u001b[0m\u001b[0m\n",
            "\u001b[0;32m/usr/lib/python3.6/copy.py\u001b[0m in \u001b[0;36mdeepcopy\u001b[0;34m(x, memo, _nil)\u001b[0m\n\u001b[1;32m    178\u001b[0m                     \u001b[0my\u001b[0m \u001b[0;34m=\u001b[0m \u001b[0mx\u001b[0m\u001b[0;34m\u001b[0m\u001b[0;34m\u001b[0m\u001b[0m\n\u001b[1;32m    179\u001b[0m                 \u001b[0;32melse\u001b[0m\u001b[0;34m:\u001b[0m\u001b[0;34m\u001b[0m\u001b[0;34m\u001b[0m\u001b[0m\n\u001b[0;32m--> 180\u001b[0;31m                     \u001b[0my\u001b[0m \u001b[0;34m=\u001b[0m \u001b[0m_reconstruct\u001b[0m\u001b[0;34m(\u001b[0m\u001b[0mx\u001b[0m\u001b[0;34m,\u001b[0m \u001b[0mmemo\u001b[0m\u001b[0;34m,\u001b[0m \u001b[0;34m*\u001b[0m\u001b[0mrv\u001b[0m\u001b[0;34m)\u001b[0m\u001b[0;34m\u001b[0m\u001b[0;34m\u001b[0m\u001b[0m\n\u001b[0m\u001b[1;32m    181\u001b[0m \u001b[0;34m\u001b[0m\u001b[0m\n\u001b[1;32m    182\u001b[0m     \u001b[0;31m# If is its own copy, don't memoize.\u001b[0m\u001b[0;34m\u001b[0m\u001b[0;34m\u001b[0m\u001b[0;34m\u001b[0m\u001b[0m\n",
            "\u001b[0;32m/usr/lib/python3.6/copy.py\u001b[0m in \u001b[0;36m_reconstruct\u001b[0;34m(x, memo, func, args, state, listiter, dictiter, deepcopy)\u001b[0m\n\u001b[1;32m    278\u001b[0m     \u001b[0;32mif\u001b[0m \u001b[0mstate\u001b[0m \u001b[0;32mis\u001b[0m \u001b[0;32mnot\u001b[0m \u001b[0;32mNone\u001b[0m\u001b[0;34m:\u001b[0m\u001b[0;34m\u001b[0m\u001b[0;34m\u001b[0m\u001b[0m\n\u001b[1;32m    279\u001b[0m         \u001b[0;32mif\u001b[0m \u001b[0mdeep\u001b[0m\u001b[0;34m:\u001b[0m\u001b[0;34m\u001b[0m\u001b[0;34m\u001b[0m\u001b[0m\n\u001b[0;32m--> 280\u001b[0;31m             \u001b[0mstate\u001b[0m \u001b[0;34m=\u001b[0m \u001b[0mdeepcopy\u001b[0m\u001b[0;34m(\u001b[0m\u001b[0mstate\u001b[0m\u001b[0;34m,\u001b[0m \u001b[0mmemo\u001b[0m\u001b[0;34m)\u001b[0m\u001b[0;34m\u001b[0m\u001b[0;34m\u001b[0m\u001b[0m\n\u001b[0m\u001b[1;32m    281\u001b[0m         \u001b[0;32mif\u001b[0m \u001b[0mhasattr\u001b[0m\u001b[0;34m(\u001b[0m\u001b[0my\u001b[0m\u001b[0;34m,\u001b[0m \u001b[0;34m'__setstate__'\u001b[0m\u001b[0;34m)\u001b[0m\u001b[0;34m:\u001b[0m\u001b[0;34m\u001b[0m\u001b[0;34m\u001b[0m\u001b[0m\n\u001b[1;32m    282\u001b[0m             \u001b[0my\u001b[0m\u001b[0;34m.\u001b[0m\u001b[0m__setstate__\u001b[0m\u001b[0;34m(\u001b[0m\u001b[0mstate\u001b[0m\u001b[0;34m)\u001b[0m\u001b[0;34m\u001b[0m\u001b[0;34m\u001b[0m\u001b[0m\n",
            "\u001b[0;32m/usr/lib/python3.6/copy.py\u001b[0m in \u001b[0;36mdeepcopy\u001b[0;34m(x, memo, _nil)\u001b[0m\n\u001b[1;32m    148\u001b[0m     \u001b[0mcopier\u001b[0m \u001b[0;34m=\u001b[0m \u001b[0m_deepcopy_dispatch\u001b[0m\u001b[0;34m.\u001b[0m\u001b[0mget\u001b[0m\u001b[0;34m(\u001b[0m\u001b[0mcls\u001b[0m\u001b[0;34m)\u001b[0m\u001b[0;34m\u001b[0m\u001b[0;34m\u001b[0m\u001b[0m\n\u001b[1;32m    149\u001b[0m     \u001b[0;32mif\u001b[0m \u001b[0mcopier\u001b[0m\u001b[0;34m:\u001b[0m\u001b[0;34m\u001b[0m\u001b[0;34m\u001b[0m\u001b[0m\n\u001b[0;32m--> 150\u001b[0;31m         \u001b[0my\u001b[0m \u001b[0;34m=\u001b[0m \u001b[0mcopier\u001b[0m\u001b[0;34m(\u001b[0m\u001b[0mx\u001b[0m\u001b[0;34m,\u001b[0m \u001b[0mmemo\u001b[0m\u001b[0;34m)\u001b[0m\u001b[0;34m\u001b[0m\u001b[0;34m\u001b[0m\u001b[0m\n\u001b[0m\u001b[1;32m    151\u001b[0m     \u001b[0;32melse\u001b[0m\u001b[0;34m:\u001b[0m\u001b[0;34m\u001b[0m\u001b[0;34m\u001b[0m\u001b[0m\n\u001b[1;32m    152\u001b[0m         \u001b[0;32mtry\u001b[0m\u001b[0;34m:\u001b[0m\u001b[0;34m\u001b[0m\u001b[0;34m\u001b[0m\u001b[0m\n",
            "\u001b[0;32m/usr/lib/python3.6/copy.py\u001b[0m in \u001b[0;36m_deepcopy_dict\u001b[0;34m(x, memo, deepcopy)\u001b[0m\n\u001b[1;32m    238\u001b[0m     \u001b[0mmemo\u001b[0m\u001b[0;34m[\u001b[0m\u001b[0mid\u001b[0m\u001b[0;34m(\u001b[0m\u001b[0mx\u001b[0m\u001b[0;34m)\u001b[0m\u001b[0;34m]\u001b[0m \u001b[0;34m=\u001b[0m \u001b[0my\u001b[0m\u001b[0;34m\u001b[0m\u001b[0;34m\u001b[0m\u001b[0m\n\u001b[1;32m    239\u001b[0m     \u001b[0;32mfor\u001b[0m \u001b[0mkey\u001b[0m\u001b[0;34m,\u001b[0m \u001b[0mvalue\u001b[0m \u001b[0;32min\u001b[0m \u001b[0mx\u001b[0m\u001b[0;34m.\u001b[0m\u001b[0mitems\u001b[0m\u001b[0;34m(\u001b[0m\u001b[0;34m)\u001b[0m\u001b[0;34m:\u001b[0m\u001b[0;34m\u001b[0m\u001b[0;34m\u001b[0m\u001b[0m\n\u001b[0;32m--> 240\u001b[0;31m         \u001b[0my\u001b[0m\u001b[0;34m[\u001b[0m\u001b[0mdeepcopy\u001b[0m\u001b[0;34m(\u001b[0m\u001b[0mkey\u001b[0m\u001b[0;34m,\u001b[0m \u001b[0mmemo\u001b[0m\u001b[0;34m)\u001b[0m\u001b[0;34m]\u001b[0m \u001b[0;34m=\u001b[0m \u001b[0mdeepcopy\u001b[0m\u001b[0;34m(\u001b[0m\u001b[0mvalue\u001b[0m\u001b[0;34m,\u001b[0m \u001b[0mmemo\u001b[0m\u001b[0;34m)\u001b[0m\u001b[0;34m\u001b[0m\u001b[0;34m\u001b[0m\u001b[0m\n\u001b[0m\u001b[1;32m    241\u001b[0m     \u001b[0;32mreturn\u001b[0m \u001b[0my\u001b[0m\u001b[0;34m\u001b[0m\u001b[0;34m\u001b[0m\u001b[0m\n\u001b[1;32m    242\u001b[0m \u001b[0md\u001b[0m\u001b[0;34m[\u001b[0m\u001b[0mdict\u001b[0m\u001b[0;34m]\u001b[0m \u001b[0;34m=\u001b[0m \u001b[0m_deepcopy_dict\u001b[0m\u001b[0;34m\u001b[0m\u001b[0;34m\u001b[0m\u001b[0m\n",
            "\u001b[0;32m/usr/lib/python3.6/copy.py\u001b[0m in \u001b[0;36mdeepcopy\u001b[0;34m(x, memo, _nil)\u001b[0m\n\u001b[1;32m    178\u001b[0m                     \u001b[0my\u001b[0m \u001b[0;34m=\u001b[0m \u001b[0mx\u001b[0m\u001b[0;34m\u001b[0m\u001b[0;34m\u001b[0m\u001b[0m\n\u001b[1;32m    179\u001b[0m                 \u001b[0;32melse\u001b[0m\u001b[0;34m:\u001b[0m\u001b[0;34m\u001b[0m\u001b[0;34m\u001b[0m\u001b[0m\n\u001b[0;32m--> 180\u001b[0;31m                     \u001b[0my\u001b[0m \u001b[0;34m=\u001b[0m \u001b[0m_reconstruct\u001b[0m\u001b[0;34m(\u001b[0m\u001b[0mx\u001b[0m\u001b[0;34m,\u001b[0m \u001b[0mmemo\u001b[0m\u001b[0;34m,\u001b[0m \u001b[0;34m*\u001b[0m\u001b[0mrv\u001b[0m\u001b[0;34m)\u001b[0m\u001b[0;34m\u001b[0m\u001b[0;34m\u001b[0m\u001b[0m\n\u001b[0m\u001b[1;32m    181\u001b[0m \u001b[0;34m\u001b[0m\u001b[0m\n\u001b[1;32m    182\u001b[0m     \u001b[0;31m# If is its own copy, don't memoize.\u001b[0m\u001b[0;34m\u001b[0m\u001b[0;34m\u001b[0m\u001b[0;34m\u001b[0m\u001b[0m\n",
            "\u001b[0;32m/usr/lib/python3.6/copy.py\u001b[0m in \u001b[0;36m_reconstruct\u001b[0;34m(x, memo, func, args, state, listiter, dictiter, deepcopy)\u001b[0m\n\u001b[1;32m    278\u001b[0m     \u001b[0;32mif\u001b[0m \u001b[0mstate\u001b[0m \u001b[0;32mis\u001b[0m \u001b[0;32mnot\u001b[0m \u001b[0;32mNone\u001b[0m\u001b[0;34m:\u001b[0m\u001b[0;34m\u001b[0m\u001b[0;34m\u001b[0m\u001b[0m\n\u001b[1;32m    279\u001b[0m         \u001b[0;32mif\u001b[0m \u001b[0mdeep\u001b[0m\u001b[0;34m:\u001b[0m\u001b[0;34m\u001b[0m\u001b[0;34m\u001b[0m\u001b[0m\n\u001b[0;32m--> 280\u001b[0;31m             \u001b[0mstate\u001b[0m \u001b[0;34m=\u001b[0m \u001b[0mdeepcopy\u001b[0m\u001b[0;34m(\u001b[0m\u001b[0mstate\u001b[0m\u001b[0;34m,\u001b[0m \u001b[0mmemo\u001b[0m\u001b[0;34m)\u001b[0m\u001b[0;34m\u001b[0m\u001b[0;34m\u001b[0m\u001b[0m\n\u001b[0m\u001b[1;32m    281\u001b[0m         \u001b[0;32mif\u001b[0m \u001b[0mhasattr\u001b[0m\u001b[0;34m(\u001b[0m\u001b[0my\u001b[0m\u001b[0;34m,\u001b[0m \u001b[0;34m'__setstate__'\u001b[0m\u001b[0;34m)\u001b[0m\u001b[0;34m:\u001b[0m\u001b[0;34m\u001b[0m\u001b[0;34m\u001b[0m\u001b[0m\n\u001b[1;32m    282\u001b[0m             \u001b[0my\u001b[0m\u001b[0;34m.\u001b[0m\u001b[0m__setstate__\u001b[0m\u001b[0;34m(\u001b[0m\u001b[0mstate\u001b[0m\u001b[0;34m)\u001b[0m\u001b[0;34m\u001b[0m\u001b[0;34m\u001b[0m\u001b[0m\n",
            "\u001b[0;32m/usr/lib/python3.6/copy.py\u001b[0m in \u001b[0;36mdeepcopy\u001b[0;34m(x, memo, _nil)\u001b[0m\n\u001b[1;32m    148\u001b[0m     \u001b[0mcopier\u001b[0m \u001b[0;34m=\u001b[0m \u001b[0m_deepcopy_dispatch\u001b[0m\u001b[0;34m.\u001b[0m\u001b[0mget\u001b[0m\u001b[0;34m(\u001b[0m\u001b[0mcls\u001b[0m\u001b[0;34m)\u001b[0m\u001b[0;34m\u001b[0m\u001b[0;34m\u001b[0m\u001b[0m\n\u001b[1;32m    149\u001b[0m     \u001b[0;32mif\u001b[0m \u001b[0mcopier\u001b[0m\u001b[0;34m:\u001b[0m\u001b[0;34m\u001b[0m\u001b[0;34m\u001b[0m\u001b[0m\n\u001b[0;32m--> 150\u001b[0;31m         \u001b[0my\u001b[0m \u001b[0;34m=\u001b[0m \u001b[0mcopier\u001b[0m\u001b[0;34m(\u001b[0m\u001b[0mx\u001b[0m\u001b[0;34m,\u001b[0m \u001b[0mmemo\u001b[0m\u001b[0;34m)\u001b[0m\u001b[0;34m\u001b[0m\u001b[0;34m\u001b[0m\u001b[0m\n\u001b[0m\u001b[1;32m    151\u001b[0m     \u001b[0;32melse\u001b[0m\u001b[0;34m:\u001b[0m\u001b[0;34m\u001b[0m\u001b[0;34m\u001b[0m\u001b[0m\n\u001b[1;32m    152\u001b[0m         \u001b[0;32mtry\u001b[0m\u001b[0;34m:\u001b[0m\u001b[0;34m\u001b[0m\u001b[0;34m\u001b[0m\u001b[0m\n",
            "\u001b[0;32m/usr/lib/python3.6/copy.py\u001b[0m in \u001b[0;36m_deepcopy_dict\u001b[0;34m(x, memo, deepcopy)\u001b[0m\n\u001b[1;32m    238\u001b[0m     \u001b[0mmemo\u001b[0m\u001b[0;34m[\u001b[0m\u001b[0mid\u001b[0m\u001b[0;34m(\u001b[0m\u001b[0mx\u001b[0m\u001b[0;34m)\u001b[0m\u001b[0;34m]\u001b[0m \u001b[0;34m=\u001b[0m \u001b[0my\u001b[0m\u001b[0;34m\u001b[0m\u001b[0;34m\u001b[0m\u001b[0m\n\u001b[1;32m    239\u001b[0m     \u001b[0;32mfor\u001b[0m \u001b[0mkey\u001b[0m\u001b[0;34m,\u001b[0m \u001b[0mvalue\u001b[0m \u001b[0;32min\u001b[0m \u001b[0mx\u001b[0m\u001b[0;34m.\u001b[0m\u001b[0mitems\u001b[0m\u001b[0;34m(\u001b[0m\u001b[0;34m)\u001b[0m\u001b[0;34m:\u001b[0m\u001b[0;34m\u001b[0m\u001b[0;34m\u001b[0m\u001b[0m\n\u001b[0;32m--> 240\u001b[0;31m         \u001b[0my\u001b[0m\u001b[0;34m[\u001b[0m\u001b[0mdeepcopy\u001b[0m\u001b[0;34m(\u001b[0m\u001b[0mkey\u001b[0m\u001b[0;34m,\u001b[0m \u001b[0mmemo\u001b[0m\u001b[0;34m)\u001b[0m\u001b[0;34m]\u001b[0m \u001b[0;34m=\u001b[0m \u001b[0mdeepcopy\u001b[0m\u001b[0;34m(\u001b[0m\u001b[0mvalue\u001b[0m\u001b[0;34m,\u001b[0m \u001b[0mmemo\u001b[0m\u001b[0;34m)\u001b[0m\u001b[0;34m\u001b[0m\u001b[0;34m\u001b[0m\u001b[0m\n\u001b[0m\u001b[1;32m    241\u001b[0m     \u001b[0;32mreturn\u001b[0m \u001b[0my\u001b[0m\u001b[0;34m\u001b[0m\u001b[0;34m\u001b[0m\u001b[0m\n\u001b[1;32m    242\u001b[0m \u001b[0md\u001b[0m\u001b[0;34m[\u001b[0m\u001b[0mdict\u001b[0m\u001b[0;34m]\u001b[0m \u001b[0;34m=\u001b[0m \u001b[0m_deepcopy_dict\u001b[0m\u001b[0;34m\u001b[0m\u001b[0;34m\u001b[0m\u001b[0m\n",
            "\u001b[0;32m/usr/lib/python3.6/copy.py\u001b[0m in \u001b[0;36mdeepcopy\u001b[0;34m(x, memo, _nil)\u001b[0m\n\u001b[1;32m    178\u001b[0m                     \u001b[0my\u001b[0m \u001b[0;34m=\u001b[0m \u001b[0mx\u001b[0m\u001b[0;34m\u001b[0m\u001b[0;34m\u001b[0m\u001b[0m\n\u001b[1;32m    179\u001b[0m                 \u001b[0;32melse\u001b[0m\u001b[0;34m:\u001b[0m\u001b[0;34m\u001b[0m\u001b[0;34m\u001b[0m\u001b[0m\n\u001b[0;32m--> 180\u001b[0;31m                     \u001b[0my\u001b[0m \u001b[0;34m=\u001b[0m \u001b[0m_reconstruct\u001b[0m\u001b[0;34m(\u001b[0m\u001b[0mx\u001b[0m\u001b[0;34m,\u001b[0m \u001b[0mmemo\u001b[0m\u001b[0;34m,\u001b[0m \u001b[0;34m*\u001b[0m\u001b[0mrv\u001b[0m\u001b[0;34m)\u001b[0m\u001b[0;34m\u001b[0m\u001b[0;34m\u001b[0m\u001b[0m\n\u001b[0m\u001b[1;32m    181\u001b[0m \u001b[0;34m\u001b[0m\u001b[0m\n\u001b[1;32m    182\u001b[0m     \u001b[0;31m# If is its own copy, don't memoize.\u001b[0m\u001b[0;34m\u001b[0m\u001b[0;34m\u001b[0m\u001b[0;34m\u001b[0m\u001b[0m\n",
            "\u001b[0;32m/usr/lib/python3.6/copy.py\u001b[0m in \u001b[0;36m_reconstruct\u001b[0;34m(x, memo, func, args, state, listiter, dictiter, deepcopy)\u001b[0m\n\u001b[1;32m    278\u001b[0m     \u001b[0;32mif\u001b[0m \u001b[0mstate\u001b[0m \u001b[0;32mis\u001b[0m \u001b[0;32mnot\u001b[0m \u001b[0;32mNone\u001b[0m\u001b[0;34m:\u001b[0m\u001b[0;34m\u001b[0m\u001b[0;34m\u001b[0m\u001b[0m\n\u001b[1;32m    279\u001b[0m         \u001b[0;32mif\u001b[0m \u001b[0mdeep\u001b[0m\u001b[0;34m:\u001b[0m\u001b[0;34m\u001b[0m\u001b[0;34m\u001b[0m\u001b[0m\n\u001b[0;32m--> 280\u001b[0;31m             \u001b[0mstate\u001b[0m \u001b[0;34m=\u001b[0m \u001b[0mdeepcopy\u001b[0m\u001b[0;34m(\u001b[0m\u001b[0mstate\u001b[0m\u001b[0;34m,\u001b[0m \u001b[0mmemo\u001b[0m\u001b[0;34m)\u001b[0m\u001b[0;34m\u001b[0m\u001b[0;34m\u001b[0m\u001b[0m\n\u001b[0m\u001b[1;32m    281\u001b[0m         \u001b[0;32mif\u001b[0m \u001b[0mhasattr\u001b[0m\u001b[0;34m(\u001b[0m\u001b[0my\u001b[0m\u001b[0;34m,\u001b[0m \u001b[0;34m'__setstate__'\u001b[0m\u001b[0;34m)\u001b[0m\u001b[0;34m:\u001b[0m\u001b[0;34m\u001b[0m\u001b[0;34m\u001b[0m\u001b[0m\n\u001b[1;32m    282\u001b[0m             \u001b[0my\u001b[0m\u001b[0;34m.\u001b[0m\u001b[0m__setstate__\u001b[0m\u001b[0;34m(\u001b[0m\u001b[0mstate\u001b[0m\u001b[0;34m)\u001b[0m\u001b[0;34m\u001b[0m\u001b[0;34m\u001b[0m\u001b[0m\n",
            "\u001b[0;32m/usr/lib/python3.6/copy.py\u001b[0m in \u001b[0;36mdeepcopy\u001b[0;34m(x, memo, _nil)\u001b[0m\n\u001b[1;32m    148\u001b[0m     \u001b[0mcopier\u001b[0m \u001b[0;34m=\u001b[0m \u001b[0m_deepcopy_dispatch\u001b[0m\u001b[0;34m.\u001b[0m\u001b[0mget\u001b[0m\u001b[0;34m(\u001b[0m\u001b[0mcls\u001b[0m\u001b[0;34m)\u001b[0m\u001b[0;34m\u001b[0m\u001b[0;34m\u001b[0m\u001b[0m\n\u001b[1;32m    149\u001b[0m     \u001b[0;32mif\u001b[0m \u001b[0mcopier\u001b[0m\u001b[0;34m:\u001b[0m\u001b[0;34m\u001b[0m\u001b[0;34m\u001b[0m\u001b[0m\n\u001b[0;32m--> 150\u001b[0;31m         \u001b[0my\u001b[0m \u001b[0;34m=\u001b[0m \u001b[0mcopier\u001b[0m\u001b[0;34m(\u001b[0m\u001b[0mx\u001b[0m\u001b[0;34m,\u001b[0m \u001b[0mmemo\u001b[0m\u001b[0;34m)\u001b[0m\u001b[0;34m\u001b[0m\u001b[0;34m\u001b[0m\u001b[0m\n\u001b[0m\u001b[1;32m    151\u001b[0m     \u001b[0;32melse\u001b[0m\u001b[0;34m:\u001b[0m\u001b[0;34m\u001b[0m\u001b[0;34m\u001b[0m\u001b[0m\n\u001b[1;32m    152\u001b[0m         \u001b[0;32mtry\u001b[0m\u001b[0;34m:\u001b[0m\u001b[0;34m\u001b[0m\u001b[0;34m\u001b[0m\u001b[0m\n",
            "\u001b[0;32m/usr/lib/python3.6/copy.py\u001b[0m in \u001b[0;36m_deepcopy_dict\u001b[0;34m(x, memo, deepcopy)\u001b[0m\n\u001b[1;32m    238\u001b[0m     \u001b[0mmemo\u001b[0m\u001b[0;34m[\u001b[0m\u001b[0mid\u001b[0m\u001b[0;34m(\u001b[0m\u001b[0mx\u001b[0m\u001b[0;34m)\u001b[0m\u001b[0;34m]\u001b[0m \u001b[0;34m=\u001b[0m \u001b[0my\u001b[0m\u001b[0;34m\u001b[0m\u001b[0;34m\u001b[0m\u001b[0m\n\u001b[1;32m    239\u001b[0m     \u001b[0;32mfor\u001b[0m \u001b[0mkey\u001b[0m\u001b[0;34m,\u001b[0m \u001b[0mvalue\u001b[0m \u001b[0;32min\u001b[0m \u001b[0mx\u001b[0m\u001b[0;34m.\u001b[0m\u001b[0mitems\u001b[0m\u001b[0;34m(\u001b[0m\u001b[0;34m)\u001b[0m\u001b[0;34m:\u001b[0m\u001b[0;34m\u001b[0m\u001b[0;34m\u001b[0m\u001b[0m\n\u001b[0;32m--> 240\u001b[0;31m         \u001b[0my\u001b[0m\u001b[0;34m[\u001b[0m\u001b[0mdeepcopy\u001b[0m\u001b[0;34m(\u001b[0m\u001b[0mkey\u001b[0m\u001b[0;34m,\u001b[0m \u001b[0mmemo\u001b[0m\u001b[0;34m)\u001b[0m\u001b[0;34m]\u001b[0m \u001b[0;34m=\u001b[0m \u001b[0mdeepcopy\u001b[0m\u001b[0;34m(\u001b[0m\u001b[0mvalue\u001b[0m\u001b[0;34m,\u001b[0m \u001b[0mmemo\u001b[0m\u001b[0;34m)\u001b[0m\u001b[0;34m\u001b[0m\u001b[0;34m\u001b[0m\u001b[0m\n\u001b[0m\u001b[1;32m    241\u001b[0m     \u001b[0;32mreturn\u001b[0m \u001b[0my\u001b[0m\u001b[0;34m\u001b[0m\u001b[0;34m\u001b[0m\u001b[0m\n\u001b[1;32m    242\u001b[0m \u001b[0md\u001b[0m\u001b[0;34m[\u001b[0m\u001b[0mdict\u001b[0m\u001b[0;34m]\u001b[0m \u001b[0;34m=\u001b[0m \u001b[0m_deepcopy_dict\u001b[0m\u001b[0;34m\u001b[0m\u001b[0;34m\u001b[0m\u001b[0m\n",
            "\u001b[0;32m/usr/lib/python3.6/copy.py\u001b[0m in \u001b[0;36mdeepcopy\u001b[0;34m(x, memo, _nil)\u001b[0m\n\u001b[1;32m    167\u001b[0m                     \u001b[0mreductor\u001b[0m \u001b[0;34m=\u001b[0m \u001b[0mgetattr\u001b[0m\u001b[0;34m(\u001b[0m\u001b[0mx\u001b[0m\u001b[0;34m,\u001b[0m \u001b[0;34m\"__reduce_ex__\"\u001b[0m\u001b[0;34m,\u001b[0m \u001b[0;32mNone\u001b[0m\u001b[0;34m)\u001b[0m\u001b[0;34m\u001b[0m\u001b[0;34m\u001b[0m\u001b[0m\n\u001b[1;32m    168\u001b[0m                     \u001b[0;32mif\u001b[0m \u001b[0mreductor\u001b[0m\u001b[0;34m:\u001b[0m\u001b[0;34m\u001b[0m\u001b[0;34m\u001b[0m\u001b[0m\n\u001b[0;32m--> 169\u001b[0;31m                         \u001b[0mrv\u001b[0m \u001b[0;34m=\u001b[0m \u001b[0mreductor\u001b[0m\u001b[0;34m(\u001b[0m\u001b[0;36m4\u001b[0m\u001b[0;34m)\u001b[0m\u001b[0;34m\u001b[0m\u001b[0;34m\u001b[0m\u001b[0m\n\u001b[0m\u001b[1;32m    170\u001b[0m                     \u001b[0;32melse\u001b[0m\u001b[0;34m:\u001b[0m\u001b[0;34m\u001b[0m\u001b[0;34m\u001b[0m\u001b[0m\n\u001b[1;32m    171\u001b[0m                         \u001b[0mreductor\u001b[0m \u001b[0;34m=\u001b[0m \u001b[0mgetattr\u001b[0m\u001b[0;34m(\u001b[0m\u001b[0mx\u001b[0m\u001b[0;34m,\u001b[0m \u001b[0;34m\"__reduce__\"\u001b[0m\u001b[0;34m,\u001b[0m \u001b[0;32mNone\u001b[0m\u001b[0;34m)\u001b[0m\u001b[0;34m\u001b[0m\u001b[0;34m\u001b[0m\u001b[0m\n",
            "\u001b[0;31mTypeError\u001b[0m: can't pickle _thread.RLock objects"
          ]
        }
      ]
    },
    {
      "cell_type": "code",
      "metadata": {
        "id": "6vjB1UJfIRAX",
        "colab_type": "code",
        "outputId": "8ca424d7-ed2c-4428-b311-4f4d4de0eb90",
        "colab": {
          "base_uri": "https://localhost:8080/",
          "height": 173
        }
      },
      "source": [
        "history.best_score_"
      ],
      "execution_count": 32,
      "outputs": [
        {
          "output_type": "error",
          "ename": "NameError",
          "evalue": "ignored",
          "traceback": [
            "\u001b[0;31m---------------------------------------------------------------------------\u001b[0m",
            "\u001b[0;31mNameError\u001b[0m                                 Traceback (most recent call last)",
            "\u001b[0;32m<ipython-input-32-ff8c5d645334>\u001b[0m in \u001b[0;36m<module>\u001b[0;34m()\u001b[0m\n\u001b[0;32m----> 1\u001b[0;31m \u001b[0mhistory\u001b[0m\u001b[0;34m.\u001b[0m\u001b[0mbest_score_\u001b[0m\u001b[0;34m\u001b[0m\u001b[0;34m\u001b[0m\u001b[0m\n\u001b[0m",
            "\u001b[0;31mNameError\u001b[0m: name 'history' is not defined"
          ]
        }
      ]
    },
    {
      "cell_type": "code",
      "metadata": {
        "id": "JDTezkq3YX60",
        "colab_type": "code",
        "outputId": "393b2632-61cc-46d1-add4-fb67cc5f4e1a",
        "colab": {
          "base_uri": "https://localhost:8080/",
          "height": 91
        }
      },
      "source": [
        "history.best_params_"
      ],
      "execution_count": 29,
      "outputs": [
        {
          "output_type": "execute_result",
          "data": {
            "text/plain": [
              "{'activation': 'tanh',\n",
              " 'batch_size': 128,\n",
              " 'epochs': 200,\n",
              " 'learning_rate': 0.001}"
            ]
          },
          "metadata": {
            "tags": []
          },
          "execution_count": 29
        }
      ]
    },
    {
      "cell_type": "markdown",
      "metadata": {
        "id": "CWdVtvEraitJ",
        "colab_type": "text"
      },
      "source": [
        "# **With above best params we train our model.The \n",
        "\n",
        "\n",
        "my_model() function is redefined with these new params**\n",
        "\n",
        "\n",
        "{'activation': 'tanh',\n",
        " 'batch_size': 128,\n",
        " 'epochs': 200,\n",
        " 'learning_rate': 0.001}\n",
        "\n"
      ]
    },
    {
      "cell_type": "code",
      "metadata": {
        "id": "L2Y1N8i8enL_",
        "colab_type": "code",
        "colab": {}
      },
      "source": [
        "def my_model(learning_rate=0.001,activation='relu'):\n",
        "  opt=Adam(learning_rate=learning_rate)\n",
        "  model=Sequential()\n",
        "  model.add(Dense(148,input_shape=(30,),activation='relu'))\n",
        "  model.add(Dense(296,activation=activation ))\n",
        "  model.add(Dense(1,activation='sigmoid'))\n",
        "  model.compile(optimizer=opt,loss='binary_crossentropy',metrics=['accuracy'])\n",
        "  return model "
      ],
      "execution_count": 0,
      "outputs": []
    },
    {
      "cell_type": "code",
      "metadata": {
        "id": "HMKvfwuCfyD2",
        "colab_type": "code",
        "colab": {}
      },
      "source": [
        "my_model=my_model(learning_rate=0.001,activation='relu')"
      ],
      "execution_count": 0,
      "outputs": []
    },
    {
      "cell_type": "code",
      "metadata": {
        "id": "LIOCnmpmfN5_",
        "colab_type": "code",
        "colab": {
          "base_uri": "https://localhost:8080/",
          "height": 1000
        },
        "outputId": "f3da272f-ce95-4f25-f548-b578aa260187"
      },
      "source": [
        "historynew=my_model.fit(X_train,y_train,batch_size=128,epochs=200,validation_split=0.3,callbacks=[stop_early])"
      ],
      "execution_count": 36,
      "outputs": [
        {
          "output_type": "stream",
          "text": [
            "Epoch 1/200\n",
            "1/3 [=========>....................] - ETA: 0s - loss: 13.0365 - accuracy: 0.6172WARNING:tensorflow:Early stopping conditioned on metric `val_acc` which is not available. Available metrics are: loss,accuracy,val_loss,val_accuracy\n",
            "3/3 [==============================] - 0s 37ms/step - loss: 20.3300 - accuracy: 0.4856 - val_loss: 21.3036 - val_accuracy: 0.3750\n",
            "Epoch 2/200\n",
            "1/3 [=========>....................] - ETA: 0s - loss: 18.2904 - accuracy: 0.4141WARNING:tensorflow:Early stopping conditioned on metric `val_acc` which is not available. Available metrics are: loss,accuracy,val_loss,val_accuracy\n",
            "3/3 [==============================] - 0s 13ms/step - loss: 9.6430 - accuracy: 0.4281 - val_loss: 23.7022 - val_accuracy: 0.6250\n",
            "Epoch 3/200\n",
            "1/3 [=========>....................] - ETA: 0s - loss: 23.3210 - accuracy: 0.6328WARNING:tensorflow:Early stopping conditioned on metric `val_acc` which is not available. Available metrics are: loss,accuracy,val_loss,val_accuracy\n",
            "3/3 [==============================] - 0s 14ms/step - loss: 18.0455 - accuracy: 0.6223 - val_loss: 0.8802 - val_accuracy: 0.7583\n",
            "Epoch 4/200\n",
            "1/3 [=========>....................] - ETA: 0s - loss: 0.6885 - accuracy: 0.7734WARNING:tensorflow:Early stopping conditioned on metric `val_acc` which is not available. Available metrics are: loss,accuracy,val_loss,val_accuracy\n",
            "3/3 [==============================] - 0s 13ms/step - loss: 6.7107 - accuracy: 0.5719 - val_loss: 14.4111 - val_accuracy: 0.3750\n",
            "Epoch 5/200\n",
            "1/3 [=========>....................] - ETA: 0s - loss: 12.1027 - accuracy: 0.3906WARNING:tensorflow:Early stopping conditioned on metric `val_acc` which is not available. Available metrics are: loss,accuracy,val_loss,val_accuracy\n",
            "3/3 [==============================] - 0s 12ms/step - loss: 8.0816 - accuracy: 0.3993 - val_loss: 1.4051 - val_accuracy: 0.8667\n",
            "Epoch 6/200\n",
            "1/3 [=========>....................] - ETA: 0s - loss: 0.4431 - accuracy: 0.9297WARNING:tensorflow:Early stopping conditioned on metric `val_acc` which is not available. Available metrics are: loss,accuracy,val_loss,val_accuracy\n",
            "3/3 [==============================] - 0s 13ms/step - loss: 4.9863 - accuracy: 0.8058 - val_loss: 6.3978 - val_accuracy: 0.7333\n",
            "Epoch 7/200\n",
            "1/3 [=========>....................] - ETA: 0s - loss: 5.1829 - accuracy: 0.7188WARNING:tensorflow:Early stopping conditioned on metric `val_acc` which is not available. Available metrics are: loss,accuracy,val_loss,val_accuracy\n",
            "3/3 [==============================] - 0s 13ms/step - loss: 2.5887 - accuracy: 0.7950 - val_loss: 1.7835 - val_accuracy: 0.7500\n",
            "Epoch 8/200\n",
            "1/3 [=========>....................] - ETA: 0s - loss: 1.3896 - accuracy: 0.7500WARNING:tensorflow:Early stopping conditioned on metric `val_acc` which is not available. Available metrics are: loss,accuracy,val_loss,val_accuracy\n",
            "3/3 [==============================] - 0s 15ms/step - loss: 1.8274 - accuracy: 0.6942 - val_loss: 3.2014 - val_accuracy: 0.6250\n",
            "Epoch 9/200\n",
            "1/3 [=========>....................] - ETA: 0s - loss: 2.3610 - accuracy: 0.7109WARNING:tensorflow:Early stopping conditioned on metric `val_acc` which is not available. Available metrics are: loss,accuracy,val_loss,val_accuracy\n",
            "3/3 [==============================] - 0s 13ms/step - loss: 1.4248 - accuracy: 0.7878 - val_loss: 1.9628 - val_accuracy: 0.8750\n",
            "Epoch 10/200\n",
            "1/3 [=========>....................] - ETA: 0s - loss: 0.8143 - accuracy: 0.8828WARNING:tensorflow:Early stopping conditioned on metric `val_acc` which is not available. Available metrics are: loss,accuracy,val_loss,val_accuracy\n",
            "3/3 [==============================] - 0s 14ms/step - loss: 1.2105 - accuracy: 0.8957 - val_loss: 2.5335 - val_accuracy: 0.8583\n",
            "Epoch 11/200\n",
            "1/3 [=========>....................] - ETA: 0s - loss: 1.6249 - accuracy: 0.8906WARNING:tensorflow:Early stopping conditioned on metric `val_acc` which is not available. Available metrics are: loss,accuracy,val_loss,val_accuracy\n",
            "3/3 [==============================] - 0s 12ms/step - loss: 0.8601 - accuracy: 0.8957 - val_loss: 1.3893 - val_accuracy: 0.8750\n",
            "Epoch 12/200\n",
            "1/3 [=========>....................] - ETA: 0s - loss: 0.4447 - accuracy: 0.8984WARNING:tensorflow:Early stopping conditioned on metric `val_acc` which is not available. Available metrics are: loss,accuracy,val_loss,val_accuracy\n",
            "3/3 [==============================] - 0s 13ms/step - loss: 0.5099 - accuracy: 0.8741 - val_loss: 1.6206 - val_accuracy: 0.8250\n",
            "Epoch 13/200\n",
            "1/3 [=========>....................] - ETA: 0s - loss: 0.8604 - accuracy: 0.8281WARNING:tensorflow:Early stopping conditioned on metric `val_acc` which is not available. Available metrics are: loss,accuracy,val_loss,val_accuracy\n",
            "3/3 [==============================] - 0s 14ms/step - loss: 0.5975 - accuracy: 0.8633 - val_loss: 1.4657 - val_accuracy: 0.8750\n",
            "Epoch 14/200\n",
            "1/3 [=========>....................] - ETA: 0s - loss: 0.6281 - accuracy: 0.9219WARNING:tensorflow:Early stopping conditioned on metric `val_acc` which is not available. Available metrics are: loss,accuracy,val_loss,val_accuracy\n",
            "3/3 [==============================] - 0s 14ms/step - loss: 0.4607 - accuracy: 0.9281 - val_loss: 1.4649 - val_accuracy: 0.8833\n",
            "Epoch 15/200\n",
            "1/3 [=========>....................] - ETA: 0s - loss: 0.6140 - accuracy: 0.9297WARNING:tensorflow:Early stopping conditioned on metric `val_acc` which is not available. Available metrics are: loss,accuracy,val_loss,val_accuracy\n",
            "3/3 [==============================] - 0s 13ms/step - loss: 0.3766 - accuracy: 0.9245 - val_loss: 1.3890 - val_accuracy: 0.8833\n",
            "Epoch 16/200\n",
            "1/3 [=========>....................] - ETA: 0s - loss: 0.2706 - accuracy: 0.9453WARNING:tensorflow:Early stopping conditioned on metric `val_acc` which is not available. Available metrics are: loss,accuracy,val_loss,val_accuracy\n",
            "3/3 [==============================] - 0s 13ms/step - loss: 0.3331 - accuracy: 0.9245 - val_loss: 1.2854 - val_accuracy: 0.8833\n",
            "Epoch 17/200\n",
            "1/3 [=========>....................] - ETA: 0s - loss: 0.4515 - accuracy: 0.8984WARNING:tensorflow:Early stopping conditioned on metric `val_acc` which is not available. Available metrics are: loss,accuracy,val_loss,val_accuracy\n",
            "3/3 [==============================] - 0s 13ms/step - loss: 0.3851 - accuracy: 0.8885 - val_loss: 1.2621 - val_accuracy: 0.8750\n",
            "Epoch 18/200\n",
            "1/3 [=========>....................] - ETA: 0s - loss: 0.6880 - accuracy: 0.8906WARNING:tensorflow:Early stopping conditioned on metric `val_acc` which is not available. Available metrics are: loss,accuracy,val_loss,val_accuracy\n",
            "3/3 [==============================] - 0s 16ms/step - loss: 0.4570 - accuracy: 0.9209 - val_loss: 1.3160 - val_accuracy: 0.8833\n",
            "Epoch 19/200\n",
            "1/3 [=========>....................] - ETA: 0s - loss: 0.2904 - accuracy: 0.9531WARNING:tensorflow:Early stopping conditioned on metric `val_acc` which is not available. Available metrics are: loss,accuracy,val_loss,val_accuracy\n",
            "3/3 [==============================] - 0s 14ms/step - loss: 0.4530 - accuracy: 0.9173 - val_loss: 1.1990 - val_accuracy: 0.9000\n",
            "Epoch 20/200\n",
            "1/3 [=========>....................] - ETA: 0s - loss: 0.4962 - accuracy: 0.8984WARNING:tensorflow:Early stopping conditioned on metric `val_acc` which is not available. Available metrics are: loss,accuracy,val_loss,val_accuracy\n",
            "3/3 [==============================] - 0s 13ms/step - loss: 0.3545 - accuracy: 0.9029 - val_loss: 1.1831 - val_accuracy: 0.8750\n",
            "Epoch 21/200\n",
            "1/3 [=========>....................] - ETA: 0s - loss: 0.4611 - accuracy: 0.9219WARNING:tensorflow:Early stopping conditioned on metric `val_acc` which is not available. Available metrics are: loss,accuracy,val_loss,val_accuracy\n",
            "3/3 [==============================] - 0s 13ms/step - loss: 0.3437 - accuracy: 0.9209 - val_loss: 1.1773 - val_accuracy: 0.8833\n",
            "Epoch 22/200\n",
            "1/3 [=========>....................] - ETA: 0s - loss: 0.5369 - accuracy: 0.9141WARNING:tensorflow:Early stopping conditioned on metric `val_acc` which is not available. Available metrics are: loss,accuracy,val_loss,val_accuracy\n",
            "3/3 [==============================] - 0s 12ms/step - loss: 0.4935 - accuracy: 0.9173 - val_loss: 1.1334 - val_accuracy: 0.9000\n",
            "Epoch 23/200\n",
            "1/3 [=========>....................] - ETA: 0s - loss: 0.3954 - accuracy: 0.9297WARNING:tensorflow:Early stopping conditioned on metric `val_acc` which is not available. Available metrics are: loss,accuracy,val_loss,val_accuracy\n",
            "3/3 [==============================] - 0s 12ms/step - loss: 0.4673 - accuracy: 0.9137 - val_loss: 1.1257 - val_accuracy: 0.9000\n",
            "Epoch 24/200\n",
            "1/3 [=========>....................] - ETA: 0s - loss: 0.4259 - accuracy: 0.8906WARNING:tensorflow:Early stopping conditioned on metric `val_acc` which is not available. Available metrics are: loss,accuracy,val_loss,val_accuracy\n",
            "3/3 [==============================] - 0s 14ms/step - loss: 0.4720 - accuracy: 0.9065 - val_loss: 1.1053 - val_accuracy: 0.9000\n",
            "Epoch 25/200\n",
            "1/3 [=========>....................] - ETA: 0s - loss: 0.4022 - accuracy: 0.9062WARNING:tensorflow:Early stopping conditioned on metric `val_acc` which is not available. Available metrics are: loss,accuracy,val_loss,val_accuracy\n",
            "3/3 [==============================] - 0s 14ms/step - loss: 0.5283 - accuracy: 0.9173 - val_loss: 1.0933 - val_accuracy: 0.8917\n",
            "Epoch 26/200\n",
            "1/3 [=========>....................] - ETA: 0s - loss: 0.2306 - accuracy: 0.9141WARNING:tensorflow:Early stopping conditioned on metric `val_acc` which is not available. Available metrics are: loss,accuracy,val_loss,val_accuracy\n",
            "3/3 [==============================] - 0s 13ms/step - loss: 0.3708 - accuracy: 0.9101 - val_loss: 1.1535 - val_accuracy: 0.8583\n",
            "Epoch 27/200\n",
            "1/3 [=========>....................] - ETA: 0s - loss: 0.6616 - accuracy: 0.8438WARNING:tensorflow:Early stopping conditioned on metric `val_acc` which is not available. Available metrics are: loss,accuracy,val_loss,val_accuracy\n",
            "3/3 [==============================] - 0s 15ms/step - loss: 0.4662 - accuracy: 0.8885 - val_loss: 1.0273 - val_accuracy: 0.9000\n",
            "Epoch 28/200\n",
            "1/3 [=========>....................] - ETA: 0s - loss: 0.3517 - accuracy: 0.9219WARNING:tensorflow:Early stopping conditioned on metric `val_acc` which is not available. Available metrics are: loss,accuracy,val_loss,val_accuracy\n",
            "3/3 [==============================] - 0s 15ms/step - loss: 0.5762 - accuracy: 0.9209 - val_loss: 1.0207 - val_accuracy: 0.8917\n",
            "Epoch 29/200\n",
            "1/3 [=========>....................] - ETA: 0s - loss: 0.5258 - accuracy: 0.8594WARNING:tensorflow:Early stopping conditioned on metric `val_acc` which is not available. Available metrics are: loss,accuracy,val_loss,val_accuracy\n",
            "3/3 [==============================] - 0s 13ms/step - loss: 0.3343 - accuracy: 0.8885 - val_loss: 0.9803 - val_accuracy: 0.9000\n",
            "Epoch 30/200\n",
            "1/3 [=========>....................] - ETA: 0s - loss: 0.3438 - accuracy: 0.9141WARNING:tensorflow:Early stopping conditioned on metric `val_acc` which is not available. Available metrics are: loss,accuracy,val_loss,val_accuracy\n",
            "3/3 [==============================] - 0s 13ms/step - loss: 0.4702 - accuracy: 0.9137 - val_loss: 0.9341 - val_accuracy: 0.8917\n",
            "Epoch 31/200\n",
            "1/3 [=========>....................] - ETA: 0s - loss: 0.1364 - accuracy: 0.9531WARNING:tensorflow:Early stopping conditioned on metric `val_acc` which is not available. Available metrics are: loss,accuracy,val_loss,val_accuracy\n",
            "3/3 [==============================] - 0s 14ms/step - loss: 0.2898 - accuracy: 0.9209 - val_loss: 1.0881 - val_accuracy: 0.8417\n",
            "Epoch 32/200\n",
            "1/3 [=========>....................] - ETA: 0s - loss: 0.5990 - accuracy: 0.8750WARNING:tensorflow:Early stopping conditioned on metric `val_acc` which is not available. Available metrics are: loss,accuracy,val_loss,val_accuracy\n",
            "3/3 [==============================] - 0s 13ms/step - loss: 0.3757 - accuracy: 0.8885 - val_loss: 0.8879 - val_accuracy: 0.8917\n",
            "Epoch 33/200\n",
            "1/3 [=========>....................] - ETA: 0s - loss: 0.1151 - accuracy: 0.9766WARNING:tensorflow:Early stopping conditioned on metric `val_acc` which is not available. Available metrics are: loss,accuracy,val_loss,val_accuracy\n",
            "3/3 [==============================] - 0s 14ms/step - loss: 0.3577 - accuracy: 0.9281 - val_loss: 0.9241 - val_accuracy: 0.8833\n",
            "Epoch 34/200\n",
            "1/3 [=========>....................] - ETA: 0s - loss: 0.2236 - accuracy: 0.9453WARNING:tensorflow:Early stopping conditioned on metric `val_acc` which is not available. Available metrics are: loss,accuracy,val_loss,val_accuracy\n",
            "3/3 [==============================] - 0s 14ms/step - loss: 0.3263 - accuracy: 0.9137 - val_loss: 0.8870 - val_accuracy: 0.9083\n",
            "Epoch 35/200\n",
            "1/3 [=========>....................] - ETA: 0s - loss: 0.3874 - accuracy: 0.9062WARNING:tensorflow:Early stopping conditioned on metric `val_acc` which is not available. Available metrics are: loss,accuracy,val_loss,val_accuracy\n",
            "3/3 [==============================] - 0s 13ms/step - loss: 0.2511 - accuracy: 0.9209 - val_loss: 0.9899 - val_accuracy: 0.8833\n",
            "Epoch 36/200\n",
            "1/3 [=========>....................] - ETA: 0s - loss: 0.2285 - accuracy: 0.9453WARNING:tensorflow:Early stopping conditioned on metric `val_acc` which is not available. Available metrics are: loss,accuracy,val_loss,val_accuracy\n",
            "3/3 [==============================] - 0s 13ms/step - loss: 0.3020 - accuracy: 0.9281 - val_loss: 0.8638 - val_accuracy: 0.8917\n",
            "Epoch 37/200\n",
            "1/3 [=========>....................] - ETA: 0s - loss: 0.3541 - accuracy: 0.9219WARNING:tensorflow:Early stopping conditioned on metric `val_acc` which is not available. Available metrics are: loss,accuracy,val_loss,val_accuracy\n",
            "3/3 [==============================] - 0s 15ms/step - loss: 0.3607 - accuracy: 0.9245 - val_loss: 1.1210 - val_accuracy: 0.8167\n",
            "Epoch 38/200\n",
            "1/3 [=========>....................] - ETA: 0s - loss: 0.4647 - accuracy: 0.8750WARNING:tensorflow:Early stopping conditioned on metric `val_acc` which is not available. Available metrics are: loss,accuracy,val_loss,val_accuracy\n",
            "3/3 [==============================] - 0s 13ms/step - loss: 0.5243 - accuracy: 0.8453 - val_loss: 0.8158 - val_accuracy: 0.9000\n",
            "Epoch 39/200\n",
            "1/3 [=========>....................] - ETA: 0s - loss: 0.3935 - accuracy: 0.9297WARNING:tensorflow:Early stopping conditioned on metric `val_acc` which is not available. Available metrics are: loss,accuracy,val_loss,val_accuracy\n",
            "3/3 [==============================] - 0s 14ms/step - loss: 0.2800 - accuracy: 0.9281 - val_loss: 0.9820 - val_accuracy: 0.8833\n",
            "Epoch 40/200\n",
            "1/3 [=========>....................] - ETA: 0s - loss: 0.6728 - accuracy: 0.8906WARNING:tensorflow:Early stopping conditioned on metric `val_acc` which is not available. Available metrics are: loss,accuracy,val_loss,val_accuracy\n",
            "3/3 [==============================] - 0s 14ms/step - loss: 0.3290 - accuracy: 0.9317 - val_loss: 0.8525 - val_accuracy: 0.8583\n",
            "Epoch 41/200\n",
            "1/3 [=========>....................] - ETA: 0s - loss: 0.2958 - accuracy: 0.8984WARNING:tensorflow:Early stopping conditioned on metric `val_acc` which is not available. Available metrics are: loss,accuracy,val_loss,val_accuracy\n",
            "3/3 [==============================] - 0s 14ms/step - loss: 0.5076 - accuracy: 0.8741 - val_loss: 0.8538 - val_accuracy: 0.8833\n",
            "Epoch 42/200\n",
            "1/3 [=========>....................] - ETA: 0s - loss: 0.4827 - accuracy: 0.9375WARNING:tensorflow:Early stopping conditioned on metric `val_acc` which is not available. Available metrics are: loss,accuracy,val_loss,val_accuracy\n",
            "3/3 [==============================] - 0s 13ms/step - loss: 0.4006 - accuracy: 0.9173 - val_loss: 0.8749 - val_accuracy: 0.8833\n",
            "Epoch 43/200\n",
            "1/3 [=========>....................] - ETA: 0s - loss: 0.5398 - accuracy: 0.9062WARNING:tensorflow:Early stopping conditioned on metric `val_acc` which is not available. Available metrics are: loss,accuracy,val_loss,val_accuracy\n",
            "3/3 [==============================] - 0s 13ms/step - loss: 0.5056 - accuracy: 0.9101 - val_loss: 0.9311 - val_accuracy: 0.8333\n",
            "Epoch 44/200\n",
            "1/3 [=========>....................] - ETA: 0s - loss: 0.6378 - accuracy: 0.8516WARNING:tensorflow:Early stopping conditioned on metric `val_acc` which is not available. Available metrics are: loss,accuracy,val_loss,val_accuracy\n",
            "3/3 [==============================] - 0s 14ms/step - loss: 0.3012 - accuracy: 0.8957 - val_loss: 0.8694 - val_accuracy: 0.8750\n",
            "Epoch 45/200\n",
            "1/3 [=========>....................] - ETA: 0s - loss: 0.4010 - accuracy: 0.9453WARNING:tensorflow:Early stopping conditioned on metric `val_acc` which is not available. Available metrics are: loss,accuracy,val_loss,val_accuracy\n",
            "3/3 [==============================] - 0s 15ms/step - loss: 0.5227 - accuracy: 0.9209 - val_loss: 0.6863 - val_accuracy: 0.9083\n",
            "Epoch 46/200\n",
            "1/3 [=========>....................] - ETA: 0s - loss: 0.2997 - accuracy: 0.9375WARNING:tensorflow:Early stopping conditioned on metric `val_acc` which is not available. Available metrics are: loss,accuracy,val_loss,val_accuracy\n",
            "3/3 [==============================] - 0s 13ms/step - loss: 0.3537 - accuracy: 0.9101 - val_loss: 0.7738 - val_accuracy: 0.8667\n",
            "Epoch 47/200\n",
            "1/3 [=========>....................] - ETA: 0s - loss: 0.3734 - accuracy: 0.8828WARNING:tensorflow:Early stopping conditioned on metric `val_acc` which is not available. Available metrics are: loss,accuracy,val_loss,val_accuracy\n",
            "3/3 [==============================] - 0s 16ms/step - loss: 0.2649 - accuracy: 0.9101 - val_loss: 0.9070 - val_accuracy: 0.8833\n",
            "Epoch 48/200\n",
            "1/3 [=========>....................] - ETA: 0s - loss: 0.6374 - accuracy: 0.9141WARNING:tensorflow:Early stopping conditioned on metric `val_acc` which is not available. Available metrics are: loss,accuracy,val_loss,val_accuracy\n",
            "3/3 [==============================] - 0s 13ms/step - loss: 0.3717 - accuracy: 0.9245 - val_loss: 0.7728 - val_accuracy: 0.8583\n",
            "Epoch 49/200\n",
            "1/3 [=========>....................] - ETA: 0s - loss: 0.2188 - accuracy: 0.9219WARNING:tensorflow:Early stopping conditioned on metric `val_acc` which is not available. Available metrics are: loss,accuracy,val_loss,val_accuracy\n",
            "3/3 [==============================] - 0s 13ms/step - loss: 0.5286 - accuracy: 0.8705 - val_loss: 0.9907 - val_accuracy: 0.8750\n",
            "Epoch 50/200\n",
            "1/3 [=========>....................] - ETA: 0s - loss: 0.4373 - accuracy: 0.9375WARNING:tensorflow:Early stopping conditioned on metric `val_acc` which is not available. Available metrics are: loss,accuracy,val_loss,val_accuracy\n",
            "3/3 [==============================] - 0s 13ms/step - loss: 0.8219 - accuracy: 0.8921 - val_loss: 1.1998 - val_accuracy: 0.8583\n",
            "Epoch 51/200\n",
            "1/3 [=========>....................] - ETA: 0s - loss: 0.4043 - accuracy: 0.9375WARNING:tensorflow:Early stopping conditioned on metric `val_acc` which is not available. Available metrics are: loss,accuracy,val_loss,val_accuracy\n",
            "3/3 [==============================] - 0s 14ms/step - loss: 0.3236 - accuracy: 0.9317 - val_loss: 1.7092 - val_accuracy: 0.6917\n",
            "Epoch 52/200\n",
            "1/3 [=========>....................] - ETA: 0s - loss: 1.3224 - accuracy: 0.7109WARNING:tensorflow:Early stopping conditioned on metric `val_acc` which is not available. Available metrics are: loss,accuracy,val_loss,val_accuracy\n",
            "3/3 [==============================] - 0s 13ms/step - loss: 0.8504 - accuracy: 0.8094 - val_loss: 0.7843 - val_accuracy: 0.8833\n",
            "Epoch 53/200\n",
            "1/3 [=========>....................] - ETA: 0s - loss: 0.4436 - accuracy: 0.9141WARNING:tensorflow:Early stopping conditioned on metric `val_acc` which is not available. Available metrics are: loss,accuracy,val_loss,val_accuracy\n",
            "3/3 [==============================] - 0s 15ms/step - loss: 0.2786 - accuracy: 0.9281 - val_loss: 0.6545 - val_accuracy: 0.9083\n",
            "Epoch 54/200\n",
            "1/3 [=========>....................] - ETA: 0s - loss: 0.4942 - accuracy: 0.8906WARNING:tensorflow:Early stopping conditioned on metric `val_acc` which is not available. Available metrics are: loss,accuracy,val_loss,val_accuracy\n",
            "3/3 [==============================] - 0s 14ms/step - loss: 0.2299 - accuracy: 0.9317 - val_loss: 0.7464 - val_accuracy: 0.8583\n",
            "Epoch 55/200\n",
            "1/3 [=========>....................] - ETA: 0s - loss: 0.3486 - accuracy: 0.8828WARNING:tensorflow:Early stopping conditioned on metric `val_acc` which is not available. Available metrics are: loss,accuracy,val_loss,val_accuracy\n",
            "3/3 [==============================] - 0s 13ms/step - loss: 0.3580 - accuracy: 0.9029 - val_loss: 0.6549 - val_accuracy: 0.8833\n",
            "Epoch 56/200\n",
            "1/3 [=========>....................] - ETA: 0s - loss: 0.4217 - accuracy: 0.9141WARNING:tensorflow:Early stopping conditioned on metric `val_acc` which is not available. Available metrics are: loss,accuracy,val_loss,val_accuracy\n",
            "3/3 [==============================] - 0s 12ms/step - loss: 0.2362 - accuracy: 0.9209 - val_loss: 0.6046 - val_accuracy: 0.9083\n",
            "Epoch 57/200\n",
            "1/3 [=========>....................] - ETA: 0s - loss: 0.2544 - accuracy: 0.9062WARNING:tensorflow:Early stopping conditioned on metric `val_acc` which is not available. Available metrics are: loss,accuracy,val_loss,val_accuracy\n",
            "3/3 [==============================] - 0s 15ms/step - loss: 0.1943 - accuracy: 0.9209 - val_loss: 0.5781 - val_accuracy: 0.9167\n",
            "Epoch 58/200\n",
            "1/3 [=========>....................] - ETA: 0s - loss: 0.2363 - accuracy: 0.9297WARNING:tensorflow:Early stopping conditioned on metric `val_acc` which is not available. Available metrics are: loss,accuracy,val_loss,val_accuracy\n",
            "3/3 [==============================] - 0s 13ms/step - loss: 0.2632 - accuracy: 0.9173 - val_loss: 0.6680 - val_accuracy: 0.8667\n",
            "Epoch 59/200\n",
            "1/3 [=========>....................] - ETA: 0s - loss: 0.3501 - accuracy: 0.8594WARNING:tensorflow:Early stopping conditioned on metric `val_acc` which is not available. Available metrics are: loss,accuracy,val_loss,val_accuracy\n",
            "3/3 [==============================] - 0s 14ms/step - loss: 0.3927 - accuracy: 0.8885 - val_loss: 0.5380 - val_accuracy: 0.9083\n",
            "Epoch 60/200\n",
            "1/3 [=========>....................] - ETA: 0s - loss: 0.1947 - accuracy: 0.9453WARNING:tensorflow:Early stopping conditioned on metric `val_acc` which is not available. Available metrics are: loss,accuracy,val_loss,val_accuracy\n",
            "3/3 [==============================] - 0s 13ms/step - loss: 0.2849 - accuracy: 0.9173 - val_loss: 0.5582 - val_accuracy: 0.8833\n",
            "Epoch 61/200\n",
            "1/3 [=========>....................] - ETA: 0s - loss: 0.3134 - accuracy: 0.9375WARNING:tensorflow:Early stopping conditioned on metric `val_acc` which is not available. Available metrics are: loss,accuracy,val_loss,val_accuracy\n",
            "3/3 [==============================] - 0s 12ms/step - loss: 0.3555 - accuracy: 0.9245 - val_loss: 0.6163 - val_accuracy: 0.8667\n",
            "Epoch 62/200\n",
            "1/3 [=========>....................] - ETA: 0s - loss: 0.3401 - accuracy: 0.9062WARNING:tensorflow:Early stopping conditioned on metric `val_acc` which is not available. Available metrics are: loss,accuracy,val_loss,val_accuracy\n",
            "3/3 [==============================] - 0s 14ms/step - loss: 0.4569 - accuracy: 0.8849 - val_loss: 0.6813 - val_accuracy: 0.8833\n",
            "Epoch 63/200\n",
            "1/3 [=========>....................] - ETA: 0s - loss: 0.4431 - accuracy: 0.9375WARNING:tensorflow:Early stopping conditioned on metric `val_acc` which is not available. Available metrics are: loss,accuracy,val_loss,val_accuracy\n",
            "3/3 [==============================] - 0s 14ms/step - loss: 0.6826 - accuracy: 0.8849 - val_loss: 0.9453 - val_accuracy: 0.7833\n",
            "Epoch 64/200\n",
            "1/3 [=========>....................] - ETA: 0s - loss: 0.6014 - accuracy: 0.8125WARNING:tensorflow:Early stopping conditioned on metric `val_acc` which is not available. Available metrics are: loss,accuracy,val_loss,val_accuracy\n",
            "3/3 [==============================] - 0s 13ms/step - loss: 0.7915 - accuracy: 0.7446 - val_loss: 0.9454 - val_accuracy: 0.8750\n",
            "Epoch 65/200\n",
            "1/3 [=========>....................] - ETA: 0s - loss: 1.0563 - accuracy: 0.8516WARNING:tensorflow:Early stopping conditioned on metric `val_acc` which is not available. Available metrics are: loss,accuracy,val_loss,val_accuracy\n",
            "3/3 [==============================] - 0s 15ms/step - loss: 0.6397 - accuracy: 0.8669 - val_loss: 0.5129 - val_accuracy: 0.9083\n",
            "Epoch 66/200\n",
            "1/3 [=========>....................] - ETA: 0s - loss: 0.3118 - accuracy: 0.9453WARNING:tensorflow:Early stopping conditioned on metric `val_acc` which is not available. Available metrics are: loss,accuracy,val_loss,val_accuracy\n",
            "3/3 [==============================] - 0s 14ms/step - loss: 0.3032 - accuracy: 0.9209 - val_loss: 0.7590 - val_accuracy: 0.8333\n",
            "Epoch 67/200\n",
            "1/3 [=========>....................] - ETA: 0s - loss: 0.4216 - accuracy: 0.8828WARNING:tensorflow:Early stopping conditioned on metric `val_acc` which is not available. Available metrics are: loss,accuracy,val_loss,val_accuracy\n",
            "3/3 [==============================] - 0s 16ms/step - loss: 0.5636 - accuracy: 0.8993 - val_loss: 0.4727 - val_accuracy: 0.9083\n",
            "Epoch 68/200\n",
            "1/3 [=========>....................] - ETA: 0s - loss: 0.3009 - accuracy: 0.9141WARNING:tensorflow:Early stopping conditioned on metric `val_acc` which is not available. Available metrics are: loss,accuracy,val_loss,val_accuracy\n",
            "3/3 [==============================] - 0s 14ms/step - loss: 0.5381 - accuracy: 0.9065 - val_loss: 0.4561 - val_accuracy: 0.9083\n",
            "Epoch 69/200\n",
            "1/3 [=========>....................] - ETA: 0s - loss: 0.1550 - accuracy: 0.9531WARNING:tensorflow:Early stopping conditioned on metric `val_acc` which is not available. Available metrics are: loss,accuracy,val_loss,val_accuracy\n",
            "3/3 [==============================] - 0s 14ms/step - loss: 0.5746 - accuracy: 0.9173 - val_loss: 0.4449 - val_accuracy: 0.9083\n",
            "Epoch 70/200\n",
            "1/3 [=========>....................] - ETA: 0s - loss: 0.2798 - accuracy: 0.9453WARNING:tensorflow:Early stopping conditioned on metric `val_acc` which is not available. Available metrics are: loss,accuracy,val_loss,val_accuracy\n",
            "3/3 [==============================] - 0s 13ms/step - loss: 0.4012 - accuracy: 0.9173 - val_loss: 0.4624 - val_accuracy: 0.8917\n",
            "Epoch 71/200\n",
            "1/3 [=========>....................] - ETA: 0s - loss: 0.2441 - accuracy: 0.9062WARNING:tensorflow:Early stopping conditioned on metric `val_acc` which is not available. Available metrics are: loss,accuracy,val_loss,val_accuracy\n",
            "3/3 [==============================] - 0s 14ms/step - loss: 0.2409 - accuracy: 0.9209 - val_loss: 0.7830 - val_accuracy: 0.8750\n",
            "Epoch 72/200\n",
            "1/3 [=========>....................] - ETA: 0s - loss: 0.4048 - accuracy: 0.9219WARNING:tensorflow:Early stopping conditioned on metric `val_acc` which is not available. Available metrics are: loss,accuracy,val_loss,val_accuracy\n",
            "3/3 [==============================] - 0s 13ms/step - loss: 0.4398 - accuracy: 0.9245 - val_loss: 1.6260 - val_accuracy: 0.7000\n",
            "Epoch 73/200\n",
            "1/3 [=========>....................] - ETA: 0s - loss: 1.2501 - accuracy: 0.7500WARNING:tensorflow:Early stopping conditioned on metric `val_acc` which is not available. Available metrics are: loss,accuracy,val_loss,val_accuracy\n",
            "3/3 [==============================] - 0s 15ms/step - loss: 0.6911 - accuracy: 0.8129 - val_loss: 0.8410 - val_accuracy: 0.8750\n",
            "Epoch 74/200\n",
            "1/3 [=========>....................] - ETA: 0s - loss: 0.8295 - accuracy: 0.8672WARNING:tensorflow:Early stopping conditioned on metric `val_acc` which is not available. Available metrics are: loss,accuracy,val_loss,val_accuracy\n",
            "3/3 [==============================] - 0s 14ms/step - loss: 0.5307 - accuracy: 0.9065 - val_loss: 0.4938 - val_accuracy: 0.8917\n",
            "Epoch 75/200\n",
            "1/3 [=========>....................] - ETA: 0s - loss: 0.2510 - accuracy: 0.9141WARNING:tensorflow:Early stopping conditioned on metric `val_acc` which is not available. Available metrics are: loss,accuracy,val_loss,val_accuracy\n",
            "3/3 [==============================] - 0s 15ms/step - loss: 0.3549 - accuracy: 0.8993 - val_loss: 0.4534 - val_accuracy: 0.9083\n",
            "Epoch 76/200\n",
            "1/3 [=========>....................] - ETA: 0s - loss: 0.2199 - accuracy: 0.9375WARNING:tensorflow:Early stopping conditioned on metric `val_acc` which is not available. Available metrics are: loss,accuracy,val_loss,val_accuracy\n",
            "3/3 [==============================] - 0s 15ms/step - loss: 0.2778 - accuracy: 0.9245 - val_loss: 0.4307 - val_accuracy: 0.9083\n",
            "Epoch 77/200\n",
            "1/3 [=========>....................] - ETA: 0s - loss: 0.1672 - accuracy: 0.9453WARNING:tensorflow:Early stopping conditioned on metric `val_acc` which is not available. Available metrics are: loss,accuracy,val_loss,val_accuracy\n",
            "3/3 [==============================] - 0s 13ms/step - loss: 0.3353 - accuracy: 0.9137 - val_loss: 0.4392 - val_accuracy: 0.9083\n",
            "Epoch 78/200\n",
            "1/3 [=========>....................] - ETA: 0s - loss: 0.1853 - accuracy: 0.9297WARNING:tensorflow:Early stopping conditioned on metric `val_acc` which is not available. Available metrics are: loss,accuracy,val_loss,val_accuracy\n",
            "3/3 [==============================] - 0s 14ms/step - loss: 0.2163 - accuracy: 0.9281 - val_loss: 0.3861 - val_accuracy: 0.9083\n",
            "Epoch 79/200\n",
            "1/3 [=========>....................] - ETA: 0s - loss: 0.2044 - accuracy: 0.9375WARNING:tensorflow:Early stopping conditioned on metric `val_acc` which is not available. Available metrics are: loss,accuracy,val_loss,val_accuracy\n",
            "3/3 [==============================] - 0s 15ms/step - loss: 0.2262 - accuracy: 0.9245 - val_loss: 0.8242 - val_accuracy: 0.8083\n",
            "Epoch 80/200\n",
            "1/3 [=========>....................] - ETA: 0s - loss: 0.4348 - accuracy: 0.8594WARNING:tensorflow:Early stopping conditioned on metric `val_acc` which is not available. Available metrics are: loss,accuracy,val_loss,val_accuracy\n",
            "3/3 [==============================] - 0s 18ms/step - loss: 0.3415 - accuracy: 0.8885 - val_loss: 0.5021 - val_accuracy: 0.8833\n",
            "Epoch 81/200\n",
            "1/3 [=========>....................] - ETA: 0s - loss: 0.5119 - accuracy: 0.8984WARNING:tensorflow:Early stopping conditioned on metric `val_acc` which is not available. Available metrics are: loss,accuracy,val_loss,val_accuracy\n",
            "3/3 [==============================] - 0s 16ms/step - loss: 0.3065 - accuracy: 0.9209 - val_loss: 0.9429 - val_accuracy: 0.7583\n",
            "Epoch 82/200\n",
            "1/3 [=========>....................] - ETA: 0s - loss: 0.6770 - accuracy: 0.7969WARNING:tensorflow:Early stopping conditioned on metric `val_acc` which is not available. Available metrics are: loss,accuracy,val_loss,val_accuracy\n",
            "3/3 [==============================] - 0s 14ms/step - loss: 0.3128 - accuracy: 0.8633 - val_loss: 0.5773 - val_accuracy: 0.8833\n",
            "Epoch 83/200\n",
            "1/3 [=========>....................] - ETA: 0s - loss: 0.4889 - accuracy: 0.9062WARNING:tensorflow:Early stopping conditioned on metric `val_acc` which is not available. Available metrics are: loss,accuracy,val_loss,val_accuracy\n",
            "3/3 [==============================] - 0s 13ms/step - loss: 0.5035 - accuracy: 0.9065 - val_loss: 0.7439 - val_accuracy: 0.8167\n",
            "Epoch 84/200\n",
            "1/3 [=========>....................] - ETA: 0s - loss: 0.4876 - accuracy: 0.8438WARNING:tensorflow:Early stopping conditioned on metric `val_acc` which is not available. Available metrics are: loss,accuracy,val_loss,val_accuracy\n",
            "3/3 [==============================] - 0s 13ms/step - loss: 0.3551 - accuracy: 0.8597 - val_loss: 0.3528 - val_accuracy: 0.9083\n",
            "Epoch 85/200\n",
            "1/3 [=========>....................] - ETA: 0s - loss: 0.1780 - accuracy: 0.9453WARNING:tensorflow:Early stopping conditioned on metric `val_acc` which is not available. Available metrics are: loss,accuracy,val_loss,val_accuracy\n",
            "3/3 [==============================] - 0s 14ms/step - loss: 0.1673 - accuracy: 0.9281 - val_loss: 0.5981 - val_accuracy: 0.8833\n",
            "Epoch 86/200\n",
            "1/3 [=========>....................] - ETA: 0s - loss: 0.2632 - accuracy: 0.9062WARNING:tensorflow:Early stopping conditioned on metric `val_acc` which is not available. Available metrics are: loss,accuracy,val_loss,val_accuracy\n",
            "3/3 [==============================] - 0s 17ms/step - loss: 0.5557 - accuracy: 0.9029 - val_loss: 0.3471 - val_accuracy: 0.9250\n",
            "Epoch 87/200\n",
            "1/3 [=========>....................] - ETA: 0s - loss: 0.2029 - accuracy: 0.9219WARNING:tensorflow:Early stopping conditioned on metric `val_acc` which is not available. Available metrics are: loss,accuracy,val_loss,val_accuracy\n",
            "3/3 [==============================] - 0s 14ms/step - loss: 0.2289 - accuracy: 0.9209 - val_loss: 0.4201 - val_accuracy: 0.9000\n",
            "Epoch 88/200\n",
            "1/3 [=========>....................] - ETA: 0s - loss: 0.2565 - accuracy: 0.8906WARNING:tensorflow:Early stopping conditioned on metric `val_acc` which is not available. Available metrics are: loss,accuracy,val_loss,val_accuracy\n",
            "3/3 [==============================] - 0s 13ms/step - loss: 0.1768 - accuracy: 0.9173 - val_loss: 0.2999 - val_accuracy: 0.9083\n",
            "Epoch 89/200\n",
            "1/3 [=========>....................] - ETA: 0s - loss: 0.2659 - accuracy: 0.9219WARNING:tensorflow:Early stopping conditioned on metric `val_acc` which is not available. Available metrics are: loss,accuracy,val_loss,val_accuracy\n",
            "3/3 [==============================] - 0s 13ms/step - loss: 0.2597 - accuracy: 0.9245 - val_loss: 0.2975 - val_accuracy: 0.9083\n",
            "Epoch 90/200\n",
            "1/3 [=========>....................] - ETA: 0s - loss: 0.1948 - accuracy: 0.9375WARNING:tensorflow:Early stopping conditioned on metric `val_acc` which is not available. Available metrics are: loss,accuracy,val_loss,val_accuracy\n",
            "3/3 [==============================] - 0s 14ms/step - loss: 0.1755 - accuracy: 0.9388 - val_loss: 0.2950 - val_accuracy: 0.9000\n",
            "Epoch 91/200\n",
            "1/3 [=========>....................] - ETA: 0s - loss: 0.2632 - accuracy: 0.9219WARNING:tensorflow:Early stopping conditioned on metric `val_acc` which is not available. Available metrics are: loss,accuracy,val_loss,val_accuracy\n",
            "3/3 [==============================] - 0s 13ms/step - loss: 0.2520 - accuracy: 0.9388 - val_loss: 0.2952 - val_accuracy: 0.9083\n",
            "Epoch 92/200\n",
            "1/3 [=========>....................] - ETA: 0s - loss: 0.2491 - accuracy: 0.9297WARNING:tensorflow:Early stopping conditioned on metric `val_acc` which is not available. Available metrics are: loss,accuracy,val_loss,val_accuracy\n",
            "3/3 [==============================] - 0s 13ms/step - loss: 0.3125 - accuracy: 0.9353 - val_loss: 0.5579 - val_accuracy: 0.8833\n",
            "Epoch 93/200\n",
            "1/3 [=========>....................] - ETA: 0s - loss: 0.2161 - accuracy: 0.9141WARNING:tensorflow:Early stopping conditioned on metric `val_acc` which is not available. Available metrics are: loss,accuracy,val_loss,val_accuracy\n",
            "3/3 [==============================] - 0s 13ms/step - loss: 0.2212 - accuracy: 0.8849 - val_loss: 0.5643 - val_accuracy: 0.8833\n",
            "Epoch 94/200\n",
            "1/3 [=========>....................] - ETA: 0s - loss: 0.3926 - accuracy: 0.9141WARNING:tensorflow:Early stopping conditioned on metric `val_acc` which is not available. Available metrics are: loss,accuracy,val_loss,val_accuracy\n",
            "3/3 [==============================] - 0s 14ms/step - loss: 0.3597 - accuracy: 0.8993 - val_loss: 0.7077 - val_accuracy: 0.8083\n",
            "Epoch 95/200\n",
            "1/3 [=========>....................] - ETA: 0s - loss: 0.4323 - accuracy: 0.8203WARNING:tensorflow:Early stopping conditioned on metric `val_acc` which is not available. Available metrics are: loss,accuracy,val_loss,val_accuracy\n",
            "3/3 [==============================] - 0s 12ms/step - loss: 0.2419 - accuracy: 0.8669 - val_loss: 0.6739 - val_accuracy: 0.8833\n",
            "Epoch 96/200\n",
            "1/3 [=========>....................] - ETA: 0s - loss: 0.5241 - accuracy: 0.8984WARNING:tensorflow:Early stopping conditioned on metric `val_acc` which is not available. Available metrics are: loss,accuracy,val_loss,val_accuracy\n",
            "3/3 [==============================] - 0s 16ms/step - loss: 0.3432 - accuracy: 0.9137 - val_loss: 0.5451 - val_accuracy: 0.8917\n",
            "Epoch 97/200\n",
            "1/3 [=========>....................] - ETA: 0s - loss: 0.2739 - accuracy: 0.8750WARNING:tensorflow:Early stopping conditioned on metric `val_acc` which is not available. Available metrics are: loss,accuracy,val_loss,val_accuracy\n",
            "3/3 [==============================] - 0s 13ms/step - loss: 0.2845 - accuracy: 0.9029 - val_loss: 0.4550 - val_accuracy: 0.8917\n",
            "Epoch 98/200\n",
            "1/3 [=========>....................] - ETA: 0s - loss: 0.4010 - accuracy: 0.9297WARNING:tensorflow:Early stopping conditioned on metric `val_acc` which is not available. Available metrics are: loss,accuracy,val_loss,val_accuracy\n",
            "3/3 [==============================] - 0s 13ms/step - loss: 0.3677 - accuracy: 0.9317 - val_loss: 0.9038 - val_accuracy: 0.7500\n",
            "Epoch 99/200\n",
            "1/3 [=========>....................] - ETA: 0s - loss: 0.4815 - accuracy: 0.8516WARNING:tensorflow:Early stopping conditioned on metric `val_acc` which is not available. Available metrics are: loss,accuracy,val_loss,val_accuracy\n",
            "3/3 [==============================] - 0s 13ms/step - loss: 0.5730 - accuracy: 0.8489 - val_loss: 0.3863 - val_accuracy: 0.9083\n",
            "Epoch 100/200\n",
            "1/3 [=========>....................] - ETA: 0s - loss: 0.3486 - accuracy: 0.9141WARNING:tensorflow:Early stopping conditioned on metric `val_acc` which is not available. Available metrics are: loss,accuracy,val_loss,val_accuracy\n",
            "3/3 [==============================] - 0s 13ms/step - loss: 0.2532 - accuracy: 0.9281 - val_loss: 0.3329 - val_accuracy: 0.9167\n",
            "Epoch 101/200\n",
            "1/3 [=========>....................] - ETA: 0s - loss: 0.2023 - accuracy: 0.9062WARNING:tensorflow:Early stopping conditioned on metric `val_acc` which is not available. Available metrics are: loss,accuracy,val_loss,val_accuracy\n",
            "3/3 [==============================] - 0s 13ms/step - loss: 0.1708 - accuracy: 0.9173 - val_loss: 0.3028 - val_accuracy: 0.9083\n",
            "Epoch 102/200\n",
            "1/3 [=========>....................] - ETA: 0s - loss: 0.1911 - accuracy: 0.9453WARNING:tensorflow:Early stopping conditioned on metric `val_acc` which is not available. Available metrics are: loss,accuracy,val_loss,val_accuracy\n",
            "3/3 [==============================] - 0s 13ms/step - loss: 0.1885 - accuracy: 0.9317 - val_loss: 0.3021 - val_accuracy: 0.9000\n",
            "Epoch 103/200\n",
            "1/3 [=========>....................] - ETA: 0s - loss: 0.2870 - accuracy: 0.9062WARNING:tensorflow:Early stopping conditioned on metric `val_acc` which is not available. Available metrics are: loss,accuracy,val_loss,val_accuracy\n",
            "3/3 [==============================] - 0s 14ms/step - loss: 0.1355 - accuracy: 0.9317 - val_loss: 0.2948 - val_accuracy: 0.9083\n",
            "Epoch 104/200\n",
            "1/3 [=========>....................] - ETA: 0s - loss: 0.1706 - accuracy: 0.9375WARNING:tensorflow:Early stopping conditioned on metric `val_acc` which is not available. Available metrics are: loss,accuracy,val_loss,val_accuracy\n",
            "3/3 [==============================] - 0s 12ms/step - loss: 0.2481 - accuracy: 0.9317 - val_loss: 0.2920 - val_accuracy: 0.9000\n",
            "Epoch 105/200\n",
            "1/3 [=========>....................] - ETA: 0s - loss: 0.1989 - accuracy: 0.9219WARNING:tensorflow:Early stopping conditioned on metric `val_acc` which is not available. Available metrics are: loss,accuracy,val_loss,val_accuracy\n",
            "3/3 [==============================] - 0s 17ms/step - loss: 0.2640 - accuracy: 0.9317 - val_loss: 0.4249 - val_accuracy: 0.9000\n",
            "Epoch 106/200\n",
            "1/3 [=========>....................] - ETA: 0s - loss: 0.1912 - accuracy: 0.9297WARNING:tensorflow:Early stopping conditioned on metric `val_acc` which is not available. Available metrics are: loss,accuracy,val_loss,val_accuracy\n",
            "3/3 [==============================] - 0s 14ms/step - loss: 0.2757 - accuracy: 0.9137 - val_loss: 0.2634 - val_accuracy: 0.9083\n",
            "Epoch 107/200\n",
            "1/3 [=========>....................] - ETA: 0s - loss: 0.1977 - accuracy: 0.9453WARNING:tensorflow:Early stopping conditioned on metric `val_acc` which is not available. Available metrics are: loss,accuracy,val_loss,val_accuracy\n",
            "3/3 [==============================] - 0s 13ms/step - loss: 0.2122 - accuracy: 0.9173 - val_loss: 0.4222 - val_accuracy: 0.9000\n",
            "Epoch 108/200\n",
            "1/3 [=========>....................] - ETA: 0s - loss: 0.2271 - accuracy: 0.8984WARNING:tensorflow:Early stopping conditioned on metric `val_acc` which is not available. Available metrics are: loss,accuracy,val_loss,val_accuracy\n",
            "3/3 [==============================] - 0s 13ms/step - loss: 0.1688 - accuracy: 0.9137 - val_loss: 0.2497 - val_accuracy: 0.9250\n",
            "Epoch 109/200\n",
            "1/3 [=========>....................] - ETA: 0s - loss: 0.1733 - accuracy: 0.9375WARNING:tensorflow:Early stopping conditioned on metric `val_acc` which is not available. Available metrics are: loss,accuracy,val_loss,val_accuracy\n",
            "3/3 [==============================] - 0s 13ms/step - loss: 0.1928 - accuracy: 0.9101 - val_loss: 0.2452 - val_accuracy: 0.9250\n",
            "Epoch 110/200\n",
            "1/3 [=========>....................] - ETA: 0s - loss: 0.1655 - accuracy: 0.9453WARNING:tensorflow:Early stopping conditioned on metric `val_acc` which is not available. Available metrics are: loss,accuracy,val_loss,val_accuracy\n",
            "3/3 [==============================] - 0s 14ms/step - loss: 0.1672 - accuracy: 0.9245 - val_loss: 0.4079 - val_accuracy: 0.8917\n",
            "Epoch 111/200\n",
            "1/3 [=========>....................] - ETA: 0s - loss: 0.3627 - accuracy: 0.9141WARNING:tensorflow:Early stopping conditioned on metric `val_acc` which is not available. Available metrics are: loss,accuracy,val_loss,val_accuracy\n",
            "3/3 [==============================] - 0s 14ms/step - loss: 0.3280 - accuracy: 0.9029 - val_loss: 1.0840 - val_accuracy: 0.7083\n",
            "Epoch 112/200\n",
            "1/3 [=========>....................] - ETA: 0s - loss: 0.7220 - accuracy: 0.7344WARNING:tensorflow:Early stopping conditioned on metric `val_acc` which is not available. Available metrics are: loss,accuracy,val_loss,val_accuracy\n",
            "3/3 [==============================] - 0s 13ms/step - loss: 0.6369 - accuracy: 0.8309 - val_loss: 0.2868 - val_accuracy: 0.9167\n",
            "Epoch 113/200\n",
            "1/3 [=========>....................] - ETA: 0s - loss: 0.2216 - accuracy: 0.9297WARNING:tensorflow:Early stopping conditioned on metric `val_acc` which is not available. Available metrics are: loss,accuracy,val_loss,val_accuracy\n",
            "3/3 [==============================] - 0s 14ms/step - loss: 0.4516 - accuracy: 0.8597 - val_loss: 0.7440 - val_accuracy: 0.8583\n",
            "Epoch 114/200\n",
            "1/3 [=========>....................] - ETA: 0s - loss: 0.7739 - accuracy: 0.8594WARNING:tensorflow:Early stopping conditioned on metric `val_acc` which is not available. Available metrics are: loss,accuracy,val_loss,val_accuracy\n",
            "3/3 [==============================] - 0s 14ms/step - loss: 0.3751 - accuracy: 0.8957 - val_loss: 0.4062 - val_accuracy: 0.9000\n",
            "Epoch 115/200\n",
            "1/3 [=========>....................] - ETA: 0s - loss: 0.2195 - accuracy: 0.9141WARNING:tensorflow:Early stopping conditioned on metric `val_acc` which is not available. Available metrics are: loss,accuracy,val_loss,val_accuracy\n",
            "3/3 [==============================] - 0s 15ms/step - loss: 0.1712 - accuracy: 0.9209 - val_loss: 0.3467 - val_accuracy: 0.9167\n",
            "Epoch 116/200\n",
            "1/3 [=========>....................] - ETA: 0s - loss: 0.1656 - accuracy: 0.9219WARNING:tensorflow:Early stopping conditioned on metric `val_acc` which is not available. Available metrics are: loss,accuracy,val_loss,val_accuracy\n",
            "3/3 [==============================] - 0s 13ms/step - loss: 0.1681 - accuracy: 0.9317 - val_loss: 0.3335 - val_accuracy: 0.9083\n",
            "Epoch 117/200\n",
            "1/3 [=========>....................] - ETA: 0s - loss: 0.1452 - accuracy: 0.9531WARNING:tensorflow:Early stopping conditioned on metric `val_acc` which is not available. Available metrics are: loss,accuracy,val_loss,val_accuracy\n",
            "3/3 [==============================] - 0s 13ms/step - loss: 0.1855 - accuracy: 0.9424 - val_loss: 0.3249 - val_accuracy: 0.9167\n",
            "Epoch 118/200\n",
            "1/3 [=========>....................] - ETA: 0s - loss: 0.2303 - accuracy: 0.9219WARNING:tensorflow:Early stopping conditioned on metric `val_acc` which is not available. Available metrics are: loss,accuracy,val_loss,val_accuracy\n",
            "3/3 [==============================] - 0s 13ms/step - loss: 0.1468 - accuracy: 0.9317 - val_loss: 0.3221 - val_accuracy: 0.9083\n",
            "Epoch 119/200\n",
            "1/3 [=========>....................] - ETA: 0s - loss: 0.3242 - accuracy: 0.9062WARNING:tensorflow:Early stopping conditioned on metric `val_acc` which is not available. Available metrics are: loss,accuracy,val_loss,val_accuracy\n",
            "3/3 [==============================] - 0s 13ms/step - loss: 0.2132 - accuracy: 0.9353 - val_loss: 0.2932 - val_accuracy: 0.9167\n",
            "Epoch 120/200\n",
            "1/3 [=========>....................] - ETA: 0s - loss: 0.1313 - accuracy: 0.9453WARNING:tensorflow:Early stopping conditioned on metric `val_acc` which is not available. Available metrics are: loss,accuracy,val_loss,val_accuracy\n",
            "3/3 [==============================] - 0s 14ms/step - loss: 0.1814 - accuracy: 0.9281 - val_loss: 0.3813 - val_accuracy: 0.9000\n",
            "Epoch 121/200\n",
            "1/3 [=========>....................] - ETA: 0s - loss: 0.2320 - accuracy: 0.8984WARNING:tensorflow:Early stopping conditioned on metric `val_acc` which is not available. Available metrics are: loss,accuracy,val_loss,val_accuracy\n",
            "3/3 [==============================] - 0s 13ms/step - loss: 0.1606 - accuracy: 0.9101 - val_loss: 0.2477 - val_accuracy: 0.9250\n",
            "Epoch 122/200\n",
            "1/3 [=========>....................] - ETA: 0s - loss: 0.1773 - accuracy: 0.9297WARNING:tensorflow:Early stopping conditioned on metric `val_acc` which is not available. Available metrics are: loss,accuracy,val_loss,val_accuracy\n",
            "3/3 [==============================] - 0s 13ms/step - loss: 0.1438 - accuracy: 0.9281 - val_loss: 0.2291 - val_accuracy: 0.9167\n",
            "Epoch 123/200\n",
            "1/3 [=========>....................] - ETA: 0s - loss: 0.2181 - accuracy: 0.9453WARNING:tensorflow:Early stopping conditioned on metric `val_acc` which is not available. Available metrics are: loss,accuracy,val_loss,val_accuracy\n",
            "3/3 [==============================] - 0s 16ms/step - loss: 0.1761 - accuracy: 0.9353 - val_loss: 0.8524 - val_accuracy: 0.7167\n",
            "Epoch 124/200\n",
            "1/3 [=========>....................] - ETA: 0s - loss: 0.5852 - accuracy: 0.8125WARNING:tensorflow:Early stopping conditioned on metric `val_acc` which is not available. Available metrics are: loss,accuracy,val_loss,val_accuracy\n",
            "3/3 [==============================] - 0s 13ms/step - loss: 0.3091 - accuracy: 0.8849 - val_loss: 0.2720 - val_accuracy: 0.9167\n",
            "Epoch 125/200\n",
            "1/3 [=========>....................] - ETA: 0s - loss: 0.1629 - accuracy: 0.9453WARNING:tensorflow:Early stopping conditioned on metric `val_acc` which is not available. Available metrics are: loss,accuracy,val_loss,val_accuracy\n",
            "3/3 [==============================] - 0s 17ms/step - loss: 0.1979 - accuracy: 0.9173 - val_loss: 0.2660 - val_accuracy: 0.9083\n",
            "Epoch 126/200\n",
            "1/3 [=========>....................] - ETA: 0s - loss: 0.2027 - accuracy: 0.9375WARNING:tensorflow:Early stopping conditioned on metric `val_acc` which is not available. Available metrics are: loss,accuracy,val_loss,val_accuracy\n",
            "3/3 [==============================] - 0s 15ms/step - loss: 0.1553 - accuracy: 0.9424 - val_loss: 0.3081 - val_accuracy: 0.9167\n",
            "Epoch 127/200\n",
            "1/3 [=========>....................] - ETA: 0s - loss: 0.1373 - accuracy: 0.9531WARNING:tensorflow:Early stopping conditioned on metric `val_acc` which is not available. Available metrics are: loss,accuracy,val_loss,val_accuracy\n",
            "3/3 [==============================] - 0s 13ms/step - loss: 0.1681 - accuracy: 0.9424 - val_loss: 0.5680 - val_accuracy: 0.8500\n",
            "Epoch 128/200\n",
            "1/3 [=========>....................] - ETA: 0s - loss: 0.1657 - accuracy: 0.9219WARNING:tensorflow:Early stopping conditioned on metric `val_acc` which is not available. Available metrics are: loss,accuracy,val_loss,val_accuracy\n",
            "3/3 [==============================] - 0s 13ms/step - loss: 0.1898 - accuracy: 0.9137 - val_loss: 0.5748 - val_accuracy: 0.8667\n",
            "Epoch 129/200\n",
            "1/3 [=========>....................] - ETA: 0s - loss: 0.4649 - accuracy: 0.9141WARNING:tensorflow:Early stopping conditioned on metric `val_acc` which is not available. Available metrics are: loss,accuracy,val_loss,val_accuracy\n",
            "3/3 [==============================] - 0s 13ms/step - loss: 0.2572 - accuracy: 0.9245 - val_loss: 1.4138 - val_accuracy: 0.6333\n",
            "Epoch 130/200\n",
            "1/3 [=========>....................] - ETA: 0s - loss: 0.8786 - accuracy: 0.7344WARNING:tensorflow:Early stopping conditioned on metric `val_acc` which is not available. Available metrics are: loss,accuracy,val_loss,val_accuracy\n",
            "3/3 [==============================] - 0s 14ms/step - loss: 0.5234 - accuracy: 0.8525 - val_loss: 0.8715 - val_accuracy: 0.8500\n",
            "Epoch 131/200\n",
            "1/3 [=========>....................] - ETA: 0s - loss: 0.6275 - accuracy: 0.8516WARNING:tensorflow:Early stopping conditioned on metric `val_acc` which is not available. Available metrics are: loss,accuracy,val_loss,val_accuracy\n",
            "3/3 [==============================] - 0s 12ms/step - loss: 0.7778 - accuracy: 0.8525 - val_loss: 0.4382 - val_accuracy: 0.9000\n",
            "Epoch 132/200\n",
            "1/3 [=========>....................] - ETA: 0s - loss: 0.2816 - accuracy: 0.9375WARNING:tensorflow:Early stopping conditioned on metric `val_acc` which is not available. Available metrics are: loss,accuracy,val_loss,val_accuracy\n",
            "3/3 [==============================] - 0s 13ms/step - loss: 0.5660 - accuracy: 0.8885 - val_loss: 0.5117 - val_accuracy: 0.9083\n",
            "Epoch 133/200\n",
            "1/3 [=========>....................] - ETA: 0s - loss: 0.3007 - accuracy: 0.8906WARNING:tensorflow:Early stopping conditioned on metric `val_acc` which is not available. Available metrics are: loss,accuracy,val_loss,val_accuracy\n",
            "3/3 [==============================] - 0s 12ms/step - loss: 0.5384 - accuracy: 0.8777 - val_loss: 0.7691 - val_accuracy: 0.8583\n",
            "Epoch 134/200\n",
            "1/3 [=========>....................] - ETA: 0s - loss: 0.6369 - accuracy: 0.8984WARNING:tensorflow:Early stopping conditioned on metric `val_acc` which is not available. Available metrics are: loss,accuracy,val_loss,val_accuracy\n",
            "3/3 [==============================] - 0s 12ms/step - loss: 0.4095 - accuracy: 0.9029 - val_loss: 0.4536 - val_accuracy: 0.9083\n",
            "Epoch 135/200\n",
            "1/3 [=========>....................] - ETA: 0s - loss: 0.2424 - accuracy: 0.9297WARNING:tensorflow:Early stopping conditioned on metric `val_acc` which is not available. Available metrics are: loss,accuracy,val_loss,val_accuracy\n",
            "3/3 [==============================] - 0s 17ms/step - loss: 0.3142 - accuracy: 0.9065 - val_loss: 0.4213 - val_accuracy: 0.9167\n",
            "Epoch 136/200\n",
            "1/3 [=========>....................] - ETA: 0s - loss: 0.1030 - accuracy: 0.9531WARNING:tensorflow:Early stopping conditioned on metric `val_acc` which is not available. Available metrics are: loss,accuracy,val_loss,val_accuracy\n",
            "3/3 [==============================] - 0s 13ms/step - loss: 0.5590 - accuracy: 0.9209 - val_loss: 0.5400 - val_accuracy: 0.9000\n",
            "Epoch 137/200\n",
            "1/3 [=========>....................] - ETA: 0s - loss: 0.2476 - accuracy: 0.9141WARNING:tensorflow:Early stopping conditioned on metric `val_acc` which is not available. Available metrics are: loss,accuracy,val_loss,val_accuracy\n",
            "3/3 [==============================] - 0s 13ms/step - loss: 0.3700 - accuracy: 0.8417 - val_loss: 0.8241 - val_accuracy: 0.8667\n",
            "Epoch 138/200\n",
            "1/3 [=========>....................] - ETA: 0s - loss: 0.6458 - accuracy: 0.8750WARNING:tensorflow:Early stopping conditioned on metric `val_acc` which is not available. Available metrics are: loss,accuracy,val_loss,val_accuracy\n",
            "3/3 [==============================] - 0s 14ms/step - loss: 0.5025 - accuracy: 0.8813 - val_loss: 0.6861 - val_accuracy: 0.8417\n",
            "Epoch 139/200\n",
            "1/3 [=========>....................] - ETA: 0s - loss: 0.4319 - accuracy: 0.8672WARNING:tensorflow:Early stopping conditioned on metric `val_acc` which is not available. Available metrics are: loss,accuracy,val_loss,val_accuracy\n",
            "3/3 [==============================] - 0s 13ms/step - loss: 0.3237 - accuracy: 0.8669 - val_loss: 0.5326 - val_accuracy: 0.8833\n",
            "Epoch 140/200\n",
            "1/3 [=========>....................] - ETA: 0s - loss: 0.4600 - accuracy: 0.9062WARNING:tensorflow:Early stopping conditioned on metric `val_acc` which is not available. Available metrics are: loss,accuracy,val_loss,val_accuracy\n",
            "3/3 [==============================] - 0s 13ms/step - loss: 0.3075 - accuracy: 0.9137 - val_loss: 0.4272 - val_accuracy: 0.9000\n",
            "Epoch 141/200\n",
            "1/3 [=========>....................] - ETA: 0s - loss: 0.1943 - accuracy: 0.9219WARNING:tensorflow:Early stopping conditioned on metric `val_acc` which is not available. Available metrics are: loss,accuracy,val_loss,val_accuracy\n",
            "3/3 [==============================] - 0s 13ms/step - loss: 0.1630 - accuracy: 0.9173 - val_loss: 0.3788 - val_accuracy: 0.9250\n",
            "Epoch 142/200\n",
            "1/3 [=========>....................] - ETA: 0s - loss: 0.1676 - accuracy: 0.9297WARNING:tensorflow:Early stopping conditioned on metric `val_acc` which is not available. Available metrics are: loss,accuracy,val_loss,val_accuracy\n",
            "3/3 [==============================] - 0s 13ms/step - loss: 0.1657 - accuracy: 0.9281 - val_loss: 0.3675 - val_accuracy: 0.9250\n",
            "Epoch 143/200\n",
            "1/3 [=========>....................] - ETA: 0s - loss: 0.1350 - accuracy: 0.9453WARNING:tensorflow:Early stopping conditioned on metric `val_acc` which is not available. Available metrics are: loss,accuracy,val_loss,val_accuracy\n",
            "3/3 [==============================] - 0s 14ms/step - loss: 0.2011 - accuracy: 0.9317 - val_loss: 0.5561 - val_accuracy: 0.8833\n",
            "Epoch 144/200\n",
            "1/3 [=========>....................] - ETA: 0s - loss: 0.2648 - accuracy: 0.8906WARNING:tensorflow:Early stopping conditioned on metric `val_acc` which is not available. Available metrics are: loss,accuracy,val_loss,val_accuracy\n",
            "3/3 [==============================] - 0s 15ms/step - loss: 0.1796 - accuracy: 0.9101 - val_loss: 0.3872 - val_accuracy: 0.9083\n",
            "Epoch 145/200\n",
            "1/3 [=========>....................] - ETA: 0s - loss: 0.2537 - accuracy: 0.9297WARNING:tensorflow:Early stopping conditioned on metric `val_acc` which is not available. Available metrics are: loss,accuracy,val_loss,val_accuracy\n",
            "3/3 [==============================] - 0s 13ms/step - loss: 0.2666 - accuracy: 0.9317 - val_loss: 0.4699 - val_accuracy: 0.9000\n",
            "Epoch 146/200\n",
            "1/3 [=========>....................] - ETA: 0s - loss: 0.1509 - accuracy: 0.9219WARNING:tensorflow:Early stopping conditioned on metric `val_acc` which is not available. Available metrics are: loss,accuracy,val_loss,val_accuracy\n",
            "3/3 [==============================] - 0s 13ms/step - loss: 0.1888 - accuracy: 0.9137 - val_loss: 0.6558 - val_accuracy: 0.8833\n",
            "Epoch 147/200\n",
            "1/3 [=========>....................] - ETA: 0s - loss: 0.6197 - accuracy: 0.8828WARNING:tensorflow:Early stopping conditioned on metric `val_acc` which is not available. Available metrics are: loss,accuracy,val_loss,val_accuracy\n",
            "3/3 [==============================] - 0s 13ms/step - loss: 0.4025 - accuracy: 0.9029 - val_loss: 0.4920 - val_accuracy: 0.8917\n",
            "Epoch 148/200\n",
            "1/3 [=========>....................] - ETA: 0s - loss: 0.1493 - accuracy: 0.9453WARNING:tensorflow:Early stopping conditioned on metric `val_acc` which is not available. Available metrics are: loss,accuracy,val_loss,val_accuracy\n",
            "3/3 [==============================] - 0s 14ms/step - loss: 0.2413 - accuracy: 0.8849 - val_loss: 0.4554 - val_accuracy: 0.8917\n",
            "Epoch 149/200\n",
            "1/3 [=========>....................] - ETA: 0s - loss: 0.3483 - accuracy: 0.9297WARNING:tensorflow:Early stopping conditioned on metric `val_acc` which is not available. Available metrics are: loss,accuracy,val_loss,val_accuracy\n",
            "3/3 [==============================] - 0s 14ms/step - loss: 0.2696 - accuracy: 0.9281 - val_loss: 0.9228 - val_accuracy: 0.7250\n",
            "Epoch 150/200\n",
            "1/3 [=========>....................] - ETA: 0s - loss: 0.6624 - accuracy: 0.7812WARNING:tensorflow:Early stopping conditioned on metric `val_acc` which is not available. Available metrics are: loss,accuracy,val_loss,val_accuracy\n",
            "3/3 [==============================] - 0s 13ms/step - loss: 0.2748 - accuracy: 0.8741 - val_loss: 0.7232 - val_accuracy: 0.8667\n",
            "Epoch 151/200\n",
            "1/3 [=========>....................] - ETA: 0s - loss: 0.6456 - accuracy: 0.9062WARNING:tensorflow:Early stopping conditioned on metric `val_acc` which is not available. Available metrics are: loss,accuracy,val_loss,val_accuracy\n",
            "3/3 [==============================] - 0s 14ms/step - loss: 0.3801 - accuracy: 0.9173 - val_loss: 0.8146 - val_accuracy: 0.7917\n",
            "Epoch 152/200\n",
            "1/3 [=========>....................] - ETA: 0s - loss: 0.4305 - accuracy: 0.8438WARNING:tensorflow:Early stopping conditioned on metric `val_acc` which is not available. Available metrics are: loss,accuracy,val_loss,val_accuracy\n",
            "3/3 [==============================] - 0s 13ms/step - loss: 0.2792 - accuracy: 0.8849 - val_loss: 0.4513 - val_accuracy: 0.9000\n",
            "Epoch 153/200\n",
            "1/3 [=========>....................] - ETA: 0s - loss: 0.1305 - accuracy: 0.9609WARNING:tensorflow:Early stopping conditioned on metric `val_acc` which is not available. Available metrics are: loss,accuracy,val_loss,val_accuracy\n",
            "3/3 [==============================] - 0s 13ms/step - loss: 0.4293 - accuracy: 0.9281 - val_loss: 1.4743 - val_accuracy: 0.6750\n",
            "Epoch 154/200\n",
            "1/3 [=========>....................] - ETA: 0s - loss: 1.1377 - accuracy: 0.6953WARNING:tensorflow:Early stopping conditioned on metric `val_acc` which is not available. Available metrics are: loss,accuracy,val_loss,val_accuracy\n",
            "3/3 [==============================] - 0s 15ms/step - loss: 0.5903 - accuracy: 0.8165 - val_loss: 1.0991 - val_accuracy: 0.8500\n",
            "Epoch 155/200\n",
            "1/3 [=========>....................] - ETA: 0s - loss: 0.8691 - accuracy: 0.8672WARNING:tensorflow:Early stopping conditioned on metric `val_acc` which is not available. Available metrics are: loss,accuracy,val_loss,val_accuracy\n",
            "3/3 [==============================] - 0s 13ms/step - loss: 0.4678 - accuracy: 0.9101 - val_loss: 1.9902 - val_accuracy: 0.6083\n",
            "Epoch 156/200\n",
            "1/3 [=========>....................] - ETA: 0s - loss: 1.6492 - accuracy: 0.6172WARNING:tensorflow:Early stopping conditioned on metric `val_acc` which is not available. Available metrics are: loss,accuracy,val_loss,val_accuracy\n",
            "3/3 [==============================] - 0s 13ms/step - loss: 0.8127 - accuracy: 0.7950 - val_loss: 0.7912 - val_accuracy: 0.8667\n",
            "Epoch 157/200\n",
            "1/3 [=========>....................] - ETA: 0s - loss: 0.7220 - accuracy: 0.8828WARNING:tensorflow:Early stopping conditioned on metric `val_acc` which is not available. Available metrics are: loss,accuracy,val_loss,val_accuracy\n",
            "3/3 [==============================] - 0s 14ms/step - loss: 0.5003 - accuracy: 0.9101 - val_loss: 0.4574 - val_accuracy: 0.9000\n",
            "Epoch 158/200\n",
            "1/3 [=========>....................] - ETA: 0s - loss: 0.1979 - accuracy: 0.9375WARNING:tensorflow:Early stopping conditioned on metric `val_acc` which is not available. Available metrics are: loss,accuracy,val_loss,val_accuracy\n",
            "3/3 [==============================] - 0s 14ms/step - loss: 0.3021 - accuracy: 0.9317 - val_loss: 0.4068 - val_accuracy: 0.9083\n",
            "Epoch 159/200\n",
            "1/3 [=========>....................] - ETA: 0s - loss: 0.2695 - accuracy: 0.9297WARNING:tensorflow:Early stopping conditioned on metric `val_acc` which is not available. Available metrics are: loss,accuracy,val_loss,val_accuracy\n",
            "3/3 [==============================] - 0s 15ms/step - loss: 0.2455 - accuracy: 0.9065 - val_loss: 0.4199 - val_accuracy: 0.8917\n",
            "Epoch 160/200\n",
            "1/3 [=========>....................] - ETA: 0s - loss: 0.1460 - accuracy: 0.9531WARNING:tensorflow:Early stopping conditioned on metric `val_acc` which is not available. Available metrics are: loss,accuracy,val_loss,val_accuracy\n",
            "3/3 [==============================] - 0s 13ms/step - loss: 0.4185 - accuracy: 0.9388 - val_loss: 0.4154 - val_accuracy: 0.9083\n",
            "Epoch 161/200\n",
            "1/3 [=========>....................] - ETA: 0s - loss: 0.1510 - accuracy: 0.9297WARNING:tensorflow:Early stopping conditioned on metric `val_acc` which is not available. Available metrics are: loss,accuracy,val_loss,val_accuracy\n",
            "3/3 [==============================] - 0s 14ms/step - loss: 0.2610 - accuracy: 0.8777 - val_loss: 0.4278 - val_accuracy: 0.9000\n",
            "Epoch 162/200\n",
            "1/3 [=========>....................] - ETA: 0s - loss: 0.3330 - accuracy: 0.9375WARNING:tensorflow:Early stopping conditioned on metric `val_acc` which is not available. Available metrics are: loss,accuracy,val_loss,val_accuracy\n",
            "3/3 [==============================] - 0s 14ms/step - loss: 0.2371 - accuracy: 0.9353 - val_loss: 0.4637 - val_accuracy: 0.9000\n",
            "Epoch 163/200\n",
            "1/3 [=========>....................] - ETA: 0s - loss: 0.1835 - accuracy: 0.9297WARNING:tensorflow:Early stopping conditioned on metric `val_acc` which is not available. Available metrics are: loss,accuracy,val_loss,val_accuracy\n",
            "3/3 [==============================] - 0s 13ms/step - loss: 0.2080 - accuracy: 0.9065 - val_loss: 0.4058 - val_accuracy: 0.9083\n",
            "Epoch 164/200\n",
            "1/3 [=========>....................] - ETA: 0s - loss: 0.2783 - accuracy: 0.9375WARNING:tensorflow:Early stopping conditioned on metric `val_acc` which is not available. Available metrics are: loss,accuracy,val_loss,val_accuracy\n",
            "3/3 [==============================] - 0s 17ms/step - loss: 0.2180 - accuracy: 0.9353 - val_loss: 0.5236 - val_accuracy: 0.8833\n",
            "Epoch 165/200\n",
            "1/3 [=========>....................] - ETA: 0s - loss: 0.1684 - accuracy: 0.9141WARNING:tensorflow:Early stopping conditioned on metric `val_acc` which is not available. Available metrics are: loss,accuracy,val_loss,val_accuracy\n",
            "3/3 [==============================] - 0s 14ms/step - loss: 0.2851 - accuracy: 0.8777 - val_loss: 0.6228 - val_accuracy: 0.8833\n",
            "Epoch 166/200\n",
            "1/3 [=========>....................] - ETA: 0s - loss: 0.3346 - accuracy: 0.9219WARNING:tensorflow:Early stopping conditioned on metric `val_acc` which is not available. Available metrics are: loss,accuracy,val_loss,val_accuracy\n",
            "3/3 [==============================] - 0s 15ms/step - loss: 0.3611 - accuracy: 0.9101 - val_loss: 1.3913 - val_accuracy: 0.6917\n",
            "Epoch 167/200\n",
            "1/3 [=========>....................] - ETA: 0s - loss: 0.9262 - accuracy: 0.7266WARNING:tensorflow:Early stopping conditioned on metric `val_acc` which is not available. Available metrics are: loss,accuracy,val_loss,val_accuracy\n",
            "3/3 [==============================] - 0s 15ms/step - loss: 0.4188 - accuracy: 0.8201 - val_loss: 1.2086 - val_accuracy: 0.8500\n",
            "Epoch 168/200\n",
            "1/3 [=========>....................] - ETA: 0s - loss: 1.0284 - accuracy: 0.8750WARNING:tensorflow:Early stopping conditioned on metric `val_acc` which is not available. Available metrics are: loss,accuracy,val_loss,val_accuracy\n",
            "3/3 [==============================] - 0s 13ms/step - loss: 0.4879 - accuracy: 0.9029 - val_loss: 1.4599 - val_accuracy: 0.6917\n",
            "Epoch 169/200\n",
            "1/3 [=========>....................] - ETA: 0s - loss: 1.0454 - accuracy: 0.7578WARNING:tensorflow:Early stopping conditioned on metric `val_acc` which is not available. Available metrics are: loss,accuracy,val_loss,val_accuracy\n",
            "3/3 [==============================] - 0s 13ms/step - loss: 0.5807 - accuracy: 0.8417 - val_loss: 0.4131 - val_accuracy: 0.9083\n",
            "Epoch 170/200\n",
            "1/3 [=========>....................] - ETA: 0s - loss: 0.2312 - accuracy: 0.9609WARNING:tensorflow:Early stopping conditioned on metric `val_acc` which is not available. Available metrics are: loss,accuracy,val_loss,val_accuracy\n",
            "3/3 [==============================] - 0s 13ms/step - loss: 0.2360 - accuracy: 0.9353 - val_loss: 0.4475 - val_accuracy: 0.9000\n",
            "Epoch 171/200\n",
            "1/3 [=========>....................] - ETA: 0s - loss: 0.1859 - accuracy: 0.9219WARNING:tensorflow:Early stopping conditioned on metric `val_acc` which is not available. Available metrics are: loss,accuracy,val_loss,val_accuracy\n",
            "3/3 [==============================] - 0s 13ms/step - loss: 0.4027 - accuracy: 0.9281 - val_loss: 0.9522 - val_accuracy: 0.7417\n",
            "Epoch 172/200\n",
            "1/3 [=========>....................] - ETA: 0s - loss: 0.6233 - accuracy: 0.8281WARNING:tensorflow:Early stopping conditioned on metric `val_acc` which is not available. Available metrics are: loss,accuracy,val_loss,val_accuracy\n",
            "3/3 [==============================] - 0s 14ms/step - loss: 0.3550 - accuracy: 0.8669 - val_loss: 0.7470 - val_accuracy: 0.8750\n",
            "Epoch 173/200\n",
            "1/3 [=========>....................] - ETA: 0s - loss: 0.6416 - accuracy: 0.8516WARNING:tensorflow:Early stopping conditioned on metric `val_acc` which is not available. Available metrics are: loss,accuracy,val_loss,val_accuracy\n",
            "3/3 [==============================] - 0s 13ms/step - loss: 0.3845 - accuracy: 0.8993 - val_loss: 0.9796 - val_accuracy: 0.7250\n",
            "Epoch 174/200\n",
            "1/3 [=========>....................] - ETA: 0s - loss: 0.5410 - accuracy: 0.8516WARNING:tensorflow:Early stopping conditioned on metric `val_acc` which is not available. Available metrics are: loss,accuracy,val_loss,val_accuracy\n",
            "3/3 [==============================] - 0s 16ms/step - loss: 0.4051 - accuracy: 0.8705 - val_loss: 0.7648 - val_accuracy: 0.8750\n",
            "Epoch 175/200\n",
            "1/3 [=========>....................] - ETA: 0s - loss: 0.4960 - accuracy: 0.8906WARNING:tensorflow:Early stopping conditioned on metric `val_acc` which is not available. Available metrics are: loss,accuracy,val_loss,val_accuracy\n",
            "3/3 [==============================] - 0s 14ms/step - loss: 0.3977 - accuracy: 0.9101 - val_loss: 1.4211 - val_accuracy: 0.7000\n",
            "Epoch 176/200\n",
            "1/3 [=========>....................] - ETA: 0s - loss: 0.8322 - accuracy: 0.7578WARNING:tensorflow:Early stopping conditioned on metric `val_acc` which is not available. Available metrics are: loss,accuracy,val_loss,val_accuracy\n",
            "3/3 [==============================] - 0s 14ms/step - loss: 0.6267 - accuracy: 0.8022 - val_loss: 0.7389 - val_accuracy: 0.8917\n",
            "Epoch 177/200\n",
            "1/3 [=========>....................] - ETA: 0s - loss: 0.5252 - accuracy: 0.9062WARNING:tensorflow:Early stopping conditioned on metric `val_acc` which is not available. Available metrics are: loss,accuracy,val_loss,val_accuracy\n",
            "3/3 [==============================] - 0s 12ms/step - loss: 0.3704 - accuracy: 0.9209 - val_loss: 0.4492 - val_accuracy: 0.9000\n",
            "Epoch 178/200\n",
            "1/3 [=========>....................] - ETA: 0s - loss: 0.2421 - accuracy: 0.8984WARNING:tensorflow:Early stopping conditioned on metric `val_acc` which is not available. Available metrics are: loss,accuracy,val_loss,val_accuracy\n",
            "3/3 [==============================] - 0s 14ms/step - loss: 0.1427 - accuracy: 0.9209 - val_loss: 0.3860 - val_accuracy: 0.9167\n",
            "Epoch 179/200\n",
            "1/3 [=========>....................] - ETA: 0s - loss: 0.2059 - accuracy: 0.9375WARNING:tensorflow:Early stopping conditioned on metric `val_acc` which is not available. Available metrics are: loss,accuracy,val_loss,val_accuracy\n",
            "3/3 [==============================] - 0s 12ms/step - loss: 0.1576 - accuracy: 0.9317 - val_loss: 0.4669 - val_accuracy: 0.9083\n",
            "Epoch 180/200\n",
            "1/3 [=========>....................] - ETA: 0s - loss: 0.1767 - accuracy: 0.9219WARNING:tensorflow:Early stopping conditioned on metric `val_acc` which is not available. Available metrics are: loss,accuracy,val_loss,val_accuracy\n",
            "3/3 [==============================] - 0s 13ms/step - loss: 0.1629 - accuracy: 0.9101 - val_loss: 0.3374 - val_accuracy: 0.9250\n",
            "Epoch 181/200\n",
            "1/3 [=========>....................] - ETA: 0s - loss: 0.1154 - accuracy: 0.9453WARNING:tensorflow:Early stopping conditioned on metric `val_acc` which is not available. Available metrics are: loss,accuracy,val_loss,val_accuracy\n",
            "3/3 [==============================] - 0s 13ms/step - loss: 0.1424 - accuracy: 0.9209 - val_loss: 0.3071 - val_accuracy: 0.9250\n",
            "Epoch 182/200\n",
            "1/3 [=========>....................] - ETA: 0s - loss: 0.1873 - accuracy: 0.9453WARNING:tensorflow:Early stopping conditioned on metric `val_acc` which is not available. Available metrics are: loss,accuracy,val_loss,val_accuracy\n",
            "3/3 [==============================] - 0s 14ms/step - loss: 0.2039 - accuracy: 0.9460 - val_loss: 0.6080 - val_accuracy: 0.8500\n",
            "Epoch 183/200\n",
            "1/3 [=========>....................] - ETA: 0s - loss: 0.2761 - accuracy: 0.8984WARNING:tensorflow:Early stopping conditioned on metric `val_acc` which is not available. Available metrics are: loss,accuracy,val_loss,val_accuracy\n",
            "3/3 [==============================] - 0s 13ms/step - loss: 0.2511 - accuracy: 0.8741 - val_loss: 0.4725 - val_accuracy: 0.8917\n",
            "Epoch 184/200\n",
            "1/3 [=========>....................] - ETA: 0s - loss: 0.3563 - accuracy: 0.9375WARNING:tensorflow:Early stopping conditioned on metric `val_acc` which is not available. Available metrics are: loss,accuracy,val_loss,val_accuracy\n",
            "3/3 [==============================] - 0s 18ms/step - loss: 0.3607 - accuracy: 0.9173 - val_loss: 0.6860 - val_accuracy: 0.8417\n",
            "Epoch 185/200\n",
            "1/3 [=========>....................] - ETA: 0s - loss: 0.2261 - accuracy: 0.9062WARNING:tensorflow:Early stopping conditioned on metric `val_acc` which is not available. Available metrics are: loss,accuracy,val_loss,val_accuracy\n",
            "3/3 [==============================] - 0s 13ms/step - loss: 0.2701 - accuracy: 0.8813 - val_loss: 1.1811 - val_accuracy: 0.8417\n",
            "Epoch 186/200\n",
            "1/3 [=========>....................] - ETA: 0s - loss: 1.0392 - accuracy: 0.8594WARNING:tensorflow:Early stopping conditioned on metric `val_acc` which is not available. Available metrics are: loss,accuracy,val_loss,val_accuracy\n",
            "3/3 [==============================] - 0s 13ms/step - loss: 0.5653 - accuracy: 0.8813 - val_loss: 0.8977 - val_accuracy: 0.7583\n",
            "Epoch 187/200\n",
            "1/3 [=========>....................] - ETA: 0s - loss: 0.5441 - accuracy: 0.8125WARNING:tensorflow:Early stopping conditioned on metric `val_acc` which is not available. Available metrics are: loss,accuracy,val_loss,val_accuracy\n",
            "3/3 [==============================] - 0s 13ms/step - loss: 0.4432 - accuracy: 0.8705 - val_loss: 0.3966 - val_accuracy: 0.9083\n",
            "Epoch 188/200\n",
            "1/3 [=========>....................] - ETA: 0s - loss: 0.2632 - accuracy: 0.9375WARNING:tensorflow:Early stopping conditioned on metric `val_acc` which is not available. Available metrics are: loss,accuracy,val_loss,val_accuracy\n",
            "3/3 [==============================] - 0s 14ms/step - loss: 0.2971 - accuracy: 0.9245 - val_loss: 0.3955 - val_accuracy: 0.9083\n",
            "Epoch 189/200\n",
            "1/3 [=========>....................] - ETA: 0s - loss: 0.2478 - accuracy: 0.9453WARNING:tensorflow:Early stopping conditioned on metric `val_acc` which is not available. Available metrics are: loss,accuracy,val_loss,val_accuracy\n",
            "3/3 [==============================] - 0s 12ms/step - loss: 0.2587 - accuracy: 0.9424 - val_loss: 0.3655 - val_accuracy: 0.9167\n",
            "Epoch 190/200\n",
            "1/3 [=========>....................] - ETA: 0s - loss: 0.2000 - accuracy: 0.9219WARNING:tensorflow:Early stopping conditioned on metric `val_acc` which is not available. Available metrics are: loss,accuracy,val_loss,val_accuracy\n",
            "3/3 [==============================] - 0s 13ms/step - loss: 0.1617 - accuracy: 0.9245 - val_loss: 0.4542 - val_accuracy: 0.9083\n",
            "Epoch 191/200\n",
            "1/3 [=========>....................] - ETA: 0s - loss: 0.1919 - accuracy: 0.9297WARNING:tensorflow:Early stopping conditioned on metric `val_acc` which is not available. Available metrics are: loss,accuracy,val_loss,val_accuracy\n",
            "3/3 [==============================] - 0s 13ms/step - loss: 0.2029 - accuracy: 0.9281 - val_loss: 0.3905 - val_accuracy: 0.9167\n",
            "Epoch 192/200\n",
            "1/3 [=========>....................] - ETA: 0s - loss: 0.3856 - accuracy: 0.9297WARNING:tensorflow:Early stopping conditioned on metric `val_acc` which is not available. Available metrics are: loss,accuracy,val_loss,val_accuracy\n",
            "3/3 [==============================] - 0s 14ms/step - loss: 0.2453 - accuracy: 0.9388 - val_loss: 0.4612 - val_accuracy: 0.9000\n",
            "Epoch 193/200\n",
            "1/3 [=========>....................] - ETA: 0s - loss: 0.1753 - accuracy: 0.9297WARNING:tensorflow:Early stopping conditioned on metric `val_acc` which is not available. Available metrics are: loss,accuracy,val_loss,val_accuracy\n",
            "3/3 [==============================] - 0s 16ms/step - loss: 0.1373 - accuracy: 0.9353 - val_loss: 0.3658 - val_accuracy: 0.9250\n",
            "Epoch 194/200\n",
            "1/3 [=========>....................] - ETA: 0s - loss: 0.2080 - accuracy: 0.9453WARNING:tensorflow:Early stopping conditioned on metric `val_acc` which is not available. Available metrics are: loss,accuracy,val_loss,val_accuracy\n",
            "3/3 [==============================] - 0s 13ms/step - loss: 0.2244 - accuracy: 0.9388 - val_loss: 0.7122 - val_accuracy: 0.8167\n",
            "Epoch 195/200\n",
            "1/3 [=========>....................] - ETA: 0s - loss: 0.3161 - accuracy: 0.8594WARNING:tensorflow:Early stopping conditioned on metric `val_acc` which is not available. Available metrics are: loss,accuracy,val_loss,val_accuracy\n",
            "3/3 [==============================] - 0s 13ms/step - loss: 0.3794 - accuracy: 0.8813 - val_loss: 0.2998 - val_accuracy: 0.9333\n",
            "Epoch 196/200\n",
            "1/3 [=========>....................] - ETA: 0s - loss: 0.1229 - accuracy: 0.9531WARNING:tensorflow:Early stopping conditioned on metric `val_acc` which is not available. Available metrics are: loss,accuracy,val_loss,val_accuracy\n",
            "3/3 [==============================] - 0s 13ms/step - loss: 0.1302 - accuracy: 0.9317 - val_loss: 0.3378 - val_accuracy: 0.9167\n",
            "Epoch 197/200\n",
            "1/3 [=========>....................] - ETA: 0s - loss: 0.1777 - accuracy: 0.9062WARNING:tensorflow:Early stopping conditioned on metric `val_acc` which is not available. Available metrics are: loss,accuracy,val_loss,val_accuracy\n",
            "3/3 [==============================] - 0s 14ms/step - loss: 0.1427 - accuracy: 0.9317 - val_loss: 0.2937 - val_accuracy: 0.9167\n",
            "Epoch 198/200\n",
            "1/3 [=========>....................] - ETA: 0s - loss: 0.1775 - accuracy: 0.9531WARNING:tensorflow:Early stopping conditioned on metric `val_acc` which is not available. Available metrics are: loss,accuracy,val_loss,val_accuracy\n",
            "3/3 [==============================] - 0s 13ms/step - loss: 0.2298 - accuracy: 0.9245 - val_loss: 0.3647 - val_accuracy: 0.9250\n",
            "Epoch 199/200\n",
            "1/3 [=========>....................] - ETA: 0s - loss: 0.1199 - accuracy: 0.9453WARNING:tensorflow:Early stopping conditioned on metric `val_acc` which is not available. Available metrics are: loss,accuracy,val_loss,val_accuracy\n",
            "3/3 [==============================] - 0s 13ms/step - loss: 0.1635 - accuracy: 0.9281 - val_loss: 0.2604 - val_accuracy: 0.9167\n",
            "Epoch 200/200\n",
            "1/3 [=========>....................] - ETA: 0s - loss: 0.2229 - accuracy: 0.9297WARNING:tensorflow:Early stopping conditioned on metric `val_acc` which is not available. Available metrics are: loss,accuracy,val_loss,val_accuracy\n",
            "3/3 [==============================] - 0s 14ms/step - loss: 0.1264 - accuracy: 0.9424 - val_loss: 0.6279 - val_accuracy: 0.8333\n"
          ],
          "name": "stdout"
        }
      ]
    },
    {
      "cell_type": "code",
      "metadata": {
        "id": "DD6mJ22vh4BY",
        "colab_type": "code",
        "colab": {}
      },
      "source": [
        "import matplotlib.pyplot as plt"
      ],
      "execution_count": 0,
      "outputs": []
    },
    {
      "cell_type": "code",
      "metadata": {
        "id": "3en_mFm5d9N_",
        "colab_type": "code",
        "colab": {}
      },
      "source": [
        "def plot_loss(loss,val_loss):\n",
        "  plt.figure(edgecolor='yellow')\n",
        "  plt.plot(loss,color='red')\n",
        "  plt.plot(val_loss,color='green')\n",
        "  plt.xlabel('EPOCHS')\n",
        "  plt.ylabel('Loss')\n",
        "  plt.legend(['Train', 'Test'], loc='upper right')\n",
        "  plt.title('Training vs Validation Loss')\n",
        "  plt.show()"
      ],
      "execution_count": 0,
      "outputs": []
    },
    {
      "cell_type": "code",
      "metadata": {
        "id": "7aG-QgpRi6J7",
        "colab_type": "code",
        "colab": {
          "base_uri": "https://localhost:8080/",
          "height": 295
        },
        "outputId": "8eec1ae8-7fff-4d25-8c82-fc4c3f6ca6cb"
      },
      "source": [
        "plot_loss(historynew.history['loss'],historynew.history['val_loss'])"
      ],
      "execution_count": 39,
      "outputs": [
        {
          "output_type": "display_data",
          "data": {
            "image/png": "[encoded data removed]",
            "text/plain": [
              "<Figure size 432x288 with 1 Axes>"
            ]
          },
          "metadata": {
            "tags": [],
            "needs_background": "light"
          }
        }
      ]
    },
    {
      "cell_type": "code",
      "metadata": {
        "id": "yD1XCsrqlQNw",
        "colab_type": "code",
        "colab": {}
      },
      "source": [
        ""
      ],
      "execution_count": 0,
      "outputs": []
    },
    {
      "cell_type": "code",
      "metadata": {
        "id": "fuuF3YhOjy4P",
        "colab_type": "code",
        "colab": {}
      },
      "source": [
        "def plot_accuracy(acc,val_acc):\n",
        "  plt.figure(edgecolor='yellow')\n",
        "  plt.plot(acc,color='red')\n",
        "  plt.plot(val_acc,color='green')\n",
        "  plt.xlabel('EPOCHS')\n",
        "  plt.ylabel('Accuracy')\n",
        "  plt.legend(['Train', 'Test'], loc='upper right')\n",
        "  plt.title('Training vs Validation accuracy')\n",
        "  plt.show()"
      ],
      "execution_count": 0,
      "outputs": []
    },
    {
      "cell_type": "code",
      "metadata": {
        "id": "iAZZZxN1kQkj",
        "colab_type": "code",
        "colab": {
          "base_uri": "https://localhost:8080/",
          "height": 91
        },
        "outputId": "6178ad27-6889-4d4a-81c0-0101cd4116da"
      },
      "source": [
        "for i in historynew.history.keys():\n",
        "  print(i)"
      ],
      "execution_count": 21,
      "outputs": [
        {
          "output_type": "stream",
          "text": [
            "loss\n",
            "accuracy\n",
            "val_loss\n",
            "val_accuracy\n"
          ],
          "name": "stdout"
        }
      ]
    },
    {
      "cell_type": "code",
      "metadata": {
        "id": "Yx_p8_2RkMsi",
        "colab_type": "code",
        "colab": {
          "base_uri": "https://localhost:8080/",
          "height": 295
        },
        "outputId": "21419e97-e902-46fd-e8e7-3eb16a39d5af"
      },
      "source": [
        "plot_accuracy(historynew.history['accuracy'],historynew.history['val_accuracy'])"
      ],
      "execution_count": 41,
      "outputs": [
        {
          "output_type": "display_data",
          "data": {
            "image/png": "[encoded data removed]",
            "text/plain": [
              "<Figure size 432x288 with 1 Axes>"
            ]
          },
          "metadata": {
            "tags": [],
            "needs_background": "light"
          }
        }
      ]
    },
    {
      "cell_type": "code",
      "metadata": {
        "id": "AvA7HIeok7AA",
        "colab_type": "code",
        "colab": {}
      },
      "source": [
        ""
      ],
      "execution_count": 0,
      "outputs": []
    },
    {
      "cell_type": "markdown",
      "metadata": {
        "id": "OXxepc4rk7iw",
        "colab_type": "text"
      },
      "source": [
        "# Fitting the model on the whole X and **y**"
      ]
    },
    {
      "cell_type": "code",
      "metadata": {
        "id": "aoKQdtUrlCJ8",
        "colab_type": "code",
        "colab": {
          "base_uri": "https://localhost:8080/",
          "height": 1000
        },
        "outputId": "e758b7a9-40e8-477d-fbf3-520cf66673f3"
      },
      "source": [
        "historynew=my_model.fit(X,y,batch_size=128,epochs=200,validation_split=0.2,callbacks=[stop_early])"
      ],
      "execution_count": 42,
      "outputs": [
        {
          "output_type": "stream",
          "text": [
            "Epoch 1/200\n",
            "1/4 [======>.......................] - ETA: 0s - loss: 0.4519 - accuracy: 0.8750WARNING:tensorflow:Early stopping conditioned on metric `val_acc` which is not available. Available metrics are: loss,accuracy,val_loss,val_accuracy\n",
            "4/4 [==============================] - 0s 11ms/step - loss: 0.3219 - accuracy: 0.9143 - val_loss: 0.3536 - val_accuracy: 0.8596\n",
            "Epoch 2/200\n",
            "1/4 [======>.......................] - ETA: 0s - loss: 0.1975 - accuracy: 0.9375WARNING:tensorflow:Early stopping conditioned on metric `val_acc` which is not available. Available metrics are: loss,accuracy,val_loss,val_accuracy\n",
            "4/4 [==============================] - 0s 10ms/step - loss: 0.1965 - accuracy: 0.9451 - val_loss: 0.2355 - val_accuracy: 0.9386\n",
            "Epoch 3/200\n",
            "1/4 [======>.......................] - ETA: 0s - loss: 0.2667 - accuracy: 0.9297WARNING:tensorflow:Early stopping conditioned on metric `val_acc` which is not available. Available metrics are: loss,accuracy,val_loss,val_accuracy\n",
            "4/4 [==============================] - 0s 11ms/step - loss: 0.2188 - accuracy: 0.9407 - val_loss: 0.3645 - val_accuracy: 0.8596\n",
            "Epoch 4/200\n",
            "1/4 [======>.......................] - ETA: 0s - loss: 0.2376 - accuracy: 0.8984WARNING:tensorflow:Early stopping conditioned on metric `val_acc` which is not available. Available metrics are: loss,accuracy,val_loss,val_accuracy\n",
            "4/4 [==============================] - 0s 11ms/step - loss: 0.2277 - accuracy: 0.9275 - val_loss: 0.3478 - val_accuracy: 0.8596\n",
            "Epoch 5/200\n",
            "1/4 [======>.......................] - ETA: 0s - loss: 0.2082 - accuracy: 0.9297WARNING:tensorflow:Early stopping conditioned on metric `val_acc` which is not available. Available metrics are: loss,accuracy,val_loss,val_accuracy\n",
            "4/4 [==============================] - 0s 11ms/step - loss: 0.3064 - accuracy: 0.9055 - val_loss: 0.3515 - val_accuracy: 0.9298\n",
            "Epoch 6/200\n",
            "1/4 [======>.......................] - ETA: 0s - loss: 0.3584 - accuracy: 0.9219WARNING:tensorflow:Early stopping conditioned on metric `val_acc` which is not available. Available metrics are: loss,accuracy,val_loss,val_accuracy\n",
            "4/4 [==============================] - 0s 11ms/step - loss: 0.3714 - accuracy: 0.9099 - val_loss: 0.2038 - val_accuracy: 0.9386\n",
            "Epoch 7/200\n",
            "1/4 [======>.......................] - ETA: 0s - loss: 0.1206 - accuracy: 0.9453WARNING:tensorflow:Early stopping conditioned on metric `val_acc` which is not available. Available metrics are: loss,accuracy,val_loss,val_accuracy\n",
            "4/4 [==============================] - 0s 13ms/step - loss: 0.3142 - accuracy: 0.9209 - val_loss: 1.0097 - val_accuracy: 0.6842\n",
            "Epoch 8/200\n",
            "1/4 [======>.......................] - ETA: 0s - loss: 0.3841 - accuracy: 0.8750WARNING:tensorflow:Early stopping conditioned on metric `val_acc` which is not available. Available metrics are: loss,accuracy,val_loss,val_accuracy\n",
            "4/4 [==============================] - 0s 11ms/step - loss: 0.3263 - accuracy: 0.9077 - val_loss: 0.1890 - val_accuracy: 0.9474\n",
            "Epoch 9/200\n",
            "1/4 [======>.......................] - ETA: 0s - loss: 0.2003 - accuracy: 0.9219WARNING:tensorflow:Early stopping conditioned on metric `val_acc` which is not available. Available metrics are: loss,accuracy,val_loss,val_accuracy\n",
            "4/4 [==============================] - 0s 12ms/step - loss: 0.2194 - accuracy: 0.9319 - val_loss: 0.3099 - val_accuracy: 0.9474\n",
            "Epoch 10/200\n",
            "1/4 [======>.......................] - ETA: 0s - loss: 0.5672 - accuracy: 0.8828WARNING:tensorflow:Early stopping conditioned on metric `val_acc` which is not available. Available metrics are: loss,accuracy,val_loss,val_accuracy\n",
            "4/4 [==============================] - 0s 12ms/step - loss: 0.4545 - accuracy: 0.8967 - val_loss: 0.3168 - val_accuracy: 0.8860\n",
            "Epoch 11/200\n",
            "1/4 [======>.......................] - ETA: 0s - loss: 0.1566 - accuracy: 0.9297WARNING:tensorflow:Early stopping conditioned on metric `val_acc` which is not available. Available metrics are: loss,accuracy,val_loss,val_accuracy\n",
            "4/4 [==============================] - 0s 11ms/step - loss: 0.3691 - accuracy: 0.8923 - val_loss: 1.4639 - val_accuracy: 0.6053\n",
            "Epoch 12/200\n",
            "1/4 [======>.......................] - ETA: 0s - loss: 0.6622 - accuracy: 0.7891WARNING:tensorflow:Early stopping conditioned on metric `val_acc` which is not available. Available metrics are: loss,accuracy,val_loss,val_accuracy\n",
            "4/4 [==============================] - 0s 11ms/step - loss: 0.3514 - accuracy: 0.8879 - val_loss: 0.2462 - val_accuracy: 0.9386\n",
            "Epoch 13/200\n",
            "1/4 [======>.......................] - ETA: 0s - loss: 0.1374 - accuracy: 0.9531WARNING:tensorflow:Early stopping conditioned on metric `val_acc` which is not available. Available metrics are: loss,accuracy,val_loss,val_accuracy\n",
            "4/4 [==============================] - 0s 11ms/step - loss: 0.2161 - accuracy: 0.9297 - val_loss: 0.2449 - val_accuracy: 0.9211\n",
            "Epoch 14/200\n",
            "1/4 [======>.......................] - ETA: 0s - loss: 0.0811 - accuracy: 0.9688WARNING:tensorflow:Early stopping conditioned on metric `val_acc` which is not available. Available metrics are: loss,accuracy,val_loss,val_accuracy\n",
            "4/4 [==============================] - 0s 10ms/step - loss: 0.1876 - accuracy: 0.9429 - val_loss: 0.2291 - val_accuracy: 0.9298\n",
            "Epoch 15/200\n",
            "1/4 [======>.......................] - ETA: 0s - loss: 0.1108 - accuracy: 0.9609WARNING:tensorflow:Early stopping conditioned on metric `val_acc` which is not available. Available metrics are: loss,accuracy,val_loss,val_accuracy\n",
            "4/4 [==============================] - 0s 11ms/step - loss: 0.1937 - accuracy: 0.9407 - val_loss: 0.5639 - val_accuracy: 0.8246\n",
            "Epoch 16/200\n",
            "1/4 [======>.......................] - ETA: 0s - loss: 0.3382 - accuracy: 0.9062WARNING:tensorflow:Early stopping conditioned on metric `val_acc` which is not available. Available metrics are: loss,accuracy,val_loss,val_accuracy\n",
            "4/4 [==============================] - 0s 10ms/step - loss: 0.2148 - accuracy: 0.9253 - val_loss: 0.1826 - val_accuracy: 0.9386\n",
            "Epoch 17/200\n",
            "1/4 [======>.......................] - ETA: 0s - loss: 0.1568 - accuracy: 0.9453WARNING:tensorflow:Early stopping conditioned on metric `val_acc` which is not available. Available metrics are: loss,accuracy,val_loss,val_accuracy\n",
            "4/4 [==============================] - 0s 13ms/step - loss: 0.1838 - accuracy: 0.9429 - val_loss: 0.2055 - val_accuracy: 0.9386\n",
            "Epoch 18/200\n",
            "1/4 [======>.......................] - ETA: 0s - loss: 0.1410 - accuracy: 0.9141WARNING:tensorflow:Early stopping conditioned on metric `val_acc` which is not available. Available metrics are: loss,accuracy,val_loss,val_accuracy\n",
            "4/4 [==============================] - 0s 10ms/step - loss: 0.1583 - accuracy: 0.9407 - val_loss: 0.2442 - val_accuracy: 0.9123\n",
            "Epoch 19/200\n",
            "1/4 [======>.......................] - ETA: 0s - loss: 0.0630 - accuracy: 0.9844WARNING:tensorflow:Early stopping conditioned on metric `val_acc` which is not available. Available metrics are: loss,accuracy,val_loss,val_accuracy\n",
            "4/4 [==============================] - 0s 11ms/step - loss: 0.1730 - accuracy: 0.9473 - val_loss: 0.1661 - val_accuracy: 0.9386\n",
            "Epoch 20/200\n",
            "1/4 [======>.......................] - ETA: 0s - loss: 0.1394 - accuracy: 0.9453WARNING:tensorflow:Early stopping conditioned on metric `val_acc` which is not available. Available metrics are: loss,accuracy,val_loss,val_accuracy\n",
            "4/4 [==============================] - 0s 11ms/step - loss: 0.1506 - accuracy: 0.9429 - val_loss: 0.5696 - val_accuracy: 0.7895\n",
            "Epoch 21/200\n",
            "1/4 [======>.......................] - ETA: 0s - loss: 0.3549 - accuracy: 0.8750WARNING:tensorflow:Early stopping conditioned on metric `val_acc` which is not available. Available metrics are: loss,accuracy,val_loss,val_accuracy\n",
            "4/4 [==============================] - 0s 11ms/step - loss: 0.2942 - accuracy: 0.9121 - val_loss: 0.9288 - val_accuracy: 0.6491\n",
            "Epoch 22/200\n",
            "1/4 [======>.......................] - ETA: 0s - loss: 0.5471 - accuracy: 0.8281WARNING:tensorflow:Early stopping conditioned on metric `val_acc` which is not available. Available metrics are: loss,accuracy,val_loss,val_accuracy\n",
            "4/4 [==============================] - 0s 11ms/step - loss: 0.2652 - accuracy: 0.9077 - val_loss: 0.2039 - val_accuracy: 0.9386\n",
            "Epoch 23/200\n",
            "1/4 [======>.......................] - ETA: 0s - loss: 0.1246 - accuracy: 0.9453WARNING:tensorflow:Early stopping conditioned on metric `val_acc` which is not available. Available metrics are: loss,accuracy,val_loss,val_accuracy\n",
            "4/4 [==============================] - 0s 12ms/step - loss: 0.1506 - accuracy: 0.9451 - val_loss: 0.1781 - val_accuracy: 0.9386\n",
            "Epoch 24/200\n",
            "1/4 [======>.......................] - ETA: 0s - loss: 0.1849 - accuracy: 0.9297WARNING:tensorflow:Early stopping conditioned on metric `val_acc` which is not available. Available metrics are: loss,accuracy,val_loss,val_accuracy\n",
            "4/4 [==============================] - 0s 14ms/step - loss: 0.1801 - accuracy: 0.9187 - val_loss: 0.5015 - val_accuracy: 0.8070\n",
            "Epoch 25/200\n",
            "1/4 [======>.......................] - ETA: 0s - loss: 0.2249 - accuracy: 0.9062WARNING:tensorflow:Early stopping conditioned on metric `val_acc` which is not available. Available metrics are: loss,accuracy,val_loss,val_accuracy\n",
            "4/4 [==============================] - 0s 12ms/step - loss: 0.2059 - accuracy: 0.9275 - val_loss: 0.3171 - val_accuracy: 0.8860\n",
            "Epoch 26/200\n",
            "1/4 [======>.......................] - ETA: 0s - loss: 0.0594 - accuracy: 0.9844WARNING:tensorflow:Early stopping conditioned on metric `val_acc` which is not available. Available metrics are: loss,accuracy,val_loss,val_accuracy\n",
            "4/4 [==============================] - 0s 11ms/step - loss: 0.2053 - accuracy: 0.9319 - val_loss: 0.1695 - val_accuracy: 0.9298\n",
            "Epoch 27/200\n",
            "1/4 [======>.......................] - ETA: 0s - loss: 0.1758 - accuracy: 0.9453WARNING:tensorflow:Early stopping conditioned on metric `val_acc` which is not available. Available metrics are: loss,accuracy,val_loss,val_accuracy\n",
            "4/4 [==============================] - 0s 13ms/step - loss: 0.1627 - accuracy: 0.9341 - val_loss: 0.1781 - val_accuracy: 0.9386\n",
            "Epoch 28/200\n",
            "1/4 [======>.......................] - ETA: 0s - loss: 0.0821 - accuracy: 0.9453WARNING:tensorflow:Early stopping conditioned on metric `val_acc` which is not available. Available metrics are: loss,accuracy,val_loss,val_accuracy\n",
            "4/4 [==============================] - 0s 10ms/step - loss: 0.1415 - accuracy: 0.9385 - val_loss: 0.2816 - val_accuracy: 0.8860\n",
            "Epoch 29/200\n",
            "1/4 [======>.......................] - ETA: 0s - loss: 0.2109 - accuracy: 0.9297WARNING:tensorflow:Early stopping conditioned on metric `val_acc` which is not available. Available metrics are: loss,accuracy,val_loss,val_accuracy\n",
            "4/4 [==============================] - 0s 11ms/step - loss: 0.1622 - accuracy: 0.9385 - val_loss: 0.3125 - val_accuracy: 0.8860\n",
            "Epoch 30/200\n",
            "1/4 [======>.......................] - ETA: 0s - loss: 0.1259 - accuracy: 0.9453WARNING:tensorflow:Early stopping conditioned on metric `val_acc` which is not available. Available metrics are: loss,accuracy,val_loss,val_accuracy\n",
            "4/4 [==============================] - 0s 12ms/step - loss: 0.1438 - accuracy: 0.9407 - val_loss: 0.2799 - val_accuracy: 0.8947\n",
            "Epoch 31/200\n",
            "1/4 [======>.......................] - ETA: 0s - loss: 0.1405 - accuracy: 0.9531WARNING:tensorflow:Early stopping conditioned on metric `val_acc` which is not available. Available metrics are: loss,accuracy,val_loss,val_accuracy\n",
            "4/4 [==============================] - 0s 10ms/step - loss: 0.1349 - accuracy: 0.9473 - val_loss: 0.1570 - val_accuracy: 0.9474\n",
            "Epoch 32/200\n",
            "1/4 [======>.......................] - ETA: 0s - loss: 0.1230 - accuracy: 0.9375WARNING:tensorflow:Early stopping conditioned on metric `val_acc` which is not available. Available metrics are: loss,accuracy,val_loss,val_accuracy\n",
            "4/4 [==============================] - 0s 10ms/step - loss: 0.1384 - accuracy: 0.9451 - val_loss: 0.1712 - val_accuracy: 0.9474\n",
            "Epoch 33/200\n",
            "1/4 [======>.......................] - ETA: 0s - loss: 0.1768 - accuracy: 0.9297WARNING:tensorflow:Early stopping conditioned on metric `val_acc` which is not available. Available metrics are: loss,accuracy,val_loss,val_accuracy\n",
            "4/4 [==============================] - 0s 10ms/step - loss: 0.1145 - accuracy: 0.9429 - val_loss: 0.1921 - val_accuracy: 0.9386\n",
            "Epoch 34/200\n",
            "1/4 [======>.......................] - ETA: 0s - loss: 0.0918 - accuracy: 0.9531WARNING:tensorflow:Early stopping conditioned on metric `val_acc` which is not available. Available metrics are: loss,accuracy,val_loss,val_accuracy\n",
            "4/4 [==============================] - 0s 10ms/step - loss: 0.1321 - accuracy: 0.9538 - val_loss: 0.1578 - val_accuracy: 0.9561\n",
            "Epoch 35/200\n",
            "1/4 [======>.......................] - ETA: 0s - loss: 0.0975 - accuracy: 0.9531WARNING:tensorflow:Early stopping conditioned on metric `val_acc` which is not available. Available metrics are: loss,accuracy,val_loss,val_accuracy\n",
            "4/4 [==============================] - 0s 11ms/step - loss: 0.1401 - accuracy: 0.9451 - val_loss: 0.1449 - val_accuracy: 0.9561\n",
            "Epoch 36/200\n",
            "1/4 [======>.......................] - ETA: 0s - loss: 0.0616 - accuracy: 0.9844WARNING:tensorflow:Early stopping conditioned on metric `val_acc` which is not available. Available metrics are: loss,accuracy,val_loss,val_accuracy\n",
            "4/4 [==============================] - 0s 12ms/step - loss: 0.1324 - accuracy: 0.9429 - val_loss: 0.2232 - val_accuracy: 0.9298\n",
            "Epoch 37/200\n",
            "1/4 [======>.......................] - ETA: 0s - loss: 0.1233 - accuracy: 0.9688WARNING:tensorflow:Early stopping conditioned on metric `val_acc` which is not available. Available metrics are: loss,accuracy,val_loss,val_accuracy\n",
            "4/4 [==============================] - 0s 11ms/step - loss: 0.1585 - accuracy: 0.9495 - val_loss: 0.1740 - val_accuracy: 0.9474\n",
            "Epoch 38/200\n",
            "1/4 [======>.......................] - ETA: 0s - loss: 0.1265 - accuracy: 0.9531WARNING:tensorflow:Early stopping conditioned on metric `val_acc` which is not available. Available metrics are: loss,accuracy,val_loss,val_accuracy\n",
            "4/4 [==============================] - 0s 11ms/step - loss: 0.1490 - accuracy: 0.9363 - val_loss: 0.4144 - val_accuracy: 0.8070\n",
            "Epoch 39/200\n",
            "1/4 [======>.......................] - ETA: 0s - loss: 0.1728 - accuracy: 0.9297WARNING:tensorflow:Early stopping conditioned on metric `val_acc` which is not available. Available metrics are: loss,accuracy,val_loss,val_accuracy\n",
            "4/4 [==============================] - 0s 10ms/step - loss: 0.2272 - accuracy: 0.9209 - val_loss: 0.5215 - val_accuracy: 0.7719\n",
            "Epoch 40/200\n",
            "1/4 [======>.......................] - ETA: 0s - loss: 0.2534 - accuracy: 0.8828WARNING:tensorflow:Early stopping conditioned on metric `val_acc` which is not available. Available metrics are: loss,accuracy,val_loss,val_accuracy\n",
            "4/4 [==============================] - 0s 11ms/step - loss: 0.1733 - accuracy: 0.9253 - val_loss: 0.5919 - val_accuracy: 0.7456\n",
            "Epoch 41/200\n",
            "1/4 [======>.......................] - ETA: 0s - loss: 0.2474 - accuracy: 0.8984WARNING:tensorflow:Early stopping conditioned on metric `val_acc` which is not available. Available metrics are: loss,accuracy,val_loss,val_accuracy\n",
            "4/4 [==============================] - 0s 12ms/step - loss: 0.1684 - accuracy: 0.9341 - val_loss: 0.2482 - val_accuracy: 0.9123\n",
            "Epoch 42/200\n",
            "1/4 [======>.......................] - ETA: 0s - loss: 0.1615 - accuracy: 0.9375WARNING:tensorflow:Early stopping conditioned on metric `val_acc` which is not available. Available metrics are: loss,accuracy,val_loss,val_accuracy\n",
            "4/4 [==============================] - 0s 10ms/step - loss: 0.1265 - accuracy: 0.9429 - val_loss: 0.2677 - val_accuracy: 0.8860\n",
            "Epoch 43/200\n",
            "1/4 [======>.......................] - ETA: 0s - loss: 0.1659 - accuracy: 0.9531WARNING:tensorflow:Early stopping conditioned on metric `val_acc` which is not available. Available metrics are: loss,accuracy,val_loss,val_accuracy\n",
            "4/4 [==============================] - 0s 11ms/step - loss: 0.1266 - accuracy: 0.9495 - val_loss: 0.4831 - val_accuracy: 0.7895\n",
            "Epoch 44/200\n",
            "1/4 [======>.......................] - ETA: 0s - loss: 0.2372 - accuracy: 0.9375WARNING:tensorflow:Early stopping conditioned on metric `val_acc` which is not available. Available metrics are: loss,accuracy,val_loss,val_accuracy\n",
            "4/4 [==============================] - 0s 11ms/step - loss: 0.1936 - accuracy: 0.9385 - val_loss: 0.2070 - val_accuracy: 0.9298\n",
            "Epoch 45/200\n",
            "1/4 [======>.......................] - ETA: 0s - loss: 0.0682 - accuracy: 0.9844WARNING:tensorflow:Early stopping conditioned on metric `val_acc` which is not available. Available metrics are: loss,accuracy,val_loss,val_accuracy\n",
            "4/4 [==============================] - 0s 12ms/step - loss: 0.2101 - accuracy: 0.9363 - val_loss: 0.2136 - val_accuracy: 0.9123\n",
            "Epoch 46/200\n",
            "1/4 [======>.......................] - ETA: 0s - loss: 0.0790 - accuracy: 0.9531WARNING:tensorflow:Early stopping conditioned on metric `val_acc` which is not available. Available metrics are: loss,accuracy,val_loss,val_accuracy\n",
            "4/4 [==============================] - 0s 13ms/step - loss: 0.1750 - accuracy: 0.9275 - val_loss: 0.1481 - val_accuracy: 0.9561\n",
            "Epoch 47/200\n",
            "1/4 [======>.......................] - ETA: 0s - loss: 0.2372 - accuracy: 0.9219WARNING:tensorflow:Early stopping conditioned on metric `val_acc` which is not available. Available metrics are: loss,accuracy,val_loss,val_accuracy\n",
            "4/4 [==============================] - 0s 10ms/step - loss: 0.1785 - accuracy: 0.9319 - val_loss: 0.2067 - val_accuracy: 0.9386\n",
            "Epoch 48/200\n",
            "1/4 [======>.......................] - ETA: 0s - loss: 0.2637 - accuracy: 0.9297WARNING:tensorflow:Early stopping conditioned on metric `val_acc` which is not available. Available metrics are: loss,accuracy,val_loss,val_accuracy\n",
            "4/4 [==============================] - 0s 11ms/step - loss: 0.2092 - accuracy: 0.9253 - val_loss: 0.1291 - val_accuracy: 0.9386\n",
            "Epoch 49/200\n",
            "1/4 [======>.......................] - ETA: 0s - loss: 0.1094 - accuracy: 0.9453WARNING:tensorflow:Early stopping conditioned on metric `val_acc` which is not available. Available metrics are: loss,accuracy,val_loss,val_accuracy\n",
            "4/4 [==============================] - 0s 10ms/step - loss: 0.1734 - accuracy: 0.9407 - val_loss: 0.1319 - val_accuracy: 0.9474\n",
            "Epoch 50/200\n",
            "1/4 [======>.......................] - ETA: 0s - loss: 0.0873 - accuracy: 0.9609WARNING:tensorflow:Early stopping conditioned on metric `val_acc` which is not available. Available metrics are: loss,accuracy,val_loss,val_accuracy\n",
            "4/4 [==============================] - 0s 11ms/step - loss: 0.1681 - accuracy: 0.9385 - val_loss: 0.3682 - val_accuracy: 0.8509\n",
            "Epoch 51/200\n",
            "1/4 [======>.......................] - ETA: 0s - loss: 0.1195 - accuracy: 0.9609WARNING:tensorflow:Early stopping conditioned on metric `val_acc` which is not available. Available metrics are: loss,accuracy,val_loss,val_accuracy\n",
            "4/4 [==============================] - 0s 10ms/step - loss: 0.1605 - accuracy: 0.9407 - val_loss: 0.6165 - val_accuracy: 0.7544\n",
            "Epoch 52/200\n",
            "1/4 [======>.......................] - ETA: 0s - loss: 0.2937 - accuracy: 0.8594WARNING:tensorflow:Early stopping conditioned on metric `val_acc` which is not available. Available metrics are: loss,accuracy,val_loss,val_accuracy\n",
            "4/4 [==============================] - 0s 11ms/step - loss: 0.1679 - accuracy: 0.9253 - val_loss: 0.1433 - val_accuracy: 0.9561\n",
            "Epoch 53/200\n",
            "1/4 [======>.......................] - ETA: 0s - loss: 0.0638 - accuracy: 0.9688WARNING:tensorflow:Early stopping conditioned on metric `val_acc` which is not available. Available metrics are: loss,accuracy,val_loss,val_accuracy\n",
            "4/4 [==============================] - 0s 11ms/step - loss: 0.1328 - accuracy: 0.9429 - val_loss: 0.1450 - val_accuracy: 0.9474\n",
            "Epoch 54/200\n",
            "1/4 [======>.......................] - ETA: 0s - loss: 0.1237 - accuracy: 0.9453WARNING:tensorflow:Early stopping conditioned on metric `val_acc` which is not available. Available metrics are: loss,accuracy,val_loss,val_accuracy\n",
            "4/4 [==============================] - 0s 10ms/step - loss: 0.1421 - accuracy: 0.9495 - val_loss: 0.1319 - val_accuracy: 0.9474\n",
            "Epoch 55/200\n",
            "1/4 [======>.......................] - ETA: 0s - loss: 0.1650 - accuracy: 0.9297WARNING:tensorflow:Early stopping conditioned on metric `val_acc` which is not available. Available metrics are: loss,accuracy,val_loss,val_accuracy\n",
            "4/4 [==============================] - 0s 11ms/step - loss: 0.1634 - accuracy: 0.9385 - val_loss: 0.1409 - val_accuracy: 0.9561\n",
            "Epoch 56/200\n",
            "1/4 [======>.......................] - ETA: 0s - loss: 0.1352 - accuracy: 0.9453WARNING:tensorflow:Early stopping conditioned on metric `val_acc` which is not available. Available metrics are: loss,accuracy,val_loss,val_accuracy\n",
            "4/4 [==============================] - 0s 12ms/step - loss: 0.2463 - accuracy: 0.9187 - val_loss: 0.1528 - val_accuracy: 0.9474\n",
            "Epoch 57/200\n",
            "1/4 [======>.......................] - ETA: 0s - loss: 0.1387 - accuracy: 0.9453WARNING:tensorflow:Early stopping conditioned on metric `val_acc` which is not available. Available metrics are: loss,accuracy,val_loss,val_accuracy\n",
            "4/4 [==============================] - 0s 11ms/step - loss: 0.2214 - accuracy: 0.9209 - val_loss: 0.6567 - val_accuracy: 0.7456\n",
            "Epoch 58/200\n",
            "1/4 [======>.......................] - ETA: 0s - loss: 0.2570 - accuracy: 0.8984WARNING:tensorflow:Early stopping conditioned on metric `val_acc` which is not available. Available metrics are: loss,accuracy,val_loss,val_accuracy\n",
            "4/4 [==============================] - 0s 11ms/step - loss: 0.1843 - accuracy: 0.9275 - val_loss: 0.2725 - val_accuracy: 0.8860\n",
            "Epoch 59/200\n",
            "1/4 [======>.......................] - ETA: 0s - loss: 0.1418 - accuracy: 0.9297WARNING:tensorflow:Early stopping conditioned on metric `val_acc` which is not available. Available metrics are: loss,accuracy,val_loss,val_accuracy\n",
            "4/4 [==============================] - 0s 11ms/step - loss: 0.1389 - accuracy: 0.9385 - val_loss: 0.2000 - val_accuracy: 0.9211\n",
            "Epoch 60/200\n",
            "1/4 [======>.......................] - ETA: 0s - loss: 0.1647 - accuracy: 0.9219WARNING:tensorflow:Early stopping conditioned on metric `val_acc` which is not available. Available metrics are: loss,accuracy,val_loss,val_accuracy\n",
            "4/4 [==============================] - 0s 10ms/step - loss: 0.1413 - accuracy: 0.9363 - val_loss: 0.3028 - val_accuracy: 0.8772\n",
            "Epoch 61/200\n",
            "1/4 [======>.......................] - ETA: 0s - loss: 0.0963 - accuracy: 0.9688WARNING:tensorflow:Early stopping conditioned on metric `val_acc` which is not available. Available metrics are: loss,accuracy,val_loss,val_accuracy\n",
            "4/4 [==============================] - 0s 10ms/step - loss: 0.1337 - accuracy: 0.9560 - val_loss: 0.4167 - val_accuracy: 0.8246\n",
            "Epoch 62/200\n",
            "1/4 [======>.......................] - ETA: 0s - loss: 0.0744 - accuracy: 0.9844WARNING:tensorflow:Early stopping conditioned on metric `val_acc` which is not available. Available metrics are: loss,accuracy,val_loss,val_accuracy\n",
            "4/4 [==============================] - 0s 10ms/step - loss: 0.2764 - accuracy: 0.9077 - val_loss: 0.4892 - val_accuracy: 0.7895\n",
            "Epoch 63/200\n",
            "1/4 [======>.......................] - ETA: 0s - loss: 0.2509 - accuracy: 0.8828WARNING:tensorflow:Early stopping conditioned on metric `val_acc` which is not available. Available metrics are: loss,accuracy,val_loss,val_accuracy\n",
            "4/4 [==============================] - 0s 11ms/step - loss: 0.1838 - accuracy: 0.9231 - val_loss: 0.1446 - val_accuracy: 0.9561\n",
            "Epoch 64/200\n",
            "1/4 [======>.......................] - ETA: 0s - loss: 0.1491 - accuracy: 0.9531WARNING:tensorflow:Early stopping conditioned on metric `val_acc` which is not available. Available metrics are: loss,accuracy,val_loss,val_accuracy\n",
            "4/4 [==============================] - 0s 10ms/step - loss: 0.1533 - accuracy: 0.9429 - val_loss: 0.1490 - val_accuracy: 0.9386\n",
            "Epoch 65/200\n",
            "1/4 [======>.......................] - ETA: 0s - loss: 0.1454 - accuracy: 0.9609WARNING:tensorflow:Early stopping conditioned on metric `val_acc` which is not available. Available metrics are: loss,accuracy,val_loss,val_accuracy\n",
            "4/4 [==============================] - 0s 13ms/step - loss: 0.1729 - accuracy: 0.9341 - val_loss: 0.1482 - val_accuracy: 0.9474\n",
            "Epoch 66/200\n",
            "1/4 [======>.......................] - ETA: 0s - loss: 0.1080 - accuracy: 0.9609WARNING:tensorflow:Early stopping conditioned on metric `val_acc` which is not available. Available metrics are: loss,accuracy,val_loss,val_accuracy\n",
            "4/4 [==============================] - 0s 11ms/step - loss: 0.1934 - accuracy: 0.9319 - val_loss: 0.1683 - val_accuracy: 0.9474\n",
            "Epoch 67/200\n",
            "1/4 [======>.......................] - ETA: 0s - loss: 0.1412 - accuracy: 0.9453WARNING:tensorflow:Early stopping conditioned on metric `val_acc` which is not available. Available metrics are: loss,accuracy,val_loss,val_accuracy\n",
            "4/4 [==============================] - 0s 10ms/step - loss: 0.1439 - accuracy: 0.9495 - val_loss: 0.2387 - val_accuracy: 0.9123\n",
            "Epoch 68/200\n",
            "1/4 [======>.......................] - ETA: 0s - loss: 0.1065 - accuracy: 0.9375WARNING:tensorflow:Early stopping conditioned on metric `val_acc` which is not available. Available metrics are: loss,accuracy,val_loss,val_accuracy\n",
            "4/4 [==============================] - 0s 10ms/step - loss: 0.1092 - accuracy: 0.9560 - val_loss: 0.2402 - val_accuracy: 0.9123\n",
            "Epoch 69/200\n",
            "1/4 [======>.......................] - ETA: 0s - loss: 0.1320 - accuracy: 0.9453WARNING:tensorflow:Early stopping conditioned on metric `val_acc` which is not available. Available metrics are: loss,accuracy,val_loss,val_accuracy\n",
            "4/4 [==============================] - 0s 12ms/step - loss: 0.1190 - accuracy: 0.9516 - val_loss: 0.2223 - val_accuracy: 0.9123\n",
            "Epoch 70/200\n",
            "1/4 [======>.......................] - ETA: 0s - loss: 0.1039 - accuracy: 0.9609WARNING:tensorflow:Early stopping conditioned on metric `val_acc` which is not available. Available metrics are: loss,accuracy,val_loss,val_accuracy\n",
            "4/4 [==============================] - 0s 11ms/step - loss: 0.1188 - accuracy: 0.9538 - val_loss: 0.1350 - val_accuracy: 0.9474\n",
            "Epoch 71/200\n",
            "1/4 [======>.......................] - ETA: 0s - loss: 0.1104 - accuracy: 0.9609WARNING:tensorflow:Early stopping conditioned on metric `val_acc` which is not available. Available metrics are: loss,accuracy,val_loss,val_accuracy\n",
            "4/4 [==============================] - 0s 10ms/step - loss: 0.1529 - accuracy: 0.9319 - val_loss: 0.1319 - val_accuracy: 0.9386\n",
            "Epoch 72/200\n",
            "1/4 [======>.......................] - ETA: 0s - loss: 0.1963 - accuracy: 0.9297WARNING:tensorflow:Early stopping conditioned on metric `val_acc` which is not available. Available metrics are: loss,accuracy,val_loss,val_accuracy\n",
            "4/4 [==============================] - 0s 11ms/step - loss: 0.1380 - accuracy: 0.9429 - val_loss: 0.1708 - val_accuracy: 0.9298\n",
            "Epoch 73/200\n",
            "1/4 [======>.......................] - ETA: 0s - loss: 0.1132 - accuracy: 0.9531WARNING:tensorflow:Early stopping conditioned on metric `val_acc` which is not available. Available metrics are: loss,accuracy,val_loss,val_accuracy\n",
            "4/4 [==============================] - 0s 11ms/step - loss: 0.1155 - accuracy: 0.9560 - val_loss: 0.3382 - val_accuracy: 0.8684\n",
            "Epoch 74/200\n",
            "1/4 [======>.......................] - ETA: 0s - loss: 0.1236 - accuracy: 0.9609WARNING:tensorflow:Early stopping conditioned on metric `val_acc` which is not available. Available metrics are: loss,accuracy,val_loss,val_accuracy\n",
            "4/4 [==============================] - 0s 10ms/step - loss: 0.1225 - accuracy: 0.9538 - val_loss: 0.2465 - val_accuracy: 0.9211\n",
            "Epoch 75/200\n",
            "1/4 [======>.......................] - ETA: 0s - loss: 0.1227 - accuracy: 0.9453WARNING:tensorflow:Early stopping conditioned on metric `val_acc` which is not available. Available metrics are: loss,accuracy,val_loss,val_accuracy\n",
            "4/4 [==============================] - 0s 13ms/step - loss: 0.1110 - accuracy: 0.9516 - val_loss: 0.1420 - val_accuracy: 0.9474\n",
            "Epoch 76/200\n",
            "1/4 [======>.......................] - ETA: 0s - loss: 0.0907 - accuracy: 0.9609WARNING:tensorflow:Early stopping conditioned on metric `val_acc` which is not available. Available metrics are: loss,accuracy,val_loss,val_accuracy\n",
            "4/4 [==============================] - 0s 14ms/step - loss: 0.1061 - accuracy: 0.9560 - val_loss: 0.1339 - val_accuracy: 0.9561\n",
            "Epoch 77/200\n",
            "1/4 [======>.......................] - ETA: 0s - loss: 0.1428 - accuracy: 0.9297WARNING:tensorflow:Early stopping conditioned on metric `val_acc` which is not available. Available metrics are: loss,accuracy,val_loss,val_accuracy\n",
            "4/4 [==============================] - 0s 11ms/step - loss: 0.1314 - accuracy: 0.9407 - val_loss: 0.1276 - val_accuracy: 0.9386\n",
            "Epoch 78/200\n",
            "1/4 [======>.......................] - ETA: 0s - loss: 0.1529 - accuracy: 0.9453WARNING:tensorflow:Early stopping conditioned on metric `val_acc` which is not available. Available metrics are: loss,accuracy,val_loss,val_accuracy\n",
            "4/4 [==============================] - 0s 11ms/step - loss: 0.1089 - accuracy: 0.9604 - val_loss: 0.1438 - val_accuracy: 0.9386\n",
            "Epoch 79/200\n",
            "1/4 [======>.......................] - ETA: 0s - loss: 0.1429 - accuracy: 0.9453WARNING:tensorflow:Early stopping conditioned on metric `val_acc` which is not available. Available metrics are: loss,accuracy,val_loss,val_accuracy\n",
            "4/4 [==============================] - 0s 11ms/step - loss: 0.1140 - accuracy: 0.9516 - val_loss: 0.7073 - val_accuracy: 0.7105\n",
            "Epoch 80/200\n",
            "1/4 [======>.......................] - ETA: 0s - loss: 0.3543 - accuracy: 0.8750WARNING:tensorflow:Early stopping conditioned on metric `val_acc` which is not available. Available metrics are: loss,accuracy,val_loss,val_accuracy\n",
            "4/4 [==============================] - 0s 10ms/step - loss: 0.2806 - accuracy: 0.9055 - val_loss: 1.0476 - val_accuracy: 0.6579\n",
            "Epoch 81/200\n",
            "1/4 [======>.......................] - ETA: 0s - loss: 0.5922 - accuracy: 0.8047WARNING:tensorflow:Early stopping conditioned on metric `val_acc` which is not available. Available metrics are: loss,accuracy,val_loss,val_accuracy\n",
            "4/4 [==============================] - 0s 10ms/step - loss: 0.3208 - accuracy: 0.8857 - val_loss: 0.5073 - val_accuracy: 0.7895\n",
            "Epoch 82/200\n",
            "1/4 [======>.......................] - ETA: 0s - loss: 0.2426 - accuracy: 0.8906WARNING:tensorflow:Early stopping conditioned on metric `val_acc` which is not available. Available metrics are: loss,accuracy,val_loss,val_accuracy\n",
            "4/4 [==============================] - 0s 11ms/step - loss: 0.1735 - accuracy: 0.9341 - val_loss: 0.3634 - val_accuracy: 0.8684\n",
            "Epoch 83/200\n",
            "1/4 [======>.......................] - ETA: 0s - loss: 0.0862 - accuracy: 0.9766WARNING:tensorflow:Early stopping conditioned on metric `val_acc` which is not available. Available metrics are: loss,accuracy,val_loss,val_accuracy\n",
            "4/4 [==============================] - 0s 10ms/step - loss: 0.1294 - accuracy: 0.9604 - val_loss: 0.1332 - val_accuracy: 0.9474\n",
            "Epoch 84/200\n",
            "1/4 [======>.......................] - ETA: 0s - loss: 0.0860 - accuracy: 0.9609WARNING:tensorflow:Early stopping conditioned on metric `val_acc` which is not available. Available metrics are: loss,accuracy,val_loss,val_accuracy\n",
            "4/4 [==============================] - 0s 11ms/step - loss: 0.1464 - accuracy: 0.9385 - val_loss: 0.1673 - val_accuracy: 0.9561\n",
            "Epoch 85/200\n",
            "1/4 [======>.......................] - ETA: 0s - loss: 0.1669 - accuracy: 0.9297WARNING:tensorflow:Early stopping conditioned on metric `val_acc` which is not available. Available metrics are: loss,accuracy,val_loss,val_accuracy\n",
            "4/4 [==============================] - 0s 12ms/step - loss: 0.2150 - accuracy: 0.9297 - val_loss: 0.1766 - val_accuracy: 0.9298\n",
            "Epoch 86/200\n",
            "1/4 [======>.......................] - ETA: 0s - loss: 0.1415 - accuracy: 0.9688WARNING:tensorflow:Early stopping conditioned on metric `val_acc` which is not available. Available metrics are: loss,accuracy,val_loss,val_accuracy\n",
            "4/4 [==============================] - 0s 11ms/step - loss: 0.1937 - accuracy: 0.9451 - val_loss: 0.2227 - val_accuracy: 0.9211\n",
            "Epoch 87/200\n",
            "1/4 [======>.......................] - ETA: 0s - loss: 0.1344 - accuracy: 0.9375WARNING:tensorflow:Early stopping conditioned on metric `val_acc` which is not available. Available metrics are: loss,accuracy,val_loss,val_accuracy\n",
            "4/4 [==============================] - 0s 11ms/step - loss: 0.2032 - accuracy: 0.9341 - val_loss: 0.5413 - val_accuracy: 0.7895\n",
            "Epoch 88/200\n",
            "1/4 [======>.......................] - ETA: 0s - loss: 0.1904 - accuracy: 0.9141WARNING:tensorflow:Early stopping conditioned on metric `val_acc` which is not available. Available metrics are: loss,accuracy,val_loss,val_accuracy\n",
            "4/4 [==============================] - 0s 12ms/step - loss: 0.2105 - accuracy: 0.9297 - val_loss: 0.8579 - val_accuracy: 0.7105\n",
            "Epoch 89/200\n",
            "1/4 [======>.......................] - ETA: 0s - loss: 0.3856 - accuracy: 0.8750WARNING:tensorflow:Early stopping conditioned on metric `val_acc` which is not available. Available metrics are: loss,accuracy,val_loss,val_accuracy\n",
            "4/4 [==============================] - 0s 11ms/step - loss: 0.2249 - accuracy: 0.9165 - val_loss: 0.1447 - val_accuracy: 0.9474\n",
            "Epoch 90/200\n",
            "1/4 [======>.......................] - ETA: 0s - loss: 0.1475 - accuracy: 0.9531WARNING:tensorflow:Early stopping conditioned on metric `val_acc` which is not available. Available metrics are: loss,accuracy,val_loss,val_accuracy\n",
            "4/4 [==============================] - 0s 11ms/step - loss: 0.1918 - accuracy: 0.9275 - val_loss: 0.2590 - val_accuracy: 0.9386\n",
            "Epoch 91/200\n",
            "1/4 [======>.......................] - ETA: 0s - loss: 0.4217 - accuracy: 0.8906WARNING:tensorflow:Early stopping conditioned on metric `val_acc` which is not available. Available metrics are: loss,accuracy,val_loss,val_accuracy\n",
            "4/4 [==============================] - 0s 10ms/step - loss: 0.2462 - accuracy: 0.9143 - val_loss: 0.1429 - val_accuracy: 0.9561\n",
            "Epoch 92/200\n",
            "1/4 [======>.......................] - ETA: 0s - loss: 0.0607 - accuracy: 0.9688WARNING:tensorflow:Early stopping conditioned on metric `val_acc` which is not available. Available metrics are: loss,accuracy,val_loss,val_accuracy\n",
            "4/4 [==============================] - 0s 10ms/step - loss: 0.2374 - accuracy: 0.9275 - val_loss: 0.3306 - val_accuracy: 0.8772\n",
            "Epoch 93/200\n",
            "1/4 [======>.......................] - ETA: 0s - loss: 0.1431 - accuracy: 0.9375WARNING:tensorflow:Early stopping conditioned on metric `val_acc` which is not available. Available metrics are: loss,accuracy,val_loss,val_accuracy\n",
            "4/4 [==============================] - 0s 11ms/step - loss: 0.1690 - accuracy: 0.9429 - val_loss: 0.7091 - val_accuracy: 0.7544\n",
            "Epoch 94/200\n",
            "1/4 [======>.......................] - ETA: 0s - loss: 0.2775 - accuracy: 0.8828WARNING:tensorflow:Early stopping conditioned on metric `val_acc` which is not available. Available metrics are: loss,accuracy,val_loss,val_accuracy\n",
            "4/4 [==============================] - 0s 12ms/step - loss: 0.2041 - accuracy: 0.9275 - val_loss: 0.2396 - val_accuracy: 0.9123\n",
            "Epoch 95/200\n",
            "1/4 [======>.......................] - ETA: 0s - loss: 0.1024 - accuracy: 0.9531WARNING:tensorflow:Early stopping conditioned on metric `val_acc` which is not available. Available metrics are: loss,accuracy,val_loss,val_accuracy\n",
            "4/4 [==============================] - 0s 11ms/step - loss: 0.1819 - accuracy: 0.9341 - val_loss: 0.2295 - val_accuracy: 0.9474\n",
            "Epoch 96/200\n",
            "1/4 [======>.......................] - ETA: 0s - loss: 0.3140 - accuracy: 0.9141WARNING:tensorflow:Early stopping conditioned on metric `val_acc` which is not available. Available metrics are: loss,accuracy,val_loss,val_accuracy\n",
            "4/4 [==============================] - 0s 11ms/step - loss: 0.2154 - accuracy: 0.9297 - val_loss: 0.1335 - val_accuracy: 0.9474\n",
            "Epoch 97/200\n",
            "1/4 [======>.......................] - ETA: 0s - loss: 0.0851 - accuracy: 0.9688WARNING:tensorflow:Early stopping conditioned on metric `val_acc` which is not available. Available metrics are: loss,accuracy,val_loss,val_accuracy\n",
            "4/4 [==============================] - 0s 11ms/step - loss: 0.1940 - accuracy: 0.9407 - val_loss: 0.1818 - val_accuracy: 0.9298\n",
            "Epoch 98/200\n",
            "1/4 [======>.......................] - ETA: 0s - loss: 0.0872 - accuracy: 0.9609WARNING:tensorflow:Early stopping conditioned on metric `val_acc` which is not available. Available metrics are: loss,accuracy,val_loss,val_accuracy\n",
            "4/4 [==============================] - 0s 11ms/step - loss: 0.1830 - accuracy: 0.9363 - val_loss: 0.7895 - val_accuracy: 0.7456\n",
            "Epoch 99/200\n",
            "1/4 [======>.......................] - ETA: 0s - loss: 0.4134 - accuracy: 0.8594WARNING:tensorflow:Early stopping conditioned on metric `val_acc` which is not available. Available metrics are: loss,accuracy,val_loss,val_accuracy\n",
            "4/4 [==============================] - 0s 10ms/step - loss: 0.2706 - accuracy: 0.9121 - val_loss: 0.8775 - val_accuracy: 0.7105\n",
            "Epoch 100/200\n",
            "1/4 [======>.......................] - ETA: 0s - loss: 0.3109 - accuracy: 0.8984WARNING:tensorflow:Early stopping conditioned on metric `val_acc` which is not available. Available metrics are: loss,accuracy,val_loss,val_accuracy\n",
            "4/4 [==============================] - 0s 11ms/step - loss: 0.3208 - accuracy: 0.9099 - val_loss: 0.1689 - val_accuracy: 0.9386\n",
            "Epoch 101/200\n",
            "1/4 [======>.......................] - ETA: 0s - loss: 0.1524 - accuracy: 0.9531WARNING:tensorflow:Early stopping conditioned on metric `val_acc` which is not available. Available metrics are: loss,accuracy,val_loss,val_accuracy\n",
            "4/4 [==============================] - 0s 10ms/step - loss: 0.2347 - accuracy: 0.9231 - val_loss: 0.1606 - val_accuracy: 0.9474\n",
            "Epoch 102/200\n",
            "1/4 [======>.......................] - ETA: 0s - loss: 0.1739 - accuracy: 0.9375WARNING:tensorflow:Early stopping conditioned on metric `val_acc` which is not available. Available metrics are: loss,accuracy,val_loss,val_accuracy\n",
            "4/4 [==============================] - 0s 11ms/step - loss: 0.1857 - accuracy: 0.9275 - val_loss: 0.1527 - val_accuracy: 0.9474\n",
            "Epoch 103/200\n",
            "1/4 [======>.......................] - ETA: 0s - loss: 0.1374 - accuracy: 0.9531WARNING:tensorflow:Early stopping conditioned on metric `val_acc` which is not available. Available metrics are: loss,accuracy,val_loss,val_accuracy\n",
            "4/4 [==============================] - 0s 11ms/step - loss: 0.1228 - accuracy: 0.9516 - val_loss: 0.1938 - val_accuracy: 0.9298\n",
            "Epoch 104/200\n",
            "1/4 [======>.......................] - ETA: 0s - loss: 0.0389 - accuracy: 0.9922WARNING:tensorflow:Early stopping conditioned on metric `val_acc` which is not available. Available metrics are: loss,accuracy,val_loss,val_accuracy\n",
            "4/4 [==============================] - 0s 12ms/step - loss: 0.1414 - accuracy: 0.9516 - val_loss: 0.6968 - val_accuracy: 0.7719\n",
            "Epoch 105/200\n",
            "1/4 [======>.......................] - ETA: 0s - loss: 0.2896 - accuracy: 0.8750WARNING:tensorflow:Early stopping conditioned on metric `val_acc` which is not available. Available metrics are: loss,accuracy,val_loss,val_accuracy\n",
            "4/4 [==============================] - 0s 10ms/step - loss: 0.2140 - accuracy: 0.9275 - val_loss: 0.2914 - val_accuracy: 0.8947\n",
            "Epoch 106/200\n",
            "1/4 [======>.......................] - ETA: 0s - loss: 0.1223 - accuracy: 0.9688WARNING:tensorflow:Early stopping conditioned on metric `val_acc` which is not available. Available metrics are: loss,accuracy,val_loss,val_accuracy\n",
            "4/4 [==============================] - 0s 11ms/step - loss: 0.2048 - accuracy: 0.9341 - val_loss: 0.1999 - val_accuracy: 0.9211\n",
            "Epoch 107/200\n",
            "1/4 [======>.......................] - ETA: 0s - loss: 0.1091 - accuracy: 0.9609WARNING:tensorflow:Early stopping conditioned on metric `val_acc` which is not available. Available metrics are: loss,accuracy,val_loss,val_accuracy\n",
            "4/4 [==============================] - 0s 10ms/step - loss: 0.1233 - accuracy: 0.9560 - val_loss: 0.1379 - val_accuracy: 0.9474\n",
            "Epoch 108/200\n",
            "1/4 [======>.......................] - ETA: 0s - loss: 0.1118 - accuracy: 0.9531WARNING:tensorflow:Early stopping conditioned on metric `val_acc` which is not available. Available metrics are: loss,accuracy,val_loss,val_accuracy\n",
            "4/4 [==============================] - 0s 11ms/step - loss: 0.1122 - accuracy: 0.9538 - val_loss: 0.2167 - val_accuracy: 0.9211\n",
            "Epoch 109/200\n",
            "1/4 [======>.......................] - ETA: 0s - loss: 0.1147 - accuracy: 0.9531WARNING:tensorflow:Early stopping conditioned on metric `val_acc` which is not available. Available metrics are: loss,accuracy,val_loss,val_accuracy\n",
            "4/4 [==============================] - 0s 12ms/step - loss: 0.1037 - accuracy: 0.9604 - val_loss: 0.3440 - val_accuracy: 0.8684\n",
            "Epoch 110/200\n",
            "1/4 [======>.......................] - ETA: 0s - loss: 0.1238 - accuracy: 0.9766WARNING:tensorflow:Early stopping conditioned on metric `val_acc` which is not available. Available metrics are: loss,accuracy,val_loss,val_accuracy\n",
            "4/4 [==============================] - 0s 11ms/step - loss: 0.1395 - accuracy: 0.9582 - val_loss: 0.1775 - val_accuracy: 0.9386\n",
            "Epoch 111/200\n",
            "1/4 [======>.......................] - ETA: 0s - loss: 0.0760 - accuracy: 0.9766WARNING:tensorflow:Early stopping conditioned on metric `val_acc` which is not available. Available metrics are: loss,accuracy,val_loss,val_accuracy\n",
            "4/4 [==============================] - 0s 12ms/step - loss: 0.1420 - accuracy: 0.9516 - val_loss: 0.1926 - val_accuracy: 0.9474\n",
            "Epoch 112/200\n",
            "1/4 [======>.......................] - ETA: 0s - loss: 0.2754 - accuracy: 0.9219WARNING:tensorflow:Early stopping conditioned on metric `val_acc` which is not available. Available metrics are: loss,accuracy,val_loss,val_accuracy\n",
            "4/4 [==============================] - 0s 10ms/step - loss: 0.1785 - accuracy: 0.9319 - val_loss: 0.1596 - val_accuracy: 0.9474\n",
            "Epoch 113/200\n",
            "1/4 [======>.......................] - ETA: 0s - loss: 0.2238 - accuracy: 0.9453WARNING:tensorflow:Early stopping conditioned on metric `val_acc` which is not available. Available metrics are: loss,accuracy,val_loss,val_accuracy\n",
            "4/4 [==============================] - 0s 11ms/step - loss: 0.1582 - accuracy: 0.9560 - val_loss: 0.2953 - val_accuracy: 0.8772\n",
            "Epoch 114/200\n",
            "1/4 [======>.......................] - ETA: 0s - loss: 0.1390 - accuracy: 0.9531WARNING:tensorflow:Early stopping conditioned on metric `val_acc` which is not available. Available metrics are: loss,accuracy,val_loss,val_accuracy\n",
            "4/4 [==============================] - 0s 13ms/step - loss: 0.1653 - accuracy: 0.9429 - val_loss: 0.8600 - val_accuracy: 0.7105\n",
            "Epoch 115/200\n",
            "1/4 [======>.......................] - ETA: 0s - loss: 0.3025 - accuracy: 0.8828WARNING:tensorflow:Early stopping conditioned on metric `val_acc` which is not available. Available metrics are: loss,accuracy,val_loss,val_accuracy\n",
            "4/4 [==============================] - 0s 10ms/step - loss: 0.1818 - accuracy: 0.9275 - val_loss: 0.4462 - val_accuracy: 0.8333\n",
            "Epoch 116/200\n",
            "1/4 [======>.......................] - ETA: 0s - loss: 0.1191 - accuracy: 0.9375WARNING:tensorflow:Early stopping conditioned on metric `val_acc` which is not available. Available metrics are: loss,accuracy,val_loss,val_accuracy\n",
            "4/4 [==============================] - 0s 10ms/step - loss: 0.1382 - accuracy: 0.9451 - val_loss: 0.1495 - val_accuracy: 0.9561\n",
            "Epoch 117/200\n",
            "1/4 [======>.......................] - ETA: 0s - loss: 0.3231 - accuracy: 0.8906WARNING:tensorflow:Early stopping conditioned on metric `val_acc` which is not available. Available metrics are: loss,accuracy,val_loss,val_accuracy\n",
            "4/4 [==============================] - 0s 11ms/step - loss: 0.3500 - accuracy: 0.8857 - val_loss: 0.4813 - val_accuracy: 0.9298\n",
            "Epoch 118/200\n",
            "1/4 [======>.......................] - ETA: 0s - loss: 1.1830 - accuracy: 0.7969WARNING:tensorflow:Early stopping conditioned on metric `val_acc` which is not available. Available metrics are: loss,accuracy,val_loss,val_accuracy\n",
            "4/4 [==============================] - 0s 11ms/step - loss: 0.5979 - accuracy: 0.8440 - val_loss: 0.3724 - val_accuracy: 0.9298\n",
            "Epoch 119/200\n",
            "1/4 [======>.......................] - ETA: 0s - loss: 0.7071 - accuracy: 0.8203WARNING:tensorflow:Early stopping conditioned on metric `val_acc` which is not available. Available metrics are: loss,accuracy,val_loss,val_accuracy\n",
            "4/4 [==============================] - 0s 11ms/step - loss: 0.4224 - accuracy: 0.8747 - val_loss: 0.1723 - val_accuracy: 0.9474\n",
            "Epoch 120/200\n",
            "1/4 [======>.......................] - ETA: 0s - loss: 0.2362 - accuracy: 0.9375WARNING:tensorflow:Early stopping conditioned on metric `val_acc` which is not available. Available metrics are: loss,accuracy,val_loss,val_accuracy\n",
            "4/4 [==============================] - 0s 11ms/step - loss: 0.2754 - accuracy: 0.9385 - val_loss: 0.6463 - val_accuracy: 0.8070\n",
            "Epoch 121/200\n",
            "1/4 [======>.......................] - ETA: 0s - loss: 0.2251 - accuracy: 0.9375WARNING:tensorflow:Early stopping conditioned on metric `val_acc` which is not available. Available metrics are: loss,accuracy,val_loss,val_accuracy\n",
            "4/4 [==============================] - 0s 10ms/step - loss: 0.2124 - accuracy: 0.9341 - val_loss: 0.1750 - val_accuracy: 0.9386\n",
            "Epoch 122/200\n",
            "1/4 [======>.......................] - ETA: 0s - loss: 0.2059 - accuracy: 0.9297WARNING:tensorflow:Early stopping conditioned on metric `val_acc` which is not available. Available metrics are: loss,accuracy,val_loss,val_accuracy\n",
            "4/4 [==============================] - 0s 10ms/step - loss: 0.1806 - accuracy: 0.9341 - val_loss: 0.1711 - val_accuracy: 0.9561\n",
            "Epoch 123/200\n",
            "1/4 [======>.......................] - ETA: 0s - loss: 0.1805 - accuracy: 0.9453WARNING:tensorflow:Early stopping conditioned on metric `val_acc` which is not available. Available metrics are: loss,accuracy,val_loss,val_accuracy\n",
            "4/4 [==============================] - 0s 12ms/step - loss: 0.2095 - accuracy: 0.9407 - val_loss: 0.3948 - val_accuracy: 0.8596\n",
            "Epoch 124/200\n",
            "1/4 [======>.......................] - ETA: 0s - loss: 0.1066 - accuracy: 0.9766WARNING:tensorflow:Early stopping conditioned on metric `val_acc` which is not available. Available metrics are: loss,accuracy,val_loss,val_accuracy\n",
            "4/4 [==============================] - 0s 11ms/step - loss: 0.1156 - accuracy: 0.9648 - val_loss: 0.1572 - val_accuracy: 0.9474\n",
            "Epoch 125/200\n",
            "1/4 [======>.......................] - ETA: 0s - loss: 0.1275 - accuracy: 0.9766WARNING:tensorflow:Early stopping conditioned on metric `val_acc` which is not available. Available metrics are: loss,accuracy,val_loss,val_accuracy\n",
            "4/4 [==============================] - 0s 10ms/step - loss: 0.1545 - accuracy: 0.9560 - val_loss: 0.3051 - val_accuracy: 0.9035\n",
            "Epoch 126/200\n",
            "1/4 [======>.......................] - ETA: 0s - loss: 0.1686 - accuracy: 0.9375WARNING:tensorflow:Early stopping conditioned on metric `val_acc` which is not available. Available metrics are: loss,accuracy,val_loss,val_accuracy\n",
            "4/4 [==============================] - 0s 11ms/step - loss: 0.1556 - accuracy: 0.9473 - val_loss: 0.5116 - val_accuracy: 0.8246\n",
            "Epoch 127/200\n",
            "1/4 [======>.......................] - ETA: 0s - loss: 0.1845 - accuracy: 0.9297WARNING:tensorflow:Early stopping conditioned on metric `val_acc` which is not available. Available metrics are: loss,accuracy,val_loss,val_accuracy\n",
            "4/4 [==============================] - 0s 10ms/step - loss: 0.2261 - accuracy: 0.9341 - val_loss: 0.1685 - val_accuracy: 0.9474\n",
            "Epoch 128/200\n",
            "1/4 [======>.......................] - ETA: 0s - loss: 0.0838 - accuracy: 0.9609WARNING:tensorflow:Early stopping conditioned on metric `val_acc` which is not available. Available metrics are: loss,accuracy,val_loss,val_accuracy\n",
            "4/4 [==============================] - 0s 12ms/step - loss: 0.1598 - accuracy: 0.9473 - val_loss: 0.1629 - val_accuracy: 0.9474\n",
            "Epoch 129/200\n",
            "1/4 [======>.......................] - ETA: 0s - loss: 0.2994 - accuracy: 0.9062WARNING:tensorflow:Early stopping conditioned on metric `val_acc` which is not available. Available metrics are: loss,accuracy,val_loss,val_accuracy\n",
            "4/4 [==============================] - 0s 10ms/step - loss: 0.2002 - accuracy: 0.9253 - val_loss: 0.1710 - val_accuracy: 0.9561\n",
            "Epoch 130/200\n",
            "1/4 [======>.......................] - ETA: 0s - loss: 0.1976 - accuracy: 0.9453WARNING:tensorflow:Early stopping conditioned on metric `val_acc` which is not available. Available metrics are: loss,accuracy,val_loss,val_accuracy\n",
            "4/4 [==============================] - 0s 12ms/step - loss: 0.1918 - accuracy: 0.9429 - val_loss: 0.1414 - val_accuracy: 0.9561\n",
            "Epoch 131/200\n",
            "1/4 [======>.......................] - ETA: 0s - loss: 0.1496 - accuracy: 0.9297WARNING:tensorflow:Early stopping conditioned on metric `val_acc` which is not available. Available metrics are: loss,accuracy,val_loss,val_accuracy\n",
            "4/4 [==============================] - 0s 11ms/step - loss: 0.1184 - accuracy: 0.9495 - val_loss: 0.2837 - val_accuracy: 0.8860\n",
            "Epoch 132/200\n",
            "1/4 [======>.......................] - ETA: 0s - loss: 0.1286 - accuracy: 0.9531WARNING:tensorflow:Early stopping conditioned on metric `val_acc` which is not available. Available metrics are: loss,accuracy,val_loss,val_accuracy\n",
            "4/4 [==============================] - 0s 11ms/step - loss: 0.1450 - accuracy: 0.9516 - val_loss: 0.7915 - val_accuracy: 0.7193\n",
            "Epoch 133/200\n",
            "1/4 [======>.......................] - ETA: 0s - loss: 0.2232 - accuracy: 0.9297WARNING:tensorflow:Early stopping conditioned on metric `val_acc` which is not available. Available metrics are: loss,accuracy,val_loss,val_accuracy\n",
            "4/4 [==============================] - 0s 12ms/step - loss: 0.3390 - accuracy: 0.9011 - val_loss: 0.1622 - val_accuracy: 0.9474\n",
            "Epoch 134/200\n",
            "1/4 [======>.......................] - ETA: 0s - loss: 0.0991 - accuracy: 0.9688WARNING:tensorflow:Early stopping conditioned on metric `val_acc` which is not available. Available metrics are: loss,accuracy,val_loss,val_accuracy\n",
            "4/4 [==============================] - 0s 11ms/step - loss: 0.2878 - accuracy: 0.9077 - val_loss: 0.3370 - val_accuracy: 0.9298\n",
            "Epoch 135/200\n",
            "1/4 [======>.......................] - ETA: 0s - loss: 0.4547 - accuracy: 0.8594WARNING:tensorflow:Early stopping conditioned on metric `val_acc` which is not available. Available metrics are: loss,accuracy,val_loss,val_accuracy\n",
            "4/4 [==============================] - 0s 11ms/step - loss: 0.3349 - accuracy: 0.8857 - val_loss: 0.2234 - val_accuracy: 0.9561\n",
            "Epoch 136/200\n",
            "1/4 [======>.......................] - ETA: 0s - loss: 0.2702 - accuracy: 0.9062WARNING:tensorflow:Early stopping conditioned on metric `val_acc` which is not available. Available metrics are: loss,accuracy,val_loss,val_accuracy\n",
            "4/4 [==============================] - 0s 10ms/step - loss: 0.2318 - accuracy: 0.9187 - val_loss: 0.5070 - val_accuracy: 0.8333\n",
            "Epoch 137/200\n",
            "1/4 [======>.......................] - ETA: 0s - loss: 0.1573 - accuracy: 0.9609WARNING:tensorflow:Early stopping conditioned on metric `val_acc` which is not available. Available metrics are: loss,accuracy,val_loss,val_accuracy\n",
            "4/4 [==============================] - 0s 10ms/step - loss: 0.1504 - accuracy: 0.9560 - val_loss: 0.1940 - val_accuracy: 0.9298\n",
            "Epoch 138/200\n",
            "1/4 [======>.......................] - ETA: 0s - loss: 0.0711 - accuracy: 0.9688WARNING:tensorflow:Early stopping conditioned on metric `val_acc` which is not available. Available metrics are: loss,accuracy,val_loss,val_accuracy\n",
            "4/4 [==============================] - 0s 11ms/step - loss: 0.1208 - accuracy: 0.9495 - val_loss: 0.2692 - val_accuracy: 0.8947\n",
            "Epoch 139/200\n",
            "1/4 [======>.......................] - ETA: 0s - loss: 0.1326 - accuracy: 0.9453WARNING:tensorflow:Early stopping conditioned on metric `val_acc` which is not available. Available metrics are: loss,accuracy,val_loss,val_accuracy\n",
            "4/4 [==============================] - 0s 10ms/step - loss: 0.1177 - accuracy: 0.9473 - val_loss: 0.3842 - val_accuracy: 0.8684\n",
            "Epoch 140/200\n",
            "1/4 [======>.......................] - ETA: 0s - loss: 0.1083 - accuracy: 0.9688WARNING:tensorflow:Early stopping conditioned on metric `val_acc` which is not available. Available metrics are: loss,accuracy,val_loss,val_accuracy\n",
            "4/4 [==============================] - 0s 13ms/step - loss: 0.2340 - accuracy: 0.9451 - val_loss: 0.1872 - val_accuracy: 0.9298\n",
            "Epoch 141/200\n",
            "1/4 [======>.......................] - ETA: 0s - loss: 0.1042 - accuracy: 0.9688WARNING:tensorflow:Early stopping conditioned on metric `val_acc` which is not available. Available metrics are: loss,accuracy,val_loss,val_accuracy\n",
            "4/4 [==============================] - 0s 10ms/step - loss: 0.1828 - accuracy: 0.9538 - val_loss: 0.2380 - val_accuracy: 0.9386\n",
            "Epoch 142/200\n",
            "1/4 [======>.......................] - ETA: 0s - loss: 0.4962 - accuracy: 0.8672WARNING:tensorflow:Early stopping conditioned on metric `val_acc` which is not available. Available metrics are: loss,accuracy,val_loss,val_accuracy\n",
            "4/4 [==============================] - 0s 10ms/step - loss: 0.2839 - accuracy: 0.9055 - val_loss: 0.1360 - val_accuracy: 0.9561\n",
            "Epoch 143/200\n",
            "1/4 [======>.......................] - ETA: 0s - loss: 0.1439 - accuracy: 0.9609WARNING:tensorflow:Early stopping conditioned on metric `val_acc` which is not available. Available metrics are: loss,accuracy,val_loss,val_accuracy\n",
            "4/4 [==============================] - 0s 12ms/step - loss: 0.1636 - accuracy: 0.9429 - val_loss: 0.3183 - val_accuracy: 0.8772\n",
            "Epoch 144/200\n",
            "1/4 [======>.......................] - ETA: 0s - loss: 0.1205 - accuracy: 0.9688WARNING:tensorflow:Early stopping conditioned on metric `val_acc` which is not available. Available metrics are: loss,accuracy,val_loss,val_accuracy\n",
            "4/4 [==============================] - 0s 10ms/step - loss: 0.1353 - accuracy: 0.9604 - val_loss: 0.1875 - val_accuracy: 0.9298\n",
            "Epoch 145/200\n",
            "1/4 [======>.......................] - ETA: 0s - loss: 0.0544 - accuracy: 0.9844WARNING:tensorflow:Early stopping conditioned on metric `val_acc` which is not available. Available metrics are: loss,accuracy,val_loss,val_accuracy\n",
            "4/4 [==============================] - 0s 10ms/step - loss: 0.1649 - accuracy: 0.9407 - val_loss: 0.1303 - val_accuracy: 0.9474\n",
            "Epoch 146/200\n",
            "1/4 [======>.......................] - ETA: 0s - loss: 0.1499 - accuracy: 0.9453WARNING:tensorflow:Early stopping conditioned on metric `val_acc` which is not available. Available metrics are: loss,accuracy,val_loss,val_accuracy\n",
            "4/4 [==============================] - 0s 10ms/step - loss: 0.1422 - accuracy: 0.9385 - val_loss: 0.1318 - val_accuracy: 0.9474\n",
            "Epoch 147/200\n",
            "1/4 [======>.......................] - ETA: 0s - loss: 0.0867 - accuracy: 0.9766WARNING:tensorflow:Early stopping conditioned on metric `val_acc` which is not available. Available metrics are: loss,accuracy,val_loss,val_accuracy\n",
            "4/4 [==============================] - 0s 13ms/step - loss: 0.1413 - accuracy: 0.9473 - val_loss: 0.8898 - val_accuracy: 0.7105\n",
            "Epoch 148/200\n",
            "1/4 [======>.......................] - ETA: 0s - loss: 0.3507 - accuracy: 0.8984WARNING:tensorflow:Early stopping conditioned on metric `val_acc` which is not available. Available metrics are: loss,accuracy,val_loss,val_accuracy\n",
            "4/4 [==============================] - 0s 11ms/step - loss: 0.2429 - accuracy: 0.9209 - val_loss: 0.3053 - val_accuracy: 0.8860\n",
            "Epoch 149/200\n",
            "1/4 [======>.......................] - ETA: 0s - loss: 0.0728 - accuracy: 0.9609WARNING:tensorflow:Early stopping conditioned on metric `val_acc` which is not available. Available metrics are: loss,accuracy,val_loss,val_accuracy\n",
            "4/4 [==============================] - 0s 11ms/step - loss: 0.2049 - accuracy: 0.9385 - val_loss: 0.1965 - val_accuracy: 0.9211\n",
            "Epoch 150/200\n",
            "1/4 [======>.......................] - ETA: 0s - loss: 0.0746 - accuracy: 0.9688WARNING:tensorflow:Early stopping conditioned on metric `val_acc` which is not available. Available metrics are: loss,accuracy,val_loss,val_accuracy\n",
            "4/4 [==============================] - 0s 11ms/step - loss: 0.1372 - accuracy: 0.9538 - val_loss: 0.1397 - val_accuracy: 0.9561\n",
            "Epoch 151/200\n",
            "1/4 [======>.......................] - ETA: 0s - loss: 0.1306 - accuracy: 0.9453WARNING:tensorflow:Early stopping conditioned on metric `val_acc` which is not available. Available metrics are: loss,accuracy,val_loss,val_accuracy\n",
            "4/4 [==============================] - 0s 10ms/step - loss: 0.1373 - accuracy: 0.9451 - val_loss: 0.1616 - val_accuracy: 0.9386\n",
            "Epoch 152/200\n",
            "1/4 [======>.......................] - ETA: 0s - loss: 0.0552 - accuracy: 0.9766WARNING:tensorflow:Early stopping conditioned on metric `val_acc` which is not available. Available metrics are: loss,accuracy,val_loss,val_accuracy\n",
            "4/4 [==============================] - 0s 10ms/step - loss: 0.1141 - accuracy: 0.9473 - val_loss: 0.2904 - val_accuracy: 0.9035\n",
            "Epoch 153/200\n",
            "1/4 [======>.......................] - ETA: 0s - loss: 0.1219 - accuracy: 0.9688WARNING:tensorflow:Early stopping conditioned on metric `val_acc` which is not available. Available metrics are: loss,accuracy,val_loss,val_accuracy\n",
            "4/4 [==============================] - 0s 13ms/step - loss: 0.0997 - accuracy: 0.9604 - val_loss: 0.2211 - val_accuracy: 0.9211\n",
            "Epoch 154/200\n",
            "1/4 [======>.......................] - ETA: 0s - loss: 0.1042 - accuracy: 0.9688WARNING:tensorflow:Early stopping conditioned on metric `val_acc` which is not available. Available metrics are: loss,accuracy,val_loss,val_accuracy\n",
            "4/4 [==============================] - 0s 11ms/step - loss: 0.1036 - accuracy: 0.9604 - val_loss: 0.1544 - val_accuracy: 0.9474\n",
            "Epoch 155/200\n",
            "1/4 [======>.......................] - ETA: 0s - loss: 0.1101 - accuracy: 0.9609WARNING:tensorflow:Early stopping conditioned on metric `val_acc` which is not available. Available metrics are: loss,accuracy,val_loss,val_accuracy\n",
            "4/4 [==============================] - 0s 11ms/step - loss: 0.1117 - accuracy: 0.9582 - val_loss: 0.1345 - val_accuracy: 0.9386\n",
            "Epoch 156/200\n",
            "1/4 [======>.......................] - ETA: 0s - loss: 0.0937 - accuracy: 0.9531WARNING:tensorflow:Early stopping conditioned on metric `val_acc` which is not available. Available metrics are: loss,accuracy,val_loss,val_accuracy\n",
            "4/4 [==============================] - 0s 11ms/step - loss: 0.1016 - accuracy: 0.9604 - val_loss: 0.1099 - val_accuracy: 0.9649\n",
            "Epoch 157/200\n",
            "1/4 [======>.......................] - ETA: 0s - loss: 0.0439 - accuracy: 0.9766WARNING:tensorflow:Early stopping conditioned on metric `val_acc` which is not available. Available metrics are: loss,accuracy,val_loss,val_accuracy\n",
            "4/4 [==============================] - 0s 10ms/step - loss: 0.1024 - accuracy: 0.9560 - val_loss: 0.1244 - val_accuracy: 0.9474\n",
            "Epoch 158/200\n",
            "1/4 [======>.......................] - ETA: 0s - loss: 0.0531 - accuracy: 0.9688WARNING:tensorflow:Early stopping conditioned on metric `val_acc` which is not available. Available metrics are: loss,accuracy,val_loss,val_accuracy\n",
            "4/4 [==============================] - 0s 10ms/step - loss: 0.1472 - accuracy: 0.9516 - val_loss: 0.2308 - val_accuracy: 0.9035\n",
            "Epoch 159/200\n",
            "1/4 [======>.......................] - ETA: 0s - loss: 0.0994 - accuracy: 0.9531WARNING:tensorflow:Early stopping conditioned on metric `val_acc` which is not available. Available metrics are: loss,accuracy,val_loss,val_accuracy\n",
            "4/4 [==============================] - 0s 10ms/step - loss: 0.0930 - accuracy: 0.9582 - val_loss: 0.1496 - val_accuracy: 0.9298\n",
            "Epoch 160/200\n",
            "1/4 [======>.......................] - ETA: 0s - loss: 0.1003 - accuracy: 0.9609WARNING:tensorflow:Early stopping conditioned on metric `val_acc` which is not available. Available metrics are: loss,accuracy,val_loss,val_accuracy\n",
            "4/4 [==============================] - 0s 11ms/step - loss: 0.0920 - accuracy: 0.9626 - val_loss: 0.1213 - val_accuracy: 0.9474\n",
            "Epoch 161/200\n",
            "1/4 [======>.......................] - ETA: 0s - loss: 0.1628 - accuracy: 0.9453WARNING:tensorflow:Early stopping conditioned on metric `val_acc` which is not available. Available metrics are: loss,accuracy,val_loss,val_accuracy\n",
            "4/4 [==============================] - 0s 11ms/step - loss: 0.1038 - accuracy: 0.9626 - val_loss: 0.1756 - val_accuracy: 0.9386\n",
            "Epoch 162/200\n",
            "1/4 [======>.......................] - ETA: 0s - loss: 0.0444 - accuracy: 0.9922WARNING:tensorflow:Early stopping conditioned on metric `val_acc` which is not available. Available metrics are: loss,accuracy,val_loss,val_accuracy\n",
            "4/4 [==============================] - 0s 13ms/step - loss: 0.0937 - accuracy: 0.9670 - val_loss: 0.1506 - val_accuracy: 0.9386\n",
            "Epoch 163/200\n",
            "1/4 [======>.......................] - ETA: 0s - loss: 0.0765 - accuracy: 0.9688WARNING:tensorflow:Early stopping conditioned on metric `val_acc` which is not available. Available metrics are: loss,accuracy,val_loss,val_accuracy\n",
            "4/4 [==============================] - 0s 13ms/step - loss: 0.0803 - accuracy: 0.9626 - val_loss: 0.1261 - val_accuracy: 0.9474\n",
            "Epoch 164/200\n",
            "1/4 [======>.......................] - ETA: 0s - loss: 0.0848 - accuracy: 0.9688WARNING:tensorflow:Early stopping conditioned on metric `val_acc` which is not available. Available metrics are: loss,accuracy,val_loss,val_accuracy\n",
            "4/4 [==============================] - 0s 11ms/step - loss: 0.0897 - accuracy: 0.9648 - val_loss: 0.1253 - val_accuracy: 0.9474\n",
            "Epoch 165/200\n",
            "1/4 [======>.......................] - ETA: 0s - loss: 0.1576 - accuracy: 0.9219WARNING:tensorflow:Early stopping conditioned on metric `val_acc` which is not available. Available metrics are: loss,accuracy,val_loss,val_accuracy\n",
            "4/4 [==============================] - 0s 11ms/step - loss: 0.1115 - accuracy: 0.9560 - val_loss: 0.1304 - val_accuracy: 0.9386\n",
            "Epoch 166/200\n",
            "1/4 [======>.......................] - ETA: 0s - loss: 0.1561 - accuracy: 0.9453WARNING:tensorflow:Early stopping conditioned on metric `val_acc` which is not available. Available metrics are: loss,accuracy,val_loss,val_accuracy\n",
            "4/4 [==============================] - 0s 10ms/step - loss: 0.1080 - accuracy: 0.9604 - val_loss: 0.1301 - val_accuracy: 0.9386\n",
            "Epoch 167/200\n",
            "1/4 [======>.......................] - ETA: 0s - loss: 0.0887 - accuracy: 0.9844WARNING:tensorflow:Early stopping conditioned on metric `val_acc` which is not available. Available metrics are: loss,accuracy,val_loss,val_accuracy\n",
            "4/4 [==============================] - 0s 11ms/step - loss: 0.1397 - accuracy: 0.9473 - val_loss: 0.2572 - val_accuracy: 0.8947\n",
            "Epoch 168/200\n",
            "1/4 [======>.......................] - ETA: 0s - loss: 0.0681 - accuracy: 0.9766WARNING:tensorflow:Early stopping conditioned on metric `val_acc` which is not available. Available metrics are: loss,accuracy,val_loss,val_accuracy\n",
            "4/4 [==============================] - 0s 11ms/step - loss: 0.1220 - accuracy: 0.9495 - val_loss: 0.7577 - val_accuracy: 0.7193\n",
            "Epoch 169/200\n",
            "1/4 [======>.......................] - ETA: 0s - loss: 0.1960 - accuracy: 0.9219WARNING:tensorflow:Early stopping conditioned on metric `val_acc` which is not available. Available metrics are: loss,accuracy,val_loss,val_accuracy\n",
            "4/4 [==============================] - 0s 11ms/step - loss: 0.1111 - accuracy: 0.9538 - val_loss: 0.1128 - val_accuracy: 0.9561\n",
            "Epoch 170/200\n",
            "1/4 [======>.......................] - ETA: 0s - loss: 0.0918 - accuracy: 0.9609WARNING:tensorflow:Early stopping conditioned on metric `val_acc` which is not available. Available metrics are: loss,accuracy,val_loss,val_accuracy\n",
            "4/4 [==============================] - 0s 11ms/step - loss: 0.1236 - accuracy: 0.9451 - val_loss: 0.1531 - val_accuracy: 0.9474\n",
            "Epoch 171/200\n",
            "1/4 [======>.......................] - ETA: 0s - loss: 0.2654 - accuracy: 0.9375WARNING:tensorflow:Early stopping conditioned on metric `val_acc` which is not available. Available metrics are: loss,accuracy,val_loss,val_accuracy\n",
            "4/4 [==============================] - 0s 11ms/step - loss: 0.1512 - accuracy: 0.9516 - val_loss: 0.1097 - val_accuracy: 0.9474\n",
            "Epoch 172/200\n",
            "1/4 [======>.......................] - ETA: 0s - loss: 0.1793 - accuracy: 0.9141WARNING:tensorflow:Early stopping conditioned on metric `val_acc` which is not available. Available metrics are: loss,accuracy,val_loss,val_accuracy\n",
            "4/4 [==============================] - 0s 13ms/step - loss: 0.1454 - accuracy: 0.9341 - val_loss: 0.1386 - val_accuracy: 0.9561\n",
            "Epoch 173/200\n",
            "1/4 [======>.......................] - ETA: 0s - loss: 0.2815 - accuracy: 0.9219WARNING:tensorflow:Early stopping conditioned on metric `val_acc` which is not available. Available metrics are: loss,accuracy,val_loss,val_accuracy\n",
            "4/4 [==============================] - 0s 10ms/step - loss: 0.1604 - accuracy: 0.9560 - val_loss: 0.1617 - val_accuracy: 0.9298\n",
            "Epoch 174/200\n",
            "1/4 [======>.......................] - ETA: 0s - loss: 0.0745 - accuracy: 0.9688WARNING:tensorflow:Early stopping conditioned on metric `val_acc` which is not available. Available metrics are: loss,accuracy,val_loss,val_accuracy\n",
            "4/4 [==============================] - 0s 11ms/step - loss: 0.1034 - accuracy: 0.9582 - val_loss: 0.2377 - val_accuracy: 0.8860\n",
            "Epoch 175/200\n",
            "1/4 [======>.......................] - ETA: 0s - loss: 0.0932 - accuracy: 0.9453WARNING:tensorflow:Early stopping conditioned on metric `val_acc` which is not available. Available metrics are: loss,accuracy,val_loss,val_accuracy\n",
            "4/4 [==============================] - 0s 11ms/step - loss: 0.0961 - accuracy: 0.9495 - val_loss: 0.3135 - val_accuracy: 0.8860\n",
            "Epoch 176/200\n",
            "1/4 [======>.......................] - ETA: 0s - loss: 0.1441 - accuracy: 0.9453WARNING:tensorflow:Early stopping conditioned on metric `val_acc` which is not available. Available metrics are: loss,accuracy,val_loss,val_accuracy\n",
            "4/4 [==============================] - 0s 12ms/step - loss: 0.1213 - accuracy: 0.9495 - val_loss: 0.1253 - val_accuracy: 0.9561\n",
            "Epoch 177/200\n",
            "1/4 [======>.......................] - ETA: 0s - loss: 0.1481 - accuracy: 0.9375WARNING:tensorflow:Early stopping conditioned on metric `val_acc` which is not available. Available metrics are: loss,accuracy,val_loss,val_accuracy\n",
            "4/4 [==============================] - 0s 13ms/step - loss: 0.1401 - accuracy: 0.9429 - val_loss: 0.1312 - val_accuracy: 0.9561\n",
            "Epoch 178/200\n",
            "1/4 [======>.......................] - ETA: 0s - loss: 0.1187 - accuracy: 0.9375WARNING:tensorflow:Early stopping conditioned on metric `val_acc` which is not available. Available metrics are: loss,accuracy,val_loss,val_accuracy\n",
            "4/4 [==============================] - 0s 11ms/step - loss: 0.1630 - accuracy: 0.9407 - val_loss: 0.1483 - val_accuracy: 0.9386\n",
            "Epoch 179/200\n",
            "1/4 [======>.......................] - ETA: 0s - loss: 0.0535 - accuracy: 0.9766WARNING:tensorflow:Early stopping conditioned on metric `val_acc` which is not available. Available metrics are: loss,accuracy,val_loss,val_accuracy\n",
            "4/4 [==============================] - 0s 11ms/step - loss: 0.1103 - accuracy: 0.9560 - val_loss: 0.2809 - val_accuracy: 0.8772\n",
            "Epoch 180/200\n",
            "1/4 [======>.......................] - ETA: 0s - loss: 0.1103 - accuracy: 0.9375WARNING:tensorflow:Early stopping conditioned on metric `val_acc` which is not available. Available metrics are: loss,accuracy,val_loss,val_accuracy\n",
            "4/4 [==============================] - 0s 11ms/step - loss: 0.1051 - accuracy: 0.9538 - val_loss: 0.1542 - val_accuracy: 0.9474\n",
            "Epoch 181/200\n",
            "1/4 [======>.......................] - ETA: 0s - loss: 0.0561 - accuracy: 0.9688WARNING:tensorflow:Early stopping conditioned on metric `val_acc` which is not available. Available metrics are: loss,accuracy,val_loss,val_accuracy\n",
            "4/4 [==============================] - 0s 10ms/step - loss: 0.0861 - accuracy: 0.9670 - val_loss: 0.1253 - val_accuracy: 0.9474\n",
            "Epoch 182/200\n",
            "1/4 [======>.......................] - ETA: 0s - loss: 0.0646 - accuracy: 0.9688WARNING:tensorflow:Early stopping conditioned on metric `val_acc` which is not available. Available metrics are: loss,accuracy,val_loss,val_accuracy\n",
            "4/4 [==============================] - 0s 12ms/step - loss: 0.0847 - accuracy: 0.9648 - val_loss: 0.2330 - val_accuracy: 0.9035\n",
            "Epoch 183/200\n",
            "1/4 [======>.......................] - ETA: 0s - loss: 0.1161 - accuracy: 0.9453WARNING:tensorflow:Early stopping conditioned on metric `val_acc` which is not available. Available metrics are: loss,accuracy,val_loss,val_accuracy\n",
            "4/4 [==============================] - 0s 11ms/step - loss: 0.1173 - accuracy: 0.9495 - val_loss: 0.3828 - val_accuracy: 0.8333\n",
            "Epoch 184/200\n",
            "1/4 [======>.......................] - ETA: 0s - loss: 0.1603 - accuracy: 0.9453WARNING:tensorflow:Early stopping conditioned on metric `val_acc` which is not available. Available metrics are: loss,accuracy,val_loss,val_accuracy\n",
            "4/4 [==============================] - 0s 12ms/step - loss: 0.1364 - accuracy: 0.9516 - val_loss: 0.2431 - val_accuracy: 0.9035\n",
            "Epoch 185/200\n",
            "1/4 [======>.......................] - ETA: 0s - loss: 0.0869 - accuracy: 0.9688WARNING:tensorflow:Early stopping conditioned on metric `val_acc` which is not available. Available metrics are: loss,accuracy,val_loss,val_accuracy\n",
            "4/4 [==============================] - 0s 13ms/step - loss: 0.1425 - accuracy: 0.9495 - val_loss: 0.3188 - val_accuracy: 0.8772\n",
            "Epoch 186/200\n",
            "1/4 [======>.......................] - ETA: 0s - loss: 0.1264 - accuracy: 0.9453WARNING:tensorflow:Early stopping conditioned on metric `val_acc` which is not available. Available metrics are: loss,accuracy,val_loss,val_accuracy\n",
            "4/4 [==============================] - 0s 11ms/step - loss: 0.1720 - accuracy: 0.9297 - val_loss: 0.2440 - val_accuracy: 0.9035\n",
            "Epoch 187/200\n",
            "1/4 [======>.......................] - ETA: 0s - loss: 0.1013 - accuracy: 0.9531WARNING:tensorflow:Early stopping conditioned on metric `val_acc` which is not available. Available metrics are: loss,accuracy,val_loss,val_accuracy\n",
            "4/4 [==============================] - 0s 11ms/step - loss: 0.2008 - accuracy: 0.9297 - val_loss: 0.2261 - val_accuracy: 0.9123\n",
            "Epoch 188/200\n",
            "1/4 [======>.......................] - ETA: 0s - loss: 0.1690 - accuracy: 0.9219WARNING:tensorflow:Early stopping conditioned on metric `val_acc` which is not available. Available metrics are: loss,accuracy,val_loss,val_accuracy\n",
            "4/4 [==============================] - 0s 10ms/step - loss: 0.1050 - accuracy: 0.9582 - val_loss: 0.1143 - val_accuracy: 0.9386\n",
            "Epoch 189/200\n",
            "1/4 [======>.......................] - ETA: 0s - loss: 0.1201 - accuracy: 0.9609WARNING:tensorflow:Early stopping conditioned on metric `val_acc` which is not available. Available metrics are: loss,accuracy,val_loss,val_accuracy\n",
            "4/4 [==============================] - 0s 11ms/step - loss: 0.0964 - accuracy: 0.9582 - val_loss: 0.1240 - val_accuracy: 0.9474\n",
            "Epoch 190/200\n",
            "1/4 [======>.......................] - ETA: 0s - loss: 0.1623 - accuracy: 0.9297WARNING:tensorflow:Early stopping conditioned on metric `val_acc` which is not available. Available metrics are: loss,accuracy,val_loss,val_accuracy\n",
            "4/4 [==============================] - 0s 10ms/step - loss: 0.1221 - accuracy: 0.9473 - val_loss: 0.1157 - val_accuracy: 0.9298\n",
            "Epoch 191/200\n",
            "1/4 [======>.......................] - ETA: 0s - loss: 0.0807 - accuracy: 0.9609WARNING:tensorflow:Early stopping conditioned on metric `val_acc` which is not available. Available metrics are: loss,accuracy,val_loss,val_accuracy\n",
            "4/4 [==============================] - 0s 12ms/step - loss: 0.1237 - accuracy: 0.9538 - val_loss: 0.1624 - val_accuracy: 0.9474\n",
            "Epoch 192/200\n",
            "1/4 [======>.......................] - ETA: 0s - loss: 0.1115 - accuracy: 0.9531WARNING:tensorflow:Early stopping conditioned on metric `val_acc` which is not available. Available metrics are: loss,accuracy,val_loss,val_accuracy\n",
            "4/4 [==============================] - 0s 11ms/step - loss: 0.0768 - accuracy: 0.9670 - val_loss: 0.1195 - val_accuracy: 0.9474\n",
            "Epoch 193/200\n",
            "1/4 [======>.......................] - ETA: 0s - loss: 0.0654 - accuracy: 0.9766WARNING:tensorflow:Early stopping conditioned on metric `val_acc` which is not available. Available metrics are: loss,accuracy,val_loss,val_accuracy\n",
            "4/4 [==============================] - 0s 10ms/step - loss: 0.1279 - accuracy: 0.9516 - val_loss: 0.1191 - val_accuracy: 0.9386\n",
            "Epoch 194/200\n",
            "1/4 [======>.......................] - ETA: 0s - loss: 0.1727 - accuracy: 0.9219WARNING:tensorflow:Early stopping conditioned on metric `val_acc` which is not available. Available metrics are: loss,accuracy,val_loss,val_accuracy\n",
            "4/4 [==============================] - 0s 11ms/step - loss: 0.1028 - accuracy: 0.9604 - val_loss: 0.3932 - val_accuracy: 0.8684\n",
            "Epoch 195/200\n",
            "1/4 [======>.......................] - ETA: 0s - loss: 0.1823 - accuracy: 0.9219WARNING:tensorflow:Early stopping conditioned on metric `val_acc` which is not available. Available metrics are: loss,accuracy,val_loss,val_accuracy\n",
            "4/4 [==============================] - 0s 10ms/step - loss: 0.1344 - accuracy: 0.9407 - val_loss: 0.5191 - val_accuracy: 0.7982\n",
            "Epoch 196/200\n",
            "1/4 [======>.......................] - ETA: 0s - loss: 0.1757 - accuracy: 0.9375WARNING:tensorflow:Early stopping conditioned on metric `val_acc` which is not available. Available metrics are: loss,accuracy,val_loss,val_accuracy\n",
            "4/4 [==============================] - 0s 11ms/step - loss: 0.1567 - accuracy: 0.9495 - val_loss: 0.2554 - val_accuracy: 0.9035\n",
            "Epoch 197/200\n",
            "1/4 [======>.......................] - ETA: 0s - loss: 0.0508 - accuracy: 0.9922WARNING:tensorflow:Early stopping conditioned on metric `val_acc` which is not available. Available metrics are: loss,accuracy,val_loss,val_accuracy\n",
            "4/4 [==============================] - 0s 10ms/step - loss: 0.2246 - accuracy: 0.9385 - val_loss: 0.1278 - val_accuracy: 0.9474\n",
            "Epoch 198/200\n",
            "1/4 [======>.......................] - ETA: 0s - loss: 0.0525 - accuracy: 0.9844WARNING:tensorflow:Early stopping conditioned on metric `val_acc` which is not available. Available metrics are: loss,accuracy,val_loss,val_accuracy\n",
            "4/4 [==============================] - 0s 11ms/step - loss: 0.0887 - accuracy: 0.9582 - val_loss: 0.1112 - val_accuracy: 0.9474\n",
            "Epoch 199/200\n",
            "1/4 [======>.......................] - ETA: 0s - loss: 0.0853 - accuracy: 0.9531WARNING:tensorflow:Early stopping conditioned on metric `val_acc` which is not available. Available metrics are: loss,accuracy,val_loss,val_accuracy\n",
            "4/4 [==============================] - 0s 11ms/step - loss: 0.1150 - accuracy: 0.9538 - val_loss: 0.1100 - val_accuracy: 0.9474\n",
            "Epoch 200/200\n",
            "1/4 [======>.......................] - ETA: 0s - loss: 0.1004 - accuracy: 0.9453WARNING:tensorflow:Early stopping conditioned on metric `val_acc` which is not available. Available metrics are: loss,accuracy,val_loss,val_accuracy\n",
            "4/4 [==============================] - 0s 11ms/step - loss: 0.0872 - accuracy: 0.9604 - val_loss: 0.7360 - val_accuracy: 0.7368\n"
          ],
          "name": "stdout"
        }
      ]
    },
    {
      "cell_type": "code",
      "metadata": {
        "id": "fZxXg6ZzlSLg",
        "colab_type": "code",
        "colab": {
          "base_uri": "https://localhost:8080/",
          "height": 295
        },
        "outputId": "fd1caedf-3151-4010-de4e-a593f09aac03"
      },
      "source": [
        "plot_loss(historynew.history['loss'],historynew.history['val_loss'])"
      ],
      "execution_count": 43,
      "outputs": [
        {
          "output_type": "display_data",
          "data": {
            "image/png": "[encoded data removed]",
            "text/plain": [
              "<Figure size 432x288 with 1 Axes>"
            ]
          },
          "metadata": {
            "tags": [],
            "needs_background": "light"
          }
        }
      ]
    },
    {
      "cell_type": "code",
      "metadata": {
        "id": "SBkrXnkilaD9",
        "colab_type": "code",
        "colab": {
          "base_uri": "https://localhost:8080/",
          "height": 295
        },
        "outputId": "215500b3-c1fd-4203-d6b6-0628b8fca919"
      },
      "source": [
        "plot_accuracy(historynew.history['accuracy'],historynew.history['val_accuracy'])"
      ],
      "execution_count": 44,
      "outputs": [
        {
          "output_type": "display_data",
          "data": {
            "image/png": "[encoded data removed]",
            "text/plain": [
              "<Figure size 432x288 with 1 Axes>"
            ]
          },
          "metadata": {
            "tags": [],
            "needs_background": "light"
          }
        }
      ]
    },
    {
      "cell_type": "markdown",
      "metadata": {
        "id": "qsmNG6SiResh",
        "colab_type": "text"
      },
      "source": [
        "### **Part -2**\n",
        "\n",
        "Using the model with best params obtained from **RandomizedSearchCV.fit(X.y)**\n",
        "\n",
        "{'activation': 'tanh',\n",
        " 'batch_size': 128,\n",
        " 'epochs': 200,\n",
        " 'learning_rate': 0.001}\n",
        "\n"
      ]
    },
    {
      "cell_type": "code",
      "metadata": {
        "id": "XgMarh7RS2tQ",
        "colab_type": "code",
        "colab": {}
      },
      "source": [
        "def my_model(learning_rate=0.001,activation='relu'):\n",
        "  opt=Adam(learning_rate=learning_rate)\n",
        "  model=Sequential()\n",
        "  model.add(Dense(148,input_shape=(30,),activation='relu'))\n",
        "  model.add(Dense(296,activation=activation ))\n",
        "  model.add(Dense(1,activation='sigmoid'))\n",
        "  model.compile(optimizer=opt,loss='binary_crossentropy',metrics=['accuracy'])\n",
        "  return model "
      ],
      "execution_count": 0,
      "outputs": []
    },
    {
      "cell_type": "code",
      "metadata": {
        "id": "3VcmsTi-S7Ui",
        "colab_type": "code",
        "colab": {}
      },
      "source": [
        "my_tuned_model=my_model(learning_rate=0.001,activation='relu')"
      ],
      "execution_count": 0,
      "outputs": []
    },
    {
      "cell_type": "code",
      "metadata": {
        "id": "XHNCRFLETMyN",
        "colab_type": "code",
        "colab": {}
      },
      "source": [
        "# Create a KerasClassifier...no need...no need here as it has no layers\n",
        "model_kera_tuned = KerasClassifier(build_fn = my_tuned_model, epochs = 200,batch_size = 128, verbose = 0)"
      ],
      "execution_count": 0,
      "outputs": []
    },
    {
      "cell_type": "code",
      "metadata": {
        "id": "vHrRpq4YTzbx",
        "colab_type": "code",
        "colab": {}
      },
      "source": [
        "import keras.backend as K"
      ],
      "execution_count": 0,
      "outputs": []
    },
    {
      "cell_type": "code",
      "metadata": {
        "id": "RBPfbl4vRKrI",
        "colab_type": "code",
        "colab": {}
      },
      "source": [
        "# Input tensor from the 1st layer of the model\n",
        "inp = my_tuned_model.layers[0].input"
      ],
      "execution_count": 0,
      "outputs": []
    },
    {
      "cell_type": "code",
      "metadata": {
        "id": "VnUnv4_BUYZJ",
        "colab_type": "code",
        "colab": {}
      },
      "source": [
        "out=my_tuned_model.layers[0].output"
      ],
      "execution_count": 0,
      "outputs": []
    },
    {
      "cell_type": "code",
      "metadata": {
        "id": "ehk9UVKiexBQ",
        "colab_type": "code",
        "colab": {}
      },
      "source": [
        "inp_to_out=K.function(inp,out)"
      ],
      "execution_count": 0,
      "outputs": []
    },
    {
      "cell_type": "code",
      "metadata": {
        "id": "lJdwZ0nkfQrY",
        "colab_type": "code",
        "colab": {
          "base_uri": "https://localhost:8080/",
          "height": 146
        },
        "outputId": "c71f5d31-b36a-42c4-f383-7aee6677b263"
      },
      "source": [
        "print(inp_to_out(X_test))"
      ],
      "execution_count": 62,
      "outputs": [
        {
          "output_type": "stream",
          "text": [
            "[[12.580634  10.500716   0.        ...  0.         0.         0.       ]\n",
            " [16.645084   0.         0.        ...  0.         0.         0.       ]\n",
            " [ 9.805404  11.763249   0.        ...  0.         0.         0.       ]\n",
            " ...\n",
            " [41.058636  21.925547   0.        ...  0.         0.         0.       ]\n",
            " [38.021706  29.361431   0.        ...  0.         0.         0.       ]\n",
            " [ 6.4508467 17.453012   0.        ...  0.         0.         0.       ]]\n"
          ],
          "name": "stdout"
        }
      ]
    }
  ]
}