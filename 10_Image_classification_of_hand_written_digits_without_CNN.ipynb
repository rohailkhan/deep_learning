{
  "nbformat": 4,
  "nbformat_minor": 0,
  "metadata": {
    "colab": {
      "name": "10_Image classification of hand written digits without CNN",
      "provenance": []
    },
    "kernelspec": {
      "name": "python3",
      "display_name": "Python 3"
    },
    "language_info": {
      "name": "python"
    }
  },
  "cells": [
    {
      "cell_type": "markdown",
      "metadata": {
        "id": "NpLjzTU0MxNH"
      },
      "source": [
        "## Image clasification without CNN\n",
        "### Only using dense layers"
      ]
    },
    {
      "cell_type": "code",
      "metadata": {
        "id": "TTUsFW32ycvO"
      },
      "source": [
        "# Plot ad hoc mnist instances\n",
        "from keras.datasets import mnist\n"
      ],
      "execution_count": 1,
      "outputs": []
    },
    {
      "cell_type": "code",
      "metadata": {
        "id": "F2dkIiUrD2v2"
      },
      "source": [
        "from keras.models import Sequential \n",
        "from keras.layers import Dense, Activation, Flatten, Dropout, BatchNormalization\n",
        "import pandas as pd\n",
        "import matplotlib.pyplot as plt\n",
        "from keras.utils.np_utils import to_categorical"
      ],
      "execution_count": 2,
      "outputs": []
    },
    {
      "cell_type": "code",
      "metadata": {
        "id": "KFQ7mZSqxjW6",
        "colab": {
          "base_uri": "https://localhost:8080/"
        },
        "outputId": "93cde821-7b09-46c9-acdd-0bc228478c3e"
      },
      "source": [
        "# load (downloaded if needed) the MNIST dataset\n",
        "(X_train, y_train), (X_test, y_test) = mnist.load_data()"
      ],
      "execution_count": 3,
      "outputs": [
        {
          "output_type": "stream",
          "name": "stdout",
          "text": [
            "Downloading data from https://storage.googleapis.com/tensorflow/tf-keras-datasets/mnist.npz\n",
            "11493376/11490434 [==============================] - 0s 0us/step\n",
            "11501568/11490434 [==============================] - 0s 0us/step\n"
          ]
        }
      ]
    },
    {
      "cell_type": "code",
      "metadata": {
        "colab": {
          "base_uri": "https://localhost:8080/",
          "height": 417
        },
        "id": "xV6HEh3doT_Z",
        "outputId": "d5233d40-19c1-4eed-ec51-2bc06ca14154"
      },
      "source": [
        "fig=plt.figure(figsize=(6,7))\n",
        "for i in range(9):\n",
        "  plt.subplot(330 + 1 + i)\n",
        "  plt.imshow(X_train[i],cmap='gray')\n",
        "plt.show()"
      ],
      "execution_count": 220,
      "outputs": [
        {
          "output_type": "display_data",
          "data": {
            "image/png": "[encoded data removed]",
            "text/plain": [
              "<Figure size 432x504 with 9 Axes>"
            ]
          },
          "metadata": {
            "needs_background": "light"
          }
        }
      ]
    },
    {
      "cell_type": "markdown",
      "metadata": {
        "id": "5Jc6-gCWoGIN"
      },
      "source": [
        "# Loading and Pre Processing of model"
      ]
    },
    {
      "cell_type": "code",
      "metadata": {
        "colab": {
          "base_uri": "https://localhost:8080/"
        },
        "id": "sePymWdp6RxB",
        "outputId": "816822ec-de0b-4996-af40-16f0d8020910"
      },
      "source": [
        "X_train.shape , X_test.shape , y_train.shape ,y_test.shape"
      ],
      "execution_count": 6,
      "outputs": [
        {
          "output_type": "execute_result",
          "data": {
            "text/plain": [
              "((60000, 28, 28), (10000, 28, 28), (60000,), (10000,))"
            ]
          },
          "metadata": {},
          "execution_count": 6
        }
      ]
    },
    {
      "cell_type": "code",
      "metadata": {
        "id": "jJq0KGgr8GAN"
      },
      "source": [
        "def data_processing():\n",
        "  (X_train, y_train), (X_test, y_test) = mnist.load_data()\n",
        "  num_pixels=X_train.shape[1]*X_train.shape[2]\n",
        "  # reshape training model to sample x width x height x channel (gray scale has 1 channel )\n",
        "  X_train=X_train.reshape(X_train.shape[0], num_pixels).astype('float')\n",
        "  X_test=X_test.reshape(X_test.shape[0], num_pixels).astype('float')\n",
        "  # scaling to convert between 1 and 0\n",
        "  X_train=X_train/255\n",
        "  X_test=X_test/255\n",
        "  # chaning labels to one hot\n",
        "  y_train=to_categorical(y_train)\n",
        "  y_test=to_categorical(y_test)\n",
        "\n",
        "  return X_train, y_train, X_test, y_test\n"
      ],
      "execution_count": 5,
      "outputs": []
    },
    {
      "cell_type": "code",
      "metadata": {
        "id": "nB2_fXmNqYlh"
      },
      "source": [
        "X_train, y_train, X_test, y_test = data_processing()"
      ],
      "execution_count": 7,
      "outputs": []
    },
    {
      "cell_type": "code",
      "metadata": {
        "colab": {
          "base_uri": "https://localhost:8080/"
        },
        "id": "ezUcxkJVqpS_",
        "outputId": "34078632-7ea2-4e23-dbd3-47e5c1bcd379"
      },
      "source": [
        "X_train.shape , X_test.shape , y_train.shape ,y_test.shape"
      ],
      "execution_count": 8,
      "outputs": [
        {
          "output_type": "execute_result",
          "data": {
            "text/plain": [
              "((60000, 784), (10000, 784), (60000, 10), (10000, 10))"
            ]
          },
          "metadata": {},
          "execution_count": 8
        }
      ]
    },
    {
      "cell_type": "markdown",
      "metadata": {
        "id": "6ERhosmIrEQL"
      },
      "source": [
        "# Basel-line Model"
      ]
    },
    {
      "cell_type": "code",
      "metadata": {
        "id": "NKECStEurHTu"
      },
      "source": [
        "def base_line_model():\n",
        "  model=Sequential()\n",
        "  model.add(Dense(units=784,input_dim=784,activation='relu'))\n",
        "  \n",
        "  model.add(Dense(units=10,activation='softmax'))\n",
        "\n",
        "  model.compile(optimizer='adam', loss='categorical_crossentropy', metrics=['accuracy'])\n",
        "\n",
        "  return model"
      ],
      "execution_count": 49,
      "outputs": []
    },
    {
      "cell_type": "markdown",
      "metadata": {
        "id": "oe3ABSu_ruZ6"
      },
      "source": [
        "# Model Evaluation\n",
        " Actual test set is having 10 k samples.\n",
        " We will evaluate model using K-fold splits on the Training Set .This will further divide the Training set in training-test splits.\n",
        " \n",
        " Each test set will be 20% of the training dataset, or about 12,000 examples, close to the size of the actual test set for this problem."
      ]
    },
    {
      "cell_type": "code",
      "metadata": {
        "id": "5gs_M1v5sGXm"
      },
      "source": [
        "def evaluate_model(Xtrain, ytrain,model ):\n",
        "  # histories=[]\n",
        "  # scores=[]\n",
        "  scores, histories = list(), list()\n",
        "  \n",
        "  kfold=KFold(n_splits=3,shuffle=True,random_state=7)\n",
        "  for train_index , test_index in kfold.split(Xtrain):\n",
        "    X_train , y_train , X_test , y_test = Xtrain[train_index], ytrain[train_index] , Xtrain[test_index], ytrain[test_index]\n",
        "    history=model.fit(x=X_train, y= y_train, batch_size=200, epochs=3, verbose='auto', callbacks=None, validation_data=(X_test , y_test))\n",
        "    _ , acc=model.evaluate(x=X_test,y=y_test)\n",
        "    print('accuracy={}'.format(acc * 100.0))\n",
        "    histories.append(history)\n",
        "    scores.append(acc)\n",
        "  return histories , scores\n"
      ],
      "execution_count": 59,
      "outputs": []
    },
    {
      "cell_type": "markdown",
      "metadata": {
        "id": "Pgk5rZFnGsxq"
      },
      "source": [
        "# Running/Evaluating on Train Data"
      ]
    },
    {
      "cell_type": "code",
      "metadata": {
        "id": "lgnCRE7VQbP2"
      },
      "source": [
        "# run the test harness for evaluating a model\n",
        "def run_test_harness():\n",
        "  trainX, trainY, testX, testY = data_processing()\n",
        "  model=base_line_model()\n",
        "  scores , histories = evaluate_model(trainX, trainY,model)\n",
        "  return histories , scores"
      ],
      "execution_count": 60,
      "outputs": []
    },
    {
      "cell_type": "code",
      "metadata": {
        "colab": {
          "base_uri": "https://localhost:8080/"
        },
        "id": "MPIlhzquQeJY",
        "outputId": "14140266-eee0-4fcc-febe-e88a1543d56a"
      },
      "source": [
        " # entry point, run the test harness\n",
        "scc , histt=run_test_harness()"
      ],
      "execution_count": 61,
      "outputs": [
        {
          "output_type": "stream",
          "name": "stdout",
          "text": [
            "Epoch 1/3\n",
            "200/200 [==============================] - 4s 18ms/step - loss: 0.3359 - accuracy: 0.9045 - val_loss: 0.1871 - val_accuracy: 0.9470\n",
            "Epoch 2/3\n",
            "200/200 [==============================] - 3s 17ms/step - loss: 0.1403 - accuracy: 0.9596 - val_loss: 0.1359 - val_accuracy: 0.9607\n",
            "Epoch 3/3\n",
            "200/200 [==============================] - 5s 23ms/step - loss: 0.0938 - accuracy: 0.9730 - val_loss: 0.1103 - val_accuracy: 0.9686\n",
            "625/625 [==============================] - 3s 5ms/step - loss: 0.1103 - accuracy: 0.9686\n",
            "accuracy=96.85999751091003\n",
            "Epoch 1/3\n",
            "200/200 [==============================] - 4s 19ms/step - loss: 0.0838 - accuracy: 0.9768 - val_loss: 0.0645 - val_accuracy: 0.9808\n",
            "Epoch 2/3\n",
            "200/200 [==============================] - 3s 17ms/step - loss: 0.0591 - accuracy: 0.9831 - val_loss: 0.0587 - val_accuracy: 0.9822\n",
            "Epoch 3/3\n",
            "200/200 [==============================] - 3s 17ms/step - loss: 0.0409 - accuracy: 0.9894 - val_loss: 0.0545 - val_accuracy: 0.9836\n",
            "625/625 [==============================] - 2s 3ms/step - loss: 0.0545 - accuracy: 0.9836\n",
            "accuracy=98.36000204086304\n",
            "Epoch 1/3\n",
            "200/200 [==============================] - 4s 18ms/step - loss: 0.0478 - accuracy: 0.9858 - val_loss: 0.0291 - val_accuracy: 0.9923\n",
            "Epoch 2/3\n",
            "200/200 [==============================] - 3s 17ms/step - loss: 0.0301 - accuracy: 0.9923 - val_loss: 0.0333 - val_accuracy: 0.9897\n",
            "Epoch 3/3\n",
            "200/200 [==============================] - 3s 17ms/step - loss: 0.0207 - accuracy: 0.9955 - val_loss: 0.0358 - val_accuracy: 0.9885\n",
            "625/625 [==============================] - 2s 3ms/step - loss: 0.0358 - accuracy: 0.9885\n",
            "accuracy=98.84999990463257\n"
          ]
        }
      ]
    },
    {
      "cell_type": "code",
      "metadata": {
        "colab": {
          "base_uri": "https://localhost:8080/"
        },
        "id": "4Xcq4No6AD5g",
        "outputId": "69f9a3d5-d783-4301-dcfc-bb19fa64abd2"
      },
      "source": [
        "for i in histt:\n",
        "  print(i.history)"
      ],
      "execution_count": 62,
      "outputs": [
        {
          "output_type": "stream",
          "name": "stdout",
          "text": [
            "{'loss': [0.3358820676803589, 0.14028380811214447, 0.0937722772359848], 'accuracy': [0.9045249819755554, 0.9596499800682068, 0.9730499982833862], 'val_loss': [0.18711017072200775, 0.1358717828989029, 0.11031089723110199], 'val_accuracy': [0.9469500184059143, 0.9606500267982483, 0.9685999751091003]}\n",
            "{'loss': [0.08375811576843262, 0.05913476645946503, 0.04091188684105873], 'accuracy': [0.9767500162124634, 0.9830999970436096, 0.9893500208854675], 'val_loss': [0.0645098015666008, 0.058669596910476685, 0.05446600168943405], 'val_accuracy': [0.9807500243186951, 0.9822499752044678, 0.9836000204086304]}\n",
            "{'loss': [0.04775763303041458, 0.030078113079071045, 0.02072037197649479], 'accuracy': [0.9858499765396118, 0.9922999739646912, 0.9954500198364258], 'val_loss': [0.029117923229932785, 0.03329508379101753, 0.03584928438067436], 'val_accuracy': [0.9922999739646912, 0.9897000193595886, 0.9884999990463257]}\n"
          ]
        }
      ]
    },
    {
      "cell_type": "markdown",
      "metadata": {
        "id": "nxtV_omLMc6f"
      },
      "source": [
        "# Summarizing Results"
      ]
    },
    {
      "cell_type": "code",
      "metadata": {
        "id": "23WXCrqEP-5i"
      },
      "source": [
        "def summarize_diagnostics(histories):\n",
        "  ax,fig = plt.subplots(nrows=2,ncols=1,figsize=(8,8))\n",
        "  for i in range(len(histories)):\n",
        "    plt.subplot(2, 1, 1)\n",
        "    plt.title('Cross Entropy Loss')\n",
        "    plt.plot(histories[i].history['loss'], color='blue', label='train')\n",
        "    plt.plot(histories[i].history['val_loss'], color='orange', label='test')\n",
        "    # plot accuracy\n",
        "    plt.subplot(2, 1, 2)\n",
        "    plt.title('Classification Accuracy')\n",
        "    plt.plot(histories[i].history['accuracy'], color='blue', label='train')\n",
        "    plt.plot(histories[i].history['val_accuracy'], color='orange', label='test')\n",
        "  plt.show() #working\n",
        " "
      ],
      "execution_count": 99,
      "outputs": []
    },
    {
      "cell_type": "code",
      "metadata": {
        "colab": {
          "base_uri": "https://localhost:8080/",
          "height": 592
        },
        "id": "qiVb36t-M8OC",
        "outputId": "d8de47a7-2cf4-43a0-8712-bd0a8b741171"
      },
      "source": [
        "summarize_diagnostics(histt)"
      ],
      "execution_count": 100,
      "outputs": [
        {
          "output_type": "stream",
          "name": "stderr",
          "text": [
            "/usr/local/lib/python3.7/dist-packages/ipykernel_launcher.py:4: MatplotlibDeprecationWarning: Adding an axes using the same arguments as a previous axes currently reuses the earlier instance.  In a future version, a new instance will always be created and returned.  Meanwhile, this warning can be suppressed, and the future behavior ensured, by passing a unique label to each axes instance.\n",
            "  after removing the cwd from sys.path.\n",
            "/usr/local/lib/python3.7/dist-packages/ipykernel_launcher.py:9: MatplotlibDeprecationWarning: Adding an axes using the same arguments as a previous axes currently reuses the earlier instance.  In a future version, a new instance will always be created and returned.  Meanwhile, this warning can be suppressed, and the future behavior ensured, by passing a unique label to each axes instance.\n",
            "  if __name__ == '__main__':\n"
          ]
        },
        {
          "output_type": "display_data",
          "data": {
            "image/png": "[encoded data removed]",
            "text/plain": [
              "<Figure size 576x576 with 2 Axes>"
            ]
          },
          "metadata": {
            "needs_background": "light"
          }
        }
      ]
    },
    {
      "cell_type": "markdown",
      "metadata": {
        "id": "75wq5yB_S8NV"
      },
      "source": [
        "# **Summarize Model efficiency**"
      ]
    },
    {
      "cell_type": "code",
      "metadata": {
        "id": "UKdpFgyWTA_s"
      },
      "source": [
        "# summarize model performance\n",
        "def summarize_performance(scores):\n",
        "\t# print summary\n",
        "\tprint('Accuracy: mean=%.3f std=%.3f, n=%d' % (mean(scores)*100, std(scores)*100, len(scores)))\n",
        "\t# box and whisker plots of results\n",
        "\tpyplot.boxplot(scores)\n",
        "\tpyplot.show()"
      ],
      "execution_count": 108,
      "outputs": []
    },
    {
      "cell_type": "code",
      "metadata": {
        "colab": {
          "base_uri": "https://localhost:8080/",
          "height": 283
        },
        "id": "ReNayCsVTGhf",
        "outputId": "2704a18a-b80c-47a8-d88b-493e292fd742"
      },
      "source": [
        "summarize_performance(scc)"
      ],
      "execution_count": 109,
      "outputs": [
        {
          "output_type": "stream",
          "name": "stdout",
          "text": [
            "Accuracy: mean=98.023 std=0.847, n=3\n"
          ]
        },
        {
          "output_type": "display_data",
          "data": {
            "image/png": "[encoded data removed]",
            "text/plain": [
              "<Figure size 432x288 with 1 Axes>"
            ]
          },
          "metadata": {
            "needs_background": "light"
          }
        }
      ]
    },
    {
      "cell_type": "markdown",
      "metadata": {
        "id": "8IdyA0fvU68U"
      },
      "source": [
        "# **Saving the Final Model**\n",
        "# Steps\n",
        " \n",
        "\n",
        "1.   **Using different model architecture are used and Kfold cross validation is done**\n",
        "2.   **Best model architecture is found (in order to save time..this step is skipped in the notebook)**\n",
        "2.   **The final chosen architecutr of model is trained on the Full data (without using Kfold cross validation)**\n"
      ]
    },
    {
      "cell_type": "code",
      "metadata": {
        "id": "RgXL507IYOGn"
      },
      "source": [
        "# we skip Step1 and step2 and jumpt to step 3 here to save time\n",
        "# fit model\n",
        "\n",
        "X_train, y_train, X_test, y_test = data_processing()\n",
        "model=base_line_model()"
      ],
      "execution_count": 115,
      "outputs": []
    },
    {
      "cell_type": "code",
      "metadata": {
        "id": "Jn9dYG7XYSbV"
      },
      "source": [
        "# fit model\n",
        "history=model.fit(X_train, y_train, epochs=5, batch_size=64, verbose=0)"
      ],
      "execution_count": 116,
      "outputs": []
    },
    {
      "cell_type": "markdown",
      "metadata": {
        "id": "vir1ZghYvs4C"
      },
      "source": [
        "# **Saving Model & Training History(with acc & loss data )**"
      ]
    },
    {
      "cell_type": "code",
      "metadata": {
        "id": "7Ga2k7ZvYr92"
      },
      "source": [
        "# saving model\n",
        "\n",
        "path='/content/drive/MyDrive/20210309_Files/'\n",
        "model_path=path +'/digits_model1.h5'\n",
        "# saving model\n",
        "model.save(model_path,overwrite=True)\n",
        "\n",
        "# saving model history \n",
        "\n",
        "import json\n",
        "# # Get the dictionary containing each metric and the loss for each epoch\n",
        "history_dict = history.history\n",
        "\n",
        "# # Save it under the form of a json file\n",
        "history_path=path +'/history_digits_model1.json'\n",
        "json.dump(str(history_dict), open(history_path, 'w'))"
      ],
      "execution_count": 118,
      "outputs": []
    },
    {
      "cell_type": "markdown",
      "metadata": {
        "id": "HXIHvgkiR0R-"
      },
      "source": [
        "# **Using Model Evalutation (only) on the Test Data**\n",
        "## This time ,no training is required. Simply load the previously saved model (that was trainined using the training data)"
      ]
    },
    {
      "cell_type": "code",
      "metadata": {
        "colab": {
          "base_uri": "https://localhost:8080/"
        },
        "id": "TzM_KXLPFntr",
        "outputId": "8763bf19-8642-4c93-d694-65c5a5c71fd8"
      },
      "source": [
        "# run the test harness for evaluating a model\n",
        "# the only difference here is that we just load the previous model\n",
        "def run_test_harness():\n",
        "  trainX, trainY, testX, testY = data_processing()\n",
        "  from keras.models import load_model\n",
        "  model_path=path +'/digits_model1.h5'\n",
        "  loaded_model = load_model(model_path) \n",
        "  model=loaded_model\n",
        "  # we just use simple'evaluate\" method on test data(not the function 'model_evaluate')\n",
        "  loss, acc = model.evaluate(testX, testY)\n",
        "  print('Final modal accuracy={} loss={}'.format(acc*100, loss))\n",
        "  return histories , scores\n",
        "histories , scores=run_test_harness()"
      ],
      "execution_count": 222,
      "outputs": [
        {
          "output_type": "stream",
          "name": "stdout",
          "text": [
            "313/313 [==============================] - 1s 3ms/step - loss: 0.0580 - accuracy: 0.9821\n",
            "Final modal accuracy=98.21000099182129 loss=0.0579744428396225\n"
          ]
        }
      ]
    },
    {
      "cell_type": "code",
      "metadata": {
        "id": "z8DkoXRdIq9Y"
      },
      "source": [
        "# # Save it under the form of a json file\n",
        "history_path=path +'/history_digits_model1.json'\n",
        "json.dump(str(history_dict), open(history_path, 'w'))"
      ],
      "execution_count": null,
      "outputs": []
    },
    {
      "cell_type": "markdown",
      "metadata": {
        "id": "I62ifX1FdPrx"
      },
      "source": [
        "# Make prediction"
      ]
    },
    {
      "cell_type": "markdown",
      "metadata": {
        "id": "YF4DFJyudlWQ"
      },
      "source": [
        "## 1- Take few images\n",
        "Taking 6 images from the test data "
      ]
    },
    {
      "cell_type": "code",
      "metadata": {
        "colab": {
          "base_uri": "https://localhost:8080/",
          "height": 484
        },
        "id": "eu45RFrwdwqz",
        "outputId": "10c0018f-3bdb-4f43-fcfa-0bbc3112670d"
      },
      "source": [
        "(X_train, y_train), (X_test, y_test) = mnist.load_data()\n",
        "fig = plt.figure(figsize=(8,8))\n",
        "for i in range(6):\n",
        "\t# define subplot\n",
        "\tplt.subplot(320 + 1 + i)\n",
        "\t# plot raw pixel data\n",
        "\tplt.imshow(X_test[i], cmap=plt.get_cmap('gray'))\n",
        "# show the figure\n",
        "plt.show()"
      ],
      "execution_count": 214,
      "outputs": [
        {
          "output_type": "display_data",
          "data": {
            "image/png": "[encoded data removed]",
            "text/plain": [
              "<Figure size 576x576 with 6 Axes>"
            ]
          },
          "metadata": {
            "needs_background": "light"
          }
        }
      ]
    },
    {
      "cell_type": "markdown",
      "metadata": {
        "id": "84c-1vYRqIxj"
      },
      "source": [
        "## 2-Load the save model"
      ]
    },
    {
      "cell_type": "code",
      "metadata": {
        "id": "_7XbCrFvmkFE"
      },
      "source": [
        "from keras.models import load_model \n",
        "model_path=path +'/digits_model1.h5'\n",
        "loaded_model = load_model(model_path) \n",
        "\n",
        "# Predict on the first 5 test images.\n",
        "predictions = loaded_model.predict(X_test[:6])\n",
        "# Print our model's predictions.\n",
        "import numpy as np\n",
        "print(np.argmax(predictions, axis=1)) # [7, 2, 1, 0, 4,1]\n"
      ],
      "execution_count": 196,
      "outputs": []
    },
    {
      "cell_type": "code",
      "metadata": {
        "colab": {
          "base_uri": "https://localhost:8080/"
        },
        "id": "tR2POxTFnF21",
        "outputId": "8aa22ae1-aa06-4054-af68-daa8022dbaea"
      },
      "source": [
        "# Check our predictions against the ground truths.\n",
        "print(np.argmax(y_test[:6],axis=1)) # [7, 2, 1, 0, 4]"
      ],
      "execution_count": 198,
      "outputs": [
        {
          "output_type": "stream",
          "name": "stdout",
          "text": [
            "[7 2 1 0 4 1]\n"
          ]
        }
      ]
    },
    {
      "cell_type": "markdown",
      "metadata": {
        "id": "bnz1J9O7JWtt"
      },
      "source": [
        "# **Loading History of Accuracy and Losses of the Model**"
      ]
    },
    {
      "cell_type": "code",
      "metadata": {
        "id": "ELxyCNhHJXqU"
      },
      "source": [
        "history_path=path +'/history_digits_model1.json'\n",
        "history= json.load(open(history_path, 'r'))"
      ],
      "execution_count": 215,
      "outputs": []
    },
    {
      "cell_type": "markdown",
      "metadata": {
        "id": "4_egwDz_Jn7v"
      },
      "source": [
        "### The loaded history is in String format.Converting it back to dictionary"
      ]
    },
    {
      "cell_type": "code",
      "metadata": {
        "id": "BlCYYO0xJob2"
      },
      "source": [
        "# The loaded history is in String format.Converting it back to\n",
        "# dictionary\n",
        "import ast\n",
        "history_1=ast.literal_eval(history)"
      ],
      "execution_count": 216,
      "outputs": []
    },
    {
      "cell_type": "code",
      "metadata": {
        "colab": {
          "base_uri": "https://localhost:8080/",
          "height": 545
        },
        "id": "-ex2tS0bJzyd",
        "outputId": "f096d0f9-45ce-4d79-de7b-d7534e6ac226"
      },
      "source": [
        "### .\n",
        "acc = history_1['accuracy']\n",
        "#acc=np.array(acc)\n",
        "\n",
        "#val_acc=np.array(val_acc)\n",
        "loss = history_1['loss']\n",
        "\n",
        "epochs = range(1, len(acc) + 1)\n",
        "acc=np.array(acc)\n",
        "\n",
        "plt.plot(epochs, np.array(acc), 'r', label='Training acc')\n",
        "\n",
        "plt.title('Training  accuracy')\n",
        "plt.legend()\n",
        "plt.figure()\n",
        "plt.plot(epochs, loss, 'r', label='Training loss')\n",
        "\n",
        "plt.title('Training  loss')\n",
        "plt.legend()\n",
        "plt.show()"
      ],
      "execution_count": 217,
      "outputs": [
        {
          "output_type": "display_data",
          "data": {
            "image/png": "[encoded data removed]",
            "text/plain": [
              "<Figure size 432x288 with 1 Axes>"
            ]
          },
          "metadata": {
            "needs_background": "light"
          }
        },
        {
          "output_type": "display_data",
          "data": {
            "image/png": "[encoded data removed]",
            "text/plain": [
              "<Figure size 432x288 with 1 Axes>"
            ]
          },
          "metadata": {
            "needs_background": "light"
          }
        }
      ]
    }
  ]
}