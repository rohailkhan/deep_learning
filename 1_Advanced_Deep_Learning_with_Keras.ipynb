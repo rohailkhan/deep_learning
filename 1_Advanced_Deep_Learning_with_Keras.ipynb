{
  "nbformat": 4,
  "nbformat_minor": 0,
  "metadata": {
    "colab": {
      "name": "1 Advanced  Deep Learning with Keras",
      "provenance": [],
      "collapsed_sections": [
        "IFn-tZ5BQRO6",
        "fQ3JGVnEZntl",
        "WBom6KhdDGvQ",
        "UOJgHENOGNer"
      ],
      "authorship_tag": "ABX9TyO5lRaBg8hIExgEkGcbYBbb",
      "include_colab_link": true
    },
    "kernelspec": {
      "name": "python3",
      "display_name": "Python 3"
    }
  },
  "cells": [
    {
      "cell_type": "markdown",
      "metadata": {
        "id": "view-in-github",
        "colab_type": "text"
      },
      "source": [
        "<a href=\"https://colab.research.google.com/github/rohailkhan/deep_learning/blob/master/1_Advanced_Deep_Learning_with_Keras.ipynb\" target=\"_parent\"><img src=\"https://colab.research.google.com/assets/colab-badge.svg\" alt=\"Open In Colab\"/></a>"
      ]
    },
    {
      "cell_type": "code",
      "metadata": {
        "id": "EjrzeW3WsnVD",
        "colab_type": "code",
        "colab": {}
      },
      "source": [
        "from keras.layers import Input , Dense\n",
        "from keras.models import Sequential\n",
        "from keras.optimizers import Adam"
      ],
      "execution_count": 0,
      "outputs": []
    },
    {
      "cell_type": "code",
      "metadata": {
        "id": "lkR31ZKYuMZz",
        "colab_type": "code",
        "colab": {}
      },
      "source": [
        "input_tensor=Input(shape=(1,))"
      ],
      "execution_count": 0,
      "outputs": []
    },
    {
      "cell_type": "code",
      "metadata": {
        "id": "Ks5Y1Jxtzb_S",
        "colab_type": "code",
        "colab": {}
      },
      "source": [
        "output_tensor=Dense(1)(input_tensor)"
      ],
      "execution_count": 0,
      "outputs": []
    },
    {
      "cell_type": "code",
      "metadata": {
        "id": "0MrZvsNxuJsg",
        "colab_type": "code",
        "colab": {}
      },
      "source": [
        "from keras.models import Model\n",
        "model=Model(input_tensor,output_tensor)"
      ],
      "execution_count": 0,
      "outputs": []
    },
    {
      "cell_type": "code",
      "metadata": {
        "id": "GoXs4mfSugPG",
        "colab_type": "code",
        "colab": {}
      },
      "source": [
        " model.compile(optimizer=Adam(learning_rate=0.001),loss='mean_absolute_error')"
      ],
      "execution_count": 0,
      "outputs": []
    },
    {
      "cell_type": "code",
      "metadata": {
        "id": "A2UcE789u8tQ",
        "colab_type": "code",
        "colab": {
          "base_uri": "https://localhost:8080/",
          "height": 269
        },
        "outputId": "7b05be34-a00b-4a79-b530-2b77cefd9376"
      },
      "source": [
        "import matplotlib.pyplot as plt\n",
        "from keras.utils import plot_model\n",
        "plot_model(model,to_file='model.png')\n",
        "data=plt.imread('model.png')\n",
        "plt.imshow(data)\n",
        "plt.show()"
      ],
      "execution_count": 7,
      "outputs": [
        {
          "output_type": "display_data",
          "data": {
            "image/png": "[encoded data removed]",
            "text/plain": [
              "<Figure size 432x288 with 1 Axes>"
            ]
          },
          "metadata": {
            "tags": [],
            "needs_background": "light"
          }
        }
      ]
    },
    {
      "cell_type": "markdown",
      "metadata": {
        "id": "nbtBBQwB_iiP",
        "colab_type": "text"
      },
      "source": [
        ""
      ]
    },
    {
      "cell_type": "code",
      "metadata": {
        "id": "MIeV5zAnuTFV",
        "colab_type": "code",
        "colab": {
          "base_uri": "https://localhost:8080/",
          "height": 112
        },
        "outputId": "0f8016a2-e4a4-40f7-a5e8-5a1970dc4f41"
      },
      "source": [
        "import pandas as pd\n",
        "games_tourney=pd.read_csv('games_tourney.csv')\n",
        "games_tourney.head(2)"
      ],
      "execution_count": 10,
      "outputs": [
        {
          "output_type": "execute_result",
          "data": {
            "text/html": [
              "<div>\n",
              "<style scoped>\n",
              "    .dataframe tbody tr th:only-of-type {\n",
              "        vertical-align: middle;\n",
              "    }\n",
              "\n",
              "    .dataframe tbody tr th {\n",
              "        vertical-align: top;\n",
              "    }\n",
              "\n",
              "    .dataframe thead th {\n",
              "        text-align: right;\n",
              "    }\n",
              "</style>\n",
              "<table border=\"1\" class=\"dataframe\">\n",
              "  <thead>\n",
              "    <tr style=\"text-align: right;\">\n",
              "      <th></th>\n",
              "      <th>season</th>\n",
              "      <th>team_1</th>\n",
              "      <th>team_2</th>\n",
              "      <th>home</th>\n",
              "      <th>seed_diff</th>\n",
              "      <th>score_diff</th>\n",
              "      <th>score_1</th>\n",
              "      <th>score_2</th>\n",
              "      <th>won</th>\n",
              "    </tr>\n",
              "  </thead>\n",
              "  <tbody>\n",
              "    <tr>\n",
              "      <th>0</th>\n",
              "      <td>1985</td>\n",
              "      <td>288</td>\n",
              "      <td>73</td>\n",
              "      <td>0</td>\n",
              "      <td>-3</td>\n",
              "      <td>-9</td>\n",
              "      <td>41</td>\n",
              "      <td>50</td>\n",
              "      <td>0</td>\n",
              "    </tr>\n",
              "    <tr>\n",
              "      <th>1</th>\n",
              "      <td>1985</td>\n",
              "      <td>5929</td>\n",
              "      <td>73</td>\n",
              "      <td>0</td>\n",
              "      <td>4</td>\n",
              "      <td>6</td>\n",
              "      <td>61</td>\n",
              "      <td>55</td>\n",
              "      <td>1</td>\n",
              "    </tr>\n",
              "  </tbody>\n",
              "</table>\n",
              "</div>"
            ],
            "text/plain": [
              "   season  team_1  team_2  home  seed_diff  score_diff  score_1  score_2  won\n",
              "0    1985     288      73     0         -3          -9       41       50    0\n",
              "1    1985    5929      73     0          4           6       61       55    1"
            ]
          },
          "metadata": {
            "tags": []
          },
          "execution_count": 10
        }
      ]
    },
    {
      "cell_type": "code",
      "metadata": {
        "id": "77nyy57r0b4S",
        "colab_type": "code",
        "colab": {}
      },
      "source": [
        "games_tourney.shape\n",
        "4234-3430"
      ],
      "execution_count": 0,
      "outputs": []
    },
    {
      "cell_type": "code",
      "metadata": {
        "id": "71CcyoXc0nso",
        "colab_type": "code",
        "colab": {
          "base_uri": "https://localhost:8080/",
          "height": 36
        },
        "outputId": "78027b30-795f-4678-ed1d-89ca81354459"
      },
      "source": [
        "print(games_tourney[:-804].shape)\n",
        "games_tourney_train=games_tourney[:-804]"
      ],
      "execution_count": 12,
      "outputs": [
        {
          "output_type": "stream",
          "text": [
            "(3430, 9)\n"
          ],
          "name": "stdout"
        }
      ]
    },
    {
      "cell_type": "code",
      "metadata": {
        "id": "CA6Y8gqeuuuC",
        "colab_type": "code",
        "colab": {
          "base_uri": "https://localhost:8080/",
          "height": 73
        },
        "outputId": "cfe188c2-a37f-44d6-c755-61efd8c5a8cf"
      },
      "source": [
        "history=model.fit(x=games_tourney_train['seed_diff'],y=games_tourney_train['score_diff'],epochs=1,\n",
        "          batch_size=128,validation_split=0.1,verbose=True)"
      ],
      "execution_count": 13,
      "outputs": [
        {
          "output_type": "stream",
          "text": [
            "Train on 3087 samples, validate on 343 samples\n",
            "Epoch 1/1\n",
            "3087/3087 [==============================] - 0s 78us/step - loss: 9.1908 - val_loss: 8.5082\n"
          ],
          "name": "stdout"
        }
      ]
    },
    {
      "cell_type": "code",
      "metadata": {
        "id": "apqnuffb0arh",
        "colab_type": "code",
        "colab": {
          "base_uri": "https://localhost:8080/",
          "height": 36
        },
        "outputId": "523e1439-f8a3-4877-dd38-927ea7b387a2"
      },
      "source": [
        "print(games_tourney[:-804].shape,games_tourney[:804].shape)\n",
        "games_tourney_test=games_tourney[:804]"
      ],
      "execution_count": 14,
      "outputs": [
        {
          "output_type": "stream",
          "text": [
            "(3430, 9) (804, 9)\n"
          ],
          "name": "stdout"
        }
      ]
    },
    {
      "cell_type": "code",
      "metadata": {
        "id": "X0kmp2-hzNu-",
        "colab_type": "code",
        "colab": {
          "base_uri": "https://localhost:8080/",
          "height": 36
        },
        "outputId": "062e9d5d-34a3-46a1-de55-68345c4d0a82"
      },
      "source": [
        "x_test=games_tourney_test['seed_diff']\n",
        "y_test=games_tourney_test['score_diff']\n",
        "print(model.evaluate(x_test,y_test,verbose=False))"
      ],
      "execution_count": 15,
      "outputs": [
        {
          "output_type": "stream",
          "text": [
            "8.785781713267465\n"
          ],
          "name": "stdout"
        }
      ]
    },
    {
      "cell_type": "code",
      "metadata": {
        "id": "8wb9sWPK32wc",
        "colab_type": "code",
        "colab": {}
      },
      "source": [
        "X=games_tourney['seed_diff']\n",
        "y=games_tourney['score_diff']\n"
      ],
      "execution_count": 0,
      "outputs": []
    },
    {
      "cell_type": "code",
      "metadata": {
        "id": "lHrNZFiU3RJ2",
        "colab_type": "code",
        "colab": {}
      },
      "source": [
        "# if i split the data using scikit learn\n",
        "from sklearn.model_selection import train_test_split\n",
        "\n",
        "X_train, X_test, y_train, y_test = train_test_split(X,y,\n",
        "test_size=0.234402,random_state=42)"
      ],
      "execution_count": 0,
      "outputs": []
    },
    {
      "cell_type": "code",
      "metadata": {
        "id": "-na0VHqJz8oR",
        "colab_type": "code",
        "outputId": "95b8eeda-6daf-44a8-b8e3-d0979bedfd4e",
        "colab": {
          "base_uri": "https://localhost:8080/",
          "height": 223
        }
      },
      "source": [
        "history=model.fit(X_train,y_train,epochs=5,\n",
        "          batch_size=128,validation_split=0.1,verbose=True)"
      ],
      "execution_count": 18,
      "outputs": [
        {
          "output_type": "stream",
          "text": [
            "Train on 2916 samples, validate on 325 samples\n",
            "Epoch 1/5\n",
            "2916/2916 [==============================] - 0s 11us/step - loss: 9.1209 - val_loss: 8.8385\n",
            "Epoch 2/5\n",
            "2916/2916 [==============================] - 0s 11us/step - loss: 9.1210 - val_loss: 8.8397\n",
            "Epoch 3/5\n",
            "2916/2916 [==============================] - 0s 10us/step - loss: 9.1207 - val_loss: 8.8399\n",
            "Epoch 4/5\n",
            "2916/2916 [==============================] - 0s 9us/step - loss: 9.1207 - val_loss: 8.8389\n",
            "Epoch 5/5\n",
            "2916/2916 [==============================] - 0s 8us/step - loss: 9.1207 - val_loss: 8.8405\n"
          ],
          "name": "stdout"
        }
      ]
    },
    {
      "cell_type": "code",
      "metadata": {
        "id": "JbhFtXqW5pbX",
        "colab_type": "code",
        "colab": {}
      },
      "source": [
        "print(model.evaluate(X_test,y_test,verbose=False))"
      ],
      "execution_count": 0,
      "outputs": []
    },
    {
      "cell_type": "code",
      "metadata": {
        "id": "de1woMRHAeRC",
        "colab_type": "code",
        "colab": {}
      },
      "source": [
        "from keras.callbacks import EarlyStopping , ModelCheckpoint"
      ],
      "execution_count": 0,
      "outputs": []
    },
    {
      "cell_type": "code",
      "metadata": {
        "id": "3k4y-xaeAlnO",
        "colab_type": "code",
        "colab": {}
      },
      "source": [
        "early=EarlyStopping(monitor='val_loss',patience=3)\n",
        "check=ModelCheckpoint(monitor='val_loss',save_best_only=True,filepath='best.hdf5')"
      ],
      "execution_count": 0,
      "outputs": []
    },
    {
      "cell_type": "code",
      "metadata": {
        "id": "L8Y5V60eAkUF",
        "colab_type": "code",
        "colab": {
          "base_uri": "https://localhost:8080/",
          "height": 185
        },
        "outputId": "203bcef0-a469-447e-9636-5d9b468ecc21"
      },
      "source": [
        "history=model.fit(X_train,y_train,epochs=1000,\n",
        "          batch_size=128,validation_split=0.1,verbose=True,callbacks=[early,check])"
      ],
      "execution_count": 21,
      "outputs": [
        {
          "output_type": "stream",
          "text": [
            "Train on 2916 samples, validate on 325 samples\n",
            "Epoch 1/1000\n",
            "2916/2916 [==============================] - 0s 9us/step - loss: 9.1205 - val_loss: 8.8396\n",
            "Epoch 2/1000\n",
            "2916/2916 [==============================] - 0s 9us/step - loss: 9.1203 - val_loss: 8.8414\n",
            "Epoch 3/1000\n",
            "2916/2916 [==============================] - 0s 9us/step - loss: 9.1201 - val_loss: 8.8415\n",
            "Epoch 4/1000\n",
            "2916/2916 [==============================] - 0s 9us/step - loss: 9.1202 - val_loss: 8.8424\n"
          ],
          "name": "stdout"
        }
      ]
    },
    {
      "cell_type": "code",
      "metadata": {
        "id": "hZ9DPSK9p-0x",
        "colab_type": "code",
        "colab": {}
      },
      "source": [
        "from keras.models import load_model"
      ],
      "execution_count": 0,
      "outputs": []
    },
    {
      "cell_type": "code",
      "metadata": {
        "id": "KMltCeBYn3ZY",
        "colab_type": "code",
        "colab": {}
      },
      "source": [
        "model_best = load_model('best.hdf5')"
      ],
      "execution_count": 0,
      "outputs": []
    },
    {
      "cell_type": "code",
      "metadata": {
        "id": "fZqCea9mqCg4",
        "colab_type": "code",
        "colab": {
          "base_uri": "https://localhost:8080/",
          "height": 36
        },
        "outputId": "36c5845a-123f-4b80-9a4d-91f9de890fd0"
      },
      "source": [
        "print(model_best.evaluate(X_test,y_test,verbose=False))"
      ],
      "execution_count": 24,
      "outputs": [
        {
          "output_type": "stream",
          "text": [
            "9.314800708075424\n"
          ],
          "name": "stdout"
        }
      ]
    },
    {
      "cell_type": "markdown",
      "metadata": {
        "id": "ijgrFNTfAIUk",
        "colab_type": "text"
      },
      "source": [
        "# CHP 2: Two Input Networks Using Categorical Embeddings, Shared Layers, and Merge Layers"
      ]
    },
    {
      "cell_type": "markdown",
      "metadata": {
        "id": "SYL2npYrAq-H",
        "colab_type": "text"
      },
      "source": [
        "games_season.csv"
      ]
    },
    {
      "cell_type": "code",
      "metadata": {
        "id": "OXd-fLoWznY9",
        "colab_type": "code",
        "colab": {}
      },
      "source": [
        "from keras.layers import Embedding ,Input,Flatten\n",
        "from numpy import unique\n",
        "import numpy as np"
      ],
      "execution_count": 0,
      "outputs": []
    },
    {
      "cell_type": "code",
      "metadata": {
        "id": "ulAU9FdEBalt",
        "colab_type": "code",
        "colab": {
          "base_uri": "https://localhost:8080/",
          "height": 112
        },
        "outputId": "3a213116-9511-4f34-b05e-81988b53c130"
      },
      "source": [
        "games_season=pd.read_csv('games_season.csv')\n",
        "games_season.head(2)"
      ],
      "execution_count": 30,
      "outputs": [
        {
          "output_type": "execute_result",
          "data": {
            "text/html": [
              "<div>\n",
              "<style scoped>\n",
              "    .dataframe tbody tr th:only-of-type {\n",
              "        vertical-align: middle;\n",
              "    }\n",
              "\n",
              "    .dataframe tbody tr th {\n",
              "        vertical-align: top;\n",
              "    }\n",
              "\n",
              "    .dataframe thead th {\n",
              "        text-align: right;\n",
              "    }\n",
              "</style>\n",
              "<table border=\"1\" class=\"dataframe\">\n",
              "  <thead>\n",
              "    <tr style=\"text-align: right;\">\n",
              "      <th></th>\n",
              "      <th>season</th>\n",
              "      <th>team_1</th>\n",
              "      <th>team_2</th>\n",
              "      <th>home</th>\n",
              "      <th>score_diff</th>\n",
              "      <th>score_1</th>\n",
              "      <th>score_2</th>\n",
              "      <th>won</th>\n",
              "    </tr>\n",
              "  </thead>\n",
              "  <tbody>\n",
              "    <tr>\n",
              "      <th>0</th>\n",
              "      <td>1985</td>\n",
              "      <td>3745</td>\n",
              "      <td>6664</td>\n",
              "      <td>0</td>\n",
              "      <td>17</td>\n",
              "      <td>81</td>\n",
              "      <td>64</td>\n",
              "      <td>1</td>\n",
              "    </tr>\n",
              "    <tr>\n",
              "      <th>1</th>\n",
              "      <td>1985</td>\n",
              "      <td>126</td>\n",
              "      <td>7493</td>\n",
              "      <td>1</td>\n",
              "      <td>7</td>\n",
              "      <td>77</td>\n",
              "      <td>70</td>\n",
              "      <td>1</td>\n",
              "    </tr>\n",
              "  </tbody>\n",
              "</table>\n",
              "</div>"
            ],
            "text/plain": [
              "   season  team_1  team_2  home  score_diff  score_1  score_2  won\n",
              "0    1985    3745    6664     0          17       81       64    1\n",
              "1    1985     126    7493     1           7       77       70    1"
            ]
          },
          "metadata": {
            "tags": []
          },
          "execution_count": 30
        }
      ]
    },
    {
      "cell_type": "code",
      "metadata": {
        "id": "TIHTtRFwH3WU",
        "colab_type": "code",
        "colab": {}
      },
      "source": [
        "n_teams=np.unique(games_season.team_1).shape[0]\n",
        "# input layer from the Team ID\n",
        "teamid_in=Input(shape=(1,))"
      ],
      "execution_count": 0,
      "outputs": []
    },
    {
      "cell_type": "code",
      "metadata": {
        "id": "6cvj4dIpH3nJ",
        "colab_type": "code",
        "colab": {}
      },
      "source": [
        "# embedding layer\n",
        "team_lookup=Embedding(input_dim=n_teams,output_dim=1,input_length=1,name='Team-strength')"
      ],
      "execution_count": 0,
      "outputs": []
    },
    {
      "cell_type": "code",
      "metadata": {
        "id": "PZWhD4wdb4bf",
        "colab_type": "code",
        "colab": {}
      },
      "source": [
        "strength_lookup=team_lookup(teamid_in)"
      ],
      "execution_count": 0,
      "outputs": []
    },
    {
      "cell_type": "code",
      "metadata": {
        "id": "I_nVdXrwH3wF",
        "colab_type": "code",
        "colab": {}
      },
      "source": [
        "strength_lookup_flatten=Flatten()(strength_lookup)"
      ],
      "execution_count": 0,
      "outputs": []
    },
    {
      "cell_type": "code",
      "metadata": {
        "id": "9mWtIzRgH3su",
        "colab_type": "code",
        "colab": {}
      },
      "source": [
        "team_strength_model=Model(teamid_in,strength_lookup_flatten,name='Team_Stregth_Model')"
      ],
      "execution_count": 0,
      "outputs": []
    },
    {
      "cell_type": "code",
      "metadata": {
        "id": "lJvkpzYlcdHq",
        "colab_type": "code",
        "colab": {
          "base_uri": "https://localhost:8080/",
          "height": 269
        },
        "outputId": "4acd5dd6-99b4-4d65-d42c-680e7bab3d0e"
      },
      "source": [
        "import matplotlib.pyplot as plt\n",
        "from keras.utils import plot_model\n",
        "plot_model(team_strength_model,to_file='model2.png')\n",
        "data=plt.imread('model2.png')\n",
        "plt.imshow(data)\n",
        "plt.show()"
      ],
      "execution_count": 75,
      "outputs": [
        {
          "output_type": "display_data",
          "data": {
            "image/png": "[encoded data removed]",
            "text/plain": [
              "<Figure size 432x288 with 1 Axes>"
            ]
          },
          "metadata": {
            "tags": [],
            "needs_background": "light"
          }
        }
      ]
    },
    {
      "cell_type": "markdown",
      "metadata": {
        "id": "_m4SjR7OeRm3",
        "colab_type": "text"
      },
      "source": [
        "## Shared layers"
      ]
    },
    {
      "cell_type": "code",
      "metadata": {
        "id": "89I7PDx-eLQO",
        "colab_type": "code",
        "colab": {}
      },
      "source": [
        "\n",
        "from keras.layers import Input"
      ],
      "execution_count": 0,
      "outputs": []
    },
    {
      "cell_type": "code",
      "metadata": {
        "id": "A2OG0zpXfVt1",
        "colab_type": "code",
        "colab": {}
      },
      "source": [
        "team_in_1=Input(shape=(1,),name='Team-1-In')\n",
        "team_in_2=Input(shape=(1,),name='Team-2-In')"
      ],
      "execution_count": 0,
      "outputs": []
    },
    {
      "cell_type": "code",
      "metadata": {
        "id": "spvq8KgKfWEd",
        "colab_type": "code",
        "colab": {}
      },
      "source": [
        "team_1_strength=team_strength_model(team_in_1)\n",
        "team_2_strength=team_strength_model(team_in_2)"
      ],
      "execution_count": 0,
      "outputs": []
    },
    {
      "cell_type": "markdown",
      "metadata": {
        "id": "12FKzbxJhYf5",
        "colab_type": "text"
      },
      "source": [
        "## After sharing layers in a same model we merge them n then use them in a new model"
      ]
    },
    {
      "cell_type": "code",
      "metadata": {
        "id": "VuMsCzgrfWP7",
        "colab_type": "code",
        "colab": {}
      },
      "source": [
        "# Import the Subtract layer from keras\n",
        "from keras.layers import Subtract\n",
        "score_diff=Subtract()([team_1_strength,team_2_strength])"
      ],
      "execution_count": 0,
      "outputs": []
    },
    {
      "cell_type": "code",
      "metadata": {
        "id": "O7n4S9s9fWWr",
        "colab_type": "code",
        "colab": {}
      },
      "source": [
        "model=Model([team_in_1,team_in_2],score_diff)"
      ],
      "execution_count": 0,
      "outputs": []
    },
    {
      "cell_type": "code",
      "metadata": {
        "id": "Jcx95HgzfWgq",
        "colab_type": "code",
        "colab": {}
      },
      "source": [
        "model.compile(optimizer='adam',loss='mean_absolute_error',)"
      ],
      "execution_count": 0,
      "outputs": []
    },
    {
      "cell_type": "code",
      "metadata": {
        "id": "uoz34pupfWcw",
        "colab_type": "code",
        "colab": {}
      },
      "source": [
        ""
      ],
      "execution_count": 0,
      "outputs": []
    },
    {
      "cell_type": "markdown",
      "metadata": {
        "id": "95n3UQfAWxfb",
        "colab_type": "text"
      },
      "source": [
        "## Model of 2 inputs with the required shapes and ouputs made.Now feed it with real inputs"
      ]
    },
    {
      "cell_type": "code",
      "metadata": {
        "id": "wsF8WDSnRJKN",
        "colab_type": "code",
        "colab": {}
      },
      "source": [
        "input_1=games_season['team_1']\n",
        "input_2=games_season['team_2']"
      ],
      "execution_count": 0,
      "outputs": []
    },
    {
      "cell_type": "code",
      "metadata": {
        "id": "s-AWZ1WRRJkK",
        "colab_type": "code",
        "colab": {
          "base_uri": "https://localhost:8080/",
          "height": 149
        },
        "outputId": "7f0873b6-d283-4499-e3e4-fc32302a3f76"
      },
      "source": [
        "model.fit([input_1,input_2],games_season['score_diff'],epochs=1,batch_size=2048,validation_split=0.1,verbose=True)"
      ],
      "execution_count": 46,
      "outputs": [
        {
          "output_type": "stream",
          "text": [
            "/usr/local/lib/python3.6/dist-packages/tensorflow/python/framework/indexed_slices.py:434: UserWarning: Converting sparse IndexedSlices to a dense Tensor of unknown shape. This may consume a large amount of memory.\n",
            "  \"Converting sparse IndexedSlices to a dense Tensor of unknown shape. \"\n"
          ],
          "name": "stderr"
        },
        {
          "output_type": "stream",
          "text": [
            "Train on 280960 samples, validate on 31218 samples\n",
            "Epoch 1/1\n",
            "280960/280960 [==============================] - 0s 2us/step - loss: 12.1202 - val_loss: 11.8379\n"
          ],
          "name": "stdout"
        },
        {
          "output_type": "execute_result",
          "data": {
            "text/plain": [
              "<keras.callbacks.callbacks.History at 0x7f7e4b399390>"
            ]
          },
          "metadata": {
            "tags": []
          },
          "execution_count": 46
        }
      ]
    },
    {
      "cell_type": "markdown",
      "metadata": {
        "id": "WYAnTONgYUwG",
        "colab_type": "text"
      },
      "source": [
        "# New Section 3 Multiple Inputs: 3 Inputs (and Beyond!)\n",
        "**You know there is a well-documented home-team advantage in basketball, so you will add a new input to your model to capture this effect.**\n",
        "The team_strength_model you used in the previous chapter has been loaded into your workspace. After applying it to each input, use a Concatenate layer to join the two team strengths and with the home vs away variable, and pass the result to a Dense layer."
      ]
    },
    {
      "cell_type": "code",
      "metadata": {
        "id": "6omMiD-ERI5z",
        "colab_type": "code",
        "colab": {}
      },
      "source": [
        "# now we make 3 input model...we first use the embedding model of team-strength fro both inputs\n",
        "# and then join them using conatenate...then use dense layer to make an output tensor\n",
        "# Create an Input for each team\n",
        "team_in_1 = Input(shape=(1,), name='Team-1-In')\n",
        "team_in_2 = Input(shape=(1,), name='Team-2-In')\n",
        "\n",
        "# Create an input for home vs away\n",
        "home_in = Input(shape=(1,), name='Home-In')\n",
        "\n"
      ],
      "execution_count": 0,
      "outputs": []
    },
    {
      "cell_type": "code",
      "metadata": {
        "colab_type": "code",
        "outputId": "3c1e3f95-a8ac-4282-fb8e-dc3317ddd3e1",
        "id": "0VMxOc4Yc66R",
        "colab": {
          "base_uri": "https://localhost:8080/",
          "height": 269
        }
      },
      "source": [
        "import matplotlib.pyplot as plt\n",
        "from keras.utils import plot_model\n",
        "plot_model(team_strength_model,to_file='model2.png')\n",
        "data=plt.imread('model2.png')\n",
        "plt.imshow(data)\n",
        "plt.show()"
      ],
      "execution_count": 76,
      "outputs": [
        {
          "output_type": "display_data",
          "data": {
            "image/png": "[encoded data removed]",
            "text/plain": [
              "<Figure size 432x288 with 1 Axes>"
            ]
          },
          "metadata": {
            "tags": [],
            "needs_background": "light"
          }
        }
      ]
    },
    {
      "cell_type": "code",
      "metadata": {
        "id": "4wBjH3PndDgd",
        "colab_type": "code",
        "colab": {}
      },
      "source": [
        "# Lookup the team inputs in the team strength model\n",
        "team_1_strength = team_strength_model(team_in_1)\n",
        "team_2_strength = team_strength_model(team_in_2)"
      ],
      "execution_count": 0,
      "outputs": []
    },
    {
      "cell_type": "code",
      "metadata": {
        "id": "yHpwWFnEa5Cs",
        "colab_type": "code",
        "colab": {}
      },
      "source": [
        "# Combine the team strengths with the home input using a Concatenate layer, then add a Dense layer\n",
        "from keras.layers import add ,Concatenate\n",
        "out = Concatenate()([team_1_strength, team_2_strength, home_in] )\n",
        "out = Dense(1)(out)"
      ],
      "execution_count": 0,
      "outputs": []
    },
    {
      "cell_type": "code",
      "metadata": {
        "id": "PaxA1mcze4eh",
        "colab_type": "code",
        "colab": {}
      },
      "source": [
        "# Import the model class\n",
        "from keras.models import Model\n",
        "\n",
        "# Make a Model\n",
        "model = Model([team_in_1, team_in_2, home_in], out)"
      ],
      "execution_count": 0,
      "outputs": []
    },
    {
      "cell_type": "code",
      "metadata": {
        "id": "PokjWDt8e7Te",
        "colab_type": "code",
        "colab": {
          "base_uri": "https://localhost:8080/",
          "height": 264
        },
        "outputId": "8285fdad-89ee-4ebd-da8e-ffef2418c930"
      },
      "source": [
        "import matplotlib.pyplot as plt\n",
        "from keras.utils import plot_model\n",
        "plot_model(model,to_file='model3.png')\n",
        "data=plt.imread('model3.png')\n",
        "plt.imshow(data)\n",
        "plt.show()"
      ],
      "execution_count": 78,
      "outputs": [
        {
          "output_type": "display_data",
          "data": {
            "image/png": "[encoded data removed]",
            "text/plain": [
              "<Figure size 432x288 with 1 Axes>"
            ]
          },
          "metadata": {
            "tags": [],
            "needs_background": "light"
          }
        }
      ]
    },
    {
      "cell_type": "markdown",
      "metadata": {
        "id": "YkaFUsAT0eQT",
        "colab_type": "text"
      },
      "source": [
        "## Fit the model and evaluate\n",
        "\n",
        "Now that you've defined a new model, fit it to the regular season basketball data.\n",
        "\n",
        "Use the model you fit in the previous exercise (which was trained on the regular season data) and evaluate the model on data for tournament games (games_tourney)"
      ]
    },
    {
      "cell_type": "code",
      "metadata": {
        "id": "IJTTUWd9tXze",
        "colab_type": "code",
        "colab": {}
      },
      "source": [
        "# Import the model class\n",
        "from keras.models import Model\n",
        "\n",
        "# Make a Model\n",
        "model = Model([team_in_1, team_in_2, home_in], out)\n",
        "\n",
        "# Compile the model\n",
        "model.compile(optimizer='adam', loss='mean_absolute_error')"
      ],
      "execution_count": 0,
      "outputs": []
    },
    {
      "cell_type": "code",
      "metadata": {
        "id": "AoYvtQAy8MSC",
        "colab_type": "code",
        "outputId": "c0cba54a-1d3c-41e4-b17a-21d0f48b65f1",
        "colab": {
          "base_uri": "https://localhost:8080/",
          "height": 149
        }
      },
      "source": [
        "# Fit the model to the games_season dataset\n",
        "model.fit([games_season['team_1'], games_season['team_2'], games_season['home']],\n",
        "          games_season['score_diff'],\n",
        "          epochs=1,\n",
        "          verbose=True,\n",
        "          validation_split=.10,\n",
        "          batch_size=2048)\n",
        "\n",
        "# Evaluate the model on the games_tourney dataset\n",
        "print(model.evaluate([games_tourney['team_1'], games_tourney['team_2'], games_tourney['home']],\n",
        "               games_tourney['score_diff'], verbose=False))"
      ],
      "execution_count": 115,
      "outputs": [
        {
          "output_type": "stream",
          "text": [
            "/usr/local/lib/python3.6/dist-packages/tensorflow/python/framework/indexed_slices.py:434: UserWarning: Converting sparse IndexedSlices to a dense Tensor of unknown shape. This may consume a large amount of memory.\n",
            "  \"Converting sparse IndexedSlices to a dense Tensor of unknown shape. \"\n"
          ],
          "name": "stderr"
        },
        {
          "output_type": "stream",
          "text": [
            "Train on 280960 samples, validate on 31218 samples\n",
            "Epoch 1/1\n",
            "280960/280960 [==============================] - 0s 2us/step - loss: 12.0009 - val_loss: 12.3667\n",
            "11.674962411357031\n"
          ],
          "name": "stdout"
        }
      ]
    },
    {
      "cell_type": "markdown",
      "metadata": {
        "id": "CxlPrbBfxa5j",
        "colab_type": "text"
      },
      "source": [
        "## Stacking\n",
        "Use Predictions from one model as an input to a second model.\n",
        "When stacking,its important to use different datasets for EACH MODEL.\n",
        "Here we will use **REGULAR SEASON as 1 model** and **TOURNAMENT DATA as the 2nd Model**.\n",
        "We will not do embedding as the predictions from the REGULAR SEASON MODEL captures the effects of team_1 and team_2 which means you dont need to use those 2 variables in the tournament model and can avoid the use of an **embedding layer**\n",
        "So now you can focus only on purely numeric data"
      ]
    },
    {
      "cell_type": "code",
      "metadata": {
        "id": "W9Lm3uxe9AA8",
        "colab_type": "code",
        "colab": {
          "base_uri": "https://localhost:8080/",
          "height": 73
        },
        "outputId": "42d08178-bdec-4682-fb5a-661bea7198ed"
      },
      "source": [
        "games_tourney.columns"
      ],
      "execution_count": 111,
      "outputs": [
        {
          "output_type": "execute_result",
          "data": {
            "text/plain": [
              "Index(['season', 'team_1', 'team_2', 'home', 'seed_diff', 'score_diff',\n",
              "       'score_1', 'score_2', 'won', 'pred'],\n",
              "      dtype='object')"
            ]
          },
          "metadata": {
            "tags": []
          },
          "execution_count": 111
        }
      ]
    },
    {
      "cell_type": "code",
      "metadata": {
        "id": "ThILJZ7Qxr4M",
        "colab_type": "code",
        "colab": {}
      },
      "source": [
        "# we will use the predictions of the regular season model here\n",
        "# but we will do predictions on the TOURNAMENT season .\n",
        "# so the model is of REGULAR season but the predictions are on Tournament SEASON\n",
        "# so we make a new columns of predictions\n",
        "games_tourney['pred']=model.predict([games_tourney['team_1'], games_tourney['team_2'], games_tourney['home']])"
      ],
      "execution_count": 0,
      "outputs": []
    },
    {
      "cell_type": "code",
      "metadata": {
        "id": "ioMVPQSz-DK3",
        "colab_type": "code",
        "colab": {}
      },
      "source": [
        "games_tourney['pred'] = model.predict([games_tourney['team_1'], games_tourney['team_2'], games_tourney['home']])"
      ],
      "execution_count": 0,
      "outputs": []
    },
    {
      "cell_type": "code",
      "metadata": {
        "id": "CY1feOIdBAMd",
        "colab_type": "code",
        "colab": {}
      },
      "source": [
        "input_tensor=Input(shape=(3,))\n",
        "output_tensor=Dense(1)(input_tensor)\n",
        "model3=Model(input_tensor,output_tensor)"
      ],
      "execution_count": 0,
      "outputs": []
    },
    {
      "cell_type": "code",
      "metadata": {
        "id": "xlR7pE313NZp",
        "colab_type": "code",
        "colab": {
          "base_uri": "https://localhost:8080/",
          "height": 269
        },
        "outputId": "88e46bcc-e4d4-41c9-c4e9-93a5f097539c"
      },
      "source": [
        "import matplotlib.pyplot as plt\n",
        "from keras.utils import plot_model\n",
        "plot_model(model3,to_file='model4.png')\n",
        "data=plt.imread('model4.png')\n",
        "plt.imshow(data)\n",
        "plt.show()"
      ],
      "execution_count": 129,
      "outputs": [
        {
          "output_type": "display_data",
          "data": {
            "image/png": "[encoded data removed]",
            "text/plain": [
              "<Figure size 432x288 with 1 Axes>"
            ]
          },
          "metadata": {
            "tags": [],
            "needs_background": "light"
          }
        }
      ]
    },
    {
      "cell_type": "code",
      "metadata": {
        "id": "yGT6FcdM7VEK",
        "colab_type": "code",
        "colab": {}
      },
      "source": [
        "# Compile the model\n",
        "model3.compile(optimizer='adam', loss='mean_absolute_error')"
      ],
      "execution_count": 0,
      "outputs": []
    },
    {
      "cell_type": "code",
      "metadata": {
        "id": "kK2zMBA3BqwU",
        "colab_type": "code",
        "outputId": "83aafe9b-04da-4ac7-a250-72bb3d20bca2",
        "colab": {
          "base_uri": "https://localhost:8080/",
          "height": 36
        }
      },
      "source": [
        "#make a train model of game_tourney with 3168,10 shape\n",
        "print(games_tourney[:3168].shape,games_tourney[3168:].shape,games_tourney[:-3168].shape)\n",
        "#use only a[:3168] and a[3168:]"
      ],
      "execution_count": 95,
      "outputs": [
        {
          "output_type": "stream",
          "text": [
            "(3168, 10) (1066, 10) (1066, 10)\n"
          ],
          "name": "stdout"
        }
      ]
    },
    {
      "cell_type": "code",
      "metadata": {
        "id": "eODRreRu5fCZ",
        "colab_type": "code",
        "colab": {
          "base_uri": "https://localhost:8080/",
          "height": 36
        },
        "outputId": "9c997dc0-8292-4d01-9a45-4b21014a7197"
      },
      "source": [
        "a=[1,2,3,4,5,6,7,8,9,10]\n",
        "print(a[:3],a[3:],a[:-3],a[-3:])"
      ],
      "execution_count": 98,
      "outputs": [
        {
          "output_type": "stream",
          "text": [
            "[1, 2, 3] [4, 5, 6, 7, 8, 9, 10] [1, 2, 3, 4, 5, 6, 7] [8, 9, 10]\n"
          ],
          "name": "stdout"
        }
      ]
    },
    {
      "cell_type": "code",
      "metadata": {
        "id": "pMXy0qJt6deG",
        "colab_type": "code",
        "colab": {}
      },
      "source": [
        "games_tourney_train=games_tourney[:3168]\n",
        "games_tourney_test=games_tourney[3168:]"
      ],
      "execution_count": 0,
      "outputs": []
    },
    {
      "cell_type": "code",
      "metadata": {
        "id": "HfhQ03SS66vZ",
        "colab_type": "code",
        "colab": {
          "base_uri": "https://localhost:8080/",
          "height": 73
        },
        "outputId": "66b42082-0820-4335-b72c-946e625cfae2"
      },
      "source": [
        "# Fit the model\n",
        "model3.fit(games_tourney_train[['home', 'seed_diff', 'pred']],\n",
        "          games_tourney_train['score_diff'],\n",
        "          epochs=1,\n",
        "          verbose=True)"
      ],
      "execution_count": 122,
      "outputs": [
        {
          "output_type": "stream",
          "text": [
            "Epoch 1/1\n",
            "3168/3168 [==============================] - 0s 41us/step - loss: 15.7166\n"
          ],
          "name": "stdout"
        },
        {
          "output_type": "execute_result",
          "data": {
            "text/plain": [
              "<keras.callbacks.callbacks.History at 0x7f7e4a6cc4e0>"
            ]
          },
          "metadata": {
            "tags": []
          },
          "execution_count": 122
        }
      ]
    },
    {
      "cell_type": "code",
      "metadata": {
        "id": "vLT3gOV_8iXp",
        "colab_type": "code",
        "colab": {
          "base_uri": "https://localhost:8080/",
          "height": 112
        },
        "outputId": "da9084e1-dc70-4233-d544-24238a0ea1e7"
      },
      "source": [
        "games_tourney_test.head(2)"
      ],
      "execution_count": 124,
      "outputs": [
        {
          "output_type": "execute_result",
          "data": {
            "text/html": [
              "<div>\n",
              "<style scoped>\n",
              "    .dataframe tbody tr th:only-of-type {\n",
              "        vertical-align: middle;\n",
              "    }\n",
              "\n",
              "    .dataframe tbody tr th {\n",
              "        vertical-align: top;\n",
              "    }\n",
              "\n",
              "    .dataframe thead th {\n",
              "        text-align: right;\n",
              "    }\n",
              "</style>\n",
              "<table border=\"1\" class=\"dataframe\">\n",
              "  <thead>\n",
              "    <tr style=\"text-align: right;\">\n",
              "      <th></th>\n",
              "      <th>season</th>\n",
              "      <th>team_1</th>\n",
              "      <th>team_2</th>\n",
              "      <th>home</th>\n",
              "      <th>seed_diff</th>\n",
              "      <th>score_diff</th>\n",
              "      <th>score_1</th>\n",
              "      <th>score_2</th>\n",
              "      <th>won</th>\n",
              "      <th>pred</th>\n",
              "    </tr>\n",
              "  </thead>\n",
              "  <tbody>\n",
              "    <tr>\n",
              "      <th>3168</th>\n",
              "      <td>2010</td>\n",
              "      <td>2365</td>\n",
              "      <td>401</td>\n",
              "      <td>0</td>\n",
              "      <td>15</td>\n",
              "      <td>29</td>\n",
              "      <td>73</td>\n",
              "      <td>44</td>\n",
              "      <td>1</td>\n",
              "      <td>0.409862</td>\n",
              "    </tr>\n",
              "    <tr>\n",
              "      <th>3169</th>\n",
              "      <td>2010</td>\n",
              "      <td>10655</td>\n",
              "      <td>401</td>\n",
              "      <td>0</td>\n",
              "      <td>0</td>\n",
              "      <td>-17</td>\n",
              "      <td>44</td>\n",
              "      <td>61</td>\n",
              "      <td>0</td>\n",
              "      <td>0.317513</td>\n",
              "    </tr>\n",
              "  </tbody>\n",
              "</table>\n",
              "</div>"
            ],
            "text/plain": [
              "      season  team_1  team_2  home  ...  score_1  score_2  won      pred\n",
              "3168    2010    2365     401     0  ...       73       44    1  0.409862\n",
              "3169    2010   10655     401     0  ...       44       61    0  0.317513\n",
              "\n",
              "[2 rows x 10 columns]"
            ]
          },
          "metadata": {
            "tags": []
          },
          "execution_count": 124
        }
      ]
    },
    {
      "cell_type": "code",
      "metadata": {
        "id": "j5hwchzS7nvq",
        "colab_type": "code",
        "colab": {
          "base_uri": "https://localhost:8080/",
          "height": 36
        },
        "outputId": "614efb9f-1853-4fe3-b294-922300971ff8"
      },
      "source": [
        "print(model3.evaluate(games_tourney_test[['home','seed_diff','pred']],games_tourney_test['score_diff'], verbose=False))"
      ],
      "execution_count": 126,
      "outputs": [
        {
          "output_type": "stream",
          "text": [
            "14.488983052309191\n"
          ],
          "name": "stdout"
        }
      ]
    },
    {
      "cell_type": "markdown",
      "metadata": {
        "id": "FFBfPZOy_7yZ",
        "colab_type": "text"
      },
      "source": [
        "# 4 Multiple Outputs\n",
        "\n"
      ]
    },
    {
      "cell_type": "code",
      "metadata": {
        "id": "QC2zM7IX_9ew",
        "colab_type": "code",
        "colab": {}
      },
      "source": [
        "input_tensor=Input(shape=(2,))\n",
        "output_tensor=Dense(2)(input_tensor)"
      ],
      "execution_count": 0,
      "outputs": []
    },
    {
      "cell_type": "code",
      "metadata": {
        "id": "8mYbRRvb7oaR",
        "colab_type": "code",
        "colab": {}
      },
      "source": [
        "model4=Model(input_tensor,output_tensor)"
      ],
      "execution_count": 0,
      "outputs": []
    },
    {
      "cell_type": "code",
      "metadata": {
        "id": "Hx83k_3_C_NQ",
        "colab_type": "code",
        "colab": {}
      },
      "source": [
        "# Compile the model\n",
        "model4.compile(optimizer='adam',loss='mean_absolute_error')"
      ],
      "execution_count": 0,
      "outputs": []
    },
    {
      "cell_type": "code",
      "metadata": {
        "id": "xGms7Iz47ovr",
        "colab_type": "code",
        "colab": {}
      },
      "source": [
        "# Fit the model\n",
        "model4.fit(games_tourney_train[['seed_diff', 'pred']], games_tourney_train[['score_1', 'score_2']], verbose=True,epochs=100,batch_size=16384)"
      ],
      "execution_count": 0,
      "outputs": []
    },
    {
      "cell_type": "code",
      "metadata": {
        "id": "y8_roMDVLeLw",
        "colab_type": "code",
        "outputId": "51c4f4ee-5287-477b-faa0-5d33f95c4673",
        "colab": {
          "base_uri": "https://localhost:8080/",
          "height": 280
        }
      },
      "source": [
        "# Print the model's weights\n",
        "print(model4.get_weights())\n",
        "# Print the column means of the training data\n",
        "print(games_tourney_train.mean())"
      ],
      "execution_count": 144,
      "outputs": [
        {
          "output_type": "stream",
          "text": [
            "[array([[ 1.1119182 , -0.93008226],\n",
            "       [-0.05392309, -0.7494077 ]], dtype=float32), array([0.1000834, 0.1000834], dtype=float32)]\n",
            "season        1997.045455\n",
            "team_1        5546.025568\n",
            "team_2        5546.025568\n",
            "home             0.000000\n",
            "seed_diff        0.000000\n",
            "score_diff       0.000000\n",
            "score_1         71.912247\n",
            "score_2         71.912247\n",
            "won              0.500000\n",
            "pred             0.338952\n",
            "dtype: float64\n"
          ],
          "name": "stdout"
        }
      ]
    },
    {
      "cell_type": "markdown",
      "metadata": {
        "id": "MOIe4y3SDxyP",
        "colab_type": "text"
      },
      "source": [
        "# Use the same inputs and outputs as the training set when you evaluate the model"
      ]
    },
    {
      "cell_type": "code",
      "metadata": {
        "id": "-oIEYpmzN55d",
        "colab_type": "code",
        "colab": {
          "base_uri": "https://localhost:8080/",
          "height": 36
        },
        "outputId": "a2137181-4f0b-4719-e427-f538a316fe7b"
      },
      "source": [
        "# Evaluate the model on the tournament test data\n",
        "print(model4.evaluate(games_tourney_test[['seed_diff', 'pred']], games_tourney_test[['score_1', 'score_2']], verbose=False))"
      ],
      "execution_count": 137,
      "outputs": [
        {
          "output_type": "stream",
          "text": [
            "68.84816688981334\n"
          ],
          "name": "stdout"
        }
      ]
    },
    {
      "cell_type": "markdown",
      "metadata": {
        "id": "1JE5_tQnEBGu",
        "colab_type": "text"
      },
      "source": [
        "# Single model for classification and regression\n",
        "Now u will be a list of 2 outputs i.e Regression and Classification when we fit the model\n",
        "Its similar of making a 2 input model\n",
        "\n",
        "# Our 2 Targets are to check SCORE_DIFF (regression) and whether they will win i.e WIN (classification) ...when we have a single input of SEED_DIFF (Which is  a manual scoring)"
      ]
    },
    {
      "cell_type": "code",
      "metadata": {
        "id": "iCzJoTlcOd3a",
        "colab_type": "code",
        "colab": {}
      },
      "source": [
        "# Create an input layer with 2 columns\n",
        "input_tensor = Input(shape=(2,))\n",
        "\n",
        "# Create the first output\n",
        "output_tensor_1 = Dense(1, activation='linear', use_bias=False)(input_tensor)\n",
        "\n",
        "# Create the second output (use the first output as input here)\n",
        "output_tensor_2 = Dense(1, activation='sigmoid', use_bias=False)(output_tensor_1)\n",
        "\n",
        "# Create a model with 2 outputs\n",
        "model5 = Model(input_tensor, [output_tensor_1, output_tensor_2])"
      ],
      "execution_count": 0,
      "outputs": []
    },
    {
      "cell_type": "code",
      "metadata": {
        "id": "9zxsk4duHleQ",
        "colab_type": "code",
        "colab": {
          "base_uri": "https://localhost:8080/",
          "height": 269
        },
        "outputId": "e1ed4a3e-7fff-4e9a-beb1-0ce83924ed62"
      },
      "source": [
        "import matplotlib.pyplot as plt\n",
        "from keras.utils import plot_model\n",
        "plot_model(model5,to_file='model5.png')\n",
        "data=plt.imread('model5.png')\n",
        "plt.imshow(data)\n",
        "plt.show()"
      ],
      "execution_count": 141,
      "outputs": [
        {
          "output_type": "display_data",
          "data": {
            "image/png": "[encoded data removed]",
            "text/plain": [
              "<Figure size 432x288 with 1 Axes>"
            ]
          },
          "metadata": {
            "tags": [],
            "needs_background": "light"
          }
        }
      ]
    },
    {
      "cell_type": "code",
      "metadata": {
        "id": "7bJuEm7WOzfW",
        "colab_type": "code",
        "colab": {}
      },
      "source": [
        "# Import the Adam optimizer\n",
        "from keras.optimizers import Adam\n",
        "\n",
        "# Compile the model with 2 losses and the Adam optimzer with a higher learning rate\n",
        "model5.compile(loss=['mean_absolute_error' ,'binary_crossentropy'], optimizer=Adam(lr=0.01))"
      ],
      "execution_count": 0,
      "outputs": []
    },
    {
      "cell_type": "code",
      "metadata": {
        "id": "1Jkij0bwH7px",
        "colab_type": "code",
        "colab": {
          "base_uri": "https://localhost:8080/",
          "height": 260
        },
        "outputId": "e7454a98-7be9-4e14-91a9-0d81e7cfc15c"
      },
      "source": [
        "# Print the model weights\n",
        "print(model5.get_weights())\n",
        "\n",
        "# Print the training data means\n",
        "print(games_tourney_train.mean())"
      ],
      "execution_count": 142,
      "outputs": [
        {
          "output_type": "stream",
          "text": [
            "[array([[ 0.6032213 ],\n",
            "       [-0.03428793]], dtype=float32), array([[1.6820661]], dtype=float32)]\n",
            "season        1997.045455\n",
            "team_1        5546.025568\n",
            "team_2        5546.025568\n",
            "home             0.000000\n",
            "seed_diff        0.000000\n",
            "score_diff       0.000000\n",
            "score_1         71.912247\n",
            "score_2         71.912247\n",
            "won              0.500000\n",
            "pred             0.338952\n",
            "dtype: float64\n"
          ],
          "name": "stdout"
        }
      ]
    },
    {
      "cell_type": "code",
      "metadata": {
        "id": "Bu0kAa3_IGla",
        "colab_type": "code",
        "colab": {
          "base_uri": "https://localhost:8080/",
          "height": 36
        },
        "outputId": "e5d7802e-6b4c-4425-a6e0-d9cdbd115463"
      },
      "source": [
        "# Evaluate the model on new data\n",
        "# we have X=seed_dff ,pred  and Y= score_diff and WON\n",
        "print(model5.evaluate(games_tourney_test[['seed_diff', 'pred']],\n",
        "               [games_tourney_test[['score_diff']], games_tourney_test[['won']]], verbose=False))"
      ],
      "execution_count": 143,
      "outputs": [
        {
          "output_type": "stream",
          "text": [
            "[11.012116634376053, 9.547370910644531, 1.5173921585083008]\n"
          ],
          "name": "stdout"
        }
      ]
    }
  ]
}